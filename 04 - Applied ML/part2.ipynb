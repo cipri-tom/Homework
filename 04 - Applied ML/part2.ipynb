{
 "cells": [
  {
   "cell_type": "markdown",
   "metadata": {},
   "source": [
    "# Homework 4: machine learning"
   ]
  },
  {
   "cell_type": "markdown",
   "metadata": {},
   "source": [
    "# PART 2\n",
    "\n",
    "Note that the first cells are the same as in part 1. If you want to go directly to the cell where they diverged, click [here](#diverged)"
   ]
  },
  {
   "cell_type": "markdown",
   "metadata": {},
   "source": [
    "---\n",
    "### NOTE: Sometimes we refer to [the original work](http://nbviewer.jupyter.org/github/mathewzilla/redcard/blob/master/Crowdstorming_visualisation.ipynb) \n",
    "\n",
    "---"
   ]
  },
  {
   "cell_type": "code",
   "execution_count": 1,
   "metadata": {
    "collapsed": false
   },
   "outputs": [],
   "source": [
    "%load_ext autoreload\n",
    "%autoreload 2 \n",
    "%matplotlib inline"
   ]
  },
  {
   "cell_type": "markdown",
   "metadata": {},
   "source": [
    "You need to install `scikit v0.18`: `conda update scikit-learn`"
   ]
  },
  {
   "cell_type": "code",
   "execution_count": 2,
   "metadata": {
    "collapsed": false
   },
   "outputs": [],
   "source": [
    "import pandas as pd\n",
    "import numpy as np\n",
    "import os\n",
    "import matplotlib.pyplot as plt\n",
    "from sklearn.ensemble import RandomForestClassifier\n",
    "from sklearn import preprocessing\n",
    "from sklearn.model_selection import cross_val_score, KFold"
   ]
  },
  {
   "cell_type": "markdown",
   "metadata": {},
   "source": [
    "Read and minimal cleanup: for the first part, we need the labels (i.e. colour ratings), so we can't use the points where they don't exist. \n",
    "\n",
    "Since we will later `aggregate` the players, it is **important** to note that this doesn't produce inconsistencies because `dyads` is constructed by a join between a `players` table and a `referees` table, so it is natural that the missing values are missing for all instances of a player."
   ]
  },
  {
   "cell_type": "code",
   "execution_count": 3,
   "metadata": {
    "collapsed": false
   },
   "outputs": [
    {
     "name": "stdout",
     "output_type": "stream",
     "text": [
      "(146028, 27)\n",
      "(124621, 27)\n",
      "0\n"
     ]
    }
   ],
   "source": [
    "dyads = pd.read_csv(\"CrowdstormingDataJuly1st.csv\", index_col=0)\n",
    "print(dyads.shape)\n",
    "\n",
    "dyads.dropna(subset=['rater1'], inplace=True)\n",
    "print(dyads.shape)\n",
    "\n",
    "# since both values are missing at the same time, this should be 0:\n",
    "print(dyads.rater2.isnull().sum())\n",
    "\n",
    "# the groupby object user later on\n",
    "group_players = dyads.groupby(level=0)"
   ]
  },
  {
   "cell_type": "code",
   "execution_count": 4,
   "metadata": {
    "collapsed": false
   },
   "outputs": [
    {
     "data": {
      "text/html": [
       "<div>\n",
       "<table border=\"1\" class=\"dataframe\">\n",
       "  <thead>\n",
       "    <tr style=\"text-align: right;\">\n",
       "      <th></th>\n",
       "      <th>player</th>\n",
       "      <th>club</th>\n",
       "      <th>leagueCountry</th>\n",
       "      <th>birthday</th>\n",
       "      <th>height</th>\n",
       "      <th>weight</th>\n",
       "      <th>position</th>\n",
       "      <th>games</th>\n",
       "      <th>victories</th>\n",
       "      <th>ties</th>\n",
       "      <th>...</th>\n",
       "      <th>rater2</th>\n",
       "      <th>refNum</th>\n",
       "      <th>refCountry</th>\n",
       "      <th>Alpha_3</th>\n",
       "      <th>meanIAT</th>\n",
       "      <th>nIAT</th>\n",
       "      <th>seIAT</th>\n",
       "      <th>meanExp</th>\n",
       "      <th>nExp</th>\n",
       "      <th>seExp</th>\n",
       "    </tr>\n",
       "    <tr>\n",
       "      <th>playerShort</th>\n",
       "      <th></th>\n",
       "      <th></th>\n",
       "      <th></th>\n",
       "      <th></th>\n",
       "      <th></th>\n",
       "      <th></th>\n",
       "      <th></th>\n",
       "      <th></th>\n",
       "      <th></th>\n",
       "      <th></th>\n",
       "      <th></th>\n",
       "      <th></th>\n",
       "      <th></th>\n",
       "      <th></th>\n",
       "      <th></th>\n",
       "      <th></th>\n",
       "      <th></th>\n",
       "      <th></th>\n",
       "      <th></th>\n",
       "      <th></th>\n",
       "      <th></th>\n",
       "    </tr>\n",
       "  </thead>\n",
       "  <tbody>\n",
       "    <tr>\n",
       "      <th>lucas-wilchez</th>\n",
       "      <td>Lucas Wilchez</td>\n",
       "      <td>Real Zaragoza</td>\n",
       "      <td>Spain</td>\n",
       "      <td>31.08.1983</td>\n",
       "      <td>177.0</td>\n",
       "      <td>72.0</td>\n",
       "      <td>Attacking Midfielder</td>\n",
       "      <td>1</td>\n",
       "      <td>0</td>\n",
       "      <td>0</td>\n",
       "      <td>...</td>\n",
       "      <td>0.50</td>\n",
       "      <td>1</td>\n",
       "      <td>1</td>\n",
       "      <td>GRC</td>\n",
       "      <td>0.326391</td>\n",
       "      <td>712.0</td>\n",
       "      <td>0.000564</td>\n",
       "      <td>0.396000</td>\n",
       "      <td>750.0</td>\n",
       "      <td>0.002696</td>\n",
       "    </tr>\n",
       "    <tr>\n",
       "      <th>john-utaka</th>\n",
       "      <td>John Utaka</td>\n",
       "      <td>Montpellier HSC</td>\n",
       "      <td>France</td>\n",
       "      <td>08.01.1982</td>\n",
       "      <td>179.0</td>\n",
       "      <td>82.0</td>\n",
       "      <td>Right Winger</td>\n",
       "      <td>1</td>\n",
       "      <td>0</td>\n",
       "      <td>0</td>\n",
       "      <td>...</td>\n",
       "      <td>0.75</td>\n",
       "      <td>2</td>\n",
       "      <td>2</td>\n",
       "      <td>ZMB</td>\n",
       "      <td>0.203375</td>\n",
       "      <td>40.0</td>\n",
       "      <td>0.010875</td>\n",
       "      <td>-0.204082</td>\n",
       "      <td>49.0</td>\n",
       "      <td>0.061504</td>\n",
       "    </tr>\n",
       "    <tr>\n",
       "      <th>aaron-hughes</th>\n",
       "      <td>Aaron Hughes</td>\n",
       "      <td>Fulham FC</td>\n",
       "      <td>England</td>\n",
       "      <td>08.11.1979</td>\n",
       "      <td>182.0</td>\n",
       "      <td>71.0</td>\n",
       "      <td>Center Back</td>\n",
       "      <td>1</td>\n",
       "      <td>0</td>\n",
       "      <td>0</td>\n",
       "      <td>...</td>\n",
       "      <td>0.00</td>\n",
       "      <td>4</td>\n",
       "      <td>4</td>\n",
       "      <td>LUX</td>\n",
       "      <td>0.325185</td>\n",
       "      <td>127.0</td>\n",
       "      <td>0.003297</td>\n",
       "      <td>0.538462</td>\n",
       "      <td>130.0</td>\n",
       "      <td>0.013752</td>\n",
       "    </tr>\n",
       "    <tr>\n",
       "      <th>aleksandar-kolarov</th>\n",
       "      <td>Aleksandar Kolarov</td>\n",
       "      <td>Manchester City</td>\n",
       "      <td>England</td>\n",
       "      <td>10.11.1985</td>\n",
       "      <td>187.0</td>\n",
       "      <td>80.0</td>\n",
       "      <td>Left Fullback</td>\n",
       "      <td>1</td>\n",
       "      <td>1</td>\n",
       "      <td>0</td>\n",
       "      <td>...</td>\n",
       "      <td>0.25</td>\n",
       "      <td>4</td>\n",
       "      <td>4</td>\n",
       "      <td>LUX</td>\n",
       "      <td>0.325185</td>\n",
       "      <td>127.0</td>\n",
       "      <td>0.003297</td>\n",
       "      <td>0.538462</td>\n",
       "      <td>130.0</td>\n",
       "      <td>0.013752</td>\n",
       "    </tr>\n",
       "    <tr>\n",
       "      <th>alexander-tettey</th>\n",
       "      <td>Alexander Tettey</td>\n",
       "      <td>Norwich City</td>\n",
       "      <td>England</td>\n",
       "      <td>04.04.1986</td>\n",
       "      <td>180.0</td>\n",
       "      <td>68.0</td>\n",
       "      <td>Defensive Midfielder</td>\n",
       "      <td>1</td>\n",
       "      <td>0</td>\n",
       "      <td>0</td>\n",
       "      <td>...</td>\n",
       "      <td>1.00</td>\n",
       "      <td>4</td>\n",
       "      <td>4</td>\n",
       "      <td>LUX</td>\n",
       "      <td>0.325185</td>\n",
       "      <td>127.0</td>\n",
       "      <td>0.003297</td>\n",
       "      <td>0.538462</td>\n",
       "      <td>130.0</td>\n",
       "      <td>0.013752</td>\n",
       "    </tr>\n",
       "  </tbody>\n",
       "</table>\n",
       "<p>5 rows × 27 columns</p>\n",
       "</div>"
      ],
      "text/plain": [
       "                                player             club leagueCountry  \\\n",
       "playerShort                                                             \n",
       "lucas-wilchez            Lucas Wilchez    Real Zaragoza         Spain   \n",
       "john-utaka                  John Utaka  Montpellier HSC        France   \n",
       "aaron-hughes              Aaron Hughes        Fulham FC       England   \n",
       "aleksandar-kolarov  Aleksandar Kolarov  Manchester City       England   \n",
       "alexander-tettey      Alexander Tettey     Norwich City       England   \n",
       "\n",
       "                      birthday  height  weight              position  games  \\\n",
       "playerShort                                                                   \n",
       "lucas-wilchez       31.08.1983   177.0    72.0  Attacking Midfielder      1   \n",
       "john-utaka          08.01.1982   179.0    82.0          Right Winger      1   \n",
       "aaron-hughes        08.11.1979   182.0    71.0           Center Back      1   \n",
       "aleksandar-kolarov  10.11.1985   187.0    80.0         Left Fullback      1   \n",
       "alexander-tettey    04.04.1986   180.0    68.0  Defensive Midfielder      1   \n",
       "\n",
       "                    victories  ties    ...     rater2  refNum  refCountry  \\\n",
       "playerShort                            ...                                  \n",
       "lucas-wilchez               0     0    ...       0.50       1           1   \n",
       "john-utaka                  0     0    ...       0.75       2           2   \n",
       "aaron-hughes                0     0    ...       0.00       4           4   \n",
       "aleksandar-kolarov          1     0    ...       0.25       4           4   \n",
       "alexander-tettey            0     0    ...       1.00       4           4   \n",
       "\n",
       "                    Alpha_3   meanIAT   nIAT     seIAT   meanExp   nExp  \\\n",
       "playerShort                                                               \n",
       "lucas-wilchez           GRC  0.326391  712.0  0.000564  0.396000  750.0   \n",
       "john-utaka              ZMB  0.203375   40.0  0.010875 -0.204082   49.0   \n",
       "aaron-hughes            LUX  0.325185  127.0  0.003297  0.538462  130.0   \n",
       "aleksandar-kolarov      LUX  0.325185  127.0  0.003297  0.538462  130.0   \n",
       "alexander-tettey        LUX  0.325185  127.0  0.003297  0.538462  130.0   \n",
       "\n",
       "                       seExp  \n",
       "playerShort                   \n",
       "lucas-wilchez       0.002696  \n",
       "john-utaka          0.061504  \n",
       "aaron-hughes        0.013752  \n",
       "aleksandar-kolarov  0.013752  \n",
       "alexander-tettey    0.013752  \n",
       "\n",
       "[5 rows x 27 columns]"
      ]
     },
     "execution_count": 4,
     "metadata": {},
     "output_type": "execute_result"
    }
   ],
   "source": [
    "dyads.head()"
   ]
  },
  {
   "cell_type": "markdown",
   "metadata": {},
   "source": [
    "Let's see the numbers: \n",
    "\n",
    "<sub>yes, they were done by the other guys, but it's useful to have them at hand:</sub>\n",
    "\n",
    "Also, they were excluding some referees that have been _carried over_, and that only removes ~3% of the data. Since we're not doing statistics on referees, we won't drop them. Every little data helps :)"
   ]
  },
  {
   "cell_type": "code",
   "execution_count": 5,
   "metadata": {
    "collapsed": false
   },
   "outputs": [
    {
     "name": "stdout",
     "output_type": "stream",
     "text": [
      "Number of players:  1585\n",
      "Number of referees:  2978\n"
     ]
    }
   ],
   "source": [
    "print(\"Number of players: \" , dyads.index.unique().size)\n",
    "print(\"Number of referees: \", dyads.refNum.unique().size)"
   ]
  },
  {
   "cell_type": "markdown",
   "metadata": {},
   "source": [
    "The original analysis mentioned that \"*the two raters disagree on 28742 or 19% of the time*\". Since there are only 1585 players, it means they ran it on the `dyads` set. _**WHY?**_ That doesn't make sense, so let's just check that the ratings for each player are consistent:"
   ]
  },
  {
   "cell_type": "markdown",
   "metadata": {},
   "source": [
    "for the group of each player, we check that the number of values in `raterX` is **exactly** one:"
   ]
  },
  {
   "cell_type": "code",
   "execution_count": 6,
   "metadata": {
    "collapsed": false
   },
   "outputs": [
    {
     "name": "stdout",
     "output_type": "stream",
     "text": [
      "                       rater1_INconsistent rater2_INconsistent\n",
      "playerShort                                                   \n",
      "aaron-hughes                         False               False\n",
      "aaron-hunt                           False               False\n",
      "aaron-lennon                         False               False\n",
      "aaron-ramsey                         False               False\n",
      "abdelhamid-el-kaoutari               False               False\n",
      "Rater1 has been inconsistent 0 times\n",
      "Rater2 has been inconsistent 0 times\n"
     ]
    }
   ],
   "source": [
    "def build_player_consitency(player_df):\n",
    "    \"\"\" Needs to return a Series of {col_name: col_value}. \"\"\"\n",
    "    return pd.Series({col+\"_INconsistent\" : (player_df[col].unique().size != 1) \n",
    "                                             for col in ['rater1', 'rater2'] })\n",
    "consistency = group_players.apply(build_player_consitency)\n",
    "print(consistency.head())\n",
    "print(\"Rater1 has been inconsistent %d times\" % consistency.rater1_INconsistent.sum())\n",
    "print(\"Rater2 has been inconsistent %d times\" % consistency.rater2_INconsistent.sum())"
   ]
  },
  {
   "cell_type": "markdown",
   "metadata": {},
   "source": [
    "OK, so they _ARE_ consistent. This means that their statistic doesn't account for players who have more matches than others, so the numbers are skewed. Let's check again, this time on _unique_ players"
   ]
  },
  {
   "cell_type": "code",
   "execution_count": 7,
   "metadata": {
    "collapsed": false
   },
   "outputs": [
    {
     "name": "stdout",
     "output_type": "stream",
     "text": [
      "The raters disagree for 0.239% of the players\n",
      "Diffs std dev:  0.11594303556667578\n",
      "Max disagreement value 2.0, occuring 2 times\n"
     ]
    }
   ],
   "source": [
    "player_ratings = group_players.agg({'rater1':'first', 'rater2':'first'})\n",
    "diffs = player_ratings.rater1 - player_ratings.rater2\n",
    "print(\"The raters disagree for {p:.3f}% of the players\".format(p=(diffs != 0).sum() / len(diffs) ))\n",
    "\n",
    "print(\"Diffs std dev: \", diffs.std())\n",
    "\n",
    "max_diff = diffs.abs().max()\n",
    "num_occur = (diffs.abs() == max_diff).sum()\n",
    "print(\"Max disagreement value {0}, occuring {1} times\".format(max_diff * 4, num_occur)) # *4 to pass from float to int"
   ]
  },
  {
   "cell_type": "markdown",
   "metadata": {},
   "source": [
    "So this means:\n",
    "  1. that there is slightly more agreement between the raters for players who have more entries in `dyads` i.e. who played under more referees\n",
    "  2. that if we use both labels, using `accuracy` as a measure of performance is not a very good idea. Keep in mind that the differences are not ordered, so it could have an impact double as big on the accuracy, i.e. at most $1 - 2 * \\mathit{disagreementPercentage} = 1 - 2 * 0.24 \\approx 0.5 $"
   ]
  },
  {
   "cell_type": "markdown",
   "metadata": {},
   "source": [
    "#### Curiosity\n",
    "Who are the 'controversial' guys :) ?"
   ]
  },
  {
   "cell_type": "code",
   "execution_count": 8,
   "metadata": {
    "collapsed": false
   },
   "outputs": [
    {
     "data": {
      "text/plain": [
       "playerShort\n",
       "kyle-walker    -0.5\n",
       "mario-goetze   -0.5\n",
       "dtype: float64"
      ]
     },
     "execution_count": 8,
     "metadata": {},
     "output_type": "execute_result"
    }
   ],
   "source": [
    "diffs[diffs.abs() == max_diff]"
   ]
  },
  {
   "cell_type": "markdown",
   "metadata": {},
   "source": [
    "<img style='float:left' alt='Kyle-walker' src='http://www.thefootballsocial.co.uk/images/players/Tottenham%20Hotspur/Kyle%20Walker.jpg' /> <img alt='Mario_Goetze' src='http://i0.web.de/image/176/31756176,pd=2/mario-goetze.jpg' width=300/>"
   ]
  },
  {
   "cell_type": "markdown",
   "metadata": {},
   "source": [
    "## Feature selection"
   ]
  },
  {
   "cell_type": "markdown",
   "metadata": {},
   "source": [
    "Aggregate the data for each player we consider the following variables:\n",
    "- the height and weight of the player\n",
    "- The total amount of games played\n",
    "- The total amount of victories, ties and defeats\n",
    "- the total number of goals made\n",
    "- The total number of red cards, yellow reds and yellow cards received\n",
    "- The respective ratings\n",
    "- The league country"
   ]
  },
  {
   "cell_type": "code",
   "execution_count": 42,
   "metadata": {
    "collapsed": false,
    "scrolled": true
   },
   "outputs": [
    {
     "name": "stdout",
     "output_type": "stream",
     "text": [
      "(1585, 13)\n"
     ]
    },
    {
     "data": {
      "text/html": [
       "<div>\n",
       "<table border=\"1\" class=\"dataframe\">\n",
       "  <thead>\n",
       "    <tr style=\"text-align: right;\">\n",
       "      <th></th>\n",
       "      <th>rater1</th>\n",
       "      <th>yellowCards</th>\n",
       "      <th>ties</th>\n",
       "      <th>rater2</th>\n",
       "      <th>weight</th>\n",
       "      <th>redCards</th>\n",
       "      <th>height</th>\n",
       "      <th>yellowReds</th>\n",
       "      <th>victories</th>\n",
       "      <th>leagueCountry</th>\n",
       "      <th>games</th>\n",
       "      <th>defeats</th>\n",
       "      <th>goals</th>\n",
       "    </tr>\n",
       "    <tr>\n",
       "      <th>playerShort</th>\n",
       "      <th></th>\n",
       "      <th></th>\n",
       "      <th></th>\n",
       "      <th></th>\n",
       "      <th></th>\n",
       "      <th></th>\n",
       "      <th></th>\n",
       "      <th></th>\n",
       "      <th></th>\n",
       "      <th></th>\n",
       "      <th></th>\n",
       "      <th></th>\n",
       "      <th></th>\n",
       "    </tr>\n",
       "  </thead>\n",
       "  <tbody>\n",
       "    <tr>\n",
       "      <th>aaron-hughes</th>\n",
       "      <td>0.25</td>\n",
       "      <td>19</td>\n",
       "      <td>179</td>\n",
       "      <td>0.00</td>\n",
       "      <td>71.0</td>\n",
       "      <td>0</td>\n",
       "      <td>182.0</td>\n",
       "      <td>0</td>\n",
       "      <td>247</td>\n",
       "      <td>England</td>\n",
       "      <td>654</td>\n",
       "      <td>228</td>\n",
       "      <td>9</td>\n",
       "    </tr>\n",
       "    <tr>\n",
       "      <th>aaron-hunt</th>\n",
       "      <td>0.00</td>\n",
       "      <td>42</td>\n",
       "      <td>73</td>\n",
       "      <td>0.25</td>\n",
       "      <td>73.0</td>\n",
       "      <td>1</td>\n",
       "      <td>183.0</td>\n",
       "      <td>0</td>\n",
       "      <td>141</td>\n",
       "      <td>Germany</td>\n",
       "      <td>336</td>\n",
       "      <td>122</td>\n",
       "      <td>62</td>\n",
       "    </tr>\n",
       "    <tr>\n",
       "      <th>aaron-lennon</th>\n",
       "      <td>0.25</td>\n",
       "      <td>11</td>\n",
       "      <td>97</td>\n",
       "      <td>0.25</td>\n",
       "      <td>63.0</td>\n",
       "      <td>0</td>\n",
       "      <td>165.0</td>\n",
       "      <td>0</td>\n",
       "      <td>200</td>\n",
       "      <td>England</td>\n",
       "      <td>412</td>\n",
       "      <td>115</td>\n",
       "      <td>31</td>\n",
       "    </tr>\n",
       "    <tr>\n",
       "      <th>aaron-ramsey</th>\n",
       "      <td>0.00</td>\n",
       "      <td>31</td>\n",
       "      <td>42</td>\n",
       "      <td>0.00</td>\n",
       "      <td>76.0</td>\n",
       "      <td>1</td>\n",
       "      <td>178.0</td>\n",
       "      <td>0</td>\n",
       "      <td>150</td>\n",
       "      <td>England</td>\n",
       "      <td>260</td>\n",
       "      <td>68</td>\n",
       "      <td>39</td>\n",
       "    </tr>\n",
       "    <tr>\n",
       "      <th>abdelhamid-el-kaoutari</th>\n",
       "      <td>0.25</td>\n",
       "      <td>8</td>\n",
       "      <td>40</td>\n",
       "      <td>0.25</td>\n",
       "      <td>73.0</td>\n",
       "      <td>2</td>\n",
       "      <td>180.0</td>\n",
       "      <td>4</td>\n",
       "      <td>41</td>\n",
       "      <td>France</td>\n",
       "      <td>124</td>\n",
       "      <td>43</td>\n",
       "      <td>1</td>\n",
       "    </tr>\n",
       "  </tbody>\n",
       "</table>\n",
       "</div>"
      ],
      "text/plain": [
       "                        rater1  yellowCards  ties  rater2  weight  redCards  \\\n",
       "playerShort                                                                   \n",
       "aaron-hughes              0.25           19   179    0.00    71.0         0   \n",
       "aaron-hunt                0.00           42    73    0.25    73.0         1   \n",
       "aaron-lennon              0.25           11    97    0.25    63.0         0   \n",
       "aaron-ramsey              0.00           31    42    0.00    76.0         1   \n",
       "abdelhamid-el-kaoutari    0.25            8    40    0.25    73.0         2   \n",
       "\n",
       "                        height  yellowReds  victories leagueCountry  games  \\\n",
       "playerShort                                                                  \n",
       "aaron-hughes             182.0           0        247       England    654   \n",
       "aaron-hunt               183.0           0        141       Germany    336   \n",
       "aaron-lennon             165.0           0        200       England    412   \n",
       "aaron-ramsey             178.0           0        150       England    260   \n",
       "abdelhamid-el-kaoutari   180.0           4         41        France    124   \n",
       "\n",
       "                        defeats  goals  \n",
       "playerShort                             \n",
       "aaron-hughes                228      9  \n",
       "aaron-hunt                  122     62  \n",
       "aaron-lennon                115     31  \n",
       "aaron-ramsey                 68     39  \n",
       "abdelhamid-el-kaoutari       43      1  "
      ]
     },
     "execution_count": 42,
     "metadata": {},
     "output_type": "execute_result"
    }
   ],
   "source": [
    "players = group_players.agg({'height':'first', 'weight':'first', 'games':'sum', \n",
    "                             'victories':'sum','defeats':'sum', 'ties': 'sum', 'goals':'sum', \n",
    "                             'redCards':'sum', 'yellowReds': 'sum', 'yellowCards':'sum', \n",
    "                             'leagueCountry':'first', 'rater1':'median', 'rater2':'median'})\n",
    "print(players.shape)\n",
    "players.head()"
   ]
  },
  {
   "cell_type": "markdown",
   "metadata": {},
   "source": [
    "There are some leftover values with null in the weight and height columns"
   ]
  },
  {
   "cell_type": "code",
   "execution_count": 43,
   "metadata": {
    "collapsed": false
   },
   "outputs": [
    {
     "data": {
      "text/plain": [
       "rater1            0\n",
       "yellowCards       0\n",
       "ties              0\n",
       "rater2            0\n",
       "weight           21\n",
       "redCards          0\n",
       "height            3\n",
       "yellowReds        0\n",
       "victories         0\n",
       "leagueCountry     0\n",
       "games             0\n",
       "defeats           0\n",
       "goals             0\n",
       "dtype: int64"
      ]
     },
     "execution_count": 43,
     "metadata": {},
     "output_type": "execute_result"
    }
   ],
   "source": [
    "players.isnull().sum()"
   ]
  },
  {
   "cell_type": "markdown",
   "metadata": {},
   "source": [
    "If the weight or the height is NaN we replace it by the median height and weight of all the players (switch_median = True). As an alternative the replacement can be done using the average (switch_median = False)"
   ]
  },
  {
   "cell_type": "code",
   "execution_count": 44,
   "metadata": {
    "collapsed": false
   },
   "outputs": [],
   "source": [
    "switch_median = True\n",
    "if(switch_median):\n",
    "    med_height = players['height'].median()\n",
    "    med_weight = players['weight'].median()\n",
    "    players['height'] = players['height'].fillna(value=med_height)\n",
    "    players['weight'] = players['weight'].fillna(value=med_weight)\n",
    "else:\n",
    "    av_height = players['height'].mean()\n",
    "    av_weight = players['weight'].mean()\n",
    "    players['height'] = players['height'].fillna(value=av_height)\n",
    "    players['weight'] = players['weight'].fillna(value=av_weight)"
   ]
  },
  {
   "cell_type": "markdown",
   "metadata": {},
   "source": [
    "Create dummy variables from leagueCountry (categorical) feature. After adding the dummy variables indicating in which country the player plays and removing the feature with the actual strings we have to take care of the dummy variable trap. In essence we have 4 countries but if we keep all for them it will be redundant as we can infer one country from the other 3, and such one feature is linearly dependent on the other 3. (for more information: http://www.algosome.com/articles/dummy-variable-trap-regression.html) "
   ]
  },
  {
   "cell_type": "code",
   "execution_count": 45,
   "metadata": {
    "collapsed": false
   },
   "outputs": [
    {
     "data": {
      "text/html": [
       "<div>\n",
       "<table border=\"1\" class=\"dataframe\">\n",
       "  <thead>\n",
       "    <tr style=\"text-align: right;\">\n",
       "      <th></th>\n",
       "      <th>rater1</th>\n",
       "      <th>yellowCards</th>\n",
       "      <th>ties</th>\n",
       "      <th>rater2</th>\n",
       "      <th>weight</th>\n",
       "      <th>redCards</th>\n",
       "      <th>height</th>\n",
       "      <th>yellowReds</th>\n",
       "      <th>victories</th>\n",
       "      <th>games</th>\n",
       "      <th>defeats</th>\n",
       "      <th>goals</th>\n",
       "      <th>England</th>\n",
       "      <th>France</th>\n",
       "      <th>Germany</th>\n",
       "    </tr>\n",
       "    <tr>\n",
       "      <th>playerShort</th>\n",
       "      <th></th>\n",
       "      <th></th>\n",
       "      <th></th>\n",
       "      <th></th>\n",
       "      <th></th>\n",
       "      <th></th>\n",
       "      <th></th>\n",
       "      <th></th>\n",
       "      <th></th>\n",
       "      <th></th>\n",
       "      <th></th>\n",
       "      <th></th>\n",
       "      <th></th>\n",
       "      <th></th>\n",
       "      <th></th>\n",
       "    </tr>\n",
       "  </thead>\n",
       "  <tbody>\n",
       "    <tr>\n",
       "      <th>aaron-hughes</th>\n",
       "      <td>0.25</td>\n",
       "      <td>19</td>\n",
       "      <td>179</td>\n",
       "      <td>0.00</td>\n",
       "      <td>71.0</td>\n",
       "      <td>0</td>\n",
       "      <td>182.0</td>\n",
       "      <td>0</td>\n",
       "      <td>247</td>\n",
       "      <td>654</td>\n",
       "      <td>228</td>\n",
       "      <td>9</td>\n",
       "      <td>1.0</td>\n",
       "      <td>0.0</td>\n",
       "      <td>0.0</td>\n",
       "    </tr>\n",
       "    <tr>\n",
       "      <th>aaron-hunt</th>\n",
       "      <td>0.00</td>\n",
       "      <td>42</td>\n",
       "      <td>73</td>\n",
       "      <td>0.25</td>\n",
       "      <td>73.0</td>\n",
       "      <td>1</td>\n",
       "      <td>183.0</td>\n",
       "      <td>0</td>\n",
       "      <td>141</td>\n",
       "      <td>336</td>\n",
       "      <td>122</td>\n",
       "      <td>62</td>\n",
       "      <td>0.0</td>\n",
       "      <td>0.0</td>\n",
       "      <td>1.0</td>\n",
       "    </tr>\n",
       "    <tr>\n",
       "      <th>aaron-lennon</th>\n",
       "      <td>0.25</td>\n",
       "      <td>11</td>\n",
       "      <td>97</td>\n",
       "      <td>0.25</td>\n",
       "      <td>63.0</td>\n",
       "      <td>0</td>\n",
       "      <td>165.0</td>\n",
       "      <td>0</td>\n",
       "      <td>200</td>\n",
       "      <td>412</td>\n",
       "      <td>115</td>\n",
       "      <td>31</td>\n",
       "      <td>1.0</td>\n",
       "      <td>0.0</td>\n",
       "      <td>0.0</td>\n",
       "    </tr>\n",
       "  </tbody>\n",
       "</table>\n",
       "</div>"
      ],
      "text/plain": [
       "              rater1  yellowCards  ties  rater2  weight  redCards  height  \\\n",
       "playerShort                                                                 \n",
       "aaron-hughes    0.25           19   179    0.00    71.0         0   182.0   \n",
       "aaron-hunt      0.00           42    73    0.25    73.0         1   183.0   \n",
       "aaron-lennon    0.25           11    97    0.25    63.0         0   165.0   \n",
       "\n",
       "              yellowReds  victories  games  defeats  goals  England  France  \\\n",
       "playerShort                                                                   \n",
       "aaron-hughes           0        247    654      228      9      1.0     0.0   \n",
       "aaron-hunt             0        141    336      122     62      0.0     0.0   \n",
       "aaron-lennon           0        200    412      115     31      1.0     0.0   \n",
       "\n",
       "              Germany  \n",
       "playerShort            \n",
       "aaron-hughes      0.0  \n",
       "aaron-hunt        1.0  \n",
       "aaron-lennon      0.0  "
      ]
     },
     "execution_count": 45,
     "metadata": {},
     "output_type": "execute_result"
    }
   ],
   "source": [
    "leagueCountries_dummies = pd.get_dummies(players['leagueCountry'])\n",
    "players = pd.concat([players, leagueCountries_dummies], axis=1)      \n",
    "players.drop(['leagueCountry', 'Spain'], inplace=True, axis=1)\n",
    "players.head(3)"
   ]
  },
  {
   "cell_type": "markdown",
   "metadata": {},
   "source": [
    "Convert the new added dummy variables from float to int"
   ]
  },
  {
   "cell_type": "code",
   "execution_count": 46,
   "metadata": {
    "collapsed": false
   },
   "outputs": [],
   "source": [
    "players['England'] = players['England'].astype(int)\n",
    "players['France'] = players['France'].astype(int)\n",
    "players['Germany'] = players['Germany'].astype(int)"
   ]
  },
  {
   "cell_type": "code",
   "execution_count": 47,
   "metadata": {
    "collapsed": false,
    "scrolled": true
   },
   "outputs": [
    {
     "data": {
      "text/html": [
       "<div>\n",
       "<table border=\"1\" class=\"dataframe\">\n",
       "  <thead>\n",
       "    <tr style=\"text-align: right;\">\n",
       "      <th></th>\n",
       "      <th>rater1</th>\n",
       "      <th>yellowCards</th>\n",
       "      <th>ties</th>\n",
       "      <th>rater2</th>\n",
       "      <th>weight</th>\n",
       "      <th>redCards</th>\n",
       "      <th>height</th>\n",
       "      <th>yellowReds</th>\n",
       "      <th>victories</th>\n",
       "      <th>games</th>\n",
       "      <th>defeats</th>\n",
       "      <th>goals</th>\n",
       "      <th>England</th>\n",
       "      <th>France</th>\n",
       "      <th>Germany</th>\n",
       "    </tr>\n",
       "    <tr>\n",
       "      <th>playerShort</th>\n",
       "      <th></th>\n",
       "      <th></th>\n",
       "      <th></th>\n",
       "      <th></th>\n",
       "      <th></th>\n",
       "      <th></th>\n",
       "      <th></th>\n",
       "      <th></th>\n",
       "      <th></th>\n",
       "      <th></th>\n",
       "      <th></th>\n",
       "      <th></th>\n",
       "      <th></th>\n",
       "      <th></th>\n",
       "      <th></th>\n",
       "    </tr>\n",
       "  </thead>\n",
       "  <tbody>\n",
       "    <tr>\n",
       "      <th>aaron-hughes</th>\n",
       "      <td>0.25</td>\n",
       "      <td>19</td>\n",
       "      <td>179</td>\n",
       "      <td>0.00</td>\n",
       "      <td>71.0</td>\n",
       "      <td>0</td>\n",
       "      <td>182.0</td>\n",
       "      <td>0</td>\n",
       "      <td>247</td>\n",
       "      <td>654</td>\n",
       "      <td>228</td>\n",
       "      <td>9</td>\n",
       "      <td>1</td>\n",
       "      <td>0</td>\n",
       "      <td>0</td>\n",
       "    </tr>\n",
       "    <tr>\n",
       "      <th>aaron-hunt</th>\n",
       "      <td>0.00</td>\n",
       "      <td>42</td>\n",
       "      <td>73</td>\n",
       "      <td>0.25</td>\n",
       "      <td>73.0</td>\n",
       "      <td>1</td>\n",
       "      <td>183.0</td>\n",
       "      <td>0</td>\n",
       "      <td>141</td>\n",
       "      <td>336</td>\n",
       "      <td>122</td>\n",
       "      <td>62</td>\n",
       "      <td>0</td>\n",
       "      <td>0</td>\n",
       "      <td>1</td>\n",
       "    </tr>\n",
       "    <tr>\n",
       "      <th>aaron-lennon</th>\n",
       "      <td>0.25</td>\n",
       "      <td>11</td>\n",
       "      <td>97</td>\n",
       "      <td>0.25</td>\n",
       "      <td>63.0</td>\n",
       "      <td>0</td>\n",
       "      <td>165.0</td>\n",
       "      <td>0</td>\n",
       "      <td>200</td>\n",
       "      <td>412</td>\n",
       "      <td>115</td>\n",
       "      <td>31</td>\n",
       "      <td>1</td>\n",
       "      <td>0</td>\n",
       "      <td>0</td>\n",
       "    </tr>\n",
       "  </tbody>\n",
       "</table>\n",
       "</div>"
      ],
      "text/plain": [
       "              rater1  yellowCards  ties  rater2  weight  redCards  height  \\\n",
       "playerShort                                                                 \n",
       "aaron-hughes    0.25           19   179    0.00    71.0         0   182.0   \n",
       "aaron-hunt      0.00           42    73    0.25    73.0         1   183.0   \n",
       "aaron-lennon    0.25           11    97    0.25    63.0         0   165.0   \n",
       "\n",
       "              yellowReds  victories  games  defeats  goals  England  France  \\\n",
       "playerShort                                                                   \n",
       "aaron-hughes           0        247    654      228      9        1       0   \n",
       "aaron-hunt             0        141    336      122     62        0       0   \n",
       "aaron-lennon           0        200    412      115     31        1       0   \n",
       "\n",
       "              Germany  \n",
       "playerShort            \n",
       "aaron-hughes        0  \n",
       "aaron-hunt          1  \n",
       "aaron-lennon        0  "
      ]
     },
     "execution_count": 47,
     "metadata": {},
     "output_type": "execute_result"
    }
   ],
   "source": [
    "players.head(3)"
   ]
  },
  {
   "cell_type": "markdown",
   "metadata": {},
   "source": [
    "Liwekise the column 'games' = 'ties' + 'defeats' + 'victories' and since it is a linear combination of the other three it can be removed"
   ]
  },
  {
   "cell_type": "code",
   "execution_count": 48,
   "metadata": {
    "collapsed": false
   },
   "outputs": [
    {
     "data": {
      "text/plain": [
       "0"
      ]
     },
     "execution_count": 48,
     "metadata": {},
     "output_type": "execute_result"
    }
   ],
   "source": [
    "sum(players.games - players.ties - players.defeats - players.victories)"
   ]
  },
  {
   "cell_type": "code",
   "execution_count": 49,
   "metadata": {
    "collapsed": false
   },
   "outputs": [
    {
     "data": {
      "text/html": [
       "<div>\n",
       "<table border=\"1\" class=\"dataframe\">\n",
       "  <thead>\n",
       "    <tr style=\"text-align: right;\">\n",
       "      <th></th>\n",
       "      <th>rater1</th>\n",
       "      <th>yellowCards</th>\n",
       "      <th>ties</th>\n",
       "      <th>rater2</th>\n",
       "      <th>weight</th>\n",
       "      <th>redCards</th>\n",
       "      <th>height</th>\n",
       "      <th>yellowReds</th>\n",
       "      <th>victories</th>\n",
       "      <th>defeats</th>\n",
       "      <th>goals</th>\n",
       "      <th>England</th>\n",
       "      <th>France</th>\n",
       "      <th>Germany</th>\n",
       "    </tr>\n",
       "    <tr>\n",
       "      <th>playerShort</th>\n",
       "      <th></th>\n",
       "      <th></th>\n",
       "      <th></th>\n",
       "      <th></th>\n",
       "      <th></th>\n",
       "      <th></th>\n",
       "      <th></th>\n",
       "      <th></th>\n",
       "      <th></th>\n",
       "      <th></th>\n",
       "      <th></th>\n",
       "      <th></th>\n",
       "      <th></th>\n",
       "      <th></th>\n",
       "    </tr>\n",
       "  </thead>\n",
       "  <tbody>\n",
       "    <tr>\n",
       "      <th>aaron-hughes</th>\n",
       "      <td>0.25</td>\n",
       "      <td>19</td>\n",
       "      <td>179</td>\n",
       "      <td>0.00</td>\n",
       "      <td>71.0</td>\n",
       "      <td>0</td>\n",
       "      <td>182.0</td>\n",
       "      <td>0</td>\n",
       "      <td>247</td>\n",
       "      <td>228</td>\n",
       "      <td>9</td>\n",
       "      <td>1</td>\n",
       "      <td>0</td>\n",
       "      <td>0</td>\n",
       "    </tr>\n",
       "    <tr>\n",
       "      <th>aaron-hunt</th>\n",
       "      <td>0.00</td>\n",
       "      <td>42</td>\n",
       "      <td>73</td>\n",
       "      <td>0.25</td>\n",
       "      <td>73.0</td>\n",
       "      <td>1</td>\n",
       "      <td>183.0</td>\n",
       "      <td>0</td>\n",
       "      <td>141</td>\n",
       "      <td>122</td>\n",
       "      <td>62</td>\n",
       "      <td>0</td>\n",
       "      <td>0</td>\n",
       "      <td>1</td>\n",
       "    </tr>\n",
       "    <tr>\n",
       "      <th>aaron-lennon</th>\n",
       "      <td>0.25</td>\n",
       "      <td>11</td>\n",
       "      <td>97</td>\n",
       "      <td>0.25</td>\n",
       "      <td>63.0</td>\n",
       "      <td>0</td>\n",
       "      <td>165.0</td>\n",
       "      <td>0</td>\n",
       "      <td>200</td>\n",
       "      <td>115</td>\n",
       "      <td>31</td>\n",
       "      <td>1</td>\n",
       "      <td>0</td>\n",
       "      <td>0</td>\n",
       "    </tr>\n",
       "  </tbody>\n",
       "</table>\n",
       "</div>"
      ],
      "text/plain": [
       "              rater1  yellowCards  ties  rater2  weight  redCards  height  \\\n",
       "playerShort                                                                 \n",
       "aaron-hughes    0.25           19   179    0.00    71.0         0   182.0   \n",
       "aaron-hunt      0.00           42    73    0.25    73.0         1   183.0   \n",
       "aaron-lennon    0.25           11    97    0.25    63.0         0   165.0   \n",
       "\n",
       "              yellowReds  victories  defeats  goals  England  France  Germany  \n",
       "playerShort                                                                    \n",
       "aaron-hughes           0        247      228      9        1       0        0  \n",
       "aaron-hunt             0        141      122     62        0       0        1  \n",
       "aaron-lennon           0        200      115     31        1       0        0  "
      ]
     },
     "execution_count": 49,
     "metadata": {},
     "output_type": "execute_result"
    }
   ],
   "source": [
    "players.drop('games', axis=1, inplace=True)\n",
    "players.head(3)"
   ]
  },
  {
   "cell_type": "markdown",
   "metadata": {},
   "source": [
    "We standardize the data. Some features, like the newly added dummy variables do not make much sense to be standardized. Arguably the rater1 and rater2 don't need standardization as well."
   ]
  },
  {
   "cell_type": "code",
   "execution_count": 51,
   "metadata": {
    "collapsed": false
   },
   "outputs": [
    {
     "data": {
      "text/html": [
       "<div>\n",
       "<table border=\"1\" class=\"dataframe\">\n",
       "  <thead>\n",
       "    <tr style=\"text-align: right;\">\n",
       "      <th></th>\n",
       "      <th>rater1</th>\n",
       "      <th>yellowCards</th>\n",
       "      <th>ties</th>\n",
       "      <th>rater2</th>\n",
       "      <th>weight</th>\n",
       "      <th>redCards</th>\n",
       "      <th>height</th>\n",
       "      <th>yellowReds</th>\n",
       "      <th>victories</th>\n",
       "      <th>defeats</th>\n",
       "      <th>goals</th>\n",
       "      <th>England</th>\n",
       "      <th>France</th>\n",
       "      <th>Germany</th>\n",
       "    </tr>\n",
       "    <tr>\n",
       "      <th>playerShort</th>\n",
       "      <th></th>\n",
       "      <th></th>\n",
       "      <th></th>\n",
       "      <th></th>\n",
       "      <th></th>\n",
       "      <th></th>\n",
       "      <th></th>\n",
       "      <th></th>\n",
       "      <th></th>\n",
       "      <th></th>\n",
       "      <th></th>\n",
       "      <th></th>\n",
       "      <th></th>\n",
       "      <th></th>\n",
       "    </tr>\n",
       "  </thead>\n",
       "  <tbody>\n",
       "    <tr>\n",
       "      <th>aaron-hughes</th>\n",
       "      <td>0.25</td>\n",
       "      <td>-0.247394</td>\n",
       "      <td>1.800348</td>\n",
       "      <td>0.00</td>\n",
       "      <td>-0.356607</td>\n",
       "      <td>-0.374619</td>\n",
       "      <td>-0.003278</td>\n",
       "      <td>-0.341141</td>\n",
       "      <td>0.911628</td>\n",
       "      <td>1.872586</td>\n",
       "      <td>-0.226273</td>\n",
       "      <td>1</td>\n",
       "      <td>0</td>\n",
       "      <td>0</td>\n",
       "    </tr>\n",
       "    <tr>\n",
       "      <th>aaron-hunt</th>\n",
       "      <td>0.00</td>\n",
       "      <td>0.212043</td>\n",
       "      <td>0.246118</td>\n",
       "      <td>0.25</td>\n",
       "      <td>-0.214929</td>\n",
       "      <td>-0.000943</td>\n",
       "      <td>0.070944</td>\n",
       "      <td>-0.341141</td>\n",
       "      <td>0.228388</td>\n",
       "      <td>0.587071</td>\n",
       "      <td>0.412009</td>\n",
       "      <td>0</td>\n",
       "      <td>0</td>\n",
       "      <td>1</td>\n",
       "    </tr>\n",
       "    <tr>\n",
       "      <th>aaron-lennon</th>\n",
       "      <td>0.25</td>\n",
       "      <td>-0.407198</td>\n",
       "      <td>0.598019</td>\n",
       "      <td>0.25</td>\n",
       "      <td>-0.923316</td>\n",
       "      <td>-0.374619</td>\n",
       "      <td>-1.265058</td>\n",
       "      <td>-0.341141</td>\n",
       "      <td>0.608682</td>\n",
       "      <td>0.502178</td>\n",
       "      <td>0.038675</td>\n",
       "      <td>1</td>\n",
       "      <td>0</td>\n",
       "      <td>0</td>\n",
       "    </tr>\n",
       "    <tr>\n",
       "      <th>aaron-ramsey</th>\n",
       "      <td>0.00</td>\n",
       "      <td>-0.007688</td>\n",
       "      <td>-0.208421</td>\n",
       "      <td>0.00</td>\n",
       "      <td>-0.002413</td>\n",
       "      <td>-0.000943</td>\n",
       "      <td>-0.300167</td>\n",
       "      <td>-0.341141</td>\n",
       "      <td>0.286399</td>\n",
       "      <td>-0.067815</td>\n",
       "      <td>0.135019</td>\n",
       "      <td>1</td>\n",
       "      <td>0</td>\n",
       "      <td>0</td>\n",
       "    </tr>\n",
       "    <tr>\n",
       "      <th>abdelhamid-el-kaoutari</th>\n",
       "      <td>0.25</td>\n",
       "      <td>-0.467125</td>\n",
       "      <td>-0.237746</td>\n",
       "      <td>0.25</td>\n",
       "      <td>-0.214929</td>\n",
       "      <td>0.372733</td>\n",
       "      <td>-0.151723</td>\n",
       "      <td>1.097870</td>\n",
       "      <td>-0.416178</td>\n",
       "      <td>-0.371002</td>\n",
       "      <td>-0.322617</td>\n",
       "      <td>0</td>\n",
       "      <td>1</td>\n",
       "      <td>0</td>\n",
       "    </tr>\n",
       "  </tbody>\n",
       "</table>\n",
       "</div>"
      ],
      "text/plain": [
       "                        rater1  yellowCards      ties  rater2    weight  \\\n",
       "playerShort                                                               \n",
       "aaron-hughes              0.25    -0.247394  1.800348    0.00 -0.356607   \n",
       "aaron-hunt                0.00     0.212043  0.246118    0.25 -0.214929   \n",
       "aaron-lennon              0.25    -0.407198  0.598019    0.25 -0.923316   \n",
       "aaron-ramsey              0.00    -0.007688 -0.208421    0.00 -0.002413   \n",
       "abdelhamid-el-kaoutari    0.25    -0.467125 -0.237746    0.25 -0.214929   \n",
       "\n",
       "                        redCards    height  yellowReds  victories   defeats  \\\n",
       "playerShort                                                                   \n",
       "aaron-hughes           -0.374619 -0.003278   -0.341141   0.911628  1.872586   \n",
       "aaron-hunt             -0.000943  0.070944   -0.341141   0.228388  0.587071   \n",
       "aaron-lennon           -0.374619 -1.265058   -0.341141   0.608682  0.502178   \n",
       "aaron-ramsey           -0.000943 -0.300167   -0.341141   0.286399 -0.067815   \n",
       "abdelhamid-el-kaoutari  0.372733 -0.151723    1.097870  -0.416178 -0.371002   \n",
       "\n",
       "                           goals  England  France  Germany  \n",
       "playerShort                                                 \n",
       "aaron-hughes           -0.226273        1       0        0  \n",
       "aaron-hunt              0.412009        0       0        1  \n",
       "aaron-lennon            0.038675        1       0        0  \n",
       "aaron-ramsey            0.135019        1       0        0  \n",
       "abdelhamid-el-kaoutari -0.322617        0       1        0  "
      ]
     },
     "execution_count": 51,
     "metadata": {},
     "output_type": "execute_result"
    }
   ],
   "source": [
    "features_to_be_standardized = ['height','yellowReds','defeats','redCards','ties','weight',\n",
    "                              'goals','yellowCards','victories']\n",
    "\n",
    "def standardize(feature_names):\n",
    "    for feature_name in feature_names:\n",
    "        players[feature_name] = \\\n",
    "        (players[feature_name] - players[feature_name].mean()) / (2*players[feature_name].std())\n",
    "\n",
    "standardize(features_to_be_standardized)\n",
    "players.head()"
   ]
  },
  {
   "cell_type": "markdown",
   "metadata": {},
   "source": [
    "## Assignment 2: cluster players"
   ]
  },
  {
   "cell_type": "markdown",
   "metadata": {},
   "source": [
    "We convert the pandas data frame to lists in order to match the expected data format for scikit learn."
   ]
  },
  {
   "cell_type": "markdown",
   "metadata": {},
   "source": [
    "Main parameters to consider for kmeans clusterer\n",
    "\n",
    "- max_iter : int, default: 300\n",
    "Maximum number of iterations of the k-means algorithm for a single run.\n",
    "\n",
    "- n_init : int, default: 10\n",
    "Number of time the k-means algorithm will be run with different centroid seeds. The final results will be the best output of n_init consecutive runs in terms of inertia.\n",
    "\n",
    "- init : {‘k-means++’, ‘random’ or an ndarray}\n",
    "Method for initialization, defaults to ‘k-means++’:\n",
    "‘k-means++’ : selects initial cluster centers for k-mean clustering in a smart way to speed up convergence. See section Notes in k_init for more details.\n",
    "‘random’: choose k observations (rows) at random from data for the initial centroids.\n",
    "If an ndarray is passed, it should be of shape (n_clusters, n_features) and gives the initial centers.\n",
    "\n",
    "- algorithm : “auto”, “full” or “elkan”, default=”auto”\n",
    "K-means algorithm to use. The classical EM-style algorithm is “full”. The “elkan” variation is more efficient by using the triangle inequality, but currently doesn’t support sparse data. “auto” chooses “elkan” for dense data and “full” for sparse data."
   ]
  },
  {
   "cell_type": "code",
   "execution_count": 52,
   "metadata": {
    "collapsed": true
   },
   "outputs": [],
   "source": [
    "from sklearn.cluster import KMeans\n",
    "from sklearn.metrics import silhouette_score"
   ]
  },
  {
   "cell_type": "code",
   "execution_count": 53,
   "metadata": {
    "collapsed": true
   },
   "outputs": [],
   "source": [
    "from itertools import chain, combinations\n",
    "def powerset(iterable):\n",
    "    \"powerset([1,2,3]) --> () (1,) (2,) (3,) (1,2) (1,3) (2,3) (1,2,3)\"\n",
    "    s = list(iterable)\n",
    "    return chain.from_iterable(combinations(s, r) for r in range(len(s)+1))"
   ]
  },
  {
   "cell_type": "markdown",
   "metadata": {},
   "source": [
    "Helper functions, in case they are needed for quick testing. For completeness it would be ideal to test all feature subsets and find which one has a better silhouette score and in this case in the pick_subset function the lower bound limit should be 1 (the empty set is ignored). However this would require a lot of computation time so the number of feature subsets can be reduced by selecting different bounds on the length of the feature subset."
   ]
  },
  {
   "cell_type": "code",
   "execution_count": 96,
   "metadata": {
    "collapsed": false
   },
   "outputs": [],
   "source": [
    "lower_bound = 2\n",
    "def pick_subset(element):\n",
    "    return len(element) >= lower_bound\n",
    "\n",
    "def prepare_feature_subsets(features):\n",
    "    return filter(pick_subset, features)"
   ]
  },
  {
   "cell_type": "markdown",
   "metadata": {},
   "source": [
    "The feature subsets on which the clusterer will be run have the following form:\n",
    "\n",
    "feature subset = (rater1, rater2) + subset of the other features"
   ]
  },
  {
   "cell_type": "code",
   "execution_count": 59,
   "metadata": {
    "collapsed": false
   },
   "outputs": [],
   "source": [
    "columns_without_rater12 = list(filter(lambda a: a != 'rater1' and a != 'rater2', players.columns.values))"
   ]
  },
  {
   "cell_type": "markdown",
   "metadata": {},
   "source": [
    "Create the feature subsets not containing the rater1 and rater2 features using powerset on the column names. "
   ]
  },
  {
   "cell_type": "code",
   "execution_count": 61,
   "metadata": {
    "collapsed": false
   },
   "outputs": [],
   "source": [
    "subsets_of_other_features = list(powerset(columns_without_rater12))"
   ]
  },
  {
   "cell_type": "markdown",
   "metadata": {},
   "source": [
    "The actual feature subsets used are extended with rater1 and rater2."
   ]
  },
  {
   "cell_type": "code",
   "execution_count": 73,
   "metadata": {
    "collapsed": false
   },
   "outputs": [
    {
     "data": {
      "text/plain": [
       "4096"
      ]
     },
     "execution_count": 73,
     "metadata": {},
     "output_type": "execute_result"
    }
   ],
   "source": [
    "feature_subsets = []\n",
    "for subs in subsets_of_other_features:\n",
    "    l = list(subs)\n",
    "    l.extend(['rater1','rater2'])\n",
    "    feature_subsets.append(l)\n",
    "len(feature_subsets)"
   ]
  },
  {
   "cell_type": "markdown",
   "metadata": {},
   "source": [
    "Before running the clusterer it is important to mention a few things. \n",
    "- Firstly even if we run the clusterer on all the feature subsets and select the best one based on the silhouette score it is not guaranteed that this model will be good at separating the players into clusters representing skin tone, the 2 resulting clusters could represent 2 communities of players but not (necessarily) grouped by skin tone.\n",
    "- Secondly we will introduce another measure to see how good the current model is at clustering players into separate clusters based on skin tone. \n",
    "- Thirdly we will select the best models on each measurement score and visualize them."
   ]
  },
  {
   "cell_type": "code",
   "execution_count": 75,
   "metadata": {
    "collapsed": true
   },
   "outputs": [],
   "source": [
    "# MEME = the Most Excellent Measurement Ever\n",
    "def meme(estimator_labels):\n",
    "    # here we create a dataframe containing the average rating and the label for each player\n",
    "    player_clusters = players[[\"rater1\", \"rater2\"]]\n",
    "    labels = pd.Series(estimator_labels, index=player_clusters.index)\n",
    "    player_clusters = player_clusters.assign(labels=labels.values)\n",
    "    player_clusters['average_rating'] = players[[\"rater1\", \"rater2\"]].mean(axis=1)\n",
    "    player_clusters.drop(['rater1', 'rater2'], inplace=True, axis=1)\n",
    "    \n",
    "    # next we perform 2 mappings:\n",
    "    # 1) map the average rating to 1 or 0 if it is bigger and equal than 0.5 and respectively < 0.5\n",
    "    # 2) map the average rating to 0 or 1 if it is bigger and equal than 0.5 and respectively < 0.5\n",
    "    player_clusters['average_rating_opt1'] = \\\n",
    "    player_clusters['average_rating'].apply(lambda x: 1 if x >= 0.5 else 0)\n",
    "    player_clusters['average_rating_opt2'] = \\\n",
    "    player_clusters['average_rating'].apply(lambda x: 0 if x >= 0.5 else 1)\n",
    "    \n",
    "    # we need 2 mappings to see which provides the smaller error\n",
    "    # the error represents the total number of misplaced labels, \n",
    "    # i.e. it works like: sum(xor(label, map_value)) over all labels\n",
    "    error_opt1 = sum(abs(player_clusters['labels'] - player_clusters['average_rating_opt1']))\n",
    "    error_opt2 = sum(abs(player_clusters['labels'] - player_clusters['average_rating_opt2']))\n",
    "    \n",
    "    # the second return value is to know which mapping was used for future reference\n",
    "    if(error_opt1 < error_opt2):\n",
    "        return error_opt1, 1\n",
    "    else:\n",
    "        return error_opt2, 2"
   ]
  },
  {
   "cell_type": "markdown",
   "metadata": {},
   "source": [
    "Run the clusterer on each feature subset"
   ]
  },
  {
   "cell_type": "code",
   "execution_count": 92,
   "metadata": {
    "collapsed": true
   },
   "outputs": [],
   "source": [
    "def run_clusterer(feature_sets, save_all = False):\n",
    "    # initialize Kmeans estimator\n",
    "    estimator = KMeans(n_clusters=2, random_state=0)\n",
    "    \n",
    "    # initialize storing variables\n",
    "    best_silhouette = -1\n",
    "    best_sil_feature_subset = feature_sets[0]\n",
    "    best_meme = len(players.index)\n",
    "    best_meme_mapping = 0\n",
    "    best_meme_feature_subset = feature_sets[0]\n",
    "    \n",
    "    all_feature_results = []\n",
    "    counter = 0\n",
    "    for feature_subset in feature_sets:\n",
    "        X = players[list(feature_subset)]\n",
    "        estimator.fit(X)\n",
    "        # compute silhouette score for this particular model\n",
    "        silhouette_avg = silhouette_score(X, estimator.labels_)\n",
    "        if(silhouette_avg > best_silhouette):\n",
    "            best_silhouette = silhouette_avg\n",
    "            best_sil_feature_subset = feature_subset\n",
    "        # compute meme score for this particular model\n",
    "        meme_score, meme_mapping = meme(estimator.labels_)\n",
    "        if(meme_score < best_meme):\n",
    "            best_meme = meme_score\n",
    "            best_meme_mapping = meme_mapping\n",
    "            best_meme_feature_subset = feature_subset\n",
    "        # just a counter printer to monitor progress, as it will take some minutes to complete\n",
    "        if(counter % 250 == 0):\n",
    "            print(\"Counter \", counter)\n",
    "            print(\"For n_clusters =\", 2, \"The avg silhouette_score is :\", silhouette_avg)\n",
    "            print(\"For n_clusters =\", 2, \"The meme score is :\", meme_score)\n",
    "        counter += 1\n",
    "        if(save_all):\n",
    "            all_feature_results.append([feature_subset, silhouette_avg, meme_score, meme_mapping])\n",
    "    if(save_all):\n",
    "        return all_feature_results\n",
    "    else:\n",
    "        return best_sil_feature_subset, best_meme_feature_subset, best_meme_mapping"
   ]
  },
  {
   "cell_type": "code",
   "execution_count": 93,
   "metadata": {
    "collapsed": false
   },
   "outputs": [
    {
     "name": "stdout",
     "output_type": "stream",
     "text": [
      "Counter  0\n",
      "For n_clusters = 2 The avg silhouette_score is : 0.687370433582\n",
      "For n_clusters = 2 The meme score is : 0\n",
      "Counter  250\n",
      "For n_clusters = 2 The avg silhouette_score is : 0.36438900771\n",
      "For n_clusters = 2 The meme score is : 546\n",
      "Counter  500\n",
      "For n_clusters = 2 The avg silhouette_score is : 0.267734621045\n",
      "For n_clusters = 2 The meme score is : 630\n",
      "Counter  750\n",
      "For n_clusters = 2 The avg silhouette_score is : 0.244976283038\n",
      "For n_clusters = 2 The meme score is : 670\n",
      "Counter  1000\n",
      "For n_clusters = 2 The avg silhouette_score is : 0.329183105041\n",
      "For n_clusters = 2 The meme score is : 589\n",
      "Counter  1250\n",
      "For n_clusters = 2 The avg silhouette_score is : 0.319903780379\n",
      "For n_clusters = 2 The meme score is : 656\n",
      "Counter  1500\n",
      "For n_clusters = 2 The avg silhouette_score is : 0.345176816027\n",
      "For n_clusters = 2 The meme score is : 568\n",
      "Counter  1750\n",
      "For n_clusters = 2 The avg silhouette_score is : 0.249638721238\n",
      "For n_clusters = 2 The meme score is : 702\n",
      "Counter  2000\n",
      "For n_clusters = 2 The avg silhouette_score is : 0.248329125421\n",
      "For n_clusters = 2 The meme score is : 640\n",
      "Counter  2250\n",
      "For n_clusters = 2 The avg silhouette_score is : 0.262387582964\n",
      "For n_clusters = 2 The meme score is : 656\n",
      "Counter  2500\n",
      "For n_clusters = 2 The avg silhouette_score is : 0.220387973124\n",
      "For n_clusters = 2 The meme score is : 647\n",
      "Counter  2750\n",
      "For n_clusters = 2 The avg silhouette_score is : 0.274840445237\n",
      "For n_clusters = 2 The meme score is : 666\n",
      "Counter  3000\n",
      "For n_clusters = 2 The avg silhouette_score is : 0.230188460171\n",
      "For n_clusters = 2 The meme score is : 669\n",
      "Counter  3250\n",
      "For n_clusters = 2 The avg silhouette_score is : 0.172614732275\n",
      "For n_clusters = 2 The meme score is : 709\n",
      "Counter  3500\n",
      "For n_clusters = 2 The avg silhouette_score is : 0.280510764833\n",
      "For n_clusters = 2 The meme score is : 698\n",
      "Counter  3750\n",
      "For n_clusters = 2 The avg silhouette_score is : 0.264647106747\n",
      "For n_clusters = 2 The meme score is : 670\n",
      "Counter  4000\n",
      "For n_clusters = 2 The avg silhouette_score is : 0.262086222049\n",
      "For n_clusters = 2 The meme score is : 672\n"
     ]
    }
   ],
   "source": [
    "best_sil_features, best_meme_features, best_meme_mapping = run_clusterer(feature_subsets)"
   ]
  },
  {
   "cell_type": "code",
   "execution_count": 94,
   "metadata": {
    "collapsed": false
   },
   "outputs": [
    {
     "data": {
      "text/plain": [
       "['rater1', 'rater2']"
      ]
     },
     "execution_count": 94,
     "metadata": {},
     "output_type": "execute_result"
    }
   ],
   "source": [
    "best_sil_features"
   ]
  },
  {
   "cell_type": "code",
   "execution_count": 95,
   "metadata": {
    "collapsed": false
   },
   "outputs": [
    {
     "data": {
      "text/plain": [
       "['rater1', 'rater2']"
      ]
     },
     "execution_count": 95,
     "metadata": {},
     "output_type": "execute_result"
    }
   ],
   "source": [
    "best_meme_features"
   ]
  },
  {
   "cell_type": "markdown",
   "metadata": {},
   "source": [
    "A short commentary on the results:\n",
    "\n",
    "1) There is no surprise that we got the best meme features to be rater1 and rater2 as these are the values meme is based on\n",
    "\n",
    "2) Not necessarily a surprise but the best silhouette score was also obtained using only the rater1 and rater2 features"
   ]
  },
  {
   "cell_type": "markdown",
   "metadata": {},
   "source": [
    "For the sake of completion we will run the clusterer on all possible subsets (except the feature subsets with cardinality <= 1 as it will give too much advantage for the binary features like 'England', 'France', 'Germany'). We will store the silhouette and meme results for each subset this time and order them at the end. After that we can see what place the feature subset {'rater1', 'rater2'} has in the overall silhouette ranking."
   ]
  },
  {
   "cell_type": "code",
   "execution_count": 99,
   "metadata": {
    "collapsed": false
   },
   "outputs": [
    {
     "data": {
      "text/plain": [
       "16369"
      ]
     },
     "execution_count": 99,
     "metadata": {},
     "output_type": "execute_result"
    }
   ],
   "source": [
    "all_feature_subsets = list(prepare_feature_subsets(list(powerset(players.columns.values))))\n",
    "len(all_feature_subsets)"
   ]
  },
  {
   "cell_type": "code",
   "execution_count": 100,
   "metadata": {
    "collapsed": false
   },
   "outputs": [
    {
     "name": "stdout",
     "output_type": "stream",
     "text": [
      "Counter  0\n",
      "For n_clusters = 2 The avg silhouette_score is : 0.468429608182\n",
      "For n_clusters = 2 The meme score is : 647\n",
      "Counter  250\n",
      "For n_clusters = 2 The avg silhouette_score is : 0.3557309144\n",
      "For n_clusters = 2 The meme score is : 632\n",
      "Counter  500\n",
      "For n_clusters = 2 The avg silhouette_score is : 0.436165187823\n",
      "For n_clusters = 2 The meme score is : 613\n",
      "Counter  750\n",
      "For n_clusters = 2 The avg silhouette_score is : 0.32485620864\n",
      "For n_clusters = 2 The meme score is : 707\n",
      "Counter  1000\n",
      "For n_clusters = 2 The avg silhouette_score is : 0.390802617233\n",
      "For n_clusters = 2 The meme score is : 581\n",
      "Counter  1250\n",
      "For n_clusters = 2 The avg silhouette_score is : 0.291295364701\n",
      "For n_clusters = 2 The meme score is : 781\n",
      "Counter  1500\n",
      "For n_clusters = 2 The avg silhouette_score is : 0.351829395749\n",
      "For n_clusters = 2 The meme score is : 692\n",
      "Counter  1750\n",
      "For n_clusters = 2 The avg silhouette_score is : 0.277837193257\n",
      "For n_clusters = 2 The meme score is : 701\n",
      "Counter  2000\n",
      "For n_clusters = 2 The avg silhouette_score is : 0.257095994552\n",
      "For n_clusters = 2 The meme score is : 741\n",
      "Counter  2250\n",
      "For n_clusters = 2 The avg silhouette_score is : 0.253988211311\n",
      "For n_clusters = 2 The meme score is : 683\n",
      "Counter  2500\n",
      "For n_clusters = 2 The avg silhouette_score is : 0.250367944242\n",
      "For n_clusters = 2 The meme score is : 781\n",
      "Counter  2750\n",
      "For n_clusters = 2 The avg silhouette_score is : 0.283903444682\n",
      "For n_clusters = 2 The meme score is : 728\n",
      "Counter  3000\n",
      "For n_clusters = 2 The avg silhouette_score is : 0.261956442573\n",
      "For n_clusters = 2 The meme score is : 771\n",
      "Counter  3250\n",
      "For n_clusters = 2 The avg silhouette_score is : 0.263961517205\n",
      "For n_clusters = 2 The meme score is : 728\n",
      "Counter  3500\n",
      "For n_clusters = 2 The avg silhouette_score is : 0.281515601203\n",
      "For n_clusters = 2 The meme score is : 713\n",
      "Counter  3750\n",
      "For n_clusters = 2 The avg silhouette_score is : 0.343372350612\n",
      "For n_clusters = 2 The meme score is : 609\n",
      "Counter  4000\n",
      "For n_clusters = 2 The avg silhouette_score is : 0.299324511605\n",
      "For n_clusters = 2 The meme score is : 638\n",
      "Counter  4250\n",
      "For n_clusters = 2 The avg silhouette_score is : 0.359327828179\n",
      "For n_clusters = 2 The meme score is : 715\n",
      "Counter  4500\n",
      "For n_clusters = 2 The avg silhouette_score is : 0.23066066703\n",
      "For n_clusters = 2 The meme score is : 765\n",
      "Counter  4750\n",
      "For n_clusters = 2 The avg silhouette_score is : 0.290355489123\n",
      "For n_clusters = 2 The meme score is : 644\n",
      "Counter  5000\n",
      "For n_clusters = 2 The avg silhouette_score is : 0.323944739997\n",
      "For n_clusters = 2 The meme score is : 692\n",
      "Counter  5250\n",
      "For n_clusters = 2 The avg silhouette_score is : 0.3606926329\n",
      "For n_clusters = 2 The meme score is : 705\n",
      "Counter  5500\n",
      "For n_clusters = 2 The avg silhouette_score is : 0.237803539745\n",
      "For n_clusters = 2 The meme score is : 728\n",
      "Counter  5750\n",
      "For n_clusters = 2 The avg silhouette_score is : 0.205879392366\n",
      "For n_clusters = 2 The meme score is : 762\n",
      "Counter  6000\n",
      "For n_clusters = 2 The avg silhouette_score is : 0.215638192617\n",
      "For n_clusters = 2 The meme score is : 754\n",
      "Counter  6250\n",
      "For n_clusters = 2 The avg silhouette_score is : 0.269188326183\n",
      "For n_clusters = 2 The meme score is : 728\n",
      "Counter  6500\n",
      "For n_clusters = 2 The avg silhouette_score is : 0.287983443865\n",
      "For n_clusters = 2 The meme score is : 659\n",
      "Counter  6750\n",
      "For n_clusters = 2 The avg silhouette_score is : 0.264044200378\n",
      "For n_clusters = 2 The meme score is : 706\n",
      "Counter  7000\n",
      "For n_clusters = 2 The avg silhouette_score is : 0.252934658189\n",
      "For n_clusters = 2 The meme score is : 728\n",
      "Counter  7250\n",
      "For n_clusters = 2 The avg silhouette_score is : 0.278213705661\n",
      "For n_clusters = 2 The meme score is : 708\n",
      "Counter  7500\n",
      "For n_clusters = 2 The avg silhouette_score is : 0.32313424418\n",
      "For n_clusters = 2 The meme score is : 678\n",
      "Counter  7750\n",
      "For n_clusters = 2 The avg silhouette_score is : 0.230192901958\n",
      "For n_clusters = 2 The meme score is : 732\n",
      "Counter  8000\n",
      "For n_clusters = 2 The avg silhouette_score is : 0.212179787264\n",
      "For n_clusters = 2 The meme score is : 720\n",
      "Counter  8250\n",
      "For n_clusters = 2 The avg silhouette_score is : 0.265297281348\n",
      "For n_clusters = 2 The meme score is : 697\n",
      "Counter  8500\n",
      "For n_clusters = 2 The avg silhouette_score is : 0.323124792989\n",
      "For n_clusters = 2 The meme score is : 712\n",
      "Counter  8750\n",
      "For n_clusters = 2 The avg silhouette_score is : 0.303669878888\n",
      "For n_clusters = 2 The meme score is : 689\n",
      "Counter  9000\n",
      "For n_clusters = 2 The avg silhouette_score is : 0.270123356015\n",
      "For n_clusters = 2 The meme score is : 690\n",
      "Counter  9250\n",
      "For n_clusters = 2 The avg silhouette_score is : 0.269014151007\n",
      "For n_clusters = 2 The meme score is : 641\n",
      "Counter  9500\n",
      "For n_clusters = 2 The avg silhouette_score is : 0.330864143445\n",
      "For n_clusters = 2 The meme score is : 681\n",
      "Counter  9750\n",
      "For n_clusters = 2 The avg silhouette_score is : 0.226019141281\n",
      "For n_clusters = 2 The meme score is : 698\n",
      "Counter  10000\n",
      "For n_clusters = 2 The avg silhouette_score is : 0.342736544371\n",
      "For n_clusters = 2 The meme score is : 643\n",
      "Counter  10250\n",
      "For n_clusters = 2 The avg silhouette_score is : 0.296793779991\n",
      "For n_clusters = 2 The meme score is : 664\n",
      "Counter  10500\n",
      "For n_clusters = 2 The avg silhouette_score is : 0.298038757965\n",
      "For n_clusters = 2 The meme score is : 616\n",
      "Counter  10750\n",
      "For n_clusters = 2 The avg silhouette_score is : 0.273657073774\n",
      "For n_clusters = 2 The meme score is : 593\n",
      "Counter  11000\n",
      "For n_clusters = 2 The avg silhouette_score is : 0.327554068051\n",
      "For n_clusters = 2 The meme score is : 685\n",
      "Counter  11250\n",
      "For n_clusters = 2 The avg silhouette_score is : 0.281015105686\n",
      "For n_clusters = 2 The meme score is : 670\n",
      "Counter  11500\n",
      "For n_clusters = 2 The avg silhouette_score is : 0.177189633182\n",
      "For n_clusters = 2 The meme score is : 731\n",
      "Counter  11750\n",
      "For n_clusters = 2 The avg silhouette_score is : 0.34015817415\n",
      "For n_clusters = 2 The meme score is : 685\n",
      "Counter  12000\n",
      "For n_clusters = 2 The avg silhouette_score is : 0.28573390248\n",
      "For n_clusters = 2 The meme score is : 682\n",
      "Counter  12250\n",
      "For n_clusters = 2 The avg silhouette_score is : 0.285144266763\n",
      "For n_clusters = 2 The meme score is : 672\n",
      "Counter  12500\n",
      "For n_clusters = 2 The avg silhouette_score is : 0.221819846239\n",
      "For n_clusters = 2 The meme score is : 629\n",
      "Counter  12750\n",
      "For n_clusters = 2 The avg silhouette_score is : 0.185907192724\n",
      "For n_clusters = 2 The meme score is : 730\n",
      "Counter  13000\n",
      "For n_clusters = 2 The avg silhouette_score is : 0.254900069928\n",
      "For n_clusters = 2 The meme score is : 715\n",
      "Counter  13250\n",
      "For n_clusters = 2 The avg silhouette_score is : 0.232710161586\n",
      "For n_clusters = 2 The meme score is : 712\n",
      "Counter  13500\n",
      "For n_clusters = 2 The avg silhouette_score is : 0.28073510169\n",
      "For n_clusters = 2 The meme score is : 585\n",
      "Counter  13750\n",
      "For n_clusters = 2 The avg silhouette_score is : 0.26440796306\n",
      "For n_clusters = 2 The meme score is : 643\n",
      "Counter  14000\n",
      "For n_clusters = 2 The avg silhouette_score is : 0.265065165602\n",
      "For n_clusters = 2 The meme score is : 680\n",
      "Counter  14250\n",
      "For n_clusters = 2 The avg silhouette_score is : 0.264131066185\n",
      "For n_clusters = 2 The meme score is : 690\n",
      "Counter  14500\n",
      "For n_clusters = 2 The avg silhouette_score is : 0.319403379929\n",
      "For n_clusters = 2 The meme score is : 691\n",
      "Counter  14750\n",
      "For n_clusters = 2 The avg silhouette_score is : 0.266866061876\n",
      "For n_clusters = 2 The meme score is : 669\n",
      "Counter  15000\n",
      "For n_clusters = 2 The avg silhouette_score is : 0.223180150142\n",
      "For n_clusters = 2 The meme score is : 714\n",
      "Counter  15250\n",
      "For n_clusters = 2 The avg silhouette_score is : 0.246504361512\n",
      "For n_clusters = 2 The meme score is : 675\n",
      "Counter  15500\n",
      "For n_clusters = 2 The avg silhouette_score is : 0.293115233718\n",
      "For n_clusters = 2 The meme score is : 672\n",
      "Counter  15750\n",
      "For n_clusters = 2 The avg silhouette_score is : 0.270690228744\n",
      "For n_clusters = 2 The meme score is : 687\n",
      "Counter  16000\n",
      "For n_clusters = 2 The avg silhouette_score is : 0.275943976499\n",
      "For n_clusters = 2 The meme score is : 690\n",
      "Counter  16250\n",
      "For n_clusters = 2 The avg silhouette_score is : 0.24141787698\n",
      "For n_clusters = 2 The meme score is : 663\n"
     ]
    }
   ],
   "source": [
    "all_feature_subsets_res = run_clusterer(all_feature_subsets, True)"
   ]
  },
  {
   "cell_type": "code",
   "execution_count": 178,
   "metadata": {
    "collapsed": true
   },
   "outputs": [],
   "source": [
    "# in order to not rerun the clusterer as it takes almost an hour\n",
    "copy_all_feature_subsets_res = all_feature_subsets_res"
   ]
  },
  {
   "cell_type": "markdown",
   "metadata": {},
   "source": [
    "Convert the above list of lists into a dataframe"
   ]
  },
  {
   "cell_type": "code",
   "execution_count": 105,
   "metadata": {
    "collapsed": false
   },
   "outputs": [
    {
     "data": {
      "text/html": [
       "<div>\n",
       "<table border=\"1\" class=\"dataframe\">\n",
       "  <thead>\n",
       "    <tr style=\"text-align: right;\">\n",
       "      <th></th>\n",
       "      <th>Features</th>\n",
       "      <th>Silhouette</th>\n",
       "      <th>Meme</th>\n",
       "      <th>Meme map type</th>\n",
       "    </tr>\n",
       "  </thead>\n",
       "  <tbody>\n",
       "    <tr>\n",
       "      <th>0</th>\n",
       "      <td>(rater1, yellowCards)</td>\n",
       "      <td>0.468430</td>\n",
       "      <td>647</td>\n",
       "      <td>1</td>\n",
       "    </tr>\n",
       "    <tr>\n",
       "      <th>1</th>\n",
       "      <td>(rater1, ties)</td>\n",
       "      <td>0.440832</td>\n",
       "      <td>711</td>\n",
       "      <td>1</td>\n",
       "    </tr>\n",
       "    <tr>\n",
       "      <th>2</th>\n",
       "      <td>(rater1, rater2)</td>\n",
       "      <td>0.687370</td>\n",
       "      <td>0</td>\n",
       "      <td>2</td>\n",
       "    </tr>\n",
       "    <tr>\n",
       "      <th>3</th>\n",
       "      <td>(rater1, weight)</td>\n",
       "      <td>0.410289</td>\n",
       "      <td>780</td>\n",
       "      <td>2</td>\n",
       "    </tr>\n",
       "    <tr>\n",
       "      <th>4</th>\n",
       "      <td>(rater1, redCards)</td>\n",
       "      <td>0.538156</td>\n",
       "      <td>568</td>\n",
       "      <td>1</td>\n",
       "    </tr>\n",
       "  </tbody>\n",
       "</table>\n",
       "</div>"
      ],
      "text/plain": [
       "                Features  Silhouette  Meme  Meme map type\n",
       "0  (rater1, yellowCards)    0.468430   647              1\n",
       "1         (rater1, ties)    0.440832   711              1\n",
       "2       (rater1, rater2)    0.687370     0              2\n",
       "3       (rater1, weight)    0.410289   780              2\n",
       "4     (rater1, redCards)    0.538156   568              1"
      ]
     },
     "execution_count": 105,
     "metadata": {},
     "output_type": "execute_result"
    }
   ],
   "source": [
    "headers = ['Features', 'Silhouette', 'Meme', 'Meme map type']\n",
    "features_summary = pd.DataFrame(copy_all_feature_subsets_res, columns = headers)\n",
    "features_summary.head()"
   ]
  },
  {
   "cell_type": "markdown",
   "metadata": {},
   "source": [
    "Sort by silhouette score. We observe that from all the feature combinations used {'rater1', 'rater2'} places 10th regarding silhouette score. The first 9 feature subsets rely on the binary features which unsurprisingly work better in obtaining 2 cluster communities, though they do not create a good separation based on skin tone."
   ]
  },
  {
   "cell_type": "code",
   "execution_count": 110,
   "metadata": {
    "collapsed": false
   },
   "outputs": [
    {
     "data": {
      "text/html": [
       "<div>\n",
       "<table border=\"1\" class=\"dataframe\">\n",
       "  <thead>\n",
       "    <tr style=\"text-align: right;\">\n",
       "      <th></th>\n",
       "      <th>Features</th>\n",
       "      <th>Silhouette</th>\n",
       "      <th>Meme</th>\n",
       "      <th>Meme map type</th>\n",
       "    </tr>\n",
       "  </thead>\n",
       "  <tbody>\n",
       "    <tr>\n",
       "      <th>90</th>\n",
       "      <td>(France, Germany)</td>\n",
       "      <td>0.773512</td>\n",
       "      <td>728</td>\n",
       "      <td>1</td>\n",
       "    </tr>\n",
       "    <tr>\n",
       "      <th>88</th>\n",
       "      <td>(England, France)</td>\n",
       "      <td>0.767516</td>\n",
       "      <td>529</td>\n",
       "      <td>2</td>\n",
       "    </tr>\n",
       "    <tr>\n",
       "      <th>11</th>\n",
       "      <td>(rater1, France)</td>\n",
       "      <td>0.732798</td>\n",
       "      <td>405</td>\n",
       "      <td>2</td>\n",
       "    </tr>\n",
       "    <tr>\n",
       "      <th>44</th>\n",
       "      <td>(rater2, France)</td>\n",
       "      <td>0.731883</td>\n",
       "      <td>405</td>\n",
       "      <td>2</td>\n",
       "    </tr>\n",
       "    <tr>\n",
       "      <th>89</th>\n",
       "      <td>(England, Germany)</td>\n",
       "      <td>0.729113</td>\n",
       "      <td>728</td>\n",
       "      <td>1</td>\n",
       "    </tr>\n",
       "    <tr>\n",
       "      <th>12</th>\n",
       "      <td>(rater1, Germany)</td>\n",
       "      <td>0.726277</td>\n",
       "      <td>728</td>\n",
       "      <td>1</td>\n",
       "    </tr>\n",
       "    <tr>\n",
       "      <th>45</th>\n",
       "      <td>(rater2, Germany)</td>\n",
       "      <td>0.724991</td>\n",
       "      <td>728</td>\n",
       "      <td>1</td>\n",
       "    </tr>\n",
       "    <tr>\n",
       "      <th>10</th>\n",
       "      <td>(rater1, England)</td>\n",
       "      <td>0.721450</td>\n",
       "      <td>529</td>\n",
       "      <td>1</td>\n",
       "    </tr>\n",
       "    <tr>\n",
       "      <th>43</th>\n",
       "      <td>(rater2, England)</td>\n",
       "      <td>0.719952</td>\n",
       "      <td>529</td>\n",
       "      <td>1</td>\n",
       "    </tr>\n",
       "    <tr>\n",
       "      <th>2</th>\n",
       "      <td>(rater1, rater2)</td>\n",
       "      <td>0.687370</td>\n",
       "      <td>0</td>\n",
       "      <td>2</td>\n",
       "    </tr>\n",
       "  </tbody>\n",
       "</table>\n",
       "</div>"
      ],
      "text/plain": [
       "              Features  Silhouette  Meme  Meme map type\n",
       "90   (France, Germany)    0.773512   728              1\n",
       "88   (England, France)    0.767516   529              2\n",
       "11    (rater1, France)    0.732798   405              2\n",
       "44    (rater2, France)    0.731883   405              2\n",
       "89  (England, Germany)    0.729113   728              1\n",
       "12   (rater1, Germany)    0.726277   728              1\n",
       "45   (rater2, Germany)    0.724991   728              1\n",
       "10   (rater1, England)    0.721450   529              1\n",
       "43   (rater2, England)    0.719952   529              1\n",
       "2     (rater1, rater2)    0.687370     0              2"
      ]
     },
     "execution_count": 110,
     "metadata": {},
     "output_type": "execute_result"
    }
   ],
   "source": [
    "features_summary_sorted_sil = features_summary.sort_values(by='Silhouette', ascending = False)\n",
    "features_summary_sorted_sil.head(10)"
   ]
  },
  {
   "cell_type": "code",
   "execution_count": 111,
   "metadata": {
    "collapsed": false
   },
   "outputs": [
    {
     "data": {
      "text/html": [
       "<div>\n",
       "<table border=\"1\" class=\"dataframe\">\n",
       "  <thead>\n",
       "    <tr style=\"text-align: right;\">\n",
       "      <th></th>\n",
       "      <th>Features</th>\n",
       "      <th>Silhouette</th>\n",
       "      <th>Meme</th>\n",
       "      <th>Meme map type</th>\n",
       "    </tr>\n",
       "  </thead>\n",
       "  <tbody>\n",
       "    <tr>\n",
       "      <th>2</th>\n",
       "      <td>(rater1, rater2)</td>\n",
       "      <td>0.687370</td>\n",
       "      <td>0</td>\n",
       "      <td>2</td>\n",
       "    </tr>\n",
       "    <tr>\n",
       "      <th>616</th>\n",
       "      <td>(rater1, rater2, goals, France)</td>\n",
       "      <td>0.476151</td>\n",
       "      <td>405</td>\n",
       "      <td>2</td>\n",
       "    </tr>\n",
       "    <tr>\n",
       "      <th>44</th>\n",
       "      <td>(rater2, France)</td>\n",
       "      <td>0.731883</td>\n",
       "      <td>405</td>\n",
       "      <td>2</td>\n",
       "    </tr>\n",
       "    <tr>\n",
       "      <th>122</th>\n",
       "      <td>(rater1, rater2, France)</td>\n",
       "      <td>0.632201</td>\n",
       "      <td>405</td>\n",
       "      <td>1</td>\n",
       "    </tr>\n",
       "    <tr>\n",
       "      <th>11</th>\n",
       "      <td>(rater1, France)</td>\n",
       "      <td>0.732798</td>\n",
       "      <td>405</td>\n",
       "      <td>2</td>\n",
       "    </tr>\n",
       "    <tr>\n",
       "      <th>330</th>\n",
       "      <td>(rater2, goals, France)</td>\n",
       "      <td>0.545473</td>\n",
       "      <td>449</td>\n",
       "      <td>1</td>\n",
       "    </tr>\n",
       "    <tr>\n",
       "      <th>164</th>\n",
       "      <td>(rater1, goals, France)</td>\n",
       "      <td>0.546036</td>\n",
       "      <td>450</td>\n",
       "      <td>1</td>\n",
       "    </tr>\n",
       "    <tr>\n",
       "      <th>120</th>\n",
       "      <td>(rater1, rater2, goals)</td>\n",
       "      <td>0.579725</td>\n",
       "      <td>450</td>\n",
       "      <td>1</td>\n",
       "    </tr>\n",
       "    <tr>\n",
       "      <th>9</th>\n",
       "      <td>(rater1, goals)</td>\n",
       "      <td>0.642202</td>\n",
       "      <td>450</td>\n",
       "      <td>1</td>\n",
       "    </tr>\n",
       "    <tr>\n",
       "      <th>42</th>\n",
       "      <td>(rater2, goals)</td>\n",
       "      <td>0.640856</td>\n",
       "      <td>450</td>\n",
       "      <td>2</td>\n",
       "    </tr>\n",
       "  </tbody>\n",
       "</table>\n",
       "</div>"
      ],
      "text/plain": [
       "                            Features  Silhouette  Meme  Meme map type\n",
       "2                   (rater1, rater2)    0.687370     0              2\n",
       "616  (rater1, rater2, goals, France)    0.476151   405              2\n",
       "44                  (rater2, France)    0.731883   405              2\n",
       "122         (rater1, rater2, France)    0.632201   405              1\n",
       "11                  (rater1, France)    0.732798   405              2\n",
       "330          (rater2, goals, France)    0.545473   449              1\n",
       "164          (rater1, goals, France)    0.546036   450              1\n",
       "120          (rater1, rater2, goals)    0.579725   450              1\n",
       "9                    (rater1, goals)    0.642202   450              1\n",
       "42                   (rater2, goals)    0.640856   450              2"
      ]
     },
     "execution_count": 111,
     "metadata": {},
     "output_type": "execute_result"
    }
   ],
   "source": [
    "features_summary_sorted_meme = features_summary.sort_values(by='Meme', ascending = True)\n",
    "features_summary_sorted_meme.head(10)"
   ]
  },
  {
   "cell_type": "markdown",
   "metadata": {},
   "source": [
    "### Extra: Cluster visualization using PCA dimension reduction"
   ]
  },
  {
   "cell_type": "markdown",
   "metadata": {},
   "source": [
    "Reduced data represents the projection of the data on the 2 directions  with maximal variance as computed by PCA. Why 2? because it is easier in doing the visualization."
   ]
  },
  {
   "cell_type": "code",
   "execution_count": 171,
   "metadata": {
    "collapsed": false
   },
   "outputs": [
    {
     "data": {
      "text/plain": [
       "('rater1', 'rater2', 'goals', 'France')"
      ]
     },
     "execution_count": 171,
     "metadata": {},
     "output_type": "execute_result"
    }
   ],
   "source": [
    "# X_vis can be composed of any features in the players dataframe and they will be reduced\n",
    "# via PCA to 2 dimensions \n",
    "vis_row = 616\n",
    "X_vis = features_summary.loc[vis_row,'Features']\n",
    "X_vis  "
   ]
  },
  {
   "cell_type": "code",
   "execution_count": 172,
   "metadata": {
    "collapsed": false
   },
   "outputs": [
    {
     "name": "stdout",
     "output_type": "stream",
     "text": [
      "(1585, 2)\n"
     ]
    }
   ],
   "source": [
    "from sklearn.decomposition import PCA\n",
    "\n",
    "# pass the matrix containing the features you want to test in fit_transform\n",
    "# NOTE: X represents the best features under the silhouette score in the previous computation \n",
    "reduced_data = PCA(n_components=2).fit_transform(players[list(X_vis)].as_matrix())\n",
    "kmeans_pca = KMeans(init='k-means++', n_clusters=2)\n",
    "kmeans_pca.fit(reduced_data)\n",
    "print(reduced_data.shape)\n",
    "\n",
    "# Step size of the mesh. Decrease to increase the quality of the VQ.\n",
    "h = .02     # point in the mesh [x_min, x_max]x[y_min, y_max].\n",
    "\n",
    "# Plot the decision boundary. For that, we will assign a color to each\n",
    "x_min, x_max = reduced_data[:, 0].min() - 1, reduced_data[:, 0].max() + 1\n",
    "y_min, y_max = reduced_data[:, 1].min() - 1, reduced_data[:, 1].max() + 1\n",
    "xx, yy = np.meshgrid(np.arange(x_min, x_max, h), np.arange(y_min, y_max, h))"
   ]
  },
  {
   "cell_type": "code",
   "execution_count": 173,
   "metadata": {
    "collapsed": false
   },
   "outputs": [],
   "source": [
    "# Obtain labels for each point in mesh. Use last trained model.\n",
    "Z = kmeans_pca.predict(np.c_[xx.ravel(), yy.ravel()])\n",
    "# Put the result into a color plot\n",
    "Z = Z.reshape(xx.shape)"
   ]
  },
  {
   "cell_type": "markdown",
   "metadata": {},
   "source": [
    "Convert the average rating of the players for the chosen set of features into a list to process it easily afterwards"
   ]
  },
  {
   "cell_type": "code",
   "execution_count": 174,
   "metadata": {
    "collapsed": true
   },
   "outputs": [],
   "source": [
    "map_type = features_summary.loc[vis_row,'Meme map type']\n",
    "player_clusters_vis = players[[\"rater1\", \"rater2\"]]\n",
    "labels = pd.Series(kmeans.labels_, index=player_clusters_vis.index)\n",
    "player_clusters_vis = player_clusters_vis.assign(labels=labels.values)\n",
    "player_clusters_vis['average_rating'] = players[[\"rater1\", \"rater2\"]].mean(axis=1)\n",
    "player_clusters_vis.drop(['rater1', 'rater2'], inplace=True, axis=1)\n",
    "\n",
    "# 1) map the average rating to 1 or 0 if it is bigger and equal than 0.5 and respectively < 0.5\n",
    "# 2) map the average rating to 0 or 1 if it is bigger and equal than 0.5 and respectively < 0.5\n",
    "player_clusters_vis['average_rating_opt2'] = \\\n",
    "player_clusters_vis['average_rating'].apply(lambda x: 0 if x >= 0.5 else 1)\n",
    "average_rating = player_clusters_vis['average_rating_opt2'].tolist()\n",
    "if(map_type == 1):\n",
    "    player_clusters_vis['average_rating_opt1'] = \\\n",
    "    player_clusters_vis['average_rating'].apply(lambda x: 1 if x >= 0.5 else 0)\n",
    "    average_rating = player_clusters_vis['average_rating_opt1'].tolist()"
   ]
  },
  {
   "cell_type": "code",
   "execution_count": 175,
   "metadata": {
    "collapsed": false
   },
   "outputs": [
    {
     "name": "stdout",
     "output_type": "stream",
     "text": [
      "Meme score:  451\n",
      "Silhouette score:  0.494297758569\n"
     ]
    }
   ],
   "source": [
    "meme_score_for_reduced_PCA = meme(kmeans_pca.labels_)\n",
    "print(\"Meme score: \", meme_score_for_reduced_PCA[0])\n",
    "silhouette_score_for_reduced_PCA = silhouette_score(players[list(X_vis)], kmeans_pca.labels_)\n",
    "print(\"Silhouette score: \", silhouette_score_for_reduced_PCA)"
   ]
  },
  {
   "cell_type": "markdown",
   "metadata": {},
   "source": [
    "Divide the reduced data into 2 subsets:\n",
    "- reduced data where the corresponding players have an average rating >= 0.5\n",
    "- reduced data where the corresponding players have an average rating < 0.5"
   ]
  },
  {
   "cell_type": "code",
   "execution_count": 176,
   "metadata": {
    "collapsed": false
   },
   "outputs": [
    {
     "data": {
      "text/plain": [
       "True"
      ]
     },
     "execution_count": 176,
     "metadata": {},
     "output_type": "execute_result"
    }
   ],
   "source": [
    "from itertools import compress\n",
    "def restructure_reduced_data(red_data, avg_rating):\n",
    "    index_dark = []\n",
    "    index_light = []\n",
    "    for i in range(len(avg_rating)):\n",
    "        if(avg_rating[i] >= 0.5):\n",
    "            index_dark.append(i)\n",
    "        else:\n",
    "            index_light.append(i)\n",
    "    return red_data[index_dark], red_data[index_light]\n",
    "\n",
    "(reduced_data_dark, reduced_data_light) = restructure_reduced_data(reduced_data, average_rating)\n",
    "\n",
    "# Should be 'True' to make sure the dimensions of the subsets correspond to the dimensions of the original \n",
    "reduced_data_dark.shape[0]+reduced_data_light.shape[0] == reduced_data.shape[0]"
   ]
  },
  {
   "cell_type": "code",
   "execution_count": 177,
   "metadata": {
    "collapsed": false
   },
   "outputs": [
    {
     "name": "stdout",
     "output_type": "stream",
     "text": [
      "[[ 1.15187114  0.18211956]\n",
      " [-0.13113361 -0.02073322]]\n"
     ]
    },
    {
     "data": {
      "image/png": "[encoded data removed]",
      "text/plain": [
       "<matplotlib.figure.Figure at 0x7f12385527b8>"
      ]
     },
     "metadata": {},
     "output_type": "display_data"
    }
   ],
   "source": [
    "plt.figure(1)\n",
    "plt.clf()\n",
    "plt.imshow(Z, interpolation='nearest',\n",
    "           extent=(xx.min(), xx.max(), yy.min(), yy.max()),\n",
    "           cmap=plt.cm.Paired,\n",
    "           aspect='auto', origin='lower')\n",
    "\n",
    "plt.plot(reduced_data_dark[:, 0], reduced_data_dark[:, 1], 'k.', markersize=2)\n",
    "plt.plot(reduced_data_light[:, 0], reduced_data_light[:, 1], 'w.', markersize=2)\n",
    "\n",
    "# Plot the centroids as a white X\n",
    "centroids = kmeans_pca.cluster_centers_\n",
    "print(centroids)\n",
    "plt.scatter(centroids[:, 0], centroids[:, 1],\n",
    "            marker='x', s=169, linewidths=3,\n",
    "            color='m', zorder=10)\n",
    "plt.title('K-means clustering on the players dataset (PCA-reduced data)\\n'\n",
    "          'Centroids are marked with purple cross')\n",
    "plt.xlim(x_min, x_max)\n",
    "plt.ylim(y_min, y_max)\n",
    "plt.xticks(())\n",
    "plt.yticks(())\n",
    "plt.show()"
   ]
  },
  {
   "cell_type": "code",
   "execution_count": null,
   "metadata": {
    "collapsed": true
   },
   "outputs": [],
   "source": []
  }
 ],
 "metadata": {
  "anaconda-cloud": {},
  "kernelspec": {
   "display_name": "Python [Root]",
   "language": "python",
   "name": "Python [Root]"
  },
  "language_info": {
   "codemirror_mode": {
    "name": "ipython",
    "version": 3
   },
   "file_extension": ".py",
   "mimetype": "text/x-python",
   "name": "python",
   "nbconvert_exporter": "python",
   "pygments_lexer": "ipython3",
   "version": "3.5.2"
  }
 },
 "nbformat": 4,
 "nbformat_minor": 0
}

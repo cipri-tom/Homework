{
 "cells": [
  {
   "cell_type": "markdown",
   "metadata": {},
   "source": [
    "# Homework 4: machine learning"
   ]
  },
  {
   "cell_type": "markdown",
   "metadata": {},
   "source": [
    "## Part 1: data processing"
   ]
  },
  {
   "cell_type": "code",
   "execution_count": null,
   "metadata": {
    "collapsed": true
   },
   "outputs": [],
   "source": [
    "import pandas as pd\n",
    "import numpy as np\n",
    "import os\n",
    "import matplotlib.pyplot as plt\n",
    "from sklearn.ensemble import RandomForestClassifier\n",
    "from sklearn import preprocessing"
   ]
  },
  {
   "cell_type": "code",
   "execution_count": null,
   "metadata": {
    "collapsed": false
   },
   "outputs": [],
   "source": [
    "dyads = pd.read_csv(\"CrowdstormingDataJuly1st.csv\", index_col=0)\n",
    "dyads = dyads[dyads['rater1'].isnull() == False]\n",
    "print(dyads.shape)\n",
    "dyads.head()"
   ]
  },
  {
   "cell_type": "code",
   "execution_count": null,
   "metadata": {
    "collapsed": false
   },
   "outputs": [],
   "source": [
    "group_players = dyads.groupby(['player'])\n",
    "\n",
    "players = group_players.agg({'games':'sum', 'victories':'sum', #'club':'first','leagueCountry':'first',\n",
    "                       'defeats':'sum', 'ties': 'sum', 'goals':'sum', 'redCards':'sum', 'yellowCards':'sum'})\n",
    "print(players.shape)\n",
    "players.head()\n",
    "# normalize data? example victories as a %"
   ]
  },
  {
   "cell_type": "code",
   "execution_count": null,
   "metadata": {
    "collapsed": false
   },
   "outputs": [],
   "source": [
    "le = preprocessing.LabelEncoder()\n",
    "# transform categorical data into numerical values\n",
    "categorical_values = ['club', 'leagueCountry', 'position']\n",
    "for name in categorical_values:\n",
    "    categorie = group_players.agg({name:'first'})\n",
    "    le.fit(categorie.as_matrix().flatten().tolist())\n",
    "    players[name] = le.transform(categorie.as_matrix().flatten().tolist())\n",
    "\n",
    "players.head()"
   ]
  },
  {
   "cell_type": "code",
   "execution_count": null,
   "metadata": {
    "collapsed": false
   },
   "outputs": [],
   "source": [
    "skin_color = dyads.groupby(['player'])\n",
    "skin_color = skin_color.agg({'rater1' : 'first'})\n",
    "skin_color.head()"
   ]
  },
  {
   "cell_type": "code",
   "execution_count": null,
   "metadata": {
    "collapsed": false
   },
   "outputs": [],
   "source": [
    "X = players.as_matrix().tolist()\n",
    "Y = skin_color.as_matrix().flatten().tolist()\n",
    "# map 0.25 to 1 etc\n",
    "Y = list(map((lambda x: x*4), Y))"
   ]
  },
  {
   "cell_type": "code",
   "execution_count": null,
   "metadata": {
    "collapsed": true
   },
   "outputs": [],
   "source": [
    "X_train = X[:1000]\n",
    "X_test = X[1000:]\n",
    "Y_train = Y[:1000]\n",
    "Y_test = Y[1000:]"
   ]
  },
  {
   "cell_type": "code",
   "execution_count": null,
   "metadata": {
    "collapsed": true
   },
   "outputs": [],
   "source": [
    "clf = RandomForestClassifier(n_estimators=200)\n",
    "clf = clf.fit(X_train, Y_train)"
   ]
  },
  {
   "cell_type": "code",
   "execution_count": null,
   "metadata": {
    "collapsed": false
   },
   "outputs": [],
   "source": [
    "Y_predict = clf.predict(X_test)\n",
    "print(\"accurancy predictions: \",(Y_test - Y_predict).tolist().count(0) / len(Y_predict))\n",
    "#Y_test - Y_predict"
   ]
  },
  {
   "cell_type": "code",
   "execution_count": null,
   "metadata": {
    "collapsed": true
   },
   "outputs": [],
   "source": []
  }
 ],
 "metadata": {
  "kernelspec": {
   "display_name": "Python [Root]",
   "language": "python",
   "name": "Python [Root]"
  },
  "language_info": {
   "codemirror_mode": {
    "name": "ipython",
    "version": 3
   },
   "file_extension": ".py",
   "mimetype": "text/x-python",
   "name": "python",
   "nbconvert_exporter": "python",
   "pygments_lexer": "ipython3",
   "version": "3.5.2"
  }
 },
 "nbformat": 4,
 "nbformat_minor": 0
}

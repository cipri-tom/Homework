{
 "cells": [
  {
   "cell_type": "markdown",
   "metadata": {},
   "source": [
    "# Homework 4: machine learning"
   ]
  },
  {
   "cell_type": "markdown",
   "metadata": {},
   "source": [
    "---\n",
    "### NOTE: Sometimes we refer to [the original work](http://nbviewer.jupyter.org/github/mathewzilla/redcard/blob/master/Crowdstorming_visualisation.ipynb) \n",
    "\n",
    "---"
   ]
  },
  {
   "cell_type": "code",
   "execution_count": 1,
   "metadata": {
    "collapsed": true
   },
   "outputs": [],
   "source": [
    "%load_ext autoreload\n",
    "%autoreload 2 \n",
    "%matplotlib inline"
   ]
  },
  {
   "cell_type": "markdown",
   "metadata": {},
   "source": [
    "You need to install `scikit v0.18`: `conda update scikit-learn`"
   ]
  },
  {
   "cell_type": "code",
   "execution_count": 2,
   "metadata": {
    "collapsed": false
   },
   "outputs": [],
   "source": [
    "import pandas as pd\n",
    "import numpy as np\n",
    "import os\n",
    "import matplotlib.pyplot as plt\n",
    "from sklearn.ensemble import RandomForestClassifier\n",
    "from sklearn import preprocessing\n",
    "from sklearn.model_selection import cross_val_score, KFold"
   ]
  },
  {
   "cell_type": "markdown",
   "metadata": {},
   "source": [
    "Read and minimal cleanup: for the first part, we need the labels (i.e. colour ratings), so we can't use the points where they don't exist. \n",
    "\n",
    "Since we will later `aggregate` the players, it is **important** to note that this doesn't produce inconsistencies because `dyads` is constructed by a join between a `players` table and a `referees` table, so it is natural that the missing values are missing for all instances of a player."
   ]
  },
  {
   "cell_type": "code",
   "execution_count": 3,
   "metadata": {
    "collapsed": false
   },
   "outputs": [
    {
     "name": "stdout",
     "output_type": "stream",
     "text": [
      "(146028, 27)\n",
      "(124621, 27)\n",
      "0\n"
     ]
    }
   ],
   "source": [
    "dyads = pd.read_csv(\"CrowdstormingDataJuly1st.csv\", index_col=0)\n",
    "print(dyads.shape)\n",
    "\n",
    "dyads.dropna(subset=['rater1'], inplace=True)\n",
    "print(dyads.shape)\n",
    "\n",
    "# since both values are missing at the same time, this should be 0:\n",
    "print(dyads.rater2.isnull().sum())\n",
    "\n",
    "# the groupby object user later on\n",
    "group_players = dyads.groupby(level=0)"
   ]
  },
  {
   "cell_type": "markdown",
   "metadata": {},
   "source": [
    "Let's see the numbers: \n",
    "\n",
    "<sub>yes, they were done by the other guys, but it's useful to have them at hand:</sub>\n",
    "\n",
    "Also, they were excluding some referees that have been _carried over_, and that only removes ~3% of the data. Since we're not doing statistics on referees, we won't drop them. Every little data helps :)"
   ]
  },
  {
   "cell_type": "code",
   "execution_count": 4,
   "metadata": {
    "collapsed": false
   },
   "outputs": [
    {
     "name": "stdout",
     "output_type": "stream",
     "text": [
      "Number of players:  1585\n",
      "Number of referees:  2978\n"
     ]
    }
   ],
   "source": [
    "print(\"Number of players: \" , dyads.index.unique().size)\n",
    "print(\"Number of referees: \", dyads.refNum.unique().size)"
   ]
  },
  {
   "cell_type": "markdown",
   "metadata": {},
   "source": [
    "The original analysis mentioned that \"*the two raters disagree on 28742 or 19% of the time*\". Since there are only 1585 players, it means they ran it on the `dyads` set. _**WHY?**_ That doesn't make sense, so let's just check that the ratings for each player are consistent:"
   ]
  },
  {
   "cell_type": "markdown",
   "metadata": {},
   "source": [
    "for the group of each player, we check that the number of values in `raterX` is **exactly** one:"
   ]
  },
  {
   "cell_type": "code",
   "execution_count": 5,
   "metadata": {
    "collapsed": false
   },
   "outputs": [
    {
     "name": "stdout",
     "output_type": "stream",
     "text": [
      "Rater1 has been inconsistent 0 times\n",
      "Rater2 has been inconsistent 0 times\n"
     ]
    }
   ],
   "source": [
    "def build_player_consitency(player_df):\n",
    "    \"\"\" Needs to return a Series of {col_name: col_value}. \"\"\"\n",
    "    return pd.Series({col+\"_INconsistent\" : (player_df[col].unique().size != 1) \n",
    "                                             for col in ['rater1', 'rater2'] })\n",
    "consistency = group_players.apply(build_player_consitency)\n",
    "print(\"Rater1 has been inconsistent %d times\" % consistency.rater1_INconsistent.sum())\n",
    "print(\"Rater2 has been inconsistent %d times\" % consistency.rater2_INconsistent.sum())"
   ]
  },
  {
   "cell_type": "markdown",
   "metadata": {},
   "source": [
    "OK, so they _ARE_ consistent. This means that their statistic doesn't account for players who have more matches than others, so the numbers are skewed. Let's check again, this time on _unique_ players"
   ]
  },
  {
   "cell_type": "code",
   "execution_count": 6,
   "metadata": {
    "collapsed": false
   },
   "outputs": [
    {
     "name": "stdout",
     "output_type": "stream",
     "text": [
      "The raters disagree for 0.239% of the players\n",
      "Diffs std dev:  0.11594303556667578\n",
      "Max disagreement value 2.0, occuring 2 times\n"
     ]
    }
   ],
   "source": [
    "player_ratings = group_players.agg({'rater1':'first', 'rater2':'first'})\n",
    "diffs = player_ratings.rater1 - player_ratings.rater2\n",
    "print(\"The raters disagree for {p:.3f}% of the players\".format(p=(diffs != 0).sum() / len(diffs) ))\n",
    "\n",
    "print(\"Diffs std dev: \", diffs.std())\n",
    "\n",
    "max_diff = diffs.abs().max()\n",
    "num_occur = (diffs.abs() == max_diff).sum()\n",
    "print(\"Max disagreement value {0}, occuring {1} times\".format(max_diff * 4, num_occur)) # *4 to pass from float to int"
   ]
  },
  {
   "cell_type": "markdown",
   "metadata": {},
   "source": [
    "So this means:\n",
    "  1. that there is slightly more agreement between the raters for players who have more entries in `dyads` i.e. who played under more referees\n",
    "  2. that if we use both labels, using `accuracy` as a measure of performance is not a very good idea. Keep in mind that the differences are not ordered, so it could have an impact double as big on the accuracy, i.e. at most $1 - 2 * \\mathit{disagreementPercentage} = 1 - 2 * 0.24 \\approx 0.5 $"
   ]
  },
  {
   "cell_type": "markdown",
   "metadata": {},
   "source": [
    "#### Curiosity\n",
    "Who are the 'controversial' guys :) ?"
   ]
  },
  {
   "cell_type": "code",
   "execution_count": 7,
   "metadata": {
    "collapsed": false
   },
   "outputs": [
    {
     "data": {
      "text/plain": [
       "playerShort\n",
       "kyle-walker    -0.5\n",
       "mario-goetze   -0.5\n",
       "dtype: float64"
      ]
     },
     "execution_count": 7,
     "metadata": {},
     "output_type": "execute_result"
    }
   ],
   "source": [
    "diffs[diffs.abs() == max_diff]"
   ]
  },
  {
   "cell_type": "markdown",
   "metadata": {},
   "source": [
    "<img style='float:left' alt='Kyle-walker' src='http://www.thefootballsocial.co.uk/images/players/Tottenham%20Hotspur/Kyle%20Walker.jpg' /> <img alt='Mario_Goetze' src='http://i0.web.de/image/176/31756176,pd=2/mario-goetze.jpg' width=300/>"
   ]
  },
  {
   "cell_type": "markdown",
   "metadata": {},
   "source": [
    "## Feature selection"
   ]
  },
  {
   "cell_type": "code",
   "execution_count": 8,
   "metadata": {
    "collapsed": false
   },
   "outputs": [
    {
     "data": {
      "text/plain": [
       "Index(['player', 'club', 'leagueCountry', 'birthday', 'height', 'weight',\n",
       "       'position', 'games', 'victories', 'ties', 'defeats', 'goals',\n",
       "       'yellowCards', 'yellowReds', 'redCards', 'photoID', 'rater1', 'rater2',\n",
       "       'refNum', 'refCountry', 'Alpha_3', 'meanIAT', 'nIAT', 'seIAT',\n",
       "       'meanExp', 'nExp', 'seExp'],\n",
       "      dtype='object')"
      ]
     },
     "execution_count": 8,
     "metadata": {},
     "output_type": "execute_result"
    }
   ],
   "source": [
    "dyads.columns"
   ]
  },
  {
   "cell_type": "markdown",
   "metadata": {},
   "source": [
    "### Aggregation"
   ]
  },
  {
   "cell_type": "markdown",
   "metadata": {},
   "source": [
    "Here's how we aggregate the data for each player:\n",
    "<table>\n",
    "<tr><th>Variable</th><th>Method</th><th>Fill NA</th></tr>\n",
    "<tr><td>`height`, `weight`</td><td>first</td><td>average</td></tr>\n",
    "<tr><td>`games`</td><td>sum</td></tr>\n",
    "<tr><td>`goals`</td><td>sum ; percentage in games</td></tr>\n",
    "<tr><td>`victories`, `ties`, `defeats`</td><td>sum ; percentage in games</td></tr>\n",
    "<tr><td>`redCards`, `yellowCards`, `yellowReds`</td><td>sum ; percentage in games</td></tr>\n",
    "</table>\n"
   ]
  },
  {
   "cell_type": "code",
   "execution_count": 9,
   "metadata": {
    "collapsed": false
   },
   "outputs": [
    {
     "name": "stdout",
     "output_type": "stream",
     "text": [
      "(1585, 10)\n"
     ]
    },
    {
     "data": {
      "text/html": [
       "<div>\n",
       "<table border=\"1\" class=\"dataframe\">\n",
       "  <thead>\n",
       "    <tr style=\"text-align: right;\">\n",
       "      <th></th>\n",
       "      <th>height</th>\n",
       "      <th>defeats</th>\n",
       "      <th>victories</th>\n",
       "      <th>weight</th>\n",
       "      <th>goals</th>\n",
       "      <th>games</th>\n",
       "      <th>yellowReds</th>\n",
       "      <th>ties</th>\n",
       "      <th>yellowCards</th>\n",
       "      <th>redCards</th>\n",
       "    </tr>\n",
       "    <tr>\n",
       "      <th>playerShort</th>\n",
       "      <th></th>\n",
       "      <th></th>\n",
       "      <th></th>\n",
       "      <th></th>\n",
       "      <th></th>\n",
       "      <th></th>\n",
       "      <th></th>\n",
       "      <th></th>\n",
       "      <th></th>\n",
       "      <th></th>\n",
       "    </tr>\n",
       "  </thead>\n",
       "  <tbody>\n",
       "    <tr>\n",
       "      <th>aaron-hughes</th>\n",
       "      <td>182.0</td>\n",
       "      <td>228</td>\n",
       "      <td>247</td>\n",
       "      <td>71.0</td>\n",
       "      <td>9</td>\n",
       "      <td>654</td>\n",
       "      <td>0</td>\n",
       "      <td>179</td>\n",
       "      <td>19</td>\n",
       "      <td>0</td>\n",
       "    </tr>\n",
       "    <tr>\n",
       "      <th>aaron-hunt</th>\n",
       "      <td>183.0</td>\n",
       "      <td>122</td>\n",
       "      <td>141</td>\n",
       "      <td>73.0</td>\n",
       "      <td>62</td>\n",
       "      <td>336</td>\n",
       "      <td>0</td>\n",
       "      <td>73</td>\n",
       "      <td>42</td>\n",
       "      <td>1</td>\n",
       "    </tr>\n",
       "    <tr>\n",
       "      <th>aaron-lennon</th>\n",
       "      <td>165.0</td>\n",
       "      <td>115</td>\n",
       "      <td>200</td>\n",
       "      <td>63.0</td>\n",
       "      <td>31</td>\n",
       "      <td>412</td>\n",
       "      <td>0</td>\n",
       "      <td>97</td>\n",
       "      <td>11</td>\n",
       "      <td>0</td>\n",
       "    </tr>\n",
       "    <tr>\n",
       "      <th>aaron-ramsey</th>\n",
       "      <td>178.0</td>\n",
       "      <td>68</td>\n",
       "      <td>150</td>\n",
       "      <td>76.0</td>\n",
       "      <td>39</td>\n",
       "      <td>260</td>\n",
       "      <td>0</td>\n",
       "      <td>42</td>\n",
       "      <td>31</td>\n",
       "      <td>1</td>\n",
       "    </tr>\n",
       "    <tr>\n",
       "      <th>abdelhamid-el-kaoutari</th>\n",
       "      <td>180.0</td>\n",
       "      <td>43</td>\n",
       "      <td>41</td>\n",
       "      <td>73.0</td>\n",
       "      <td>1</td>\n",
       "      <td>124</td>\n",
       "      <td>4</td>\n",
       "      <td>40</td>\n",
       "      <td>8</td>\n",
       "      <td>2</td>\n",
       "    </tr>\n",
       "  </tbody>\n",
       "</table>\n",
       "</div>"
      ],
      "text/plain": [
       "                        height  defeats  victories  weight  goals  games  \\\n",
       "playerShort                                                                \n",
       "aaron-hughes             182.0      228        247    71.0      9    654   \n",
       "aaron-hunt               183.0      122        141    73.0     62    336   \n",
       "aaron-lennon             165.0      115        200    63.0     31    412   \n",
       "aaron-ramsey             178.0       68        150    76.0     39    260   \n",
       "abdelhamid-el-kaoutari   180.0       43         41    73.0      1    124   \n",
       "\n",
       "                        yellowReds  ties  yellowCards  redCards  \n",
       "playerShort                                                      \n",
       "aaron-hughes                     0   179           19         0  \n",
       "aaron-hunt                       0    73           42         1  \n",
       "aaron-lennon                     0    97           11         0  \n",
       "aaron-ramsey                     0    42           31         1  \n",
       "abdelhamid-el-kaoutari           4    40            8         2  "
      ]
     },
     "execution_count": 9,
     "metadata": {},
     "output_type": "execute_result"
    }
   ],
   "source": [
    "players = group_players.agg({'height':'first', 'weight':'first', 'games':'sum', \n",
    "                             'victories':'sum','defeats':'sum', 'ties': 'sum', 'goals':'sum', \n",
    "                             'redCards':'sum', 'yellowReds': 'sum', 'yellowCards':'sum'})\n",
    "\n",
    "# fill by average\n",
    "av_height = players['height'].mean()\n",
    "av_weight = players['weight'].mean()\n",
    "players['height'].fillna(value=av_height, inplace=True)\n",
    "players['weight'].fillna(value=av_weight, inplace=True)\n",
    "\n",
    "print(players.shape)\n",
    "players.head()"
   ]
  },
  {
   "cell_type": "markdown",
   "metadata": {},
   "source": [
    "Although the original study shows there is little information in the EAT, IAT variables, we choose to use everything for now, and let the algorithm decide what's important or not.\n",
    "\n",
    "If these values were to have any relevance, we'd expect them to be correlated with the number of cards a player gets: the higher the values, the more cards they'd get if they're darker in colour. So we add that correlation as a feature: i.e. the higher the correlation, the bigger the probability is they've a dark skin\n"
   ]
  },
  {
   "cell_type": "code",
   "execution_count": 10,
   "metadata": {
    "collapsed": false
   },
   "outputs": [],
   "source": [
    "c = group_players.corr()"
   ]
  },
  {
   "cell_type": "code",
   "execution_count": 11,
   "metadata": {
    "collapsed": false
   },
   "outputs": [
    {
     "data": {
      "text/html": [
       "<div>\n",
       "<table border=\"1\" class=\"dataframe\">\n",
       "  <thead>\n",
       "    <tr style=\"text-align: right;\">\n",
       "      <th></th>\n",
       "      <th>height</th>\n",
       "      <th>defeats</th>\n",
       "      <th>victories</th>\n",
       "      <th>weight</th>\n",
       "      <th>goals</th>\n",
       "      <th>games</th>\n",
       "      <th>yellowReds</th>\n",
       "      <th>ties</th>\n",
       "      <th>yellowCards</th>\n",
       "      <th>redCards</th>\n",
       "      <th>cor_meanIATredCards</th>\n",
       "      <th>cor_meanIATyellowCards</th>\n",
       "      <th>cor_meanIATyellowReds</th>\n",
       "      <th>cor_meanExpredCards</th>\n",
       "      <th>cor_meanExpyellowCards</th>\n",
       "      <th>cor_meanExpyellowReds</th>\n",
       "    </tr>\n",
       "    <tr>\n",
       "      <th>playerShort</th>\n",
       "      <th></th>\n",
       "      <th></th>\n",
       "      <th></th>\n",
       "      <th></th>\n",
       "      <th></th>\n",
       "      <th></th>\n",
       "      <th></th>\n",
       "      <th></th>\n",
       "      <th></th>\n",
       "      <th></th>\n",
       "      <th></th>\n",
       "      <th></th>\n",
       "      <th></th>\n",
       "      <th></th>\n",
       "      <th></th>\n",
       "      <th></th>\n",
       "    </tr>\n",
       "  </thead>\n",
       "  <tbody>\n",
       "    <tr>\n",
       "      <th>aaron-hughes</th>\n",
       "      <td>182.0</td>\n",
       "      <td>228</td>\n",
       "      <td>247</td>\n",
       "      <td>71.0</td>\n",
       "      <td>9</td>\n",
       "      <td>654</td>\n",
       "      <td>0</td>\n",
       "      <td>179</td>\n",
       "      <td>19</td>\n",
       "      <td>0</td>\n",
       "      <td>0.000000</td>\n",
       "      <td>-0.084032</td>\n",
       "      <td>0.000000</td>\n",
       "      <td>0.000000</td>\n",
       "      <td>-0.082210</td>\n",
       "      <td>0.000000</td>\n",
       "    </tr>\n",
       "    <tr>\n",
       "      <th>aaron-hunt</th>\n",
       "      <td>183.0</td>\n",
       "      <td>122</td>\n",
       "      <td>141</td>\n",
       "      <td>73.0</td>\n",
       "      <td>62</td>\n",
       "      <td>336</td>\n",
       "      <td>0</td>\n",
       "      <td>73</td>\n",
       "      <td>42</td>\n",
       "      <td>1</td>\n",
       "      <td>-0.055174</td>\n",
       "      <td>-0.162927</td>\n",
       "      <td>0.000000</td>\n",
       "      <td>-0.066079</td>\n",
       "      <td>-0.197755</td>\n",
       "      <td>0.000000</td>\n",
       "    </tr>\n",
       "    <tr>\n",
       "      <th>aaron-lennon</th>\n",
       "      <td>165.0</td>\n",
       "      <td>115</td>\n",
       "      <td>200</td>\n",
       "      <td>63.0</td>\n",
       "      <td>31</td>\n",
       "      <td>412</td>\n",
       "      <td>0</td>\n",
       "      <td>97</td>\n",
       "      <td>11</td>\n",
       "      <td>0</td>\n",
       "      <td>0.000000</td>\n",
       "      <td>-0.156448</td>\n",
       "      <td>0.000000</td>\n",
       "      <td>0.000000</td>\n",
       "      <td>-0.127625</td>\n",
       "      <td>0.000000</td>\n",
       "    </tr>\n",
       "    <tr>\n",
       "      <th>aaron-ramsey</th>\n",
       "      <td>178.0</td>\n",
       "      <td>68</td>\n",
       "      <td>150</td>\n",
       "      <td>76.0</td>\n",
       "      <td>39</td>\n",
       "      <td>260</td>\n",
       "      <td>0</td>\n",
       "      <td>42</td>\n",
       "      <td>31</td>\n",
       "      <td>1</td>\n",
       "      <td>-0.037021</td>\n",
       "      <td>-0.135808</td>\n",
       "      <td>0.000000</td>\n",
       "      <td>-0.071047</td>\n",
       "      <td>-0.161982</td>\n",
       "      <td>0.000000</td>\n",
       "    </tr>\n",
       "    <tr>\n",
       "      <th>abdelhamid-el-kaoutari</th>\n",
       "      <td>180.0</td>\n",
       "      <td>43</td>\n",
       "      <td>41</td>\n",
       "      <td>73.0</td>\n",
       "      <td>1</td>\n",
       "      <td>124</td>\n",
       "      <td>4</td>\n",
       "      <td>40</td>\n",
       "      <td>8</td>\n",
       "      <td>2</td>\n",
       "      <td>0.016348</td>\n",
       "      <td>0.035919</td>\n",
       "      <td>0.059003</td>\n",
       "      <td>0.000514</td>\n",
       "      <td>0.001129</td>\n",
       "      <td>0.040668</td>\n",
       "    </tr>\n",
       "  </tbody>\n",
       "</table>\n",
       "</div>"
      ],
      "text/plain": [
       "                        height  defeats  victories  weight  goals  games  \\\n",
       "playerShort                                                                \n",
       "aaron-hughes             182.0      228        247    71.0      9    654   \n",
       "aaron-hunt               183.0      122        141    73.0     62    336   \n",
       "aaron-lennon             165.0      115        200    63.0     31    412   \n",
       "aaron-ramsey             178.0       68        150    76.0     39    260   \n",
       "abdelhamid-el-kaoutari   180.0       43         41    73.0      1    124   \n",
       "\n",
       "                        yellowReds  ties  yellowCards  redCards  \\\n",
       "playerShort                                                       \n",
       "aaron-hughes                     0   179           19         0   \n",
       "aaron-hunt                       0    73           42         1   \n",
       "aaron-lennon                     0    97           11         0   \n",
       "aaron-ramsey                     0    42           31         1   \n",
       "abdelhamid-el-kaoutari           4    40            8         2   \n",
       "\n",
       "                        cor_meanIATredCards  cor_meanIATyellowCards  \\\n",
       "playerShort                                                           \n",
       "aaron-hughes                       0.000000               -0.084032   \n",
       "aaron-hunt                        -0.055174               -0.162927   \n",
       "aaron-lennon                       0.000000               -0.156448   \n",
       "aaron-ramsey                      -0.037021               -0.135808   \n",
       "abdelhamid-el-kaoutari             0.016348                0.035919   \n",
       "\n",
       "                        cor_meanIATyellowReds  cor_meanExpredCards  \\\n",
       "playerShort                                                          \n",
       "aaron-hughes                         0.000000             0.000000   \n",
       "aaron-hunt                           0.000000            -0.066079   \n",
       "aaron-lennon                         0.000000             0.000000   \n",
       "aaron-ramsey                         0.000000            -0.071047   \n",
       "abdelhamid-el-kaoutari               0.059003             0.000514   \n",
       "\n",
       "                        cor_meanExpyellowCards  cor_meanExpyellowReds  \n",
       "playerShort                                                            \n",
       "aaron-hughes                         -0.082210               0.000000  \n",
       "aaron-hunt                           -0.197755               0.000000  \n",
       "aaron-lennon                         -0.127625               0.000000  \n",
       "aaron-ramsey                         -0.161982               0.000000  \n",
       "abdelhamid-el-kaoutari                0.001129               0.040668  "
      ]
     },
     "execution_count": 11,
     "metadata": {},
     "output_type": "execute_result"
    }
   ],
   "source": [
    "for racism in ['meanIAT', 'meanExp']:\n",
    "    for card in ['redCards', 'yellowCards', 'yellowReds']:\n",
    "        a = c.loc[c.index.get_level_values(1)==racism, card].reset_index(level=1).fillna(value=0)\n",
    "        players['cor_'+racism+card] = a[card]\n",
    "players.head()"
   ]
  },
  {
   "cell_type": "markdown",
   "metadata": {},
   "source": [
    "### Normalisation\n",
    "\n",
    "First, we create extra features by normalizing to the number of games (always $\\neq 0$).\n",
    "\n",
    "Then we normalise all features"
   ]
  },
  {
   "cell_type": "code",
   "execution_count": 12,
   "metadata": {
    "collapsed": false
   },
   "outputs": [
    {
     "data": {
      "text/plain": [
       "0"
      ]
     },
     "execution_count": 12,
     "metadata": {},
     "output_type": "execute_result"
    }
   ],
   "source": [
    "(players.games == 0).sum()"
   ]
  },
  {
   "cell_type": "code",
   "execution_count": 13,
   "metadata": {
    "collapsed": false
   },
   "outputs": [
    {
     "data": {
      "text/html": [
       "<div>\n",
       "<table border=\"1\" class=\"dataframe\">\n",
       "  <thead>\n",
       "    <tr style=\"text-align: right;\">\n",
       "      <th></th>\n",
       "      <th>height</th>\n",
       "      <th>defeats</th>\n",
       "      <th>victories</th>\n",
       "      <th>weight</th>\n",
       "      <th>goals</th>\n",
       "      <th>games</th>\n",
       "      <th>yellowReds</th>\n",
       "      <th>ties</th>\n",
       "      <th>yellowCards</th>\n",
       "      <th>redCards</th>\n",
       "      <th>...</th>\n",
       "      <th>cor_meanIATyellowReds</th>\n",
       "      <th>cor_meanExpredCards</th>\n",
       "      <th>cor_meanExpyellowCards</th>\n",
       "      <th>cor_meanExpyellowReds</th>\n",
       "      <th>percentage_victories</th>\n",
       "      <th>percentage_ties</th>\n",
       "      <th>percentage_defeats</th>\n",
       "      <th>percentage_redCards</th>\n",
       "      <th>percentage_yellowReds</th>\n",
       "      <th>percentage_yellowCards</th>\n",
       "    </tr>\n",
       "    <tr>\n",
       "      <th>playerShort</th>\n",
       "      <th></th>\n",
       "      <th></th>\n",
       "      <th></th>\n",
       "      <th></th>\n",
       "      <th></th>\n",
       "      <th></th>\n",
       "      <th></th>\n",
       "      <th></th>\n",
       "      <th></th>\n",
       "      <th></th>\n",
       "      <th></th>\n",
       "      <th></th>\n",
       "      <th></th>\n",
       "      <th></th>\n",
       "      <th></th>\n",
       "      <th></th>\n",
       "      <th></th>\n",
       "      <th></th>\n",
       "      <th></th>\n",
       "      <th></th>\n",
       "      <th></th>\n",
       "    </tr>\n",
       "  </thead>\n",
       "  <tbody>\n",
       "    <tr>\n",
       "      <th>aaron-hughes</th>\n",
       "      <td>182.0</td>\n",
       "      <td>228</td>\n",
       "      <td>247</td>\n",
       "      <td>71.0</td>\n",
       "      <td>9</td>\n",
       "      <td>654</td>\n",
       "      <td>0</td>\n",
       "      <td>179</td>\n",
       "      <td>19</td>\n",
       "      <td>0</td>\n",
       "      <td>...</td>\n",
       "      <td>0.000000</td>\n",
       "      <td>0.000000</td>\n",
       "      <td>-0.082210</td>\n",
       "      <td>0.000000</td>\n",
       "      <td>0.377676</td>\n",
       "      <td>0.273700</td>\n",
       "      <td>0.348624</td>\n",
       "      <td>0.000000</td>\n",
       "      <td>0.000000</td>\n",
       "      <td>0.029052</td>\n",
       "    </tr>\n",
       "    <tr>\n",
       "      <th>aaron-hunt</th>\n",
       "      <td>183.0</td>\n",
       "      <td>122</td>\n",
       "      <td>141</td>\n",
       "      <td>73.0</td>\n",
       "      <td>62</td>\n",
       "      <td>336</td>\n",
       "      <td>0</td>\n",
       "      <td>73</td>\n",
       "      <td>42</td>\n",
       "      <td>1</td>\n",
       "      <td>...</td>\n",
       "      <td>0.000000</td>\n",
       "      <td>-0.066079</td>\n",
       "      <td>-0.197755</td>\n",
       "      <td>0.000000</td>\n",
       "      <td>0.419643</td>\n",
       "      <td>0.217262</td>\n",
       "      <td>0.363095</td>\n",
       "      <td>0.002976</td>\n",
       "      <td>0.000000</td>\n",
       "      <td>0.125000</td>\n",
       "    </tr>\n",
       "    <tr>\n",
       "      <th>aaron-lennon</th>\n",
       "      <td>165.0</td>\n",
       "      <td>115</td>\n",
       "      <td>200</td>\n",
       "      <td>63.0</td>\n",
       "      <td>31</td>\n",
       "      <td>412</td>\n",
       "      <td>0</td>\n",
       "      <td>97</td>\n",
       "      <td>11</td>\n",
       "      <td>0</td>\n",
       "      <td>...</td>\n",
       "      <td>0.000000</td>\n",
       "      <td>0.000000</td>\n",
       "      <td>-0.127625</td>\n",
       "      <td>0.000000</td>\n",
       "      <td>0.485437</td>\n",
       "      <td>0.235437</td>\n",
       "      <td>0.279126</td>\n",
       "      <td>0.000000</td>\n",
       "      <td>0.000000</td>\n",
       "      <td>0.026699</td>\n",
       "    </tr>\n",
       "    <tr>\n",
       "      <th>aaron-ramsey</th>\n",
       "      <td>178.0</td>\n",
       "      <td>68</td>\n",
       "      <td>150</td>\n",
       "      <td>76.0</td>\n",
       "      <td>39</td>\n",
       "      <td>260</td>\n",
       "      <td>0</td>\n",
       "      <td>42</td>\n",
       "      <td>31</td>\n",
       "      <td>1</td>\n",
       "      <td>...</td>\n",
       "      <td>0.000000</td>\n",
       "      <td>-0.071047</td>\n",
       "      <td>-0.161982</td>\n",
       "      <td>0.000000</td>\n",
       "      <td>0.576923</td>\n",
       "      <td>0.161538</td>\n",
       "      <td>0.261538</td>\n",
       "      <td>0.003846</td>\n",
       "      <td>0.000000</td>\n",
       "      <td>0.119231</td>\n",
       "    </tr>\n",
       "    <tr>\n",
       "      <th>abdelhamid-el-kaoutari</th>\n",
       "      <td>180.0</td>\n",
       "      <td>43</td>\n",
       "      <td>41</td>\n",
       "      <td>73.0</td>\n",
       "      <td>1</td>\n",
       "      <td>124</td>\n",
       "      <td>4</td>\n",
       "      <td>40</td>\n",
       "      <td>8</td>\n",
       "      <td>2</td>\n",
       "      <td>...</td>\n",
       "      <td>0.059003</td>\n",
       "      <td>0.000514</td>\n",
       "      <td>0.001129</td>\n",
       "      <td>0.040668</td>\n",
       "      <td>0.330645</td>\n",
       "      <td>0.322581</td>\n",
       "      <td>0.346774</td>\n",
       "      <td>0.016129</td>\n",
       "      <td>0.032258</td>\n",
       "      <td>0.064516</td>\n",
       "    </tr>\n",
       "  </tbody>\n",
       "</table>\n",
       "<p>5 rows × 22 columns</p>\n",
       "</div>"
      ],
      "text/plain": [
       "                        height  defeats  victories  weight  goals  games  \\\n",
       "playerShort                                                                \n",
       "aaron-hughes             182.0      228        247    71.0      9    654   \n",
       "aaron-hunt               183.0      122        141    73.0     62    336   \n",
       "aaron-lennon             165.0      115        200    63.0     31    412   \n",
       "aaron-ramsey             178.0       68        150    76.0     39    260   \n",
       "abdelhamid-el-kaoutari   180.0       43         41    73.0      1    124   \n",
       "\n",
       "                        yellowReds  ties  yellowCards  redCards  \\\n",
       "playerShort                                                       \n",
       "aaron-hughes                     0   179           19         0   \n",
       "aaron-hunt                       0    73           42         1   \n",
       "aaron-lennon                     0    97           11         0   \n",
       "aaron-ramsey                     0    42           31         1   \n",
       "abdelhamid-el-kaoutari           4    40            8         2   \n",
       "\n",
       "                                 ...            cor_meanIATyellowReds  \\\n",
       "playerShort                      ...                                    \n",
       "aaron-hughes                     ...                         0.000000   \n",
       "aaron-hunt                       ...                         0.000000   \n",
       "aaron-lennon                     ...                         0.000000   \n",
       "aaron-ramsey                     ...                         0.000000   \n",
       "abdelhamid-el-kaoutari           ...                         0.059003   \n",
       "\n",
       "                        cor_meanExpredCards  cor_meanExpyellowCards  \\\n",
       "playerShort                                                           \n",
       "aaron-hughes                       0.000000               -0.082210   \n",
       "aaron-hunt                        -0.066079               -0.197755   \n",
       "aaron-lennon                       0.000000               -0.127625   \n",
       "aaron-ramsey                      -0.071047               -0.161982   \n",
       "abdelhamid-el-kaoutari             0.000514                0.001129   \n",
       "\n",
       "                        cor_meanExpyellowReds  percentage_victories  \\\n",
       "playerShort                                                           \n",
       "aaron-hughes                         0.000000              0.377676   \n",
       "aaron-hunt                           0.000000              0.419643   \n",
       "aaron-lennon                         0.000000              0.485437   \n",
       "aaron-ramsey                         0.000000              0.576923   \n",
       "abdelhamid-el-kaoutari               0.040668              0.330645   \n",
       "\n",
       "                        percentage_ties  percentage_defeats  \\\n",
       "playerShort                                                   \n",
       "aaron-hughes                   0.273700            0.348624   \n",
       "aaron-hunt                     0.217262            0.363095   \n",
       "aaron-lennon                   0.235437            0.279126   \n",
       "aaron-ramsey                   0.161538            0.261538   \n",
       "abdelhamid-el-kaoutari         0.322581            0.346774   \n",
       "\n",
       "                        percentage_redCards  percentage_yellowReds  \\\n",
       "playerShort                                                          \n",
       "aaron-hughes                       0.000000               0.000000   \n",
       "aaron-hunt                         0.002976               0.000000   \n",
       "aaron-lennon                       0.000000               0.000000   \n",
       "aaron-ramsey                       0.003846               0.000000   \n",
       "abdelhamid-el-kaoutari             0.016129               0.032258   \n",
       "\n",
       "                        percentage_yellowCards  \n",
       "playerShort                                     \n",
       "aaron-hughes                          0.029052  \n",
       "aaron-hunt                            0.125000  \n",
       "aaron-lennon                          0.026699  \n",
       "aaron-ramsey                          0.119231  \n",
       "abdelhamid-el-kaoutari                0.064516  \n",
       "\n",
       "[5 rows x 22 columns]"
      ]
     },
     "execution_count": 13,
     "metadata": {},
     "output_type": "execute_result"
    }
   ],
   "source": [
    "percentage_features = ['victories', 'ties', 'defeats', 'redCards', 'yellowReds', 'yellowCards']\n",
    "for feature in percentage_features:\n",
    "    players['percentage_'+feature] = players[feature] / players['games']\n",
    "players.head()"
   ]
  },
  {
   "cell_type": "markdown",
   "metadata": {},
   "source": [
    "Whiten the data (0 mean, unit variance):"
   ]
  },
  {
   "cell_type": "code",
   "execution_count": 16,
   "metadata": {
    "collapsed": false
   },
   "outputs": [],
   "source": [
    "players = (players - players.mean()) / players.std()"
   ]
  },
  {
   "cell_type": "markdown",
   "metadata": {},
   "source": [
    "### Categorisation"
   ]
  },
  {
   "cell_type": "markdown",
   "metadata": {},
   "source": [
    "There are different views about categorical features (strings) since `sklearn` treats them as numbers. The best practice is to `one-hot encode` them but many argue that simply putting them to integer values doesn't affect the results as much. See [the discussion on the mailing list](https://www.mail-archive.com/search?l=scikit-learn-general%40lists.sourceforge.net&q=subject%3A%22Re%5C%3A+%5C%5BScikit%5C-learn%5C-general%5C%5D+Random+Forest+with+a+mix+of+categorical+and+lexical+features%22&o=newest&f=1)\n",
    "\n",
    "We will follow the best practice and binarise them, since there are not that many values\n",
    "\n",
    "---"
   ]
  },
  {
   "cell_type": "markdown",
   "metadata": {},
   "source": [
    "Is is safe to keep the first values for `club`, `position` ?"
   ]
  },
  {
   "cell_type": "code",
   "execution_count": 28,
   "metadata": {
    "collapsed": false
   },
   "outputs": [
    {
     "name": "stdout",
     "output_type": "stream",
     "text": [
      "number of players with more than 1 club:  0\n",
      "number of players with more than 1 position:  0\n"
     ]
    }
   ],
   "source": [
    "# categories = group_players.agg(['club', 'leagueCountry', 'position']).first()\n",
    "clubs     = group_players.apply(lambda x: len(x.club.unique()))     # get number of clubs\n",
    "positions = group_players.apply(lambda x: len(x.position.unique())) # get number of positions\n",
    "print(\"number of players with more than 1 club: \"    , (clubs     != 1).sum())\n",
    "print(\"number of players with more than 1 position: \", (positions != 1).sum())"
   ]
  },
  {
   "cell_type": "markdown",
   "metadata": {},
   "source": [
    "Yes, it is"
   ]
  },
  {
   "cell_type": "code",
   "execution_count": 49,
   "metadata": {
    "collapsed": false,
    "scrolled": true
   },
   "outputs": [
    {
     "data": {
      "text/plain": [
       "['height',\n",
       " 'defeats',\n",
       " 'victories',\n",
       " 'weight',\n",
       " 'goals',\n",
       " 'games',\n",
       " 'yellowReds',\n",
       " 'ties',\n",
       " 'yellowCards',\n",
       " 'redCards',\n",
       " 'cor_meanIATredCards',\n",
       " 'cor_meanIATyellowCards',\n",
       " 'cor_meanIATyellowReds',\n",
       " 'cor_meanExpredCards',\n",
       " 'cor_meanExpyellowCards',\n",
       " 'cor_meanExpyellowReds',\n",
       " 'percentage_victories',\n",
       " 'percentage_ties',\n",
       " 'percentage_defeats',\n",
       " 'percentage_redCards',\n",
       " 'percentage_yellowReds',\n",
       " 'percentage_yellowCards',\n",
       " 'club_1. FC Nürnberg',\n",
       " 'club_1. FSV Mainz 05',\n",
       " 'club_1899 Hoffenheim',\n",
       " 'club_AC Ajaccio',\n",
       " 'club_AS Nancy',\n",
       " 'club_AS Saint-Étienne',\n",
       " 'club_Arsenal FC',\n",
       " 'club_Arsenal FC (R)',\n",
       " 'club_Aston Villa',\n",
       " 'club_Athletic Bilbao',\n",
       " 'club_Atlético Madrid',\n",
       " 'club_Bayer Leverkusen',\n",
       " 'club_Bayern München',\n",
       " 'club_Blackburn Rovers',\n",
       " 'club_Bolton Wanderers',\n",
       " 'club_Bor. Mönchengladbach',\n",
       " 'club_Borussia Dortmund',\n",
       " 'club_Bristol City',\n",
       " 'club_CA Osasuna',\n",
       " 'club_CF Badalona',\n",
       " 'club_Celta Vigo',\n",
       " 'club_Chelsea FC',\n",
       " 'club_Crewe Alexandra',\n",
       " 'club_Deportivo La Coruña',\n",
       " 'club_ESTAC Troyes',\n",
       " 'club_Eintracht Frankfurt',\n",
       " 'club_Espanyol Barcelona',\n",
       " 'club_Everton FC',\n",
       " 'club_FC Augsburg',\n",
       " 'club_FC Barcelona',\n",
       " 'club_FC Lorient',\n",
       " 'club_FC Schalke 04',\n",
       " 'club_FC Sochaux',\n",
       " 'club_Fortuna Düsseldorf',\n",
       " 'club_Fulham FC',\n",
       " 'club_Getafe CF',\n",
       " 'club_Girondins Bordeaux',\n",
       " 'club_Granada CF',\n",
       " 'club_Hamburger SV',\n",
       " 'club_Hannover 96',\n",
       " 'club_Leeds United',\n",
       " 'club_Leicester City',\n",
       " 'club_Levante UD',\n",
       " 'club_Leyton Orient',\n",
       " 'club_Lille OSC',\n",
       " 'club_Liverpool FC',\n",
       " 'club_Liverpool FC (R)',\n",
       " 'club_MSV Duisburg',\n",
       " 'club_Manchester City',\n",
       " 'club_Manchester United',\n",
       " 'club_Millwall FC',\n",
       " 'club_Montpellier HSC',\n",
       " 'club_Málaga CF',\n",
       " 'club_Newcastle United',\n",
       " 'club_Norwich City',\n",
       " 'club_Nottingham Forest',\n",
       " 'club_OGC Nice',\n",
       " 'club_Olympique Lyon',\n",
       " 'club_Olympique Marseille',\n",
       " 'club_Paris Saint-Germain',\n",
       " 'club_Queens Park Rangers',\n",
       " 'club_RCD Mallorca',\n",
       " 'club_Rayo Vallecano',\n",
       " 'club_Reading FC',\n",
       " 'club_Real Betis',\n",
       " 'club_Real Jaén',\n",
       " 'club_Real Madrid',\n",
       " 'club_Real Madrid Castilla',\n",
       " 'club_Real Sociedad',\n",
       " 'club_Real Valladolid',\n",
       " 'club_Real Zaragoza',\n",
       " 'club_SC Bastia',\n",
       " 'club_SC Freiburg',\n",
       " 'club_SD Compostela',\n",
       " 'club_SV Sandhausen',\n",
       " 'club_Sevilla FC',\n",
       " 'club_Southampton FC',\n",
       " 'club_SpVgg Greuther Fürth',\n",
       " 'club_Stade Brest',\n",
       " 'club_Stade Reims',\n",
       " 'club_Stade Rennes',\n",
       " 'club_Stoke City',\n",
       " 'club_Sunderland AFC',\n",
       " 'club_Tottenham Hotspur',\n",
       " 'club_Tottenham Hotspur (R)',\n",
       " 'club_Toulouse FC',\n",
       " 'club_US Boulogne',\n",
       " 'club_Valencia CF',\n",
       " 'club_Valenciennes FC',\n",
       " 'club_VfB Stuttgart',\n",
       " 'club_VfL Wolfsburg',\n",
       " 'club_Werder Bremen',\n",
       " 'club_West Bromwich Albion',\n",
       " 'club_West Ham United',\n",
       " 'club_Wigan Athletic',\n",
       " 'club_Wolverhampton Wanderers',\n",
       " 'club_Évian Thonon Gaillard',\n",
       " 'leagueCountry_England',\n",
       " 'leagueCountry_France',\n",
       " 'leagueCountry_Germany',\n",
       " 'leagueCountry_Spain',\n",
       " 'position_Attacking Midfielder',\n",
       " 'position_Center Back',\n",
       " 'position_Center Forward',\n",
       " 'position_Center Midfielder',\n",
       " 'position_Defensive Midfielder',\n",
       " 'position_Goalkeeper',\n",
       " 'position_Left Fullback',\n",
       " 'position_Left Midfielder',\n",
       " 'position_Left Winger',\n",
       " 'position_Right Fullback',\n",
       " 'position_Right Midfielder',\n",
       " 'position_Right Winger']"
      ]
     },
     "execution_count": 49,
     "metadata": {},
     "output_type": "execute_result"
    }
   ],
   "source": [
    "categories = group_players.agg({'club': 'first', 'leagueCountry':'first', 'position':'first'})\n",
    "players_wcats = pd.get_dummies(players.join(categories))\n",
    "players_wcats.columns.tolist()\n",
    "\n",
    "# it's useful to see all the features now, but if long output is annoying for you as well, you can \n",
    "# click on the margin of the cell to toggle its scrolling (or double click to hide it ;) )"
   ]
  },
  {
   "cell_type": "code",
   "execution_count": null,
   "metadata": {
    "collapsed": false
   },
   "outputs": [],
   "source": [
    "le = preprocessing.LabelEncoder()\n",
    "\n",
    "categorical_values = ['club', 'leagueCountry', 'position']\n",
    "for name in categorical_values:\n",
    "    categorie = group_players.agg({name:'first'})\n",
    "    le.fit(categorie.as_matrix().flatten().tolist())\n",
    "    players[name] = le.transform(categorie.as_matrix().flatten().tolist())\n",
    "\n",
    "players.head()"
   ]
  },
  {
   "cell_type": "code",
   "execution_count": null,
   "metadata": {
    "collapsed": false
   },
   "outputs": [],
   "source": [
    "skin_color = group_players.agg({'rater1' : 'first'})\n",
    "skin_color.head()"
   ]
  },
  {
   "cell_type": "markdown",
   "metadata": {},
   "source": [
    "## Assignment 1: predict player's skin color"
   ]
  },
  {
   "cell_type": "markdown",
   "metadata": {},
   "source": [
    "We convert the pandas data frame to lists in order to match the expected data format for scikit learn. We also map the player's skin color to an integer instead of a float."
   ]
  },
  {
   "cell_type": "code",
   "execution_count": null,
   "metadata": {
    "collapsed": false
   },
   "outputs": [],
   "source": [
    "X = players.as_matrix()\n",
    "Y = skin_color.as_matrix().flatten()\n",
    "# map 0.25 to 1 etc\n",
    "Y = np.array(list(map((lambda x: x*4), Y)))"
   ]
  },
  {
   "cell_type": "markdown",
   "metadata": {},
   "source": [
    "Train the random forest using cross validation"
   ]
  },
  {
   "cell_type": "code",
   "execution_count": null,
   "metadata": {
    "collapsed": false
   },
   "outputs": [],
   "source": [
    "kf = KFold(n_splits=4)\n",
    "clf = RandomForestClassifier(n_estimators=10, max_depth=5, max_features=None)\n",
    "\n",
    "for train_index, test_index in kf.split(X):\n",
    "    clf = clf.fit(X[train_index], Y[train_index])\n",
    "    # test model\n",
    "    Y_predict = clf.predict(X[test_index])\n",
    "    Y_predict2 = clf.predict(X[train_index])\n",
    "    print(\"accurancy predictions test data: \",(Y[test_index] - Y_predict).tolist().count(0) / len(Y_predict))\n",
    "    print(\"accurancy predictions training data: \",(Y[train_index] - Y_predict2).tolist().count(0) / len(Y_predict2))"
   ]
  },
  {
   "cell_type": "code",
   "execution_count": null,
   "metadata": {
    "collapsed": false
   },
   "outputs": [],
   "source": [
    "cross_val_score(clf, X, Y, scoring='accuracy', cv=4)"
   ]
  },
  {
   "cell_type": "markdown",
   "metadata": {},
   "source": [
    "### Feature importance"
   ]
  },
  {
   "cell_type": "code",
   "execution_count": null,
   "metadata": {
    "collapsed": false
   },
   "outputs": [],
   "source": [
    "importances = clf.feature_importances_\n",
    "std = np.std([clf.feature_importances_ for tree in clf.estimators_],\n",
    "             axis=0)\n",
    "indices = np.argsort(importances)[::-1]\n",
    "\n",
    "# Print the feature ranking\n",
    "print(\"Feature ranking:\")\n",
    "\n",
    "for f in range(X.shape[1]):\n",
    "    print(\"%d. feature %s (%f)\" % (f + 1,  players.columns[f], importances[indices[f]]))\n",
    "\n",
    "# Plot the feature importances of the forest\n",
    "plt.figure()\n",
    "plt.title(\"Feature importances\")\n",
    "plt.bar(range(X.shape[1]), importances[indices],\n",
    "       color=\"r\", yerr=std[indices], align=\"center\")\n",
    "plt.xticks(range(X.shape[1]), indices)\n",
    "plt.xlim([-1, X.shape[1]])\n",
    "plt.show()"
   ]
  }
 ],
 "metadata": {
  "anaconda-cloud": {},
  "kernelspec": {
   "display_name": "Python [Root]",
   "language": "python",
   "name": "Python [Root]"
  },
  "language_info": {
   "codemirror_mode": {
    "name": "ipython",
    "version": 3
   },
   "file_extension": ".py",
   "mimetype": "text/x-python",
   "name": "python",
   "nbconvert_exporter": "python",
   "pygments_lexer": "ipython3",
   "version": "3.5.2"
  }
 },
 "nbformat": 4,
 "nbformat_minor": 0
}

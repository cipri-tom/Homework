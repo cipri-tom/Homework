{
 "cells": [
  {
   "cell_type": "markdown",
   "metadata": {},
   "source": [
    "# Homework 4: machine learning"
   ]
  },
  {
   "cell_type": "markdown",
   "metadata": {},
   "source": [
    "---\n",
    "### NOTE: Sometimes we refer to [the original work](http://nbviewer.jupyter.org/github/mathewzilla/redcard/blob/master/Crowdstorming_visualisation.ipynb) \n",
    "\n",
    "---"
   ]
  },
  {
   "cell_type": "code",
   "execution_count": 1,
   "metadata": {
    "collapsed": true
   },
   "outputs": [],
   "source": [
    "%load_ext autoreload\n",
    "%autoreload 2 \n",
    "%matplotlib inline"
   ]
  },
  {
   "cell_type": "markdown",
   "metadata": {},
   "source": [
    "You need to install `scikit v0.18`: `conda update scikit-learn`"
   ]
  },
  {
   "cell_type": "code",
   "execution_count": 2,
   "metadata": {
    "collapsed": false
   },
   "outputs": [],
   "source": [
    "import pandas as pd\n",
    "import numpy as np\n",
    "import os\n",
    "import matplotlib.pyplot as plt"
   ]
  },
  {
   "cell_type": "markdown",
   "metadata": {},
   "source": [
    "Read and minimal cleanup: for the first part, we need the labels (i.e. colour ratings), so we can't use the points where they don't exist. \n",
    "\n",
    "Since we will later `aggregate` the players, it is **important** to note that this doesn't produce inconsistencies because `dyads` is constructed by a join between a `players` table and a `referees` table, so it is natural that the missing values are missing for all instances of a player."
   ]
  },
  {
   "cell_type": "code",
   "execution_count": 3,
   "metadata": {
    "collapsed": false
   },
   "outputs": [
    {
     "name": "stdout",
     "output_type": "stream",
     "text": [
      "(146028, 27)\n",
      "(124621, 27)\n",
      "0\n"
     ]
    }
   ],
   "source": [
    "dyads = pd.read_csv(\"CrowdstormingDataJuly1st.csv\", index_col=0)\n",
    "print(dyads.shape)\n",
    "\n",
    "dyads.dropna(subset=['rater1'], inplace=True)\n",
    "print(dyads.shape)\n",
    "\n",
    "# since both values are missing at the same time, this should be 0:\n",
    "print(dyads.rater2.isnull().sum())\n",
    "\n",
    "# the groupby object user later on\n",
    "group_players = dyads.groupby(level=0)"
   ]
  },
  {
   "cell_type": "markdown",
   "metadata": {},
   "source": [
    "Let's see the numbers: \n",
    "\n",
    "<sub>yes, they were done by the other guys, but it's useful to have them at hand:</sub>\n",
    "\n",
    "Also, they were excluding some referees that have been _carried over_, and that only removes ~3% of the data. Since we're not doing statistics on referees, we won't drop them. Every little data helps :)"
   ]
  },
  {
   "cell_type": "code",
   "execution_count": 4,
   "metadata": {
    "collapsed": false
   },
   "outputs": [
    {
     "name": "stdout",
     "output_type": "stream",
     "text": [
      "Number of players:  1585\n",
      "Number of referees:  2978\n"
     ]
    }
   ],
   "source": [
    "print(\"Number of players: \" , dyads.index.unique().size)\n",
    "print(\"Number of referees: \", dyads.refNum.unique().size)"
   ]
  },
  {
   "cell_type": "markdown",
   "metadata": {},
   "source": [
    "The original analysis mentioned that \"*the two raters disagree on 28742 or 19% of the time*\". Since there are only 1585 players, it means they ran it on the `dyads` set. _**WHY?**_ That doesn't make sense, so let's just check that the ratings for each player are consistent:"
   ]
  },
  {
   "cell_type": "markdown",
   "metadata": {},
   "source": [
    "for the group of each player, we check that the number of values in `raterX` is **exactly** one:"
   ]
  },
  {
   "cell_type": "code",
   "execution_count": 5,
   "metadata": {
    "collapsed": false
   },
   "outputs": [
    {
     "name": "stdout",
     "output_type": "stream",
     "text": [
      "Rater1 has been inconsistent 0 times\n",
      "Rater2 has been inconsistent 0 times\n"
     ]
    }
   ],
   "source": [
    "def build_player_consitency(player_df):\n",
    "    \"\"\" Needs to return a Series of {col_name: col_value}. \"\"\"\n",
    "    return pd.Series({col+\"_INconsistent\" : (player_df[col].unique().size != 1) \n",
    "                                             for col in ['rater1', 'rater2'] })\n",
    "consistency = group_players.apply(build_player_consitency)\n",
    "print(\"Rater1 has been inconsistent %d times\" % consistency.rater1_INconsistent.sum())\n",
    "print(\"Rater2 has been inconsistent %d times\" % consistency.rater2_INconsistent.sum())"
   ]
  },
  {
   "cell_type": "markdown",
   "metadata": {},
   "source": [
    "OK, so they _ARE_ consistent. This means that their statistic doesn't account for players who have more matches than others, so the numbers are skewed. Let's check again, this time on _unique_ players"
   ]
  },
  {
   "cell_type": "code",
   "execution_count": 6,
   "metadata": {
    "collapsed": false
   },
   "outputs": [
    {
     "name": "stdout",
     "output_type": "stream",
     "text": [
      "The raters disagree for 0.239% of the players\n",
      "Diffs std dev:  0.11594303556667578\n",
      "Max disagreement value 2.0, occuring 2 times\n"
     ]
    }
   ],
   "source": [
    "player_ratings = group_players.agg({'rater1':'first', 'rater2':'first'})\n",
    "diffs = player_ratings.rater1 - player_ratings.rater2\n",
    "print(\"The raters disagree for {p:.3f}% of the players\".format(p=(diffs != 0).sum() / len(diffs) ))\n",
    "\n",
    "print(\"Diffs std dev: \", diffs.std())\n",
    "\n",
    "max_diff = diffs.abs().max()\n",
    "num_occur = (diffs.abs() == max_diff).sum()\n",
    "print(\"Max disagreement value {0}, occuring {1} times\".format(max_diff * 4, num_occur)) # *4 to pass from float to int"
   ]
  },
  {
   "cell_type": "markdown",
   "metadata": {},
   "source": [
    "So this means:\n",
    "  1. that there is slightly more agreement between the raters for players who have more entries in `dyads` i.e. who played under more referees\n",
    "  2. that if we use both labels, using `accuracy` as a measure of performance is not a very good idea. Keep in mind that the differences are not ordered, so it could have an impact double as big on the accuracy, i.e. at most $1 - 2 * \\mathit{disagreementPercentage} = 1 - 2 * 0.24 \\approx 0.5 $"
   ]
  },
  {
   "cell_type": "markdown",
   "metadata": {},
   "source": [
    "#### Curiosity\n",
    "Who are the 'controversial' guys :) ?"
   ]
  },
  {
   "cell_type": "code",
   "execution_count": 7,
   "metadata": {
    "collapsed": false
   },
   "outputs": [
    {
     "data": {
      "text/plain": [
       "playerShort\n",
       "kyle-walker    -0.5\n",
       "mario-goetze   -0.5\n",
       "dtype: float64"
      ]
     },
     "execution_count": 7,
     "metadata": {},
     "output_type": "execute_result"
    }
   ],
   "source": [
    "diffs[diffs.abs() == max_diff]"
   ]
  },
  {
   "cell_type": "markdown",
   "metadata": {},
   "source": [
    "<img style='float:left' alt='Kyle-walker' src='http://www.thefootballsocial.co.uk/images/players/Tottenham%20Hotspur/Kyle%20Walker.jpg' /> <img alt='Mario_Goetze' src='http://i0.web.de/image/176/31756176,pd=2/mario-goetze.jpg' width=300/>"
   ]
  },
  {
   "cell_type": "markdown",
   "metadata": {},
   "source": [
    "## Feature selection"
   ]
  },
  {
   "cell_type": "code",
   "execution_count": 8,
   "metadata": {
    "collapsed": false
   },
   "outputs": [
    {
     "data": {
      "text/plain": [
       "Index(['player', 'club', 'leagueCountry', 'birthday', 'height', 'weight',\n",
       "       'position', 'games', 'victories', 'ties', 'defeats', 'goals',\n",
       "       'yellowCards', 'yellowReds', 'redCards', 'photoID', 'rater1', 'rater2',\n",
       "       'refNum', 'refCountry', 'Alpha_3', 'meanIAT', 'nIAT', 'seIAT',\n",
       "       'meanExp', 'nExp', 'seExp'],\n",
       "      dtype='object')"
      ]
     },
     "execution_count": 8,
     "metadata": {},
     "output_type": "execute_result"
    }
   ],
   "source": [
    "dyads.columns"
   ]
  },
  {
   "cell_type": "markdown",
   "metadata": {},
   "source": [
    "### Aggregation"
   ]
  },
  {
   "cell_type": "markdown",
   "metadata": {},
   "source": [
    "Here's how we aggregate the data for each player:\n",
    "<table>\n",
    "<tr><th>Variable</th><th>Method</th><th>Fill NA</th></tr>\n",
    "<tr><td>`height`, `weight`</td><td>first</td><td>average</td></tr>\n",
    "<tr><td>`games`</td><td>sum</td></tr>\n",
    "<tr><td>`goals`</td><td>sum ; percentage in games</td></tr>\n",
    "<tr><td>`victories`, `ties`, `defeats`</td><td>sum ; percentage in games</td></tr>\n",
    "<tr><td>`redCards`, `yellowCards`, `yellowReds`</td><td>sum ; percentage in games</td></tr>\n",
    "</table>\n"
   ]
  },
  {
   "cell_type": "code",
   "execution_count": 9,
   "metadata": {
    "collapsed": false
   },
   "outputs": [
    {
     "name": "stdout",
     "output_type": "stream",
     "text": [
      "(1585, 10)\n"
     ]
    },
    {
     "data": {
      "text/html": [
       "<div>\n",
       "<table border=\"1\" class=\"dataframe\">\n",
       "  <thead>\n",
       "    <tr style=\"text-align: right;\">\n",
       "      <th></th>\n",
       "      <th>yellowReds</th>\n",
       "      <th>weight</th>\n",
       "      <th>yellowCards</th>\n",
       "      <th>ties</th>\n",
       "      <th>victories</th>\n",
       "      <th>redCards</th>\n",
       "      <th>goals</th>\n",
       "      <th>games</th>\n",
       "      <th>defeats</th>\n",
       "      <th>height</th>\n",
       "    </tr>\n",
       "    <tr>\n",
       "      <th>playerShort</th>\n",
       "      <th></th>\n",
       "      <th></th>\n",
       "      <th></th>\n",
       "      <th></th>\n",
       "      <th></th>\n",
       "      <th></th>\n",
       "      <th></th>\n",
       "      <th></th>\n",
       "      <th></th>\n",
       "      <th></th>\n",
       "    </tr>\n",
       "  </thead>\n",
       "  <tbody>\n",
       "    <tr>\n",
       "      <th>aaron-hughes</th>\n",
       "      <td>0</td>\n",
       "      <td>71.0</td>\n",
       "      <td>19</td>\n",
       "      <td>179</td>\n",
       "      <td>247</td>\n",
       "      <td>0</td>\n",
       "      <td>9</td>\n",
       "      <td>654</td>\n",
       "      <td>228</td>\n",
       "      <td>182.0</td>\n",
       "    </tr>\n",
       "    <tr>\n",
       "      <th>aaron-hunt</th>\n",
       "      <td>0</td>\n",
       "      <td>73.0</td>\n",
       "      <td>42</td>\n",
       "      <td>73</td>\n",
       "      <td>141</td>\n",
       "      <td>1</td>\n",
       "      <td>62</td>\n",
       "      <td>336</td>\n",
       "      <td>122</td>\n",
       "      <td>183.0</td>\n",
       "    </tr>\n",
       "    <tr>\n",
       "      <th>aaron-lennon</th>\n",
       "      <td>0</td>\n",
       "      <td>63.0</td>\n",
       "      <td>11</td>\n",
       "      <td>97</td>\n",
       "      <td>200</td>\n",
       "      <td>0</td>\n",
       "      <td>31</td>\n",
       "      <td>412</td>\n",
       "      <td>115</td>\n",
       "      <td>165.0</td>\n",
       "    </tr>\n",
       "    <tr>\n",
       "      <th>aaron-ramsey</th>\n",
       "      <td>0</td>\n",
       "      <td>76.0</td>\n",
       "      <td>31</td>\n",
       "      <td>42</td>\n",
       "      <td>150</td>\n",
       "      <td>1</td>\n",
       "      <td>39</td>\n",
       "      <td>260</td>\n",
       "      <td>68</td>\n",
       "      <td>178.0</td>\n",
       "    </tr>\n",
       "    <tr>\n",
       "      <th>abdelhamid-el-kaoutari</th>\n",
       "      <td>4</td>\n",
       "      <td>73.0</td>\n",
       "      <td>8</td>\n",
       "      <td>40</td>\n",
       "      <td>41</td>\n",
       "      <td>2</td>\n",
       "      <td>1</td>\n",
       "      <td>124</td>\n",
       "      <td>43</td>\n",
       "      <td>180.0</td>\n",
       "    </tr>\n",
       "  </tbody>\n",
       "</table>\n",
       "</div>"
      ],
      "text/plain": [
       "                        yellowReds  weight  yellowCards  ties  victories  \\\n",
       "playerShort                                                                \n",
       "aaron-hughes                     0    71.0           19   179        247   \n",
       "aaron-hunt                       0    73.0           42    73        141   \n",
       "aaron-lennon                     0    63.0           11    97        200   \n",
       "aaron-ramsey                     0    76.0           31    42        150   \n",
       "abdelhamid-el-kaoutari           4    73.0            8    40         41   \n",
       "\n",
       "                        redCards  goals  games  defeats  height  \n",
       "playerShort                                                      \n",
       "aaron-hughes                   0      9    654      228   182.0  \n",
       "aaron-hunt                     1     62    336      122   183.0  \n",
       "aaron-lennon                   0     31    412      115   165.0  \n",
       "aaron-ramsey                   1     39    260       68   178.0  \n",
       "abdelhamid-el-kaoutari         2      1    124       43   180.0  "
      ]
     },
     "execution_count": 9,
     "metadata": {},
     "output_type": "execute_result"
    }
   ],
   "source": [
    "players = group_players.agg({'height':'first', 'weight':'first', 'games':'sum', \n",
    "                             'victories':'sum','defeats':'sum', 'ties': 'sum', 'goals':'sum', \n",
    "                             'redCards':'sum', 'yellowReds': 'sum', 'yellowCards':'sum'})\n",
    "\n",
    "# fill by average\n",
    "av_height = players['height'].mean()\n",
    "av_weight = players['weight'].mean()\n",
    "players['height'].fillna(value=av_height, inplace=True)\n",
    "players['weight'].fillna(value=av_weight, inplace=True)\n",
    "\n",
    "print(players.shape)\n",
    "players.head()"
   ]
  },
  {
   "cell_type": "markdown",
   "metadata": {},
   "source": [
    "Although the original study shows there is little information in the EAT, IAT variables, we choose to use everything for now, and let the algorithm decide what's important or not.\n",
    "\n",
    "If these values were to have any relevance, we'd expect them to be correlated with the number of cards a player gets: the higher the values, the more cards they'd get if they're darker in colour. So we add that correlation as a feature: i.e. the higher the correlation, the bigger the probability is they've a dark skin\n"
   ]
  },
  {
   "cell_type": "code",
   "execution_count": 10,
   "metadata": {
    "collapsed": false
   },
   "outputs": [],
   "source": [
    "c = group_players.corr()"
   ]
  },
  {
   "cell_type": "code",
   "execution_count": 11,
   "metadata": {
    "collapsed": false
   },
   "outputs": [
    {
     "data": {
      "text/html": [
       "<div>\n",
       "<table border=\"1\" class=\"dataframe\">\n",
       "  <thead>\n",
       "    <tr style=\"text-align: right;\">\n",
       "      <th></th>\n",
       "      <th>yellowReds</th>\n",
       "      <th>weight</th>\n",
       "      <th>yellowCards</th>\n",
       "      <th>ties</th>\n",
       "      <th>victories</th>\n",
       "      <th>redCards</th>\n",
       "      <th>goals</th>\n",
       "      <th>games</th>\n",
       "      <th>defeats</th>\n",
       "      <th>height</th>\n",
       "      <th>cor_meanIATredCards</th>\n",
       "      <th>cor_meanIATyellowCards</th>\n",
       "      <th>cor_meanIATyellowReds</th>\n",
       "      <th>cor_meanExpredCards</th>\n",
       "      <th>cor_meanExpyellowCards</th>\n",
       "      <th>cor_meanExpyellowReds</th>\n",
       "    </tr>\n",
       "    <tr>\n",
       "      <th>playerShort</th>\n",
       "      <th></th>\n",
       "      <th></th>\n",
       "      <th></th>\n",
       "      <th></th>\n",
       "      <th></th>\n",
       "      <th></th>\n",
       "      <th></th>\n",
       "      <th></th>\n",
       "      <th></th>\n",
       "      <th></th>\n",
       "      <th></th>\n",
       "      <th></th>\n",
       "      <th></th>\n",
       "      <th></th>\n",
       "      <th></th>\n",
       "      <th></th>\n",
       "    </tr>\n",
       "  </thead>\n",
       "  <tbody>\n",
       "    <tr>\n",
       "      <th>aaron-hughes</th>\n",
       "      <td>0</td>\n",
       "      <td>71.0</td>\n",
       "      <td>19</td>\n",
       "      <td>179</td>\n",
       "      <td>247</td>\n",
       "      <td>0</td>\n",
       "      <td>9</td>\n",
       "      <td>654</td>\n",
       "      <td>228</td>\n",
       "      <td>182.0</td>\n",
       "      <td>0.000000</td>\n",
       "      <td>-0.084032</td>\n",
       "      <td>0.000000</td>\n",
       "      <td>0.000000</td>\n",
       "      <td>-0.082210</td>\n",
       "      <td>0.000000</td>\n",
       "    </tr>\n",
       "    <tr>\n",
       "      <th>aaron-hunt</th>\n",
       "      <td>0</td>\n",
       "      <td>73.0</td>\n",
       "      <td>42</td>\n",
       "      <td>73</td>\n",
       "      <td>141</td>\n",
       "      <td>1</td>\n",
       "      <td>62</td>\n",
       "      <td>336</td>\n",
       "      <td>122</td>\n",
       "      <td>183.0</td>\n",
       "      <td>-0.055174</td>\n",
       "      <td>-0.162927</td>\n",
       "      <td>0.000000</td>\n",
       "      <td>-0.066079</td>\n",
       "      <td>-0.197755</td>\n",
       "      <td>0.000000</td>\n",
       "    </tr>\n",
       "    <tr>\n",
       "      <th>aaron-lennon</th>\n",
       "      <td>0</td>\n",
       "      <td>63.0</td>\n",
       "      <td>11</td>\n",
       "      <td>97</td>\n",
       "      <td>200</td>\n",
       "      <td>0</td>\n",
       "      <td>31</td>\n",
       "      <td>412</td>\n",
       "      <td>115</td>\n",
       "      <td>165.0</td>\n",
       "      <td>0.000000</td>\n",
       "      <td>-0.156448</td>\n",
       "      <td>0.000000</td>\n",
       "      <td>0.000000</td>\n",
       "      <td>-0.127625</td>\n",
       "      <td>0.000000</td>\n",
       "    </tr>\n",
       "    <tr>\n",
       "      <th>aaron-ramsey</th>\n",
       "      <td>0</td>\n",
       "      <td>76.0</td>\n",
       "      <td>31</td>\n",
       "      <td>42</td>\n",
       "      <td>150</td>\n",
       "      <td>1</td>\n",
       "      <td>39</td>\n",
       "      <td>260</td>\n",
       "      <td>68</td>\n",
       "      <td>178.0</td>\n",
       "      <td>-0.037021</td>\n",
       "      <td>-0.135808</td>\n",
       "      <td>0.000000</td>\n",
       "      <td>-0.071047</td>\n",
       "      <td>-0.161982</td>\n",
       "      <td>0.000000</td>\n",
       "    </tr>\n",
       "    <tr>\n",
       "      <th>abdelhamid-el-kaoutari</th>\n",
       "      <td>4</td>\n",
       "      <td>73.0</td>\n",
       "      <td>8</td>\n",
       "      <td>40</td>\n",
       "      <td>41</td>\n",
       "      <td>2</td>\n",
       "      <td>1</td>\n",
       "      <td>124</td>\n",
       "      <td>43</td>\n",
       "      <td>180.0</td>\n",
       "      <td>0.016348</td>\n",
       "      <td>0.035919</td>\n",
       "      <td>0.059003</td>\n",
       "      <td>0.000514</td>\n",
       "      <td>0.001129</td>\n",
       "      <td>0.040668</td>\n",
       "    </tr>\n",
       "  </tbody>\n",
       "</table>\n",
       "</div>"
      ],
      "text/plain": [
       "                        yellowReds  weight  yellowCards  ties  victories  \\\n",
       "playerShort                                                                \n",
       "aaron-hughes                     0    71.0           19   179        247   \n",
       "aaron-hunt                       0    73.0           42    73        141   \n",
       "aaron-lennon                     0    63.0           11    97        200   \n",
       "aaron-ramsey                     0    76.0           31    42        150   \n",
       "abdelhamid-el-kaoutari           4    73.0            8    40         41   \n",
       "\n",
       "                        redCards  goals  games  defeats  height  \\\n",
       "playerShort                                                       \n",
       "aaron-hughes                   0      9    654      228   182.0   \n",
       "aaron-hunt                     1     62    336      122   183.0   \n",
       "aaron-lennon                   0     31    412      115   165.0   \n",
       "aaron-ramsey                   1     39    260       68   178.0   \n",
       "abdelhamid-el-kaoutari         2      1    124       43   180.0   \n",
       "\n",
       "                        cor_meanIATredCards  cor_meanIATyellowCards  \\\n",
       "playerShort                                                           \n",
       "aaron-hughes                       0.000000               -0.084032   \n",
       "aaron-hunt                        -0.055174               -0.162927   \n",
       "aaron-lennon                       0.000000               -0.156448   \n",
       "aaron-ramsey                      -0.037021               -0.135808   \n",
       "abdelhamid-el-kaoutari             0.016348                0.035919   \n",
       "\n",
       "                        cor_meanIATyellowReds  cor_meanExpredCards  \\\n",
       "playerShort                                                          \n",
       "aaron-hughes                         0.000000             0.000000   \n",
       "aaron-hunt                           0.000000            -0.066079   \n",
       "aaron-lennon                         0.000000             0.000000   \n",
       "aaron-ramsey                         0.000000            -0.071047   \n",
       "abdelhamid-el-kaoutari               0.059003             0.000514   \n",
       "\n",
       "                        cor_meanExpyellowCards  cor_meanExpyellowReds  \n",
       "playerShort                                                            \n",
       "aaron-hughes                         -0.082210               0.000000  \n",
       "aaron-hunt                           -0.197755               0.000000  \n",
       "aaron-lennon                         -0.127625               0.000000  \n",
       "aaron-ramsey                         -0.161982               0.000000  \n",
       "abdelhamid-el-kaoutari                0.001129               0.040668  "
      ]
     },
     "execution_count": 11,
     "metadata": {},
     "output_type": "execute_result"
    }
   ],
   "source": [
    "for racism in ['meanIAT', 'meanExp']:\n",
    "    for card in ['redCards', 'yellowCards', 'yellowReds']:\n",
    "        a = c.loc[c.index.get_level_values(1)==racism, card].reset_index(level=1).fillna(value=0)\n",
    "        players['cor_'+racism+card] = a[card]\n",
    "players.head()"
   ]
  },
  {
   "cell_type": "markdown",
   "metadata": {},
   "source": [
    "### Normalisation\n",
    "\n",
    "First, we create extra features by normalizing to the number of games (always $\\neq 0$).\n",
    "\n",
    "Then we normalise all features"
   ]
  },
  {
   "cell_type": "code",
   "execution_count": 12,
   "metadata": {
    "collapsed": false
   },
   "outputs": [
    {
     "data": {
      "text/plain": [
       "0"
      ]
     },
     "execution_count": 12,
     "metadata": {},
     "output_type": "execute_result"
    }
   ],
   "source": [
    "(players.games == 0).sum()"
   ]
  },
  {
   "cell_type": "code",
   "execution_count": 13,
   "metadata": {
    "collapsed": false
   },
   "outputs": [
    {
     "data": {
      "text/html": [
       "<div>\n",
       "<table border=\"1\" class=\"dataframe\">\n",
       "  <thead>\n",
       "    <tr style=\"text-align: right;\">\n",
       "      <th></th>\n",
       "      <th>yellowReds</th>\n",
       "      <th>weight</th>\n",
       "      <th>yellowCards</th>\n",
       "      <th>ties</th>\n",
       "      <th>victories</th>\n",
       "      <th>redCards</th>\n",
       "      <th>goals</th>\n",
       "      <th>games</th>\n",
       "      <th>defeats</th>\n",
       "      <th>height</th>\n",
       "      <th>...</th>\n",
       "      <th>cor_meanIATyellowReds</th>\n",
       "      <th>cor_meanExpredCards</th>\n",
       "      <th>cor_meanExpyellowCards</th>\n",
       "      <th>cor_meanExpyellowReds</th>\n",
       "      <th>percentage_victories</th>\n",
       "      <th>percentage_ties</th>\n",
       "      <th>percentage_defeats</th>\n",
       "      <th>percentage_redCards</th>\n",
       "      <th>percentage_yellowReds</th>\n",
       "      <th>percentage_yellowCards</th>\n",
       "    </tr>\n",
       "    <tr>\n",
       "      <th>playerShort</th>\n",
       "      <th></th>\n",
       "      <th></th>\n",
       "      <th></th>\n",
       "      <th></th>\n",
       "      <th></th>\n",
       "      <th></th>\n",
       "      <th></th>\n",
       "      <th></th>\n",
       "      <th></th>\n",
       "      <th></th>\n",
       "      <th></th>\n",
       "      <th></th>\n",
       "      <th></th>\n",
       "      <th></th>\n",
       "      <th></th>\n",
       "      <th></th>\n",
       "      <th></th>\n",
       "      <th></th>\n",
       "      <th></th>\n",
       "      <th></th>\n",
       "      <th></th>\n",
       "    </tr>\n",
       "  </thead>\n",
       "  <tbody>\n",
       "    <tr>\n",
       "      <th>aaron-hughes</th>\n",
       "      <td>0</td>\n",
       "      <td>71.0</td>\n",
       "      <td>19</td>\n",
       "      <td>179</td>\n",
       "      <td>247</td>\n",
       "      <td>0</td>\n",
       "      <td>9</td>\n",
       "      <td>654</td>\n",
       "      <td>228</td>\n",
       "      <td>182.0</td>\n",
       "      <td>...</td>\n",
       "      <td>0.000000</td>\n",
       "      <td>0.000000</td>\n",
       "      <td>-0.082210</td>\n",
       "      <td>0.000000</td>\n",
       "      <td>0.377676</td>\n",
       "      <td>0.273700</td>\n",
       "      <td>0.348624</td>\n",
       "      <td>0.000000</td>\n",
       "      <td>0.000000</td>\n",
       "      <td>0.029052</td>\n",
       "    </tr>\n",
       "    <tr>\n",
       "      <th>aaron-hunt</th>\n",
       "      <td>0</td>\n",
       "      <td>73.0</td>\n",
       "      <td>42</td>\n",
       "      <td>73</td>\n",
       "      <td>141</td>\n",
       "      <td>1</td>\n",
       "      <td>62</td>\n",
       "      <td>336</td>\n",
       "      <td>122</td>\n",
       "      <td>183.0</td>\n",
       "      <td>...</td>\n",
       "      <td>0.000000</td>\n",
       "      <td>-0.066079</td>\n",
       "      <td>-0.197755</td>\n",
       "      <td>0.000000</td>\n",
       "      <td>0.419643</td>\n",
       "      <td>0.217262</td>\n",
       "      <td>0.363095</td>\n",
       "      <td>0.002976</td>\n",
       "      <td>0.000000</td>\n",
       "      <td>0.125000</td>\n",
       "    </tr>\n",
       "    <tr>\n",
       "      <th>aaron-lennon</th>\n",
       "      <td>0</td>\n",
       "      <td>63.0</td>\n",
       "      <td>11</td>\n",
       "      <td>97</td>\n",
       "      <td>200</td>\n",
       "      <td>0</td>\n",
       "      <td>31</td>\n",
       "      <td>412</td>\n",
       "      <td>115</td>\n",
       "      <td>165.0</td>\n",
       "      <td>...</td>\n",
       "      <td>0.000000</td>\n",
       "      <td>0.000000</td>\n",
       "      <td>-0.127625</td>\n",
       "      <td>0.000000</td>\n",
       "      <td>0.485437</td>\n",
       "      <td>0.235437</td>\n",
       "      <td>0.279126</td>\n",
       "      <td>0.000000</td>\n",
       "      <td>0.000000</td>\n",
       "      <td>0.026699</td>\n",
       "    </tr>\n",
       "    <tr>\n",
       "      <th>aaron-ramsey</th>\n",
       "      <td>0</td>\n",
       "      <td>76.0</td>\n",
       "      <td>31</td>\n",
       "      <td>42</td>\n",
       "      <td>150</td>\n",
       "      <td>1</td>\n",
       "      <td>39</td>\n",
       "      <td>260</td>\n",
       "      <td>68</td>\n",
       "      <td>178.0</td>\n",
       "      <td>...</td>\n",
       "      <td>0.000000</td>\n",
       "      <td>-0.071047</td>\n",
       "      <td>-0.161982</td>\n",
       "      <td>0.000000</td>\n",
       "      <td>0.576923</td>\n",
       "      <td>0.161538</td>\n",
       "      <td>0.261538</td>\n",
       "      <td>0.003846</td>\n",
       "      <td>0.000000</td>\n",
       "      <td>0.119231</td>\n",
       "    </tr>\n",
       "    <tr>\n",
       "      <th>abdelhamid-el-kaoutari</th>\n",
       "      <td>4</td>\n",
       "      <td>73.0</td>\n",
       "      <td>8</td>\n",
       "      <td>40</td>\n",
       "      <td>41</td>\n",
       "      <td>2</td>\n",
       "      <td>1</td>\n",
       "      <td>124</td>\n",
       "      <td>43</td>\n",
       "      <td>180.0</td>\n",
       "      <td>...</td>\n",
       "      <td>0.059003</td>\n",
       "      <td>0.000514</td>\n",
       "      <td>0.001129</td>\n",
       "      <td>0.040668</td>\n",
       "      <td>0.330645</td>\n",
       "      <td>0.322581</td>\n",
       "      <td>0.346774</td>\n",
       "      <td>0.016129</td>\n",
       "      <td>0.032258</td>\n",
       "      <td>0.064516</td>\n",
       "    </tr>\n",
       "  </tbody>\n",
       "</table>\n",
       "<p>5 rows × 22 columns</p>\n",
       "</div>"
      ],
      "text/plain": [
       "                        yellowReds  weight  yellowCards  ties  victories  \\\n",
       "playerShort                                                                \n",
       "aaron-hughes                     0    71.0           19   179        247   \n",
       "aaron-hunt                       0    73.0           42    73        141   \n",
       "aaron-lennon                     0    63.0           11    97        200   \n",
       "aaron-ramsey                     0    76.0           31    42        150   \n",
       "abdelhamid-el-kaoutari           4    73.0            8    40         41   \n",
       "\n",
       "                        redCards  goals  games  defeats  height  \\\n",
       "playerShort                                                       \n",
       "aaron-hughes                   0      9    654      228   182.0   \n",
       "aaron-hunt                     1     62    336      122   183.0   \n",
       "aaron-lennon                   0     31    412      115   165.0   \n",
       "aaron-ramsey                   1     39    260       68   178.0   \n",
       "abdelhamid-el-kaoutari         2      1    124       43   180.0   \n",
       "\n",
       "                                 ...            cor_meanIATyellowReds  \\\n",
       "playerShort                      ...                                    \n",
       "aaron-hughes                     ...                         0.000000   \n",
       "aaron-hunt                       ...                         0.000000   \n",
       "aaron-lennon                     ...                         0.000000   \n",
       "aaron-ramsey                     ...                         0.000000   \n",
       "abdelhamid-el-kaoutari           ...                         0.059003   \n",
       "\n",
       "                        cor_meanExpredCards  cor_meanExpyellowCards  \\\n",
       "playerShort                                                           \n",
       "aaron-hughes                       0.000000               -0.082210   \n",
       "aaron-hunt                        -0.066079               -0.197755   \n",
       "aaron-lennon                       0.000000               -0.127625   \n",
       "aaron-ramsey                      -0.071047               -0.161982   \n",
       "abdelhamid-el-kaoutari             0.000514                0.001129   \n",
       "\n",
       "                        cor_meanExpyellowReds  percentage_victories  \\\n",
       "playerShort                                                           \n",
       "aaron-hughes                         0.000000              0.377676   \n",
       "aaron-hunt                           0.000000              0.419643   \n",
       "aaron-lennon                         0.000000              0.485437   \n",
       "aaron-ramsey                         0.000000              0.576923   \n",
       "abdelhamid-el-kaoutari               0.040668              0.330645   \n",
       "\n",
       "                        percentage_ties  percentage_defeats  \\\n",
       "playerShort                                                   \n",
       "aaron-hughes                   0.273700            0.348624   \n",
       "aaron-hunt                     0.217262            0.363095   \n",
       "aaron-lennon                   0.235437            0.279126   \n",
       "aaron-ramsey                   0.161538            0.261538   \n",
       "abdelhamid-el-kaoutari         0.322581            0.346774   \n",
       "\n",
       "                        percentage_redCards  percentage_yellowReds  \\\n",
       "playerShort                                                          \n",
       "aaron-hughes                       0.000000               0.000000   \n",
       "aaron-hunt                         0.002976               0.000000   \n",
       "aaron-lennon                       0.000000               0.000000   \n",
       "aaron-ramsey                       0.003846               0.000000   \n",
       "abdelhamid-el-kaoutari             0.016129               0.032258   \n",
       "\n",
       "                        percentage_yellowCards  \n",
       "playerShort                                     \n",
       "aaron-hughes                          0.029052  \n",
       "aaron-hunt                            0.125000  \n",
       "aaron-lennon                          0.026699  \n",
       "aaron-ramsey                          0.119231  \n",
       "abdelhamid-el-kaoutari                0.064516  \n",
       "\n",
       "[5 rows x 22 columns]"
      ]
     },
     "execution_count": 13,
     "metadata": {},
     "output_type": "execute_result"
    }
   ],
   "source": [
    "percentage_features = ['victories', 'ties', 'defeats', 'redCards', 'yellowReds', 'yellowCards']\n",
    "for feature in percentage_features:\n",
    "    players['percentage_'+feature] = players[feature] / players['games']\n",
    "players.head()"
   ]
  },
  {
   "cell_type": "markdown",
   "metadata": {},
   "source": [
    "Whiten the data (0 mean, unit variance):"
   ]
  },
  {
   "cell_type": "code",
   "execution_count": 14,
   "metadata": {
    "collapsed": false
   },
   "outputs": [],
   "source": [
    "players = (players - players.mean()) / players.std()"
   ]
  },
  {
   "cell_type": "markdown",
   "metadata": {},
   "source": [
    "### Categorisation"
   ]
  },
  {
   "cell_type": "markdown",
   "metadata": {},
   "source": [
    "There are different views about categorical features (strings) since `sklearn` treats them as numbers. The best practice is to `one-hot encode` them but many argue that simply putting them to integer values doesn't affect the results as much. See [the discussion on the mailing list](https://www.mail-archive.com/search?l=scikit-learn-general%40lists.sourceforge.net&q=subject%3A%22Re%5C%3A+%5C%5BScikit%5C-learn%5C-general%5C%5D+Random+Forest+with+a+mix+of+categorical+and+lexical+features%22&o=newest&f=1)\n",
    "\n",
    "We will follow the best practice and binarise them, since there are not that many values\n",
    "\n",
    "---"
   ]
  },
  {
   "cell_type": "markdown",
   "metadata": {},
   "source": [
    "Is is safe to keep the first values for `club`, `position` ?"
   ]
  },
  {
   "cell_type": "code",
   "execution_count": 15,
   "metadata": {
    "collapsed": false
   },
   "outputs": [
    {
     "name": "stdout",
     "output_type": "stream",
     "text": [
      "number of players with more than 1 club:  0\n",
      "number of players with more than 1 position:  0\n"
     ]
    }
   ],
   "source": [
    "# categories = group_players.agg(['club', 'leagueCountry', 'position']).first()\n",
    "clubs     = group_players.apply(lambda x: len(x.club.unique()))     # get number of clubs\n",
    "positions = group_players.apply(lambda x: len(x.position.unique())) # get number of positions\n",
    "print(\"number of players with more than 1 club: \"    , (clubs     != 1).sum())\n",
    "print(\"number of players with more than 1 position: \", (positions != 1).sum())"
   ]
  },
  {
   "cell_type": "markdown",
   "metadata": {},
   "source": [
    "Yes, it is"
   ]
  },
  {
   "cell_type": "code",
   "execution_count": 16,
   "metadata": {
    "collapsed": false,
    "scrolled": true
   },
   "outputs": [
    {
     "data": {
      "text/plain": [
       "['yellowReds',\n",
       " 'weight',\n",
       " 'yellowCards',\n",
       " 'ties',\n",
       " 'victories',\n",
       " 'redCards',\n",
       " 'goals',\n",
       " 'games',\n",
       " 'defeats',\n",
       " 'height',\n",
       " 'cor_meanIATredCards',\n",
       " 'cor_meanIATyellowCards',\n",
       " 'cor_meanIATyellowReds',\n",
       " 'cor_meanExpredCards',\n",
       " 'cor_meanExpyellowCards',\n",
       " 'cor_meanExpyellowReds',\n",
       " 'percentage_victories',\n",
       " 'percentage_ties',\n",
       " 'percentage_defeats',\n",
       " 'percentage_redCards',\n",
       " 'percentage_yellowReds',\n",
       " 'percentage_yellowCards',\n",
       " 'position_Attacking Midfielder',\n",
       " 'position_Center Back',\n",
       " 'position_Center Forward',\n",
       " 'position_Center Midfielder',\n",
       " 'position_Defensive Midfielder',\n",
       " 'position_Goalkeeper',\n",
       " 'position_Left Fullback',\n",
       " 'position_Left Midfielder',\n",
       " 'position_Left Winger',\n",
       " 'position_Right Fullback',\n",
       " 'position_Right Midfielder',\n",
       " 'position_Right Winger',\n",
       " 'club_1. FC Nürnberg',\n",
       " 'club_1. FSV Mainz 05',\n",
       " 'club_1899 Hoffenheim',\n",
       " 'club_AC Ajaccio',\n",
       " 'club_AS Nancy',\n",
       " 'club_AS Saint-Étienne',\n",
       " 'club_Arsenal FC',\n",
       " 'club_Arsenal FC (R)',\n",
       " 'club_Aston Villa',\n",
       " 'club_Athletic Bilbao',\n",
       " 'club_Atlético Madrid',\n",
       " 'club_Bayer Leverkusen',\n",
       " 'club_Bayern München',\n",
       " 'club_Blackburn Rovers',\n",
       " 'club_Bolton Wanderers',\n",
       " 'club_Bor. Mönchengladbach',\n",
       " 'club_Borussia Dortmund',\n",
       " 'club_Bristol City',\n",
       " 'club_CA Osasuna',\n",
       " 'club_CF Badalona',\n",
       " 'club_Celta Vigo',\n",
       " 'club_Chelsea FC',\n",
       " 'club_Crewe Alexandra',\n",
       " 'club_Deportivo La Coruña',\n",
       " 'club_ESTAC Troyes',\n",
       " 'club_Eintracht Frankfurt',\n",
       " 'club_Espanyol Barcelona',\n",
       " 'club_Everton FC',\n",
       " 'club_FC Augsburg',\n",
       " 'club_FC Barcelona',\n",
       " 'club_FC Lorient',\n",
       " 'club_FC Schalke 04',\n",
       " 'club_FC Sochaux',\n",
       " 'club_Fortuna Düsseldorf',\n",
       " 'club_Fulham FC',\n",
       " 'club_Getafe CF',\n",
       " 'club_Girondins Bordeaux',\n",
       " 'club_Granada CF',\n",
       " 'club_Hamburger SV',\n",
       " 'club_Hannover 96',\n",
       " 'club_Leeds United',\n",
       " 'club_Leicester City',\n",
       " 'club_Levante UD',\n",
       " 'club_Leyton Orient',\n",
       " 'club_Lille OSC',\n",
       " 'club_Liverpool FC',\n",
       " 'club_Liverpool FC (R)',\n",
       " 'club_MSV Duisburg',\n",
       " 'club_Manchester City',\n",
       " 'club_Manchester United',\n",
       " 'club_Millwall FC',\n",
       " 'club_Montpellier HSC',\n",
       " 'club_Málaga CF',\n",
       " 'club_Newcastle United',\n",
       " 'club_Norwich City',\n",
       " 'club_Nottingham Forest',\n",
       " 'club_OGC Nice',\n",
       " 'club_Olympique Lyon',\n",
       " 'club_Olympique Marseille',\n",
       " 'club_Paris Saint-Germain',\n",
       " 'club_Queens Park Rangers',\n",
       " 'club_RCD Mallorca',\n",
       " 'club_Rayo Vallecano',\n",
       " 'club_Reading FC',\n",
       " 'club_Real Betis',\n",
       " 'club_Real Jaén',\n",
       " 'club_Real Madrid',\n",
       " 'club_Real Madrid Castilla',\n",
       " 'club_Real Sociedad',\n",
       " 'club_Real Valladolid',\n",
       " 'club_Real Zaragoza',\n",
       " 'club_SC Bastia',\n",
       " 'club_SC Freiburg',\n",
       " 'club_SD Compostela',\n",
       " 'club_SV Sandhausen',\n",
       " 'club_Sevilla FC',\n",
       " 'club_Southampton FC',\n",
       " 'club_SpVgg Greuther Fürth',\n",
       " 'club_Stade Brest',\n",
       " 'club_Stade Reims',\n",
       " 'club_Stade Rennes',\n",
       " 'club_Stoke City',\n",
       " 'club_Sunderland AFC',\n",
       " 'club_Tottenham Hotspur',\n",
       " 'club_Tottenham Hotspur (R)',\n",
       " 'club_Toulouse FC',\n",
       " 'club_US Boulogne',\n",
       " 'club_Valencia CF',\n",
       " 'club_Valenciennes FC',\n",
       " 'club_VfB Stuttgart',\n",
       " 'club_VfL Wolfsburg',\n",
       " 'club_Werder Bremen',\n",
       " 'club_West Bromwich Albion',\n",
       " 'club_West Ham United',\n",
       " 'club_Wigan Athletic',\n",
       " 'club_Wolverhampton Wanderers',\n",
       " 'club_Évian Thonon Gaillard',\n",
       " 'leagueCountry_England',\n",
       " 'leagueCountry_France',\n",
       " 'leagueCountry_Germany',\n",
       " 'leagueCountry_Spain']"
      ]
     },
     "execution_count": 16,
     "metadata": {},
     "output_type": "execute_result"
    }
   ],
   "source": [
    "categories = group_players.agg({'club': 'first', 'leagueCountry':'first', 'position':'first'})\n",
    "players_wcats = pd.get_dummies(players.join(categories))\n",
    "players_wcats.columns.tolist()\n",
    "\n",
    "# it's useful to see all the features now, but if long output is annoying for you as well, you can \n",
    "# click on the margin of the cell to toggle its scrolling (or double click to hide it ;) )"
   ]
  },
  {
   "cell_type": "markdown",
   "metadata": {},
   "source": [
    "## Output labels\n",
    "\n",
    "Ok, so there was a lot of discussion about what _skin colour_ means, as an output. Since there are several tones of skin colour, we could try to predict one of those and score the output based on how close it is. In that case, we would use a RandomForest**Regressor** instead of RandomForest**Clasifier**. When discussing about it on Slack, @pirroh said:\n",
    "\n",
    ">I agree with you about the potential issue with the multiclass formulation, so in case you want to tackle the problem in that way, you can go ahead with the `RandomForestRegressor`\n",
    ">\n",
    ">for a simple binary classification, though, it’s not necessary\n",
    ">\n",
    ">it’s true that you would be discarding information about the variation of skin color, but that doesn’t hold any additional predictive power when you are just performing a binary classification\n",
    "\n",
    "That, combined with the results of the first part showing the disagreement between _hooman_ raters, allows us to safely reduce the task to binary classification, between `dark` or `light` skin colour. \n",
    "\n",
    "In terms of output label, we'll consider anything with an average rating < 0.5 as `light` (encoded as `0`) and anything >= 0.5 as `dark` (encoded as `1`)"
   ]
  },
  {
   "cell_type": "code",
   "execution_count": 17,
   "metadata": {
    "collapsed": false,
    "scrolled": true
   },
   "outputs": [
    {
     "data": {
      "text/html": [
       "<div>\n",
       "<table border=\"1\" class=\"dataframe\">\n",
       "  <thead>\n",
       "    <tr style=\"text-align: right;\">\n",
       "      <th></th>\n",
       "      <th>rater1</th>\n",
       "      <th>rater2</th>\n",
       "      <th>color</th>\n",
       "    </tr>\n",
       "    <tr>\n",
       "      <th>playerShort</th>\n",
       "      <th></th>\n",
       "      <th></th>\n",
       "      <th></th>\n",
       "    </tr>\n",
       "  </thead>\n",
       "  <tbody>\n",
       "    <tr>\n",
       "      <th>aaron-hughes</th>\n",
       "      <td>0.25</td>\n",
       "      <td>0.00</td>\n",
       "      <td>0.0</td>\n",
       "    </tr>\n",
       "    <tr>\n",
       "      <th>aaron-hunt</th>\n",
       "      <td>0.00</td>\n",
       "      <td>0.25</td>\n",
       "      <td>0.0</td>\n",
       "    </tr>\n",
       "    <tr>\n",
       "      <th>aaron-lennon</th>\n",
       "      <td>0.25</td>\n",
       "      <td>0.25</td>\n",
       "      <td>0.0</td>\n",
       "    </tr>\n",
       "    <tr>\n",
       "      <th>aaron-ramsey</th>\n",
       "      <td>0.00</td>\n",
       "      <td>0.00</td>\n",
       "      <td>0.0</td>\n",
       "    </tr>\n",
       "    <tr>\n",
       "      <th>abdelhamid-el-kaoutari</th>\n",
       "      <td>0.25</td>\n",
       "      <td>0.25</td>\n",
       "      <td>0.0</td>\n",
       "    </tr>\n",
       "    <tr>\n",
       "      <th>abdou-traore_2</th>\n",
       "      <td>0.75</td>\n",
       "      <td>0.75</td>\n",
       "      <td>1.0</td>\n",
       "    </tr>\n",
       "    <tr>\n",
       "      <th>abdoulaye-diallo_2</th>\n",
       "      <td>0.75</td>\n",
       "      <td>1.00</td>\n",
       "      <td>1.0</td>\n",
       "    </tr>\n",
       "    <tr>\n",
       "      <th>abdoulaye-keita_2</th>\n",
       "      <td>0.75</td>\n",
       "      <td>1.00</td>\n",
       "      <td>1.0</td>\n",
       "    </tr>\n",
       "    <tr>\n",
       "      <th>abdoulwhaid-sissoko</th>\n",
       "      <td>1.00</td>\n",
       "      <td>1.00</td>\n",
       "      <td>1.0</td>\n",
       "    </tr>\n",
       "    <tr>\n",
       "      <th>abdul-rahman-baba</th>\n",
       "      <td>0.75</td>\n",
       "      <td>1.00</td>\n",
       "      <td>1.0</td>\n",
       "    </tr>\n",
       "    <tr>\n",
       "      <th>abdul-razak</th>\n",
       "      <td>1.00</td>\n",
       "      <td>1.00</td>\n",
       "      <td>1.0</td>\n",
       "    </tr>\n",
       "    <tr>\n",
       "      <th>abel-aguilar</th>\n",
       "      <td>0.50</td>\n",
       "      <td>0.25</td>\n",
       "      <td>0.0</td>\n",
       "    </tr>\n",
       "    <tr>\n",
       "      <th>abelaziz-barrada</th>\n",
       "      <td>0.00</td>\n",
       "      <td>0.00</td>\n",
       "      <td>0.0</td>\n",
       "    </tr>\n",
       "    <tr>\n",
       "      <th>abou-diaby</th>\n",
       "      <td>0.75</td>\n",
       "      <td>0.75</td>\n",
       "      <td>1.0</td>\n",
       "    </tr>\n",
       "    <tr>\n",
       "      <th>adam-bodzek</th>\n",
       "      <td>0.25</td>\n",
       "      <td>0.25</td>\n",
       "      <td>0.0</td>\n",
       "    </tr>\n",
       "    <tr>\n",
       "      <th>adam-campbell</th>\n",
       "      <td>0.00</td>\n",
       "      <td>0.00</td>\n",
       "      <td>0.0</td>\n",
       "    </tr>\n",
       "    <tr>\n",
       "      <th>adam-federici</th>\n",
       "      <td>0.00</td>\n",
       "      <td>0.00</td>\n",
       "      <td>0.0</td>\n",
       "    </tr>\n",
       "    <tr>\n",
       "      <th>adam-hlousek</th>\n",
       "      <td>0.00</td>\n",
       "      <td>0.00</td>\n",
       "      <td>0.0</td>\n",
       "    </tr>\n",
       "    <tr>\n",
       "      <th>adam-johnson</th>\n",
       "      <td>0.00</td>\n",
       "      <td>0.00</td>\n",
       "      <td>0.0</td>\n",
       "    </tr>\n",
       "    <tr>\n",
       "      <th>adam-morgan</th>\n",
       "      <td>0.25</td>\n",
       "      <td>0.25</td>\n",
       "      <td>0.0</td>\n",
       "    </tr>\n",
       "    <tr>\n",
       "      <th>adam-pinter</th>\n",
       "      <td>0.00</td>\n",
       "      <td>0.00</td>\n",
       "      <td>0.0</td>\n",
       "    </tr>\n",
       "    <tr>\n",
       "      <th>adam-smith_3</th>\n",
       "      <td>0.00</td>\n",
       "      <td>0.00</td>\n",
       "      <td>0.0</td>\n",
       "    </tr>\n",
       "    <tr>\n",
       "      <th>adam-szalai</th>\n",
       "      <td>0.25</td>\n",
       "      <td>0.25</td>\n",
       "      <td>0.0</td>\n",
       "    </tr>\n",
       "    <tr>\n",
       "      <th>adan</th>\n",
       "      <td>0.00</td>\n",
       "      <td>0.00</td>\n",
       "      <td>0.0</td>\n",
       "    </tr>\n",
       "    <tr>\n",
       "      <th>adel-taarabt</th>\n",
       "      <td>0.25</td>\n",
       "      <td>0.25</td>\n",
       "      <td>0.0</td>\n",
       "    </tr>\n",
       "    <tr>\n",
       "      <th>adil-rami</th>\n",
       "      <td>0.00</td>\n",
       "      <td>0.25</td>\n",
       "      <td>0.0</td>\n",
       "    </tr>\n",
       "    <tr>\n",
       "      <th>adrian-colunga</th>\n",
       "      <td>0.25</td>\n",
       "      <td>0.25</td>\n",
       "      <td>0.0</td>\n",
       "    </tr>\n",
       "    <tr>\n",
       "      <th>adrian-mutu</th>\n",
       "      <td>0.25</td>\n",
       "      <td>0.25</td>\n",
       "      <td>0.0</td>\n",
       "    </tr>\n",
       "    <tr>\n",
       "      <th>adrian_2</th>\n",
       "      <td>0.25</td>\n",
       "      <td>0.00</td>\n",
       "      <td>0.0</td>\n",
       "    </tr>\n",
       "    <tr>\n",
       "      <th>adrian_7</th>\n",
       "      <td>0.25</td>\n",
       "      <td>0.25</td>\n",
       "      <td>0.0</td>\n",
       "    </tr>\n",
       "    <tr>\n",
       "      <th>...</th>\n",
       "      <td>...</td>\n",
       "      <td>...</td>\n",
       "      <td>...</td>\n",
       "    </tr>\n",
       "    <tr>\n",
       "      <th>xisco_2</th>\n",
       "      <td>0.25</td>\n",
       "      <td>0.25</td>\n",
       "      <td>0.0</td>\n",
       "    </tr>\n",
       "    <tr>\n",
       "      <th>yacine-brahimi</th>\n",
       "      <td>0.75</td>\n",
       "      <td>0.50</td>\n",
       "      <td>1.0</td>\n",
       "    </tr>\n",
       "    <tr>\n",
       "      <th>yann-mvila</th>\n",
       "      <td>0.50</td>\n",
       "      <td>0.50</td>\n",
       "      <td>0.0</td>\n",
       "    </tr>\n",
       "    <tr>\n",
       "      <th>yannick-djalo</th>\n",
       "      <td>0.75</td>\n",
       "      <td>0.75</td>\n",
       "      <td>1.0</td>\n",
       "    </tr>\n",
       "    <tr>\n",
       "      <th>yannik-schulze</th>\n",
       "      <td>0.00</td>\n",
       "      <td>0.00</td>\n",
       "      <td>0.0</td>\n",
       "    </tr>\n",
       "    <tr>\n",
       "      <th>yassine-benzia</th>\n",
       "      <td>0.25</td>\n",
       "      <td>0.25</td>\n",
       "      <td>0.0</td>\n",
       "    </tr>\n",
       "    <tr>\n",
       "      <th>yassine-el-ghanassi</th>\n",
       "      <td>0.50</td>\n",
       "      <td>0.50</td>\n",
       "      <td>0.0</td>\n",
       "    </tr>\n",
       "    <tr>\n",
       "      <th>yassine-jebbour</th>\n",
       "      <td>0.50</td>\n",
       "      <td>0.75</td>\n",
       "      <td>1.0</td>\n",
       "    </tr>\n",
       "    <tr>\n",
       "      <th>yaya-toure</th>\n",
       "      <td>1.00</td>\n",
       "      <td>1.00</td>\n",
       "      <td>1.0</td>\n",
       "    </tr>\n",
       "    <tr>\n",
       "      <th>yoan-gouffran</th>\n",
       "      <td>0.50</td>\n",
       "      <td>0.50</td>\n",
       "      <td>0.0</td>\n",
       "    </tr>\n",
       "    <tr>\n",
       "      <th>yoann-gourcuff</th>\n",
       "      <td>0.25</td>\n",
       "      <td>0.00</td>\n",
       "      <td>0.0</td>\n",
       "    </tr>\n",
       "    <tr>\n",
       "      <th>yohan-cabaye</th>\n",
       "      <td>0.00</td>\n",
       "      <td>0.00</td>\n",
       "      <td>0.0</td>\n",
       "    </tr>\n",
       "    <tr>\n",
       "      <th>yohandry-orozco</th>\n",
       "      <td>0.50</td>\n",
       "      <td>0.50</td>\n",
       "      <td>0.0</td>\n",
       "    </tr>\n",
       "    <tr>\n",
       "      <th>yossi-benayoun</th>\n",
       "      <td>0.25</td>\n",
       "      <td>0.25</td>\n",
       "      <td>0.0</td>\n",
       "    </tr>\n",
       "    <tr>\n",
       "      <th>younes-belhanda</th>\n",
       "      <td>0.25</td>\n",
       "      <td>0.25</td>\n",
       "      <td>0.0</td>\n",
       "    </tr>\n",
       "    <tr>\n",
       "      <th>younes-kaboul</th>\n",
       "      <td>0.50</td>\n",
       "      <td>0.50</td>\n",
       "      <td>0.0</td>\n",
       "    </tr>\n",
       "    <tr>\n",
       "      <th>youssef-el-arabi</th>\n",
       "      <td>0.50</td>\n",
       "      <td>0.75</td>\n",
       "      <td>1.0</td>\n",
       "    </tr>\n",
       "    <tr>\n",
       "      <th>yunus-malli</th>\n",
       "      <td>0.25</td>\n",
       "      <td>0.00</td>\n",
       "      <td>0.0</td>\n",
       "    </tr>\n",
       "    <tr>\n",
       "      <th>zdenk-pospch</th>\n",
       "      <td>0.00</td>\n",
       "      <td>0.25</td>\n",
       "      <td>0.0</td>\n",
       "    </tr>\n",
       "    <tr>\n",
       "      <th>zdravko-kuzmanovic</th>\n",
       "      <td>0.00</td>\n",
       "      <td>0.00</td>\n",
       "      <td>0.0</td>\n",
       "    </tr>\n",
       "    <tr>\n",
       "      <th>ze-castro</th>\n",
       "      <td>0.25</td>\n",
       "      <td>0.25</td>\n",
       "      <td>0.0</td>\n",
       "    </tr>\n",
       "    <tr>\n",
       "      <th>zhi-gin-lam</th>\n",
       "      <td>0.25</td>\n",
       "      <td>0.25</td>\n",
       "      <td>0.0</td>\n",
       "    </tr>\n",
       "    <tr>\n",
       "      <th>zlatan-alomerovic</th>\n",
       "      <td>0.00</td>\n",
       "      <td>0.00</td>\n",
       "      <td>0.0</td>\n",
       "    </tr>\n",
       "    <tr>\n",
       "      <th>zlatan-ibrahimovic</th>\n",
       "      <td>0.25</td>\n",
       "      <td>0.25</td>\n",
       "      <td>0.0</td>\n",
       "    </tr>\n",
       "    <tr>\n",
       "      <th>zlatko-junuzovic</th>\n",
       "      <td>0.00</td>\n",
       "      <td>0.25</td>\n",
       "      <td>0.0</td>\n",
       "    </tr>\n",
       "    <tr>\n",
       "      <th>zoltan-gera</th>\n",
       "      <td>0.25</td>\n",
       "      <td>0.25</td>\n",
       "      <td>0.0</td>\n",
       "    </tr>\n",
       "    <tr>\n",
       "      <th>zoltan-stieber</th>\n",
       "      <td>0.00</td>\n",
       "      <td>0.00</td>\n",
       "      <td>0.0</td>\n",
       "    </tr>\n",
       "    <tr>\n",
       "      <th>zoumana-camara</th>\n",
       "      <td>0.75</td>\n",
       "      <td>1.00</td>\n",
       "      <td>1.0</td>\n",
       "    </tr>\n",
       "    <tr>\n",
       "      <th>zubikarai</th>\n",
       "      <td>0.00</td>\n",
       "      <td>0.00</td>\n",
       "      <td>0.0</td>\n",
       "    </tr>\n",
       "    <tr>\n",
       "      <th>zurutuza</th>\n",
       "      <td>0.00</td>\n",
       "      <td>0.00</td>\n",
       "      <td>0.0</td>\n",
       "    </tr>\n",
       "  </tbody>\n",
       "</table>\n",
       "<p>1585 rows × 3 columns</p>\n",
       "</div>"
      ],
      "text/plain": [
       "                        rater1  rater2  color\n",
       "playerShort                                  \n",
       "aaron-hughes              0.25    0.00    0.0\n",
       "aaron-hunt                0.00    0.25    0.0\n",
       "aaron-lennon              0.25    0.25    0.0\n",
       "aaron-ramsey              0.00    0.00    0.0\n",
       "abdelhamid-el-kaoutari    0.25    0.25    0.0\n",
       "abdou-traore_2            0.75    0.75    1.0\n",
       "abdoulaye-diallo_2        0.75    1.00    1.0\n",
       "abdoulaye-keita_2         0.75    1.00    1.0\n",
       "abdoulwhaid-sissoko       1.00    1.00    1.0\n",
       "abdul-rahman-baba         0.75    1.00    1.0\n",
       "abdul-razak               1.00    1.00    1.0\n",
       "abel-aguilar              0.50    0.25    0.0\n",
       "abelaziz-barrada          0.00    0.00    0.0\n",
       "abou-diaby                0.75    0.75    1.0\n",
       "adam-bodzek               0.25    0.25    0.0\n",
       "adam-campbell             0.00    0.00    0.0\n",
       "adam-federici             0.00    0.00    0.0\n",
       "adam-hlousek              0.00    0.00    0.0\n",
       "adam-johnson              0.00    0.00    0.0\n",
       "adam-morgan               0.25    0.25    0.0\n",
       "adam-pinter               0.00    0.00    0.0\n",
       "adam-smith_3              0.00    0.00    0.0\n",
       "adam-szalai               0.25    0.25    0.0\n",
       "adan                      0.00    0.00    0.0\n",
       "adel-taarabt              0.25    0.25    0.0\n",
       "adil-rami                 0.00    0.25    0.0\n",
       "adrian-colunga            0.25    0.25    0.0\n",
       "adrian-mutu               0.25    0.25    0.0\n",
       "adrian_2                  0.25    0.00    0.0\n",
       "adrian_7                  0.25    0.25    0.0\n",
       "...                        ...     ...    ...\n",
       "xisco_2                   0.25    0.25    0.0\n",
       "yacine-brahimi            0.75    0.50    1.0\n",
       "yann-mvila                0.50    0.50    0.0\n",
       "yannick-djalo             0.75    0.75    1.0\n",
       "yannik-schulze            0.00    0.00    0.0\n",
       "yassine-benzia            0.25    0.25    0.0\n",
       "yassine-el-ghanassi       0.50    0.50    0.0\n",
       "yassine-jebbour           0.50    0.75    1.0\n",
       "yaya-toure                1.00    1.00    1.0\n",
       "yoan-gouffran             0.50    0.50    0.0\n",
       "yoann-gourcuff            0.25    0.00    0.0\n",
       "yohan-cabaye              0.00    0.00    0.0\n",
       "yohandry-orozco           0.50    0.50    0.0\n",
       "yossi-benayoun            0.25    0.25    0.0\n",
       "younes-belhanda           0.25    0.25    0.0\n",
       "younes-kaboul             0.50    0.50    0.0\n",
       "youssef-el-arabi          0.50    0.75    1.0\n",
       "yunus-malli               0.25    0.00    0.0\n",
       "zdenk-pospch              0.00    0.25    0.0\n",
       "zdravko-kuzmanovic        0.00    0.00    0.0\n",
       "ze-castro                 0.25    0.25    0.0\n",
       "zhi-gin-lam               0.25    0.25    0.0\n",
       "zlatan-alomerovic         0.00    0.00    0.0\n",
       "zlatan-ibrahimovic        0.25    0.25    0.0\n",
       "zlatko-junuzovic          0.00    0.25    0.0\n",
       "zoltan-gera               0.25    0.25    0.0\n",
       "zoltan-stieber            0.00    0.00    0.0\n",
       "zoumana-camara            0.75    1.00    1.0\n",
       "zubikarai                 0.00    0.00    0.0\n",
       "zurutuza                  0.00    0.00    0.0\n",
       "\n",
       "[1585 rows x 3 columns]"
      ]
     },
     "execution_count": 17,
     "metadata": {},
     "output_type": "execute_result"
    }
   ],
   "source": [
    "ratings = group_players.agg({'rater1': 'first', 'rater2':'first'})\n",
    "ratings['color'] = np.round((ratings.rater1 + ratings.rater2) / 2.0)\n",
    "ratings"
   ]
  },
  {
   "cell_type": "markdown",
   "metadata": {},
   "source": [
    "## Assignment 1: predict player's skin color"
   ]
  },
  {
   "cell_type": "markdown",
   "metadata": {},
   "source": [
    "We convert the pandas data frame to lists in order to match the expected data format for scikit learn"
   ]
  },
  {
   "cell_type": "code",
   "execution_count": 18,
   "metadata": {
    "collapsed": false,
    "scrolled": true
   },
   "outputs": [
    {
     "name": "stdout",
     "output_type": "stream",
     "text": [
      "(1585, 135) (1585,)\n",
      "[ -6.82281794e-01  -7.13278032e-01  -4.94788144e-01   3.60069662e+00\n",
      "   1.82325617e+00  -7.49238143e-01  -4.52545497e-01   2.93582806e+00\n",
      "   3.74517228e+00  -6.56835091e-03   9.78722017e-02  -4.05907888e-01\n",
      "  -2.41774914e-03   1.45617475e-01  -2.76604803e-01   6.30026681e-02\n",
      "  -5.24811267e-01   6.26563165e-01   2.11700112e-01  -5.98313958e-01\n",
      "  -6.68861655e-01  -1.35441274e+00   0.00000000e+00   1.00000000e+00\n",
      "   0.00000000e+00   0.00000000e+00   0.00000000e+00   0.00000000e+00\n",
      "   0.00000000e+00   0.00000000e+00   0.00000000e+00   0.00000000e+00\n",
      "   0.00000000e+00   0.00000000e+00   0.00000000e+00   0.00000000e+00\n",
      "   0.00000000e+00   0.00000000e+00   0.00000000e+00   0.00000000e+00\n",
      "   0.00000000e+00   0.00000000e+00   0.00000000e+00   0.00000000e+00\n",
      "   0.00000000e+00   0.00000000e+00   0.00000000e+00   0.00000000e+00\n",
      "   0.00000000e+00   0.00000000e+00   0.00000000e+00   0.00000000e+00\n",
      "   0.00000000e+00   0.00000000e+00   0.00000000e+00   0.00000000e+00\n",
      "   0.00000000e+00   0.00000000e+00   0.00000000e+00   0.00000000e+00\n",
      "   0.00000000e+00   0.00000000e+00   0.00000000e+00   0.00000000e+00\n",
      "   0.00000000e+00   0.00000000e+00   0.00000000e+00   0.00000000e+00\n",
      "   1.00000000e+00   0.00000000e+00   0.00000000e+00   0.00000000e+00\n",
      "   0.00000000e+00   0.00000000e+00   0.00000000e+00   0.00000000e+00\n",
      "   0.00000000e+00   0.00000000e+00   0.00000000e+00   0.00000000e+00\n",
      "   0.00000000e+00   0.00000000e+00   0.00000000e+00   0.00000000e+00\n",
      "   0.00000000e+00   0.00000000e+00   0.00000000e+00   0.00000000e+00\n",
      "   0.00000000e+00   0.00000000e+00   0.00000000e+00   0.00000000e+00\n",
      "   0.00000000e+00   0.00000000e+00   0.00000000e+00   0.00000000e+00\n",
      "   0.00000000e+00   0.00000000e+00   0.00000000e+00   0.00000000e+00\n",
      "   0.00000000e+00   0.00000000e+00   0.00000000e+00   0.00000000e+00\n",
      "   0.00000000e+00   0.00000000e+00   0.00000000e+00   0.00000000e+00\n",
      "   0.00000000e+00   0.00000000e+00   0.00000000e+00   0.00000000e+00\n",
      "   0.00000000e+00   0.00000000e+00   0.00000000e+00   0.00000000e+00\n",
      "   0.00000000e+00   0.00000000e+00   0.00000000e+00   0.00000000e+00\n",
      "   0.00000000e+00   0.00000000e+00   0.00000000e+00   0.00000000e+00\n",
      "   0.00000000e+00   0.00000000e+00   0.00000000e+00   0.00000000e+00\n",
      "   0.00000000e+00   0.00000000e+00   0.00000000e+00   1.00000000e+00\n",
      "   0.00000000e+00   0.00000000e+00   0.00000000e+00]\n",
      "0.0\n"
     ]
    }
   ],
   "source": [
    "X = players_wcats.as_matrix()\n",
    "Y = ratings.color.as_matrix()\n",
    "print(X.shape, Y.shape)\n",
    "print(X[0,:])\n",
    "print(Y[0])"
   ]
  },
  {
   "cell_type": "code",
   "execution_count": 19,
   "metadata": {
    "collapsed": true
   },
   "outputs": [],
   "source": [
    "from sklearn.ensemble import RandomForestClassifier\n",
    "from sklearn import preprocessing\n",
    "from sklearn.model_selection import train_test_split, cross_val_score"
   ]
  },
  {
   "cell_type": "markdown",
   "metadata": {},
   "source": [
    "First, let's do a very simple training and see how (poorly) it does:"
   ]
  },
  {
   "cell_type": "code",
   "execution_count": 37,
   "metadata": {
    "collapsed": false
   },
   "outputs": [
    {
     "name": "stdout",
     "output_type": "stream",
     "text": [
      "Test set accuracy: 0.791798107256\n",
      "Train set accuracy: 0.981072555205\n"
     ]
    }
   ],
   "source": [
    "clsf = RandomForestClassifier(n_jobs=-1)\n",
    "\n",
    "x_tr, x_te, y_tr, y_te = train_test_split(X, Y, train_size=0.8)\n",
    "clsf.fit(x_tr, y_tr)\n",
    "print(\"Test set accuracy:\" , clsf.score(x_te, y_te))\n",
    "print(\"Train set accuracy:\", clsf.score(x_tr, y_tr))"
   ]
  },
  {
   "cell_type": "markdown",
   "metadata": {},
   "source": [
    "So we overfit :) (as expected). We will now try to tune it. \n",
    "\n",
    "First, let's see what's the average depth, so that we know where to start searching for a better one:"
   ]
  },
  {
   "cell_type": "code",
   "execution_count": 21,
   "metadata": {
    "collapsed": false
   },
   "outputs": [
    {
     "data": {
      "text/plain": [
       "23.5"
      ]
     },
     "execution_count": 21,
     "metadata": {},
     "output_type": "execute_result"
    }
   ],
   "source": [
    "np.mean([estimator.tree_.max_depth for estimator in clsf.estimators_]) # undocumented variables ;)"
   ]
  },
  {
   "cell_type": "markdown",
   "metadata": {},
   "source": [
    "Then, let's check for class imbalance:"
   ]
  },
  {
   "cell_type": "code",
   "execution_count": 22,
   "metadata": {
    "collapsed": false
   },
   "outputs": [
    {
     "data": {
      "text/plain": [
       "0.16971608832807572"
      ]
     },
     "execution_count": 22,
     "metadata": {},
     "output_type": "execute_result"
    }
   ],
   "source": [
    "np.sum(Y) / len(Y)"
   ]
  },
  {
   "cell_type": "markdown",
   "metadata": {},
   "source": [
    "So ~83% are light skin. We need to use a balanced estimator"
   ]
  },
  {
   "cell_type": "code",
   "execution_count": 39,
   "metadata": {
    "collapsed": false
   },
   "outputs": [
    {
     "data": {
      "text/plain": [
       "RandomForestClassifier(bootstrap=True, class_weight='balanced',\n",
       "            criterion='gini', max_depth=None, max_features='auto',\n",
       "            max_leaf_nodes=None, min_impurity_split=1e-07,\n",
       "            min_samples_leaf=1, min_samples_split=2,\n",
       "            min_weight_fraction_leaf=0.0, n_estimators=10, n_jobs=-1,\n",
       "            oob_score=False, random_state=None, verbose=0,\n",
       "            warm_start=False)"
      ]
     },
     "execution_count": 39,
     "metadata": {},
     "output_type": "execute_result"
    }
   ],
   "source": [
    "clsf.set_params(class_weight='balanced')"
   ]
  },
  {
   "cell_type": "code",
   "execution_count": 49,
   "metadata": {
    "collapsed": false
   },
   "outputs": [
    {
     "name": "stdout",
     "output_type": "stream",
     "text": [
      "Test set accuracy: 0.801261829653\n",
      "Train set accuracy: 0.97476340694\n"
     ]
    }
   ],
   "source": [
    "clsf.fit(x_tr, y_tr)\n",
    "print(\"Test set accuracy:\" , clsf.score(x_te, y_te))\n",
    "print(\"Train set accuracy:\", clsf.score(x_tr, y_tr))"
   ]
  },
  {
   "cell_type": "markdown",
   "metadata": {},
   "source": [
    "So it does improve the accuracy on the test set a bit"
   ]
  },
  {
   "cell_type": "markdown",
   "metadata": {},
   "source": [
    "Now let's use cross validation for checkin it"
   ]
  },
  {
   "cell_type": "code",
   "execution_count": 50,
   "metadata": {
    "collapsed": true
   },
   "outputs": [],
   "source": [
    "acc = cross_val_score(clsf, X, Y, cv=10, n_jobs=-1)"
   ]
  },
  {
   "cell_type": "code",
   "execution_count": 52,
   "metadata": {
    "collapsed": false
   },
   "outputs": [
    {
     "name": "stdout",
     "output_type": "stream",
     "text": [
      "Bias:  0.172853849013\n",
      "variance:  0.000145948878866\n"
     ]
    }
   ],
   "source": [
    "print(\"Bias: \", 1 - np.mean(acc))\n",
    "print(\"variance: \", np.std(acc)**2)"
   ]
  },
  {
   "cell_type": "markdown",
   "metadata": {},
   "source": [
    "The bias is still quite high"
   ]
  },
  {
   "cell_type": "markdown",
   "metadata": {},
   "source": [
    "Let's check the F1 score:"
   ]
  },
  {
   "cell_type": "code",
   "execution_count": 54,
   "metadata": {
    "collapsed": false
   },
   "outputs": [
    {
     "data": {
      "text/plain": [
       "0.005112454665793951"
      ]
     },
     "execution_count": 54,
     "metadata": {},
     "output_type": "execute_result"
    }
   ],
   "source": [
    "f1s = cross_val_score(clsf, X, Y, cv=10, scoring='f1', n_jobs=-1)\n",
    "f1s.std()**2"
   ]
  },
  {
   "cell_type": "markdown",
   "metadata": {},
   "source": [
    "We could tune our classifier to try and get the darker players right by using an `fbeta` score which gives more weight to them and would fight class imbalance. However, we are not **searching** for black players, but merely trying to predict the colour, so accuracy is a correct measure for our case. "
   ]
  },
  {
   "cell_type": "markdown",
   "metadata": {},
   "source": [
    "Finally, instead of tuning hyper parameters by hand, we will use grid search to find them"
   ]
  },
  {
   "cell_type": "code",
   "execution_count": 55,
   "metadata": {
    "collapsed": false
   },
   "outputs": [
    {
     "data": {
      "text/plain": [
       "{'bootstrap': True,\n",
       " 'class_weight': 'balanced',\n",
       " 'criterion': 'gini',\n",
       " 'max_depth': None,\n",
       " 'max_features': 'auto',\n",
       " 'max_leaf_nodes': None,\n",
       " 'min_impurity_split': 1e-07,\n",
       " 'min_samples_leaf': 1,\n",
       " 'min_samples_split': 2,\n",
       " 'min_weight_fraction_leaf': 0.0,\n",
       " 'n_estimators': 10,\n",
       " 'n_jobs': -1,\n",
       " 'oob_score': False,\n",
       " 'random_state': None,\n",
       " 'verbose': 0,\n",
       " 'warm_start': False}"
      ]
     },
     "execution_count": 55,
     "metadata": {},
     "output_type": "execute_result"
    }
   ],
   "source": [
    "clsf.get_params()"
   ]
  },
  {
   "cell_type": "code",
   "execution_count": 57,
   "metadata": {
    "collapsed": false
   },
   "outputs": [
    {
     "name": "stdout",
     "output_type": "stream",
     "text": [
      "Best params: {'max_depth': 12, 'n_estimators': 1000}\n"
     ]
    }
   ],
   "source": [
    "from sklearn.model_selection import GridSearchCV\n",
    "clsf.set_params(class_weight='balanced')\n",
    "tuned_params = {'n_estimators': [50, 500, 1000], 'max_depth':np.arange(3, 15, 3)}\n",
    "cv_clsf = GridSearchCV(clsf, tuned_params, cv=5, scoring='accuracy', n_jobs=6)\n",
    "cv_clsf.fit(X, Y)\n",
    "print(\"Best params:\", cv_clsf.best_params_)"
   ]
  },
  {
   "cell_type": "markdown",
   "metadata": {},
   "source": [
    "And the result with this is:"
   ]
  },
  {
   "cell_type": "code",
   "execution_count": 58,
   "metadata": {
    "collapsed": false
   },
   "outputs": [
    {
     "data": {
      "text/plain": [
       "0.83848580441640375"
      ]
     },
     "execution_count": 58,
     "metadata": {},
     "output_type": "execute_result"
    }
   ],
   "source": [
    "cv_clsf.cv_results_['mean_test_score'][cv_clsf.best_index_]"
   ]
  },
  {
   "cell_type": "code",
   "execution_count": 60,
   "metadata": {
    "collapsed": false
   },
   "outputs": [],
   "source": [
    "clsf = cv_clsf.best_estimator_"
   ]
  },
  {
   "cell_type": "markdown",
   "metadata": {},
   "source": [
    "### Feature importance"
   ]
  },
  {
   "cell_type": "code",
   "execution_count": 66,
   "metadata": {
    "collapsed": false,
    "scrolled": true
   },
   "outputs": [
    {
     "data": {
      "image/png": "[encoded data removed]",
      "text/plain": [
       "<matplotlib.figure.Figure at 0x7efe68d019e8>"
      ]
     },
     "metadata": {},
     "output_type": "display_data"
    },
    {
     "name": "stdout",
     "output_type": "stream",
     "text": [
      "Feature ranking:\n",
      "1. feature yellowReds (0.047767)\n",
      "2. feature weight (0.047659)\n",
      "3. feature yellowCards (0.046724)\n",
      "4. feature ties (0.046400)\n",
      "5. feature victories (0.044157)\n",
      "6. feature redCards (0.042496)\n",
      "7. feature goals (0.040451)\n",
      "8. feature games (0.040279)\n",
      "9. feature defeats (0.038953)\n",
      "10. feature height (0.038323)\n",
      "11. feature cor_meanIATredCards (0.037993)\n",
      "12. feature cor_meanIATyellowCards (0.036999)\n",
      "13. feature cor_meanIATyellowReds (0.033255)\n",
      "14. feature cor_meanExpredCards (0.031246)\n",
      "15. feature cor_meanExpyellowCards (0.030639)\n",
      "16. feature cor_meanExpyellowReds (0.028397)\n",
      "17. feature percentage_victories (0.027910)\n",
      "18. feature percentage_ties (0.027674)\n",
      "19. feature percentage_defeats (0.026181)\n",
      "20. feature percentage_redCards (0.026045)\n",
      "21. feature percentage_yellowReds (0.025039)\n",
      "22. feature percentage_yellowCards (0.024047)\n",
      "23. feature position_Attacking Midfielder (0.021398)\n",
      "24. feature position_Center Back (0.017458)\n",
      "25. feature position_Center Forward (0.012937)\n",
      "26. feature position_Center Midfielder (0.011738)\n",
      "27. feature position_Defensive Midfielder (0.011168)\n",
      "28. feature position_Goalkeeper (0.009398)\n",
      "29. feature position_Left Fullback (0.009033)\n",
      "30. feature position_Left Midfielder (0.006785)\n",
      "31. feature position_Left Winger (0.005345)\n",
      "32. feature position_Right Fullback (0.004242)\n",
      "33. feature position_Right Midfielder (0.003834)\n",
      "34. feature position_Right Winger (0.003731)\n",
      "35. feature club_1. FC Nürnberg (0.003671)\n",
      "36. feature club_1. FSV Mainz 05 (0.003424)\n",
      "37. feature club_1899 Hoffenheim (0.003419)\n",
      "38. feature club_AC Ajaccio (0.003237)\n",
      "39. feature club_AS Nancy (0.002887)\n",
      "40. feature club_AS Saint-Étienne (0.002875)\n",
      "41. feature club_Arsenal FC (0.002412)\n",
      "42. feature club_Arsenal FC (R) (0.002356)\n",
      "43. feature club_Aston Villa (0.002171)\n",
      "44. feature club_Athletic Bilbao (0.002090)\n",
      "45. feature club_Atlético Madrid (0.001997)\n",
      "46. feature club_Bayer Leverkusen (0.001779)\n",
      "47. feature club_Bayern München (0.001703)\n",
      "48. feature club_Blackburn Rovers (0.001612)\n",
      "49. feature club_Bolton Wanderers (0.001519)\n",
      "50. feature club_Bor. Mönchengladbach (0.001516)\n",
      "51. feature club_Borussia Dortmund (0.001428)\n",
      "52. feature club_Bristol City (0.001417)\n",
      "53. feature club_CA Osasuna (0.001388)\n",
      "54. feature club_CF Badalona (0.001354)\n",
      "55. feature club_Celta Vigo (0.001343)\n",
      "56. feature club_Chelsea FC (0.001249)\n",
      "57. feature club_Crewe Alexandra (0.001228)\n",
      "58. feature club_Deportivo La Coruña (0.001209)\n",
      "59. feature club_ESTAC Troyes (0.001151)\n",
      "60. feature club_Eintracht Frankfurt (0.001134)\n",
      "61. feature club_Espanyol Barcelona (0.001102)\n",
      "62. feature club_Everton FC (0.001098)\n",
      "63. feature club_FC Augsburg (0.001096)\n",
      "64. feature club_FC Barcelona (0.001092)\n",
      "65. feature club_FC Lorient (0.001087)\n",
      "66. feature club_FC Schalke 04 (0.001084)\n",
      "67. feature club_FC Sochaux (0.001081)\n",
      "68. feature club_Fortuna Düsseldorf (0.001081)\n",
      "69. feature club_Fulham FC (0.001067)\n",
      "70. feature club_Getafe CF (0.001027)\n",
      "71. feature club_Girondins Bordeaux (0.001016)\n",
      "72. feature club_Granada CF (0.001014)\n",
      "73. feature club_Hamburger SV (0.001000)\n",
      "74. feature club_Hannover 96 (0.000989)\n",
      "75. feature club_Leeds United (0.000984)\n",
      "76. feature club_Leicester City (0.000973)\n",
      "77. feature club_Levante UD (0.000964)\n",
      "78. feature club_Leyton Orient (0.000961)\n",
      "79. feature club_Lille OSC (0.000936)\n",
      "80. feature club_Liverpool FC (0.000881)\n",
      "81. feature club_Liverpool FC (R) (0.000877)\n",
      "82. feature club_MSV Duisburg (0.000842)\n",
      "83. feature club_Manchester City (0.000834)\n",
      "84. feature club_Manchester United (0.000828)\n",
      "85. feature club_Millwall FC (0.000824)\n",
      "86. feature club_Montpellier HSC (0.000821)\n",
      "87. feature club_Málaga CF (0.000806)\n",
      "88. feature club_Newcastle United (0.000802)\n",
      "89. feature club_Norwich City (0.000797)\n",
      "90. feature club_Nottingham Forest (0.000793)\n",
      "91. feature club_OGC Nice (0.000759)\n",
      "92. feature club_Olympique Lyon (0.000751)\n",
      "93. feature club_Olympique Marseille (0.000725)\n",
      "94. feature club_Paris Saint-Germain (0.000718)\n",
      "95. feature club_Queens Park Rangers (0.000697)\n",
      "96. feature club_RCD Mallorca (0.000695)\n",
      "97. feature club_Rayo Vallecano (0.000653)\n",
      "98. feature club_Reading FC (0.000652)\n",
      "99. feature club_Real Betis (0.000652)\n",
      "100. feature club_Real Jaén (0.000646)\n",
      "101. feature club_Real Madrid (0.000583)\n",
      "102. feature club_Real Madrid Castilla (0.000554)\n",
      "103. feature club_Real Sociedad (0.000547)\n",
      "104. feature club_Real Valladolid (0.000497)\n",
      "105. feature club_Real Zaragoza (0.000480)\n",
      "106. feature club_SC Bastia (0.000450)\n",
      "107. feature club_SC Freiburg (0.000425)\n",
      "108. feature club_SD Compostela (0.000420)\n",
      "109. feature club_SV Sandhausen (0.000414)\n",
      "110. feature club_Sevilla FC (0.000373)\n",
      "111. feature club_Southampton FC (0.000370)\n",
      "112. feature club_SpVgg Greuther Fürth (0.000359)\n",
      "113. feature club_Stade Brest (0.000286)\n",
      "114. feature club_Stade Reims (0.000266)\n",
      "115. feature club_Stade Rennes (0.000191)\n",
      "116. feature club_Stoke City (0.000181)\n",
      "117. feature club_Sunderland AFC (0.000131)\n",
      "118. feature club_Tottenham Hotspur (0.000086)\n",
      "119. feature club_Tottenham Hotspur (R) (0.000056)\n",
      "120. feature club_Toulouse FC (0.000048)\n",
      "121. feature club_US Boulogne (0.000041)\n",
      "122. feature club_Valencia CF (0.000039)\n",
      "123. feature club_Valenciennes FC (0.000035)\n",
      "124. feature club_VfB Stuttgart (0.000032)\n",
      "125. feature club_VfL Wolfsburg (0.000030)\n",
      "126. feature club_Werder Bremen (0.000030)\n",
      "127. feature club_West Bromwich Albion (0.000029)\n",
      "128. feature club_West Ham United (0.000022)\n",
      "129. feature club_Wigan Athletic (0.000017)\n",
      "130. feature club_Wolverhampton Wanderers (0.000008)\n",
      "131. feature club_Évian Thonon Gaillard (0.000006)\n",
      "132. feature leagueCountry_England (0.000005)\n",
      "133. feature leagueCountry_France (0.000005)\n",
      "134. feature leagueCountry_Germany (0.000005)\n",
      "135. feature leagueCountry_Spain (0.000001)\n"
     ]
    }
   ],
   "source": [
    "importances = clsf.feature_importances_\n",
    "std = np.std([tree.feature_importances_ for tree in clsf.estimators_],\n",
    "             axis=0)\n",
    "indices = np.argsort(importances)[::-1]\n",
    "\n",
    "# Plot the feature importances of the forest\n",
    "plt.figure(figsize=(20,10))\n",
    "plt.title(\"Feature importances\")\n",
    "plt.bar(range(X.shape[1]), importances[indices],\n",
    "       color=\"r\", yerr=std[indices], align=\"center\")\n",
    "plt.xticks(range(X.shape[1]), indices)\n",
    "plt.xlim([-1, X.shape[1]])\n",
    "plt.show()\n",
    "\n",
    "# Print the feature ranking\n",
    "print(\"Feature ranking:\")\n",
    "\n",
    "for f in range(X.shape[1]):\n",
    "    print(\"%d. feature %s (%f)\" % (f + 1,  players_wcats.columns[f], importances[indices[f]]))\n"
   ]
  },
  {
   "cell_type": "markdown",
   "metadata": {},
   "source": [
    "### Discussion\n",
    "\n",
    "We note that the top 10 most discerning features are the 'natural' ones from the dataset. Moreover, the distribution between them is quite low, which means they all rank equally and none is hard to tell which is more important.\n",
    "\n",
    "As expected, the binary features have much lower scores, as the entropy per feature is lower due to the split.\n",
    "\n",
    "If we kept only the categorical features, the order would've been different since there is less variance among them."
   ]
  }
 ],
 "metadata": {
  "anaconda-cloud": {},
  "kernelspec": {
   "display_name": "Python [Root]",
   "language": "python",
   "name": "Python [Root]"
  },
  "language_info": {
   "codemirror_mode": {
    "name": "ipython",
    "version": 3
   },
   "file_extension": ".py",
   "mimetype": "text/x-python",
   "name": "python",
   "nbconvert_exporter": "python",
   "pygments_lexer": "ipython3",
   "version": "3.5.2"
  }
 },
 "nbformat": 4,
 "nbformat_minor": 0
}

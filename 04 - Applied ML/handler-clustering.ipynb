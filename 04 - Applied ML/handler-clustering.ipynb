{
 "cells": [
  {
   "cell_type": "markdown",
   "metadata": {},
   "source": [
    "# Homework 4: machine learning"
   ]
  },
  {
   "cell_type": "markdown",
   "metadata": {},
   "source": [
    "---\n",
    "### NOTE: Sometimes we refer to [the original work](http://nbviewer.jupyter.org/github/mathewzilla/redcard/blob/master/Crowdstorming_visualisation.ipynb) \n",
    "\n",
    "---"
   ]
  },
  {
   "cell_type": "code",
   "execution_count": 25,
   "metadata": {
    "collapsed": false
   },
   "outputs": [
    {
     "name": "stdout",
     "output_type": "stream",
     "text": [
      "The autoreload extension is already loaded. To reload it, use:\n",
      "  %reload_ext autoreload\n"
     ]
    }
   ],
   "source": [
    "%load_ext autoreload\n",
    "%autoreload 2 \n",
    "%matplotlib inline"
   ]
  },
  {
   "cell_type": "markdown",
   "metadata": {},
   "source": [
    "You need to install `scikit v0.18`: `conda update scikit-learn`"
   ]
  },
  {
   "cell_type": "code",
   "execution_count": 26,
   "metadata": {
    "collapsed": false
   },
   "outputs": [],
   "source": [
    "import pandas as pd\n",
    "import numpy as np\n",
    "import os\n",
    "import matplotlib.pyplot as plt\n",
    "from sklearn.ensemble import RandomForestClassifier\n",
    "from sklearn import preprocessing\n",
    "from sklearn.model_selection import cross_val_score, KFold"
   ]
  },
  {
   "cell_type": "markdown",
   "metadata": {},
   "source": [
    "Read and minimal cleanup: for the first part, we need the labels (i.e. colour ratings), so we can't use the points where they don't exist. \n",
    "\n",
    "Since we will later `aggregate` the players, it is **important** to note that this doesn't produce inconsistencies because `dyads` is constructed by a join between a `players` table and a `referees` table, so it is natural that the missing values are missing for all instances of a player."
   ]
  },
  {
   "cell_type": "code",
   "execution_count": 27,
   "metadata": {
    "collapsed": false
   },
   "outputs": [
    {
     "name": "stdout",
     "output_type": "stream",
     "text": [
      "(146028, 27)\n",
      "(124621, 27)\n",
      "0\n"
     ]
    }
   ],
   "source": [
    "dyads = pd.read_csv(\"CrowdstormingDataJuly1st.csv\", index_col=0)\n",
    "print(dyads.shape)\n",
    "\n",
    "dyads.dropna(subset=['rater1'], inplace=True)\n",
    "print(dyads.shape)\n",
    "\n",
    "# since both values are missing at the same time, this should be 0:\n",
    "print(dyads.rater2.isnull().sum())\n",
    "\n",
    "# the groupby object user later on\n",
    "group_players = dyads.groupby(level=0)"
   ]
  },
  {
   "cell_type": "code",
   "execution_count": 28,
   "metadata": {
    "collapsed": false
   },
   "outputs": [
    {
     "data": {
      "text/html": [
       "<div>\n",
       "<table border=\"1\" class=\"dataframe\">\n",
       "  <thead>\n",
       "    <tr style=\"text-align: right;\">\n",
       "      <th></th>\n",
       "      <th>player</th>\n",
       "      <th>club</th>\n",
       "      <th>leagueCountry</th>\n",
       "      <th>birthday</th>\n",
       "      <th>height</th>\n",
       "      <th>weight</th>\n",
       "      <th>position</th>\n",
       "      <th>games</th>\n",
       "      <th>victories</th>\n",
       "      <th>ties</th>\n",
       "      <th>...</th>\n",
       "      <th>rater2</th>\n",
       "      <th>refNum</th>\n",
       "      <th>refCountry</th>\n",
       "      <th>Alpha_3</th>\n",
       "      <th>meanIAT</th>\n",
       "      <th>nIAT</th>\n",
       "      <th>seIAT</th>\n",
       "      <th>meanExp</th>\n",
       "      <th>nExp</th>\n",
       "      <th>seExp</th>\n",
       "    </tr>\n",
       "    <tr>\n",
       "      <th>playerShort</th>\n",
       "      <th></th>\n",
       "      <th></th>\n",
       "      <th></th>\n",
       "      <th></th>\n",
       "      <th></th>\n",
       "      <th></th>\n",
       "      <th></th>\n",
       "      <th></th>\n",
       "      <th></th>\n",
       "      <th></th>\n",
       "      <th></th>\n",
       "      <th></th>\n",
       "      <th></th>\n",
       "      <th></th>\n",
       "      <th></th>\n",
       "      <th></th>\n",
       "      <th></th>\n",
       "      <th></th>\n",
       "      <th></th>\n",
       "      <th></th>\n",
       "      <th></th>\n",
       "    </tr>\n",
       "  </thead>\n",
       "  <tbody>\n",
       "    <tr>\n",
       "      <th>lucas-wilchez</th>\n",
       "      <td>Lucas Wilchez</td>\n",
       "      <td>Real Zaragoza</td>\n",
       "      <td>Spain</td>\n",
       "      <td>31.08.1983</td>\n",
       "      <td>177.0</td>\n",
       "      <td>72.0</td>\n",
       "      <td>Attacking Midfielder</td>\n",
       "      <td>1</td>\n",
       "      <td>0</td>\n",
       "      <td>0</td>\n",
       "      <td>...</td>\n",
       "      <td>0.50</td>\n",
       "      <td>1</td>\n",
       "      <td>1</td>\n",
       "      <td>GRC</td>\n",
       "      <td>0.326391</td>\n",
       "      <td>712.0</td>\n",
       "      <td>0.000564</td>\n",
       "      <td>0.396000</td>\n",
       "      <td>750.0</td>\n",
       "      <td>0.002696</td>\n",
       "    </tr>\n",
       "    <tr>\n",
       "      <th>john-utaka</th>\n",
       "      <td>John Utaka</td>\n",
       "      <td>Montpellier HSC</td>\n",
       "      <td>France</td>\n",
       "      <td>08.01.1982</td>\n",
       "      <td>179.0</td>\n",
       "      <td>82.0</td>\n",
       "      <td>Right Winger</td>\n",
       "      <td>1</td>\n",
       "      <td>0</td>\n",
       "      <td>0</td>\n",
       "      <td>...</td>\n",
       "      <td>0.75</td>\n",
       "      <td>2</td>\n",
       "      <td>2</td>\n",
       "      <td>ZMB</td>\n",
       "      <td>0.203375</td>\n",
       "      <td>40.0</td>\n",
       "      <td>0.010875</td>\n",
       "      <td>-0.204082</td>\n",
       "      <td>49.0</td>\n",
       "      <td>0.061504</td>\n",
       "    </tr>\n",
       "    <tr>\n",
       "      <th>aaron-hughes</th>\n",
       "      <td>Aaron Hughes</td>\n",
       "      <td>Fulham FC</td>\n",
       "      <td>England</td>\n",
       "      <td>08.11.1979</td>\n",
       "      <td>182.0</td>\n",
       "      <td>71.0</td>\n",
       "      <td>Center Back</td>\n",
       "      <td>1</td>\n",
       "      <td>0</td>\n",
       "      <td>0</td>\n",
       "      <td>...</td>\n",
       "      <td>0.00</td>\n",
       "      <td>4</td>\n",
       "      <td>4</td>\n",
       "      <td>LUX</td>\n",
       "      <td>0.325185</td>\n",
       "      <td>127.0</td>\n",
       "      <td>0.003297</td>\n",
       "      <td>0.538462</td>\n",
       "      <td>130.0</td>\n",
       "      <td>0.013752</td>\n",
       "    </tr>\n",
       "    <tr>\n",
       "      <th>aleksandar-kolarov</th>\n",
       "      <td>Aleksandar Kolarov</td>\n",
       "      <td>Manchester City</td>\n",
       "      <td>England</td>\n",
       "      <td>10.11.1985</td>\n",
       "      <td>187.0</td>\n",
       "      <td>80.0</td>\n",
       "      <td>Left Fullback</td>\n",
       "      <td>1</td>\n",
       "      <td>1</td>\n",
       "      <td>0</td>\n",
       "      <td>...</td>\n",
       "      <td>0.25</td>\n",
       "      <td>4</td>\n",
       "      <td>4</td>\n",
       "      <td>LUX</td>\n",
       "      <td>0.325185</td>\n",
       "      <td>127.0</td>\n",
       "      <td>0.003297</td>\n",
       "      <td>0.538462</td>\n",
       "      <td>130.0</td>\n",
       "      <td>0.013752</td>\n",
       "    </tr>\n",
       "    <tr>\n",
       "      <th>alexander-tettey</th>\n",
       "      <td>Alexander Tettey</td>\n",
       "      <td>Norwich City</td>\n",
       "      <td>England</td>\n",
       "      <td>04.04.1986</td>\n",
       "      <td>180.0</td>\n",
       "      <td>68.0</td>\n",
       "      <td>Defensive Midfielder</td>\n",
       "      <td>1</td>\n",
       "      <td>0</td>\n",
       "      <td>0</td>\n",
       "      <td>...</td>\n",
       "      <td>1.00</td>\n",
       "      <td>4</td>\n",
       "      <td>4</td>\n",
       "      <td>LUX</td>\n",
       "      <td>0.325185</td>\n",
       "      <td>127.0</td>\n",
       "      <td>0.003297</td>\n",
       "      <td>0.538462</td>\n",
       "      <td>130.0</td>\n",
       "      <td>0.013752</td>\n",
       "    </tr>\n",
       "  </tbody>\n",
       "</table>\n",
       "<p>5 rows × 27 columns</p>\n",
       "</div>"
      ],
      "text/plain": [
       "                                player             club leagueCountry  \\\n",
       "playerShort                                                             \n",
       "lucas-wilchez            Lucas Wilchez    Real Zaragoza         Spain   \n",
       "john-utaka                  John Utaka  Montpellier HSC        France   \n",
       "aaron-hughes              Aaron Hughes        Fulham FC       England   \n",
       "aleksandar-kolarov  Aleksandar Kolarov  Manchester City       England   \n",
       "alexander-tettey      Alexander Tettey     Norwich City       England   \n",
       "\n",
       "                      birthday  height  weight              position  games  \\\n",
       "playerShort                                                                   \n",
       "lucas-wilchez       31.08.1983   177.0    72.0  Attacking Midfielder      1   \n",
       "john-utaka          08.01.1982   179.0    82.0          Right Winger      1   \n",
       "aaron-hughes        08.11.1979   182.0    71.0           Center Back      1   \n",
       "aleksandar-kolarov  10.11.1985   187.0    80.0         Left Fullback      1   \n",
       "alexander-tettey    04.04.1986   180.0    68.0  Defensive Midfielder      1   \n",
       "\n",
       "                    victories  ties    ...     rater2  refNum  refCountry  \\\n",
       "playerShort                            ...                                  \n",
       "lucas-wilchez               0     0    ...       0.50       1           1   \n",
       "john-utaka                  0     0    ...       0.75       2           2   \n",
       "aaron-hughes                0     0    ...       0.00       4           4   \n",
       "aleksandar-kolarov          1     0    ...       0.25       4           4   \n",
       "alexander-tettey            0     0    ...       1.00       4           4   \n",
       "\n",
       "                    Alpha_3   meanIAT   nIAT     seIAT   meanExp   nExp  \\\n",
       "playerShort                                                               \n",
       "lucas-wilchez           GRC  0.326391  712.0  0.000564  0.396000  750.0   \n",
       "john-utaka              ZMB  0.203375   40.0  0.010875 -0.204082   49.0   \n",
       "aaron-hughes            LUX  0.325185  127.0  0.003297  0.538462  130.0   \n",
       "aleksandar-kolarov      LUX  0.325185  127.0  0.003297  0.538462  130.0   \n",
       "alexander-tettey        LUX  0.325185  127.0  0.003297  0.538462  130.0   \n",
       "\n",
       "                       seExp  \n",
       "playerShort                   \n",
       "lucas-wilchez       0.002696  \n",
       "john-utaka          0.061504  \n",
       "aaron-hughes        0.013752  \n",
       "aleksandar-kolarov  0.013752  \n",
       "alexander-tettey    0.013752  \n",
       "\n",
       "[5 rows x 27 columns]"
      ]
     },
     "execution_count": 28,
     "metadata": {},
     "output_type": "execute_result"
    }
   ],
   "source": [
    "dyads.head()"
   ]
  },
  {
   "cell_type": "markdown",
   "metadata": {},
   "source": [
    "Let's see the numbers: \n",
    "\n",
    "<sub>yes, they were done by the other guys, but it's useful to have them at hand:</sub>\n",
    "\n",
    "Also, they were excluding some referees that have been _carried over_, and that only removes ~3% of the data. Since we're not doing statistics on referees, we won't drop them. Every little data helps :)"
   ]
  },
  {
   "cell_type": "code",
   "execution_count": 29,
   "metadata": {
    "collapsed": false
   },
   "outputs": [
    {
     "name": "stdout",
     "output_type": "stream",
     "text": [
      "Number of players:  1585\n",
      "Number of referees:  2978\n"
     ]
    }
   ],
   "source": [
    "print(\"Number of players: \" , dyads.index.unique().size)\n",
    "print(\"Number of referees: \", dyads.refNum.unique().size)"
   ]
  },
  {
   "cell_type": "markdown",
   "metadata": {},
   "source": [
    "The original analysis mentioned that \"*the two raters disagree on 28742 or 19% of the time*\". Since there are only 1585 players, it means they ran it on the `dyads` set. _**WHY?**_ That doesn't make sense, so let's just check that the ratings for each player are consistent:"
   ]
  },
  {
   "cell_type": "markdown",
   "metadata": {},
   "source": [
    "for the group of each player, we check that the number of values in `raterX` is **exactly** one:"
   ]
  },
  {
   "cell_type": "code",
   "execution_count": 30,
   "metadata": {
    "collapsed": false
   },
   "outputs": [
    {
     "name": "stdout",
     "output_type": "stream",
     "text": [
      "                       rater1_INconsistent rater2_INconsistent\n",
      "playerShort                                                   \n",
      "aaron-hughes                         False               False\n",
      "aaron-hunt                           False               False\n",
      "aaron-lennon                         False               False\n",
      "aaron-ramsey                         False               False\n",
      "abdelhamid-el-kaoutari               False               False\n",
      "Rater1 has been inconsistent 0 times\n",
      "Rater2 has been inconsistent 0 times\n"
     ]
    }
   ],
   "source": [
    "def build_player_consitency(player_df):\n",
    "    \"\"\" Needs to return a Series of {col_name: col_value}. \"\"\"\n",
    "    return pd.Series({col+\"_INconsistent\" : (player_df[col].unique().size != 1) \n",
    "                                             for col in ['rater1', 'rater2'] })\n",
    "consistency = group_players.apply(build_player_consitency)\n",
    "print(consistency.head())\n",
    "print(\"Rater1 has been inconsistent %d times\" % consistency.rater1_INconsistent.sum())\n",
    "print(\"Rater2 has been inconsistent %d times\" % consistency.rater2_INconsistent.sum())"
   ]
  },
  {
   "cell_type": "markdown",
   "metadata": {},
   "source": [
    "OK, so they _ARE_ consistent. This means that their statistic doesn't account for players who have more matches than others, so the numbers are skewed. Let's check again, this time on _unique_ players"
   ]
  },
  {
   "cell_type": "code",
   "execution_count": 31,
   "metadata": {
    "collapsed": false
   },
   "outputs": [
    {
     "name": "stdout",
     "output_type": "stream",
     "text": [
      "The raters disagree for 0.239% of the players\n",
      "Diffs std dev:  0.11594303556667578\n",
      "Max disagreement value 2.0, occuring 2 times\n"
     ]
    }
   ],
   "source": [
    "player_ratings = group_players.agg({'rater1':'first', 'rater2':'first'})\n",
    "diffs = player_ratings.rater1 - player_ratings.rater2\n",
    "print(\"The raters disagree for {p:.3f}% of the players\".format(p=(diffs != 0).sum() / len(diffs) ))\n",
    "\n",
    "print(\"Diffs std dev: \", diffs.std())\n",
    "\n",
    "max_diff = diffs.abs().max()\n",
    "num_occur = (diffs.abs() == max_diff).sum()\n",
    "print(\"Max disagreement value {0}, occuring {1} times\".format(max_diff * 4, num_occur)) # *4 to pass from float to int"
   ]
  },
  {
   "cell_type": "markdown",
   "metadata": {},
   "source": [
    "So this means:\n",
    "  1. that there is slightly more agreement between the raters for players who have more entries in `dyads` i.e. who played under more referees\n",
    "  2. that if we use both labels, using `accuracy` as a measure of performance is not a very good idea. Keep in mind that the differences are not ordered, so it could have an impact double as big on the accuracy, i.e. at most $1 - 2 * \\mathit{disagreementPercentage} = 1 - 2 * 0.24 \\approx 0.5 $"
   ]
  },
  {
   "cell_type": "markdown",
   "metadata": {},
   "source": [
    "#### Curiosity\n",
    "Who are the 'controversial' guys :) ?"
   ]
  },
  {
   "cell_type": "code",
   "execution_count": 32,
   "metadata": {
    "collapsed": false
   },
   "outputs": [
    {
     "data": {
      "text/plain": [
       "playerShort\n",
       "kyle-walker    -0.5\n",
       "mario-goetze   -0.5\n",
       "dtype: float64"
      ]
     },
     "execution_count": 32,
     "metadata": {},
     "output_type": "execute_result"
    }
   ],
   "source": [
    "diffs[diffs.abs() == max_diff]"
   ]
  },
  {
   "cell_type": "markdown",
   "metadata": {},
   "source": [
    "<img style='float:left' alt='Kyle-walker' src='http://www.thefootballsocial.co.uk/images/players/Tottenham%20Hotspur/Kyle%20Walker.jpg' /> <img alt='Mario_Goetze' src='http://i0.web.de/image/176/31756176,pd=2/mario-goetze.jpg' width=300/>"
   ]
  },
  {
   "cell_type": "markdown",
   "metadata": {},
   "source": [
    "## Feature selection"
   ]
  },
  {
   "cell_type": "markdown",
   "metadata": {},
   "source": [
    "Aggregate the data for each player we consider the following variables:\n",
    "- the height and weight of the player\n",
    "- The total amount of games played\n",
    "- The total amount of victories, ties and defeats\n",
    "- the total number of goals made\n",
    "- The total number of red cards, yellow reds and yellow cards received\n",
    "- The respective ratings\n",
    "- The league country"
   ]
  },
  {
   "cell_type": "code",
   "execution_count": 33,
   "metadata": {
    "collapsed": false,
    "scrolled": true
   },
   "outputs": [
    {
     "name": "stdout",
     "output_type": "stream",
     "text": [
      "(1585, 13)\n"
     ]
    },
    {
     "data": {
      "text/html": [
       "<div>\n",
       "<table border=\"1\" class=\"dataframe\">\n",
       "  <thead>\n",
       "    <tr style=\"text-align: right;\">\n",
       "      <th></th>\n",
       "      <th>rater2</th>\n",
       "      <th>height</th>\n",
       "      <th>yellowReds</th>\n",
       "      <th>defeats</th>\n",
       "      <th>weight</th>\n",
       "      <th>redCards</th>\n",
       "      <th>ties</th>\n",
       "      <th>goals</th>\n",
       "      <th>victories</th>\n",
       "      <th>leagueCountry</th>\n",
       "      <th>rater1</th>\n",
       "      <th>games</th>\n",
       "      <th>yellowCards</th>\n",
       "    </tr>\n",
       "    <tr>\n",
       "      <th>playerShort</th>\n",
       "      <th></th>\n",
       "      <th></th>\n",
       "      <th></th>\n",
       "      <th></th>\n",
       "      <th></th>\n",
       "      <th></th>\n",
       "      <th></th>\n",
       "      <th></th>\n",
       "      <th></th>\n",
       "      <th></th>\n",
       "      <th></th>\n",
       "      <th></th>\n",
       "      <th></th>\n",
       "    </tr>\n",
       "  </thead>\n",
       "  <tbody>\n",
       "    <tr>\n",
       "      <th>aaron-hughes</th>\n",
       "      <td>0.00</td>\n",
       "      <td>182.0</td>\n",
       "      <td>0</td>\n",
       "      <td>228</td>\n",
       "      <td>71.0</td>\n",
       "      <td>0</td>\n",
       "      <td>179</td>\n",
       "      <td>9</td>\n",
       "      <td>247</td>\n",
       "      <td>England</td>\n",
       "      <td>0.25</td>\n",
       "      <td>654</td>\n",
       "      <td>19</td>\n",
       "    </tr>\n",
       "    <tr>\n",
       "      <th>aaron-hunt</th>\n",
       "      <td>0.25</td>\n",
       "      <td>183.0</td>\n",
       "      <td>0</td>\n",
       "      <td>122</td>\n",
       "      <td>73.0</td>\n",
       "      <td>1</td>\n",
       "      <td>73</td>\n",
       "      <td>62</td>\n",
       "      <td>141</td>\n",
       "      <td>Germany</td>\n",
       "      <td>0.00</td>\n",
       "      <td>336</td>\n",
       "      <td>42</td>\n",
       "    </tr>\n",
       "    <tr>\n",
       "      <th>aaron-lennon</th>\n",
       "      <td>0.25</td>\n",
       "      <td>165.0</td>\n",
       "      <td>0</td>\n",
       "      <td>115</td>\n",
       "      <td>63.0</td>\n",
       "      <td>0</td>\n",
       "      <td>97</td>\n",
       "      <td>31</td>\n",
       "      <td>200</td>\n",
       "      <td>England</td>\n",
       "      <td>0.25</td>\n",
       "      <td>412</td>\n",
       "      <td>11</td>\n",
       "    </tr>\n",
       "    <tr>\n",
       "      <th>aaron-ramsey</th>\n",
       "      <td>0.00</td>\n",
       "      <td>178.0</td>\n",
       "      <td>0</td>\n",
       "      <td>68</td>\n",
       "      <td>76.0</td>\n",
       "      <td>1</td>\n",
       "      <td>42</td>\n",
       "      <td>39</td>\n",
       "      <td>150</td>\n",
       "      <td>England</td>\n",
       "      <td>0.00</td>\n",
       "      <td>260</td>\n",
       "      <td>31</td>\n",
       "    </tr>\n",
       "    <tr>\n",
       "      <th>abdelhamid-el-kaoutari</th>\n",
       "      <td>0.25</td>\n",
       "      <td>180.0</td>\n",
       "      <td>4</td>\n",
       "      <td>43</td>\n",
       "      <td>73.0</td>\n",
       "      <td>2</td>\n",
       "      <td>40</td>\n",
       "      <td>1</td>\n",
       "      <td>41</td>\n",
       "      <td>France</td>\n",
       "      <td>0.25</td>\n",
       "      <td>124</td>\n",
       "      <td>8</td>\n",
       "    </tr>\n",
       "  </tbody>\n",
       "</table>\n",
       "</div>"
      ],
      "text/plain": [
       "                        rater2  height  yellowReds  defeats  weight  redCards  \\\n",
       "playerShort                                                                     \n",
       "aaron-hughes              0.00   182.0           0      228    71.0         0   \n",
       "aaron-hunt                0.25   183.0           0      122    73.0         1   \n",
       "aaron-lennon              0.25   165.0           0      115    63.0         0   \n",
       "aaron-ramsey              0.00   178.0           0       68    76.0         1   \n",
       "abdelhamid-el-kaoutari    0.25   180.0           4       43    73.0         2   \n",
       "\n",
       "                        ties  goals  victories leagueCountry  rater1  games  \\\n",
       "playerShort                                                                   \n",
       "aaron-hughes             179      9        247       England    0.25    654   \n",
       "aaron-hunt                73     62        141       Germany    0.00    336   \n",
       "aaron-lennon              97     31        200       England    0.25    412   \n",
       "aaron-ramsey              42     39        150       England    0.00    260   \n",
       "abdelhamid-el-kaoutari    40      1         41        France    0.25    124   \n",
       "\n",
       "                        yellowCards  \n",
       "playerShort                          \n",
       "aaron-hughes                     19  \n",
       "aaron-hunt                       42  \n",
       "aaron-lennon                     11  \n",
       "aaron-ramsey                     31  \n",
       "abdelhamid-el-kaoutari            8  "
      ]
     },
     "execution_count": 33,
     "metadata": {},
     "output_type": "execute_result"
    }
   ],
   "source": [
    "players = group_players.agg({'height':'first', 'weight':'first', 'games':'sum', \n",
    "                             'victories':'sum','defeats':'sum', 'ties': 'sum', 'goals':'sum', \n",
    "                             'redCards':'sum', 'yellowReds': 'sum', 'yellowCards':'sum', \n",
    "                             'leagueCountry':'first', 'rater1':'median', 'rater2':'median'})\n",
    "print(players.shape)\n",
    "players.head()"
   ]
  },
  {
   "cell_type": "markdown",
   "metadata": {},
   "source": [
    "There are some leftover values with null in the weight and height columns"
   ]
  },
  {
   "cell_type": "code",
   "execution_count": 34,
   "metadata": {
    "collapsed": false
   },
   "outputs": [
    {
     "data": {
      "text/plain": [
       "rater2            0\n",
       "height            3\n",
       "yellowReds        0\n",
       "defeats           0\n",
       "weight           21\n",
       "redCards          0\n",
       "ties              0\n",
       "goals             0\n",
       "victories         0\n",
       "leagueCountry     0\n",
       "rater1            0\n",
       "games             0\n",
       "yellowCards       0\n",
       "dtype: int64"
      ]
     },
     "execution_count": 34,
     "metadata": {},
     "output_type": "execute_result"
    }
   ],
   "source": [
    "players.isnull().sum()"
   ]
  },
  {
   "cell_type": "markdown",
   "metadata": {},
   "source": [
    "If the weight or the height is NaN we replace it by the median height and weight of all the players (switch_median = True). As an alternative the replacement can be done using the average (switch_median = False)"
   ]
  },
  {
   "cell_type": "code",
   "execution_count": 35,
   "metadata": {
    "collapsed": false
   },
   "outputs": [],
   "source": [
    "switch_median = True\n",
    "if(switch_median):\n",
    "    med_height = players['height'].median()\n",
    "    med_weight = players['weight'].median()\n",
    "    players['height'] = players['height'].fillna(value=av_height)\n",
    "    players['weight'] = players['weight'].fillna(value=av_weight)\n",
    "else:\n",
    "    av_height = players['height'].mean()\n",
    "    av_weight = players['weight'].mean()\n",
    "    players['height'] = players['height'].fillna(value=av_height)\n",
    "    players['weight'] = players['weight'].fillna(value=av_weight)"
   ]
  },
  {
   "cell_type": "markdown",
   "metadata": {},
   "source": [
    "Create dummy variables from leagueCountry (categorical) feature. After adding the dummy variables indicating in which country the player plays and removing the feature with the actual strings we have to take care of the dummy variable trap. In essence we have 4 countries but if we keep all for them it will be redundant as we can infer one country from the other 3, and such one feature is linearly dependent on the other 3. (for more information: http://www.algosome.com/articles/dummy-variable-trap-regression.html) "
   ]
  },
  {
   "cell_type": "code",
   "execution_count": 36,
   "metadata": {
    "collapsed": false
   },
   "outputs": [
    {
     "data": {
      "text/html": [
       "<div>\n",
       "<table border=\"1\" class=\"dataframe\">\n",
       "  <thead>\n",
       "    <tr style=\"text-align: right;\">\n",
       "      <th></th>\n",
       "      <th>rater2</th>\n",
       "      <th>height</th>\n",
       "      <th>yellowReds</th>\n",
       "      <th>defeats</th>\n",
       "      <th>weight</th>\n",
       "      <th>redCards</th>\n",
       "      <th>ties</th>\n",
       "      <th>goals</th>\n",
       "      <th>victories</th>\n",
       "      <th>rater1</th>\n",
       "      <th>games</th>\n",
       "      <th>yellowCards</th>\n",
       "      <th>England</th>\n",
       "      <th>France</th>\n",
       "      <th>Germany</th>\n",
       "    </tr>\n",
       "    <tr>\n",
       "      <th>playerShort</th>\n",
       "      <th></th>\n",
       "      <th></th>\n",
       "      <th></th>\n",
       "      <th></th>\n",
       "      <th></th>\n",
       "      <th></th>\n",
       "      <th></th>\n",
       "      <th></th>\n",
       "      <th></th>\n",
       "      <th></th>\n",
       "      <th></th>\n",
       "      <th></th>\n",
       "      <th></th>\n",
       "      <th></th>\n",
       "      <th></th>\n",
       "    </tr>\n",
       "  </thead>\n",
       "  <tbody>\n",
       "    <tr>\n",
       "      <th>aaron-hughes</th>\n",
       "      <td>0.00</td>\n",
       "      <td>182.0</td>\n",
       "      <td>0</td>\n",
       "      <td>228</td>\n",
       "      <td>71.0</td>\n",
       "      <td>0</td>\n",
       "      <td>179</td>\n",
       "      <td>9</td>\n",
       "      <td>247</td>\n",
       "      <td>0.25</td>\n",
       "      <td>654</td>\n",
       "      <td>19</td>\n",
       "      <td>1.0</td>\n",
       "      <td>0.0</td>\n",
       "      <td>0.0</td>\n",
       "    </tr>\n",
       "    <tr>\n",
       "      <th>aaron-hunt</th>\n",
       "      <td>0.25</td>\n",
       "      <td>183.0</td>\n",
       "      <td>0</td>\n",
       "      <td>122</td>\n",
       "      <td>73.0</td>\n",
       "      <td>1</td>\n",
       "      <td>73</td>\n",
       "      <td>62</td>\n",
       "      <td>141</td>\n",
       "      <td>0.00</td>\n",
       "      <td>336</td>\n",
       "      <td>42</td>\n",
       "      <td>0.0</td>\n",
       "      <td>0.0</td>\n",
       "      <td>1.0</td>\n",
       "    </tr>\n",
       "    <tr>\n",
       "      <th>aaron-lennon</th>\n",
       "      <td>0.25</td>\n",
       "      <td>165.0</td>\n",
       "      <td>0</td>\n",
       "      <td>115</td>\n",
       "      <td>63.0</td>\n",
       "      <td>0</td>\n",
       "      <td>97</td>\n",
       "      <td>31</td>\n",
       "      <td>200</td>\n",
       "      <td>0.25</td>\n",
       "      <td>412</td>\n",
       "      <td>11</td>\n",
       "      <td>1.0</td>\n",
       "      <td>0.0</td>\n",
       "      <td>0.0</td>\n",
       "    </tr>\n",
       "    <tr>\n",
       "      <th>aaron-ramsey</th>\n",
       "      <td>0.00</td>\n",
       "      <td>178.0</td>\n",
       "      <td>0</td>\n",
       "      <td>68</td>\n",
       "      <td>76.0</td>\n",
       "      <td>1</td>\n",
       "      <td>42</td>\n",
       "      <td>39</td>\n",
       "      <td>150</td>\n",
       "      <td>0.00</td>\n",
       "      <td>260</td>\n",
       "      <td>31</td>\n",
       "      <td>1.0</td>\n",
       "      <td>0.0</td>\n",
       "      <td>0.0</td>\n",
       "    </tr>\n",
       "    <tr>\n",
       "      <th>abdelhamid-el-kaoutari</th>\n",
       "      <td>0.25</td>\n",
       "      <td>180.0</td>\n",
       "      <td>4</td>\n",
       "      <td>43</td>\n",
       "      <td>73.0</td>\n",
       "      <td>2</td>\n",
       "      <td>40</td>\n",
       "      <td>1</td>\n",
       "      <td>41</td>\n",
       "      <td>0.25</td>\n",
       "      <td>124</td>\n",
       "      <td>8</td>\n",
       "      <td>0.0</td>\n",
       "      <td>1.0</td>\n",
       "      <td>0.0</td>\n",
       "    </tr>\n",
       "  </tbody>\n",
       "</table>\n",
       "</div>"
      ],
      "text/plain": [
       "                        rater2  height  yellowReds  defeats  weight  redCards  \\\n",
       "playerShort                                                                     \n",
       "aaron-hughes              0.00   182.0           0      228    71.0         0   \n",
       "aaron-hunt                0.25   183.0           0      122    73.0         1   \n",
       "aaron-lennon              0.25   165.0           0      115    63.0         0   \n",
       "aaron-ramsey              0.00   178.0           0       68    76.0         1   \n",
       "abdelhamid-el-kaoutari    0.25   180.0           4       43    73.0         2   \n",
       "\n",
       "                        ties  goals  victories  rater1  games  yellowCards  \\\n",
       "playerShort                                                                  \n",
       "aaron-hughes             179      9        247    0.25    654           19   \n",
       "aaron-hunt                73     62        141    0.00    336           42   \n",
       "aaron-lennon              97     31        200    0.25    412           11   \n",
       "aaron-ramsey              42     39        150    0.00    260           31   \n",
       "abdelhamid-el-kaoutari    40      1         41    0.25    124            8   \n",
       "\n",
       "                        England  France  Germany  \n",
       "playerShort                                       \n",
       "aaron-hughes                1.0     0.0      0.0  \n",
       "aaron-hunt                  0.0     0.0      1.0  \n",
       "aaron-lennon                1.0     0.0      0.0  \n",
       "aaron-ramsey                1.0     0.0      0.0  \n",
       "abdelhamid-el-kaoutari      0.0     1.0      0.0  "
      ]
     },
     "execution_count": 36,
     "metadata": {},
     "output_type": "execute_result"
    }
   ],
   "source": [
    "leagueCountries_dummies = pd.get_dummies(players['leagueCountry'])\n",
    "players = pd.concat([players, leagueCountries_dummies], axis=1)      \n",
    "players.drop(['leagueCountry', 'Spain'], inplace=True, axis=1)\n",
    "players.head()"
   ]
  },
  {
   "cell_type": "markdown",
   "metadata": {},
   "source": [
    "Convert the new added dummy variables from float to int"
   ]
  },
  {
   "cell_type": "code",
   "execution_count": 37,
   "metadata": {
    "collapsed": false
   },
   "outputs": [],
   "source": [
    "players['England'] = players['England'].astype(int)\n",
    "players['France'] = players['France'].astype(int)\n",
    "players['Germany'] = players['Germany'].astype(int)"
   ]
  },
  {
   "cell_type": "code",
   "execution_count": 38,
   "metadata": {
    "collapsed": false
   },
   "outputs": [
    {
     "data": {
      "text/html": [
       "<div>\n",
       "<table border=\"1\" class=\"dataframe\">\n",
       "  <thead>\n",
       "    <tr style=\"text-align: right;\">\n",
       "      <th></th>\n",
       "      <th>rater2</th>\n",
       "      <th>height</th>\n",
       "      <th>yellowReds</th>\n",
       "      <th>defeats</th>\n",
       "      <th>weight</th>\n",
       "      <th>redCards</th>\n",
       "      <th>ties</th>\n",
       "      <th>goals</th>\n",
       "      <th>victories</th>\n",
       "      <th>rater1</th>\n",
       "      <th>games</th>\n",
       "      <th>yellowCards</th>\n",
       "      <th>England</th>\n",
       "      <th>France</th>\n",
       "      <th>Germany</th>\n",
       "    </tr>\n",
       "    <tr>\n",
       "      <th>playerShort</th>\n",
       "      <th></th>\n",
       "      <th></th>\n",
       "      <th></th>\n",
       "      <th></th>\n",
       "      <th></th>\n",
       "      <th></th>\n",
       "      <th></th>\n",
       "      <th></th>\n",
       "      <th></th>\n",
       "      <th></th>\n",
       "      <th></th>\n",
       "      <th></th>\n",
       "      <th></th>\n",
       "      <th></th>\n",
       "      <th></th>\n",
       "    </tr>\n",
       "  </thead>\n",
       "  <tbody>\n",
       "    <tr>\n",
       "      <th>aaron-hughes</th>\n",
       "      <td>0.00</td>\n",
       "      <td>182.0</td>\n",
       "      <td>0</td>\n",
       "      <td>228</td>\n",
       "      <td>71.0</td>\n",
       "      <td>0</td>\n",
       "      <td>179</td>\n",
       "      <td>9</td>\n",
       "      <td>247</td>\n",
       "      <td>0.25</td>\n",
       "      <td>654</td>\n",
       "      <td>19</td>\n",
       "      <td>1</td>\n",
       "      <td>0</td>\n",
       "      <td>0</td>\n",
       "    </tr>\n",
       "    <tr>\n",
       "      <th>aaron-hunt</th>\n",
       "      <td>0.25</td>\n",
       "      <td>183.0</td>\n",
       "      <td>0</td>\n",
       "      <td>122</td>\n",
       "      <td>73.0</td>\n",
       "      <td>1</td>\n",
       "      <td>73</td>\n",
       "      <td>62</td>\n",
       "      <td>141</td>\n",
       "      <td>0.00</td>\n",
       "      <td>336</td>\n",
       "      <td>42</td>\n",
       "      <td>0</td>\n",
       "      <td>0</td>\n",
       "      <td>1</td>\n",
       "    </tr>\n",
       "    <tr>\n",
       "      <th>aaron-lennon</th>\n",
       "      <td>0.25</td>\n",
       "      <td>165.0</td>\n",
       "      <td>0</td>\n",
       "      <td>115</td>\n",
       "      <td>63.0</td>\n",
       "      <td>0</td>\n",
       "      <td>97</td>\n",
       "      <td>31</td>\n",
       "      <td>200</td>\n",
       "      <td>0.25</td>\n",
       "      <td>412</td>\n",
       "      <td>11</td>\n",
       "      <td>1</td>\n",
       "      <td>0</td>\n",
       "      <td>0</td>\n",
       "    </tr>\n",
       "    <tr>\n",
       "      <th>aaron-ramsey</th>\n",
       "      <td>0.00</td>\n",
       "      <td>178.0</td>\n",
       "      <td>0</td>\n",
       "      <td>68</td>\n",
       "      <td>76.0</td>\n",
       "      <td>1</td>\n",
       "      <td>42</td>\n",
       "      <td>39</td>\n",
       "      <td>150</td>\n",
       "      <td>0.00</td>\n",
       "      <td>260</td>\n",
       "      <td>31</td>\n",
       "      <td>1</td>\n",
       "      <td>0</td>\n",
       "      <td>0</td>\n",
       "    </tr>\n",
       "    <tr>\n",
       "      <th>abdelhamid-el-kaoutari</th>\n",
       "      <td>0.25</td>\n",
       "      <td>180.0</td>\n",
       "      <td>4</td>\n",
       "      <td>43</td>\n",
       "      <td>73.0</td>\n",
       "      <td>2</td>\n",
       "      <td>40</td>\n",
       "      <td>1</td>\n",
       "      <td>41</td>\n",
       "      <td>0.25</td>\n",
       "      <td>124</td>\n",
       "      <td>8</td>\n",
       "      <td>0</td>\n",
       "      <td>1</td>\n",
       "      <td>0</td>\n",
       "    </tr>\n",
       "  </tbody>\n",
       "</table>\n",
       "</div>"
      ],
      "text/plain": [
       "                        rater2  height  yellowReds  defeats  weight  redCards  \\\n",
       "playerShort                                                                     \n",
       "aaron-hughes              0.00   182.0           0      228    71.0         0   \n",
       "aaron-hunt                0.25   183.0           0      122    73.0         1   \n",
       "aaron-lennon              0.25   165.0           0      115    63.0         0   \n",
       "aaron-ramsey              0.00   178.0           0       68    76.0         1   \n",
       "abdelhamid-el-kaoutari    0.25   180.0           4       43    73.0         2   \n",
       "\n",
       "                        ties  goals  victories  rater1  games  yellowCards  \\\n",
       "playerShort                                                                  \n",
       "aaron-hughes             179      9        247    0.25    654           19   \n",
       "aaron-hunt                73     62        141    0.00    336           42   \n",
       "aaron-lennon              97     31        200    0.25    412           11   \n",
       "aaron-ramsey              42     39        150    0.00    260           31   \n",
       "abdelhamid-el-kaoutari    40      1         41    0.25    124            8   \n",
       "\n",
       "                        England  France  Germany  \n",
       "playerShort                                       \n",
       "aaron-hughes                  1       0        0  \n",
       "aaron-hunt                    0       0        1  \n",
       "aaron-lennon                  1       0        0  \n",
       "aaron-ramsey                  1       0        0  \n",
       "abdelhamid-el-kaoutari        0       1        0  "
      ]
     },
     "execution_count": 38,
     "metadata": {},
     "output_type": "execute_result"
    }
   ],
   "source": [
    "players.head()"
   ]
  },
  {
   "cell_type": "markdown",
   "metadata": {},
   "source": [
    "We standardize the data. Some features, like the newly added dummy variables do not make much sense to be standardized."
   ]
  },
  {
   "cell_type": "code",
   "execution_count": 39,
   "metadata": {
    "collapsed": false
   },
   "outputs": [
    {
     "data": {
      "text/html": [
       "<div>\n",
       "<table border=\"1\" class=\"dataframe\">\n",
       "  <thead>\n",
       "    <tr style=\"text-align: right;\">\n",
       "      <th></th>\n",
       "      <th>rater2</th>\n",
       "      <th>height</th>\n",
       "      <th>yellowReds</th>\n",
       "      <th>defeats</th>\n",
       "      <th>weight</th>\n",
       "      <th>redCards</th>\n",
       "      <th>ties</th>\n",
       "      <th>goals</th>\n",
       "      <th>victories</th>\n",
       "      <th>rater1</th>\n",
       "      <th>games</th>\n",
       "      <th>yellowCards</th>\n",
       "      <th>England</th>\n",
       "      <th>France</th>\n",
       "      <th>Germany</th>\n",
       "    </tr>\n",
       "    <tr>\n",
       "      <th>playerShort</th>\n",
       "      <th></th>\n",
       "      <th></th>\n",
       "      <th></th>\n",
       "      <th></th>\n",
       "      <th></th>\n",
       "      <th></th>\n",
       "      <th></th>\n",
       "      <th></th>\n",
       "      <th></th>\n",
       "      <th></th>\n",
       "      <th></th>\n",
       "      <th></th>\n",
       "      <th></th>\n",
       "      <th></th>\n",
       "      <th></th>\n",
       "    </tr>\n",
       "  </thead>\n",
       "  <tbody>\n",
       "    <tr>\n",
       "      <th>aaron-hughes</th>\n",
       "      <td>0.00</td>\n",
       "      <td>-0.006568</td>\n",
       "      <td>-0.682282</td>\n",
       "      <td>3.745172</td>\n",
       "      <td>-0.713278</td>\n",
       "      <td>-0.749238</td>\n",
       "      <td>3.600697</td>\n",
       "      <td>-0.452545</td>\n",
       "      <td>1.823256</td>\n",
       "      <td>0.25</td>\n",
       "      <td>2.935828</td>\n",
       "      <td>-0.494788</td>\n",
       "      <td>1</td>\n",
       "      <td>0</td>\n",
       "      <td>0</td>\n",
       "    </tr>\n",
       "    <tr>\n",
       "      <th>aaron-hunt</th>\n",
       "      <td>0.25</td>\n",
       "      <td>0.141876</td>\n",
       "      <td>-0.682282</td>\n",
       "      <td>1.174141</td>\n",
       "      <td>-0.429923</td>\n",
       "      <td>-0.001886</td>\n",
       "      <td>0.492236</td>\n",
       "      <td>0.824019</td>\n",
       "      <td>0.456776</td>\n",
       "      <td>0.00</td>\n",
       "      <td>0.705694</td>\n",
       "      <td>0.424086</td>\n",
       "      <td>0</td>\n",
       "      <td>0</td>\n",
       "      <td>1</td>\n",
       "    </tr>\n",
       "    <tr>\n",
       "      <th>aaron-lennon</th>\n",
       "      <td>0.25</td>\n",
       "      <td>-2.530129</td>\n",
       "      <td>-0.682282</td>\n",
       "      <td>1.004356</td>\n",
       "      <td>-1.846696</td>\n",
       "      <td>-0.749238</td>\n",
       "      <td>1.196039</td>\n",
       "      <td>0.077349</td>\n",
       "      <td>1.217364</td>\n",
       "      <td>0.25</td>\n",
       "      <td>1.238682</td>\n",
       "      <td>-0.814397</td>\n",
       "      <td>1</td>\n",
       "      <td>0</td>\n",
       "      <td>0</td>\n",
       "    </tr>\n",
       "    <tr>\n",
       "      <th>aaron-ramsey</th>\n",
       "      <td>0.00</td>\n",
       "      <td>-0.600347</td>\n",
       "      <td>-0.682282</td>\n",
       "      <td>-0.135629</td>\n",
       "      <td>-0.004892</td>\n",
       "      <td>-0.001886</td>\n",
       "      <td>-0.416842</td>\n",
       "      <td>0.270038</td>\n",
       "      <td>0.572798</td>\n",
       "      <td>0.00</td>\n",
       "      <td>0.172706</td>\n",
       "      <td>-0.015375</td>\n",
       "      <td>1</td>\n",
       "      <td>0</td>\n",
       "      <td>0</td>\n",
       "    </tr>\n",
       "    <tr>\n",
       "      <th>abdelhamid-el-kaoutari</th>\n",
       "      <td>0.25</td>\n",
       "      <td>-0.303458</td>\n",
       "      <td>2.195740</td>\n",
       "      <td>-0.742004</td>\n",
       "      <td>-0.429923</td>\n",
       "      <td>0.745466</td>\n",
       "      <td>-0.475492</td>\n",
       "      <td>-0.645234</td>\n",
       "      <td>-0.832357</td>\n",
       "      <td>0.25</td>\n",
       "      <td>-0.781062</td>\n",
       "      <td>-0.934250</td>\n",
       "      <td>0</td>\n",
       "      <td>1</td>\n",
       "      <td>0</td>\n",
       "    </tr>\n",
       "  </tbody>\n",
       "</table>\n",
       "</div>"
      ],
      "text/plain": [
       "                        rater2    height  yellowReds   defeats    weight  \\\n",
       "playerShort                                                                \n",
       "aaron-hughes              0.00 -0.006568   -0.682282  3.745172 -0.713278   \n",
       "aaron-hunt                0.25  0.141876   -0.682282  1.174141 -0.429923   \n",
       "aaron-lennon              0.25 -2.530129   -0.682282  1.004356 -1.846696   \n",
       "aaron-ramsey              0.00 -0.600347   -0.682282 -0.135629 -0.004892   \n",
       "abdelhamid-el-kaoutari    0.25 -0.303458    2.195740 -0.742004 -0.429923   \n",
       "\n",
       "                        redCards      ties     goals  victories  rater1  \\\n",
       "playerShort                                                               \n",
       "aaron-hughes           -0.749238  3.600697 -0.452545   1.823256    0.25   \n",
       "aaron-hunt             -0.001886  0.492236  0.824019   0.456776    0.00   \n",
       "aaron-lennon           -0.749238  1.196039  0.077349   1.217364    0.25   \n",
       "aaron-ramsey           -0.001886 -0.416842  0.270038   0.572798    0.00   \n",
       "abdelhamid-el-kaoutari  0.745466 -0.475492 -0.645234  -0.832357    0.25   \n",
       "\n",
       "                           games  yellowCards  England  France  Germany  \n",
       "playerShort                                                              \n",
       "aaron-hughes            2.935828    -0.494788        1       0        0  \n",
       "aaron-hunt              0.705694     0.424086        0       0        1  \n",
       "aaron-lennon            1.238682    -0.814397        1       0        0  \n",
       "aaron-ramsey            0.172706    -0.015375        1       0        0  \n",
       "abdelhamid-el-kaoutari -0.781062    -0.934250        0       1        0  "
      ]
     },
     "execution_count": 39,
     "metadata": {},
     "output_type": "execute_result"
    }
   ],
   "source": [
    "features_to_be_standardized = ['height','yellowReds','defeats','redCards','ties','weight',\n",
    "                              'goals','yellowCards','games','victories']\n",
    "\n",
    "def standardize(feature_names):\n",
    "    for feature_name in feature_names:\n",
    "        players[feature_name] = \\\n",
    "        (players[feature_name] - players[feature_name].mean()) / players[feature_name].std()\n",
    "\n",
    "standardize(features_to_be_standardized)\n",
    "players.head()"
   ]
  },
  {
   "cell_type": "markdown",
   "metadata": {},
   "source": [
    "## Assignment 2: cluster players"
   ]
  },
  {
   "cell_type": "markdown",
   "metadata": {},
   "source": [
    "We convert the pandas data frame to lists in order to match the expected data format for scikit learn."
   ]
  },
  {
   "cell_type": "markdown",
   "metadata": {},
   "source": [
    "Main parameters to consider for kmeans clusterer\n",
    "\n",
    "- max_iter : int, default: 300\n",
    "Maximum number of iterations of the k-means algorithm for a single run.\n",
    "\n",
    "- n_init : int, default: 10\n",
    "Number of time the k-means algorithm will be run with different centroid seeds. The final results will be the best output of n_init consecutive runs in terms of inertia.\n",
    "\n",
    "- init : {‘k-means++’, ‘random’ or an ndarray}\n",
    "Method for initialization, defaults to ‘k-means++’:\n",
    "‘k-means++’ : selects initial cluster centers for k-mean clustering in a smart way to speed up convergence. See section Notes in k_init for more details.\n",
    "‘random’: choose k observations (rows) at random from data for the initial centroids.\n",
    "If an ndarray is passed, it should be of shape (n_clusters, n_features) and gives the initial centers.\n",
    "\n",
    "- algorithm : “auto”, “full” or “elkan”, default=”auto”\n",
    "K-means algorithm to use. The classical EM-style algorithm is “full”. The “elkan” variation is more efficient by using the triangle inequality, but currently doesn’t support sparse data. “auto” chooses “elkan” for dense data and “full” for sparse data."
   ]
  },
  {
   "cell_type": "code",
   "execution_count": 40,
   "metadata": {
    "collapsed": true
   },
   "outputs": [],
   "source": [
    "from sklearn.cluster import KMeans\n",
    "from sklearn.metrics import silhouette_score"
   ]
  },
  {
   "cell_type": "markdown",
   "metadata": {},
   "source": [
    "Generate feature subsets on which to run the kmeans clusterer"
   ]
  },
  {
   "cell_type": "code",
   "execution_count": 18,
   "metadata": {
    "collapsed": true
   },
   "outputs": [],
   "source": [
    "from itertools import chain, combinations\n",
    "def powerset(iterable):\n",
    "    \"powerset([1,2,3]) --> () (1,) (2,) (3,) (1,2) (1,3) (2,3) (1,2,3)\"\n",
    "    s = list(iterable)\n",
    "    return chain.from_iterable(combinations(s, r) for r in range(len(s)+1))"
   ]
  },
  {
   "cell_type": "markdown",
   "metadata": {},
   "source": [
    "For completeness it would be ideal to test all feature subsets and find which one has a better silhouette score and in this case in the pick_subset function the lower bound limit should be 1 (the empty set is ignored). However this would require a lot of computation time so the number of feature subsets can be reduced by selecting different bounds on the length of the feature subset."
   ]
  },
  {
   "cell_type": "code",
   "execution_count": 44,
   "metadata": {
    "collapsed": false
   },
   "outputs": [],
   "source": [
    "upper_bound = 15\n",
    "lower_bound = 11\n",
    "def pick_subset(element):\n",
    "    return len(element) >= lower_bound and len(element) <= upper_bound\n",
    "\n",
    "def prepare_feature_subsets(features):\n",
    "    return filter(pick_subset, features)"
   ]
  },
  {
   "cell_type": "markdown",
   "metadata": {},
   "source": [
    "Create all the feature subsets using powerset on the column names, afterwards perform the selection step to reduce the number of subsets"
   ]
  },
  {
   "cell_type": "code",
   "execution_count": 45,
   "metadata": {
    "collapsed": false
   },
   "outputs": [],
   "source": [
    "feature_subsets = list(prepare_feature_subsets(list(powerset(players.columns.values))))"
   ]
  },
  {
   "cell_type": "code",
   "execution_count": 43,
   "metadata": {
    "collapsed": false
   },
   "outputs": [
    {
     "data": {
      "text/plain": [
       "1941"
      ]
     },
     "execution_count": 43,
     "metadata": {},
     "output_type": "execute_result"
    }
   ],
   "source": [
    "len(feature_subsets)"
   ]
  },
  {
   "cell_type": "markdown",
   "metadata": {},
   "source": [
    "Run the clusterer on each feature subset"
   ]
  },
  {
   "cell_type": "code",
   "execution_count": 46,
   "metadata": {
    "collapsed": true
   },
   "outputs": [],
   "source": [
    "def run_clusterer():\n",
    "    estimator = KMeans(n_clusters=2, random_state=0)\n",
    "    counter = 0\n",
    "    best_silhouette = -1\n",
    "    best_feature_subset = feature_subsets[0]\n",
    "    for feature_subset in feature_subsets:\n",
    "        X = players[list(feature_subset)]\n",
    "        estimator.fit(X)\n",
    "        silhouette_avg = silhouette_score(X, estimator.labels_)\n",
    "        if(counter % 500 == 0):\n",
    "            print(\"Counter \", counter)\n",
    "            print(\"For n_clusters =\", 2, \"The average silhouette_score is :\", silhouette_avg)\n",
    "        counter += 1\n",
    "        if(silhouette_avg > best_silhouette):\n",
    "            best_silhouette = silhouette_avg\n",
    "            best_feature_subset = feature_subset\n",
    "    return best_feature_subset"
   ]
  },
  {
   "cell_type": "code",
   "execution_count": 47,
   "metadata": {
    "collapsed": false
   },
   "outputs": [
    {
     "name": "stdout",
     "output_type": "stream",
     "text": [
      "Counter  0\n",
      "For n_clusters = 2 The average silhouette_score is : 0.317903238031\n",
      "Counter  500\n",
      "For n_clusters = 2 The average silhouette_score is : 0.305209927551\n",
      "Counter  1000\n",
      "For n_clusters = 2 The average silhouette_score is : 0.386835432845\n",
      "Counter  1500\n",
      "For n_clusters = 2 The average silhouette_score is : 0.318189195083\n"
     ]
    }
   ],
   "source": [
    "best_features = run_clusterer()"
   ]
  },
  {
   "cell_type": "markdown",
   "metadata": {},
   "source": [
    "The best feature subset on the silhouette score was saved during the previous computation and now we can see how well it performed."
   ]
  },
  {
   "cell_type": "code",
   "execution_count": 48,
   "metadata": {
    "collapsed": false
   },
   "outputs": [
    {
     "name": "stdout",
     "output_type": "stream",
     "text": [
      "For n_clusters = 2 The average silhouette_score is : 0.403322489449\n"
     ]
    }
   ],
   "source": [
    "estimator = KMeans(n_clusters=2, random_state=0)\n",
    "X = players[list(best_features)]\n",
    "estimator.fit(X.as_matrix())\n",
    "silhouette_avg = silhouette_score(X, estimator.labels_)\n",
    "print(\"For n_clusters =\", 2, \"The average silhouette_score is :\", silhouette_avg)"
   ]
  },
  {
   "cell_type": "markdown",
   "metadata": {},
   "source": [
    "Small test to make sure there is no difference between calling estimator.labels_ vs. estimator.predict()"
   ]
  },
  {
   "cell_type": "code",
   "execution_count": 50,
   "metadata": {
    "collapsed": false
   },
   "outputs": [
    {
     "data": {
      "text/plain": [
       "True"
      ]
     },
     "execution_count": 50,
     "metadata": {},
     "output_type": "execute_result"
    }
   ],
   "source": [
    "# should be True as in no difference between calling estimator.labels_ and using estimator.predict(X)\n",
    "X_pred = estimator.predict(X)\n",
    "np.sum(np.array(X_pred) - np.array(estimator.labels_)) == 0"
   ]
  },
  {
   "cell_type": "markdown",
   "metadata": {},
   "source": [
    "NOTE: Here I am not exactly sure how to compare the above clustering labels with the skin color-tone ratings"
   ]
  },
  {
   "cell_type": "markdown",
   "metadata": {},
   "source": [
    "Make a dataframe containing the average rating ((rater1 + rater2) / 2) and the cluster labels obtained after running KMeans."
   ]
  },
  {
   "cell_type": "code",
   "execution_count": 51,
   "metadata": {
    "collapsed": false
   },
   "outputs": [
    {
     "data": {
      "text/html": [
       "<div>\n",
       "<table border=\"1\" class=\"dataframe\">\n",
       "  <thead>\n",
       "    <tr style=\"text-align: right;\">\n",
       "      <th></th>\n",
       "      <th>labels</th>\n",
       "      <th>average_rating</th>\n",
       "    </tr>\n",
       "    <tr>\n",
       "      <th>playerShort</th>\n",
       "      <th></th>\n",
       "      <th></th>\n",
       "    </tr>\n",
       "  </thead>\n",
       "  <tbody>\n",
       "    <tr>\n",
       "      <th>aaron-hughes</th>\n",
       "      <td>1</td>\n",
       "      <td>0.125</td>\n",
       "    </tr>\n",
       "    <tr>\n",
       "      <th>aaron-hunt</th>\n",
       "      <td>1</td>\n",
       "      <td>0.125</td>\n",
       "    </tr>\n",
       "    <tr>\n",
       "      <th>aaron-lennon</th>\n",
       "      <td>1</td>\n",
       "      <td>0.250</td>\n",
       "    </tr>\n",
       "    <tr>\n",
       "      <th>aaron-ramsey</th>\n",
       "      <td>0</td>\n",
       "      <td>0.000</td>\n",
       "    </tr>\n",
       "    <tr>\n",
       "      <th>abdelhamid-el-kaoutari</th>\n",
       "      <td>0</td>\n",
       "      <td>0.250</td>\n",
       "    </tr>\n",
       "  </tbody>\n",
       "</table>\n",
       "</div>"
      ],
      "text/plain": [
       "                        labels  average_rating\n",
       "playerShort                                   \n",
       "aaron-hughes                 1           0.125\n",
       "aaron-hunt                   1           0.125\n",
       "aaron-lennon                 1           0.250\n",
       "aaron-ramsey                 0           0.000\n",
       "abdelhamid-el-kaoutari       0           0.250"
      ]
     },
     "execution_count": 51,
     "metadata": {},
     "output_type": "execute_result"
    }
   ],
   "source": [
    "player_clusters = players[[\"rater1\", \"rater2\"]]\n",
    "labels = pd.Series(estimator.labels_, index=player_clusters.index)\n",
    "player_clusters = player_clusters.assign(labels=labels.values)\n",
    "player_clusters['average_rating'] = players[[\"rater1\", \"rater2\"]].mean(axis=1)\n",
    "player_clusters.drop(['rater1', 'rater2'], inplace=True, axis=1)\n",
    "player_clusters.head()"
   ]
  },
  {
   "cell_type": "markdown",
   "metadata": {},
   "source": [
    "Perform a mapping in the average_rating column where each value >= 0.5 gets converted to 1 and all values < 0.5 get converted to 0."
   ]
  },
  {
   "cell_type": "code",
   "execution_count": null,
   "metadata": {
    "collapsed": false
   },
   "outputs": [],
   "source": [
    "player_clusters['average_rating'] = \\\n",
    "    player_clusters['average_rating'].apply(lambda x: 1 if x >= 0.5 else 0)\n",
    "player_clusters.head()"
   ]
  },
  {
   "cell_type": "code",
   "execution_count": 52,
   "metadata": {
    "collapsed": false
   },
   "outputs": [
    {
     "data": {
      "text/html": [
       "<div>\n",
       "<table border=\"1\" class=\"dataframe\">\n",
       "  <thead>\n",
       "    <tr>\n",
       "      <th></th>\n",
       "      <th colspan=\"2\" halign=\"left\">average_rating</th>\n",
       "    </tr>\n",
       "    <tr>\n",
       "      <th></th>\n",
       "      <th>count</th>\n",
       "      <th>mean</th>\n",
       "    </tr>\n",
       "    <tr>\n",
       "      <th>labels</th>\n",
       "      <th></th>\n",
       "      <th></th>\n",
       "    </tr>\n",
       "  </thead>\n",
       "  <tbody>\n",
       "    <tr>\n",
       "      <th>0</th>\n",
       "      <td>1057</td>\n",
       "      <td>0.296121</td>\n",
       "    </tr>\n",
       "    <tr>\n",
       "      <th>1</th>\n",
       "      <td>528</td>\n",
       "      <td>0.276278</td>\n",
       "    </tr>\n",
       "  </tbody>\n",
       "</table>\n",
       "</div>"
      ],
      "text/plain": [
       "       average_rating          \n",
       "                count      mean\n",
       "labels                         \n",
       "0                1057  0.296121\n",
       "1                 528  0.276278"
      ]
     },
     "execution_count": 52,
     "metadata": {},
     "output_type": "execute_result"
    }
   ],
   "source": [
    "grouped_clusters = player_clusters.groupby('labels')\n",
    "grouped_cls = grouped_clusters.agg({'average_rating':['count','mean']})\n",
    "grouped_cls"
   ]
  },
  {
   "cell_type": "markdown",
   "metadata": {},
   "source": [
    "### Cluster visualization using PCA dimension reduction"
   ]
  },
  {
   "cell_type": "markdown",
   "metadata": {},
   "source": [
    "Reduced data represents the projection of the data on the 2 directions  with maximal variance as computed by PCA. Why 2? because it is easier in doing the visualization."
   ]
  },
  {
   "cell_type": "code",
   "execution_count": 56,
   "metadata": {
    "collapsed": false
   },
   "outputs": [
    {
     "name": "stdout",
     "output_type": "stream",
     "text": [
      "(1585, 2)\n"
     ]
    }
   ],
   "source": [
    "from sklearn.decomposition import PCA\n",
    "\n",
    "# pass the matrix containing the features you want to test in fit_transform\n",
    "# NOTE: X represents the best features under the silhouette score in the previous computation \n",
    "reduced_data = PCA(n_components=2).fit_transform(X.as_matrix())\n",
    "kmeans = KMeans(init='k-means++', n_clusters=2)\n",
    "kmeans.fit(reduced_data)\n",
    "print(reduced_data.shape)\n",
    "\n",
    "# Step size of the mesh. Decrease to increase the quality of the VQ.\n",
    "h = .02     # point in the mesh [x_min, x_max]x[y_min, y_max].\n",
    "\n",
    "# Plot the decision boundary. For that, we will assign a color to each\n",
    "x_min, x_max = reduced_data[:, 0].min() - 1, reduced_data[:, 0].max() + 1\n",
    "y_min, y_max = reduced_data[:, 1].min() - 1, reduced_data[:, 1].max() + 1\n",
    "xx, yy = np.meshgrid(np.arange(x_min, x_max, h), np.arange(y_min, y_max, h))"
   ]
  },
  {
   "cell_type": "code",
   "execution_count": 57,
   "metadata": {
    "collapsed": false
   },
   "outputs": [],
   "source": [
    "# Obtain labels for each point in mesh. Use last trained model.\n",
    "Z = kmeans.predict(np.c_[xx.ravel(), yy.ravel()])\n",
    "# Put the result into a color plot\n",
    "Z = Z.reshape(xx.shape)"
   ]
  },
  {
   "cell_type": "code",
   "execution_count": 58,
   "metadata": {
    "collapsed": false
   },
   "outputs": [],
   "source": [
    "# get the average rating of the players into a list to process it easier afterwards\n",
    "average_rating = player_clusters['average_rating'].tolist()"
   ]
  },
  {
   "cell_type": "markdown",
   "metadata": {},
   "source": [
    "Divide the reduced data into 2 subsets:\n",
    "- reduced data where the corresponding players have an average rating >= 0.5\n",
    "- reduced data where the corresponding players have an average rating < 0.5"
   ]
  },
  {
   "cell_type": "code",
   "execution_count": 59,
   "metadata": {
    "collapsed": false
   },
   "outputs": [
    {
     "data": {
      "text/plain": [
       "True"
      ]
     },
     "execution_count": 59,
     "metadata": {},
     "output_type": "execute_result"
    }
   ],
   "source": [
    "from itertools import compress\n",
    "def restructure_reduced_data(red_data, avg_rating):\n",
    "    index_dark = []\n",
    "    index_light = []\n",
    "    for i in range(len(avg_rating)):\n",
    "        if(avg_rating[i] >= 0.5):\n",
    "            index_dark.append(i)\n",
    "        else:\n",
    "            index_light.append(i)\n",
    "    return red_data[index_dark], red_data[index_light]\n",
    "\n",
    "(reduced_data_dark, reduced_data_light) = restructure_reduced_data(reduced_data, average_rating)\n",
    "\n",
    "# Should be 'True' to make sure the dimensions of the subsets correspond to the dimensions of the original \n",
    "reduced_data_dark.shape[0]+reduced_data_light.shape[0] == reduced_data.shape[0]"
   ]
  },
  {
   "cell_type": "code",
   "execution_count": 60,
   "metadata": {
    "collapsed": false
   },
   "outputs": [
    {
     "data": {
      "image/png": "[encoded data removed]",
      "text/plain": [
       "<matplotlib.figure.Figure at 0x7f03df340ef0>"
      ]
     },
     "metadata": {},
     "output_type": "display_data"
    }
   ],
   "source": [
    "plt.figure(1)\n",
    "plt.clf()\n",
    "plt.imshow(Z, interpolation='nearest',\n",
    "           extent=(xx.min(), xx.max(), yy.min(), yy.max()),\n",
    "           cmap=plt.cm.Paired,\n",
    "           aspect='auto', origin='lower')\n",
    "\n",
    "plt.plot(reduced_data_dark[:, 0], reduced_data_dark[:, 1], 'k.', markersize=2)\n",
    "plt.plot(reduced_data_light[:, 0], reduced_data_light[:, 1], 'w.', markersize=2)\n",
    "\n",
    "# Plot the centroids as a white X\n",
    "centroids = kmeans.cluster_centers_\n",
    "plt.scatter(centroids[:, 0], centroids[:, 1],\n",
    "            marker='x', s=169, linewidths=3,\n",
    "            color='m', zorder=10)\n",
    "plt.title('K-means clustering on the players dataset (PCA-reduced data)\\n'\n",
    "          'Centroids are marked with purple cross')\n",
    "plt.xlim(x_min, x_max)\n",
    "plt.ylim(y_min, y_max)\n",
    "plt.xticks(())\n",
    "plt.yticks(())\n",
    "plt.show()"
   ]
  },
  {
   "cell_type": "code",
   "execution_count": null,
   "metadata": {
    "collapsed": true
   },
   "outputs": [],
   "source": []
  }
 ],
 "metadata": {
  "anaconda-cloud": {},
  "kernelspec": {
   "display_name": "Python 3",
   "language": "python",
   "name": "python3"
  },
  "language_info": {
   "codemirror_mode": {
    "name": "ipython",
    "version": 3
   },
   "file_extension": ".py",
   "mimetype": "text/x-python",
   "name": "python",
   "nbconvert_exporter": "python",
   "pygments_lexer": "ipython3",
   "version": "3.5.2"
  }
 },
 "nbformat": 4,
 "nbformat_minor": 0
}

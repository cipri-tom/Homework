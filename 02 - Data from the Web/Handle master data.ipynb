{
 "cells": [
  {
   "cell_type": "code",
   "execution_count": 258,
   "metadata": {
    "collapsed": true
   },
   "outputs": [],
   "source": [
    "import pandas as pd\n",
    "from os import path"
   ]
  },
  {
   "cell_type": "markdown",
   "metadata": {},
   "source": [
    "# Step 1: Preprocessing"
   ]
  },
  {
   "cell_type": "markdown",
   "metadata": {},
   "source": [
    "* filenames = the names of the files containing the master student data \n",
    "* projects = the names of the files containing the master projects data"
   ]
  },
  {
   "cell_type": "code",
   "execution_count": 259,
   "metadata": {
    "collapsed": false
   },
   "outputs": [],
   "source": [
    "filenames = {}\n",
    "for year in range(2007,2017):\n",
    "    for semester in [1,2,3]:\n",
    "        filename = 'data/master_%d_%d.csv' % (year, semester)\n",
    "        filenames[(year,semester)] = filename\n",
    "\n",
    "projects = {}\n",
    "for year in range(2007,2017):\n",
    "    for semester in ['automne','printemps']:\n",
    "        filename = 'data/projet_master_%d_%s.csv' % (year, semester)\n",
    "        if(path.isfile(filename)):\n",
    "            projects[(year,semester)] = filename"
   ]
  },
  {
   "cell_type": "markdown",
   "metadata": {},
   "source": [
    "master_students is a dictionary which maps each possible master semester (1, 2, or 3) to a pandas dataframe containing all the students in all the years which were listed under the respective semester\n",
    "\n",
    "Each of the tables are indexed by the Sciper number of the student and unncesary or redundant columns like 'Unnamed: 0' and 'semester' are dropped.\n",
    "\n",
    "Additionally the year column which contains the start of the academic year for the listed student will be renamed to year_sx, where x is the semester number: 1, 2 or 3. The renaming helps in keeping track of the student's information in later steps."
   ]
  },
  {
   "cell_type": "code",
   "execution_count": 260,
   "metadata": {
    "collapsed": false,
    "scrolled": false
   },
   "outputs": [],
   "source": [
    "master_students = {}\n",
    "for key in filenames.keys():\n",
    "    master_students[key[1]] = []\n",
    "for key,filename in filenames.items():\n",
    "    master_students[key[1]].append(pd.read_csv(filename, header=0, index_col='No Sciper'))\n",
    "for semester,tables in master_students.items():\n",
    "    master_students[semester] = pd.concat(tables)\n",
    "    master_students[semester].drop(['Unnamed: 0', 'semester'],axis=1,inplace=True)\n",
    "    master_students[semester] = master_students[semester].rename(columns = {'year':('year_s'+str(semester))})\n",
    "#master_students[1].head()"
   ]
  },
  {
   "cell_type": "markdown",
   "metadata": {},
   "source": [
    "Further preprocessing involves dropping entries which figure in the 'Type Echange' column, reserved for exchange students."
   ]
  },
  {
   "cell_type": "code",
   "execution_count": 261,
   "metadata": {
    "collapsed": false
   },
   "outputs": [],
   "source": [
    "# remove students with an entry in the exchange column\n",
    "# and remove column 'Type Echange' as it is irrelevant now\n",
    "for semester,tables in master_students.items():\n",
    "    master_students[semester] = \\\n",
    "        master_students[semester][master_students[semester].loc[:,'Type Echange'].isnull() == True]\n",
    "    master_students[semester] = master_students[semester].dropna(axis=1, how='all')\n",
    "#frames[1]"
   ]
  },
  {
   "cell_type": "markdown",
   "metadata": {},
   "source": [
    "Similarly as before we collect all the master projects under one dataframe, indexed by the Sciper number of the students, while renaming the 'year' column to 'year_pr'"
   ]
  },
  {
   "cell_type": "code",
   "execution_count": 262,
   "metadata": {
    "collapsed": false
   },
   "outputs": [],
   "source": [
    "# Collecting all the master projects\n",
    "\n",
    "master_projects = []\n",
    "for key,filename in projects.items():\n",
    "    master_projects.append(pd.read_csv(filename, header=0, index_col='No Sciper'))\n",
    "master_projects = pd.concat(master_projects)\n",
    "#master_projects\n",
    "master_projects.drop(['Unnamed: 0'],axis=1,inplace=True)\n",
    "master_projects = master_projects.rename(columns = {'year':'year_pr'})\n"
   ]
  },
  {
   "cell_type": "markdown",
   "metadata": {},
   "source": [
    "Remove entries which feature an entry in the 'Type Echange' column in case there are any and drop columns which are entirely filled with NaN values"
   ]
  },
  {
   "cell_type": "code",
   "execution_count": 263,
   "metadata": {
    "collapsed": false
   },
   "outputs": [],
   "source": [
    "# remove entries which appear under 'Type Echange'\n",
    "master_projects = master_projects[master_projects.loc[:,'Type Echange'].isnull() == True]\n",
    "master_projects = master_projects.dropna(axis=1, how='all')"
   ]
  },
  {
   "cell_type": "code",
   "execution_count": 264,
   "metadata": {
    "collapsed": false
   },
   "outputs": [],
   "source": [
    "#master_projects"
   ]
  },
  {
   "cell_type": "markdown",
   "metadata": {},
   "source": [
    "# Step 2: Merging"
   ]
  },
  {
   "cell_type": "markdown",
   "metadata": {},
   "source": [
    "In order to not have duplicate columns after merging, we keep from one table only the columns which are not in the other table.\n",
    "\n",
    "For example below we keep from master_students[1] (i.e. the table containing the master students registered in the first semester) only the columns that are not in master_students[2]. By doing this we also introduce the assumption that in columns like Specialization or Mineur only the last entry is relevant.\n",
    "\n",
    "We merge based on the Sciper number, meaning we only keep students that figure under both semesters (1 and 2)"
   ]
  },
  {
   "cell_type": "code",
   "execution_count": 265,
   "metadata": {
    "collapsed": false
   },
   "outputs": [],
   "source": [
    "# keep the students in the first 2 semesters\n",
    "cols_to_use = master_students[1].columns.difference(master_students[2].columns)\n",
    "master_studs_1_2 = pd.merge(master_students[2], \n",
    "                        master_students[1][cols_to_use], left_index=True, right_index=True, how='inner')\n",
    "#master_studs_1_2.head()"
   ]
  },
  {
   "cell_type": "markdown",
   "metadata": {},
   "source": [
    "For now we decided to keep only the students in the first and second semester, but in the third semester."
   ]
  },
  {
   "cell_type": "code",
   "execution_count": 266,
   "metadata": {
    "collapsed": false
   },
   "outputs": [],
   "source": [
    "id12 = master_studs_1_2.index.difference(master_students[3].index)\n",
    "master_studs_1_2_only = master_studs_1_2.ix[id12]\n",
    "#master_studs_1_2_only"
   ]
  },
  {
   "cell_type": "markdown",
   "metadata": {},
   "source": [
    "Following the previous step we only keep the students from the first and second semester that also have a master project entry"
   ]
  },
  {
   "cell_type": "code",
   "execution_count": 267,
   "metadata": {
    "collapsed": false
   },
   "outputs": [],
   "source": [
    "# All students who did 1st and 2nd sem and the master project\n",
    "\n",
    "cols_to_use = master_studs_1_2_only.columns.difference(master_projects.columns)\n",
    "master_studs_1_2_only_project = pd.merge(master_projects, master_studs_1_2_only[cols_to_use],\n",
    "                                    left_index=True, right_index=True, how='inner')\n",
    "#master_studs_1_2_only_project"
   ]
  },
  {
   "cell_type": "markdown",
   "metadata": {},
   "source": [
    "After having the students with semesters 1, 2 and a master project, we focus on the students that also figure in the 3rd semester. "
   ]
  },
  {
   "cell_type": "markdown",
   "metadata": {},
   "source": [
    "Here similarly to the above approach we keep the columns from the table, which contains students with a 1st and 2nd semester, that are not in the table containing students from the 3rd semester."
   ]
  },
  {
   "cell_type": "code",
   "execution_count": 268,
   "metadata": {
    "collapsed": false
   },
   "outputs": [],
   "source": [
    "# find the students in all 3 semesters\n",
    "cols_to_use = master_studs_1_2.columns.difference(master_students[3].columns)\n",
    "master_studs_1_2_3 = pd.merge(master_students[3], \n",
    "                        master_studs_1_2[cols_to_use], left_index=True, right_index=True, how='inner')\n",
    "#master_studs_1_2_3"
   ]
  },
  {
   "cell_type": "markdown",
   "metadata": {},
   "source": [
    "We divided the students which figure under all 3 master semesters in 2 cases:\n",
    "\n",
    "* the students who figure in the 'Statut' column as 'Stage' and we assume that they are doing or done their master project during this period. Because of this and for convenience we add the column 'year_pr' = 'year_s3' (i.e. equals to the column corresponding to the year in which the student was registered in its 3rd semester) and the column 'semester' = 'automne' as the 3rd semester takes place during fall. In addition we keep those 'Stage' students without an entry in the master_projects table"
   ]
  },
  {
   "cell_type": "code",
   "execution_count": 301,
   "metadata": {
    "collapsed": false
   },
   "outputs": [],
   "source": [
    "# find the students in all 3 semesters with 'Stage' in the 3rd semester\n",
    "master_studs_1_2_3_stage = master_studs_1_2_3[master_studs_1_2_3['Statut'] == 'Stage']\n",
    "\n",
    "# Here we assume that the students are doing their master project at the same time with their Stage\n",
    "master_studs_1_2_3_stage = master_studs_1_2_3_stage.assign(year_pr = master_studs_1_2_3_stage['year_s3'])\n",
    "master_studs_1_2_3_stage = master_studs_1_2_3_stage.assign(semester = 'automne')\n",
    "\n",
    "# keep those not referenced in the master_projects table\n",
    "id123 = master_studs_1_2_3_stage.index.difference(master_projects.index)\n",
    "master_studs_1_2_3_stage = master_studs_1_2_3_stage.ix[id123]\n",
    "#master_studs_1_2_3_stage"
   ]
  },
  {
   "cell_type": "markdown",
   "metadata": {},
   "source": [
    "* the second case consists in gathering the students which are listed to have a master project"
   ]
  },
  {
   "cell_type": "code",
   "execution_count": 303,
   "metadata": {
    "collapsed": false
   },
   "outputs": [],
   "source": [
    "# Students in semesters 1,2,3 with a master project\n",
    "cols_to_use = master_projects.columns.difference(master_studs_1_2_3.columns)\n",
    "master_studs_1_2_3_project = pd.merge(master_studs_1_2_3, master_projects[cols_to_use],\n",
    "                                    left_index=True, right_index=True, how='inner')\n",
    "#master_studs_1_2_3_project.head()"
   ]
  },
  {
   "cell_type": "code",
   "execution_count": 304,
   "metadata": {
    "collapsed": false,
    "scrolled": true
   },
   "outputs": [
    {
     "data": {
      "text/html": [
       "<div>\n",
       "<table border=\"1\" class=\"dataframe\">\n",
       "  <thead>\n",
       "    <tr style=\"text-align: right;\">\n",
       "      <th></th>\n",
       "      <th>Civilité_x</th>\n",
       "      <th>Mineur_x</th>\n",
       "      <th>Nom Prénom_x</th>\n",
       "      <th>Spécialisation_x</th>\n",
       "      <th>Statut_x</th>\n",
       "      <th>year_s3_x</th>\n",
       "      <th>year_s1_x</th>\n",
       "      <th>year_s2_x</th>\n",
       "      <th>year_pr_x</th>\n",
       "      <th>semester_x</th>\n",
       "      <th>Civilité_y</th>\n",
       "      <th>Mineur_y</th>\n",
       "      <th>Nom Prénom_y</th>\n",
       "      <th>Spécialisation_y</th>\n",
       "      <th>Statut_y</th>\n",
       "      <th>year_s3_y</th>\n",
       "      <th>year_s1_y</th>\n",
       "      <th>year_s2_y</th>\n",
       "      <th>semester_y</th>\n",
       "      <th>year_pr_y</th>\n",
       "    </tr>\n",
       "    <tr>\n",
       "      <th>No Sciper</th>\n",
       "      <th></th>\n",
       "      <th></th>\n",
       "      <th></th>\n",
       "      <th></th>\n",
       "      <th></th>\n",
       "      <th></th>\n",
       "      <th></th>\n",
       "      <th></th>\n",
       "      <th></th>\n",
       "      <th></th>\n",
       "      <th></th>\n",
       "      <th></th>\n",
       "      <th></th>\n",
       "      <th></th>\n",
       "      <th></th>\n",
       "      <th></th>\n",
       "      <th></th>\n",
       "      <th></th>\n",
       "      <th></th>\n",
       "      <th></th>\n",
       "    </tr>\n",
       "  </thead>\n",
       "  <tbody>\n",
       "  </tbody>\n",
       "</table>\n",
       "</div>"
      ],
      "text/plain": [
       "Empty DataFrame\n",
       "Columns: [Civilité_x, Mineur_x, Nom Prénom_x, Spécialisation_x, Statut_x, year_s3_x, year_s1_x, year_s2_x, year_pr_x, semester_x, Civilité_y, Mineur_y, Nom Prénom_y, Spécialisation_y, Statut_y, year_s3_y, year_s1_y, year_s2_y, semester_y, year_pr_y]\n",
       "Index: []"
      ]
     },
     "execution_count": 304,
     "metadata": {},
     "output_type": "execute_result"
    }
   ],
   "source": [
    "# Test if there are overlaps between master_studs_1_2_3_stage and master_studs_1_2_3_project\n",
    "master_studs_1_2_3_test = pd.merge(master_studs_1_2_3_stage, master_studs_1_2_3_project,\n",
    "                                    left_index=True, right_index=True, how='inner')\n",
    "master_studs_1_2_3_test # should be empty"
   ]
  },
  {
   "cell_type": "markdown",
   "metadata": {},
   "source": [
    "# Step 3: Putting the tables together"
   ]
  },
  {
   "cell_type": "code",
   "execution_count": 271,
   "metadata": {
    "collapsed": true
   },
   "outputs": [],
   "source": [
    "master_students_final = [master_studs_1_2_only_project, master_studs_1_2_3_project, master_studs_1_2_3_stage]"
   ]
  },
  {
   "cell_type": "markdown",
   "metadata": {},
   "source": [
    "The master table consists of all students that are viable to be considered as graduated master students"
   ]
  },
  {
   "cell_type": "markdown",
   "metadata": {},
   "source": [
    "Furthermore we only keep the columns which are needed for the first part of the exercise, i.e. the ones needed to compute the average duration"
   ]
  },
  {
   "cell_type": "code",
   "execution_count": 305,
   "metadata": {
    "collapsed": false,
    "scrolled": true
   },
   "outputs": [],
   "source": [
    "master = pd.concat(master_students_final)\n",
    "master = master[['Civilité','Nom Prénom','semester', 'year_pr','year_s1','year_s2','year_s3']]\n",
    "master = master.drop_duplicates()\n",
    "#master.head()"
   ]
  },
  {
   "cell_type": "markdown",
   "metadata": {},
   "source": [
    "Next we group the master table based on the Sciper number (there are students with multiple entries due to different reasons, such as doing their second master semester in different academic years or doing their master projects in different seasons) and aggregate the columns using different functions. For example for semester 1 ('year_s1' column) and for semester 2 ('year_s2' column) we are interested in the mininum, whereas for semester 3 and project year('year_pr') we are interested in the maximum of this aggregation."
   ]
  },
  {
   "cell_type": "code",
   "execution_count": 308,
   "metadata": {
    "collapsed": false
   },
   "outputs": [
    {
     "data": {
      "text/html": [
       "<div>\n",
       "<table border=\"1\" class=\"dataframe\">\n",
       "  <thead>\n",
       "    <tr style=\"text-align: right;\">\n",
       "      <th></th>\n",
       "      <th>year_s2</th>\n",
       "      <th>Civilité</th>\n",
       "      <th>year_s1</th>\n",
       "      <th>semester</th>\n",
       "      <th>year_s3</th>\n",
       "      <th>year_pr</th>\n",
       "      <th>Nom Prénom</th>\n",
       "    </tr>\n",
       "    <tr>\n",
       "      <th>No Sciper</th>\n",
       "      <th></th>\n",
       "      <th></th>\n",
       "      <th></th>\n",
       "      <th></th>\n",
       "      <th></th>\n",
       "      <th></th>\n",
       "      <th></th>\n",
       "    </tr>\n",
       "  </thead>\n",
       "  <tbody>\n",
       "    <tr>\n",
       "      <th>146742</th>\n",
       "      <td>2008</td>\n",
       "      <td>Monsieur</td>\n",
       "      <td>2008</td>\n",
       "      <td>printemps</td>\n",
       "      <td>2012.0</td>\n",
       "      <td>2010</td>\n",
       "      <td>Marx Clément</td>\n",
       "    </tr>\n",
       "    <tr>\n",
       "      <th>154573</th>\n",
       "      <td>2007</td>\n",
       "      <td>Madame</td>\n",
       "      <td>2007</td>\n",
       "      <td>printemps</td>\n",
       "      <td>2009.0</td>\n",
       "      <td>2009</td>\n",
       "      <td>Benabdallah Zeineb</td>\n",
       "    </tr>\n",
       "    <tr>\n",
       "      <th>154706</th>\n",
       "      <td>2007</td>\n",
       "      <td>Monsieur</td>\n",
       "      <td>2007</td>\n",
       "      <td>automne</td>\n",
       "      <td>2008.0</td>\n",
       "      <td>2008</td>\n",
       "      <td>Suter François</td>\n",
       "    </tr>\n",
       "    <tr>\n",
       "      <th>159516</th>\n",
       "      <td>2008</td>\n",
       "      <td>Monsieur</td>\n",
       "      <td>2008</td>\n",
       "      <td>printemps</td>\n",
       "      <td>2009.0</td>\n",
       "      <td>2009</td>\n",
       "      <td>Raja Yanick</td>\n",
       "    </tr>\n",
       "    <tr>\n",
       "      <th>160213</th>\n",
       "      <td>2007</td>\n",
       "      <td>Monsieur</td>\n",
       "      <td>2008</td>\n",
       "      <td>automne</td>\n",
       "      <td>NaN</td>\n",
       "      <td>2009</td>\n",
       "      <td>Bécholey Alexandre</td>\n",
       "    </tr>\n",
       "  </tbody>\n",
       "</table>\n",
       "</div>"
      ],
      "text/plain": [
       "           year_s2  Civilité  year_s1   semester  year_s3  year_pr  \\\n",
       "No Sciper                                                            \n",
       "146742        2008  Monsieur     2008  printemps   2012.0     2010   \n",
       "154573        2007    Madame     2007  printemps   2009.0     2009   \n",
       "154706        2007  Monsieur     2007    automne   2008.0     2008   \n",
       "159516        2008  Monsieur     2008  printemps   2009.0     2009   \n",
       "160213        2007  Monsieur     2008    automne      NaN     2009   \n",
       "\n",
       "                   Nom Prénom  \n",
       "No Sciper                      \n",
       "146742           Marx Clément  \n",
       "154573     Benabdallah Zeineb  \n",
       "154706         Suter François  \n",
       "159516            Raja Yanick  \n",
       "160213     Bécholey Alexandre  "
      ]
     },
     "execution_count": 308,
     "metadata": {},
     "output_type": "execute_result"
    }
   ],
   "source": [
    "#master_group = master.groupby(master.index).min()\n",
    "master_group = master.groupby(master.index)\n",
    "master_group = master_group.agg({'Civilité':'last','Nom Prénom':'last','semester':'first','year_pr':'max',\n",
    "                 'year_s1':'min','year_s2':'min','year_s3':'max'})\n",
    "master_group.head()"
   ]
  },
  {
   "cell_type": "markdown",
   "metadata": {},
   "source": [
    "Following we compute the duration for each student in the above table"
   ]
  },
  {
   "cell_type": "code",
   "execution_count": 316,
   "metadata": {
    "collapsed": false
   },
   "outputs": [
    {
     "data": {
      "text/html": [
       "<div>\n",
       "<table border=\"1\" class=\"dataframe\">\n",
       "  <thead>\n",
       "    <tr style=\"text-align: right;\">\n",
       "      <th></th>\n",
       "      <th>year_s2</th>\n",
       "      <th>Civilité</th>\n",
       "      <th>year_s1</th>\n",
       "      <th>semester</th>\n",
       "      <th>year_s3</th>\n",
       "      <th>year_pr</th>\n",
       "      <th>Nom Prénom</th>\n",
       "      <th>duration</th>\n",
       "    </tr>\n",
       "    <tr>\n",
       "      <th>No Sciper</th>\n",
       "      <th></th>\n",
       "      <th></th>\n",
       "      <th></th>\n",
       "      <th></th>\n",
       "      <th></th>\n",
       "      <th></th>\n",
       "      <th></th>\n",
       "      <th></th>\n",
       "    </tr>\n",
       "  </thead>\n",
       "  <tbody>\n",
       "    <tr>\n",
       "      <th>146742</th>\n",
       "      <td>2008</td>\n",
       "      <td>Monsieur</td>\n",
       "      <td>2008</td>\n",
       "      <td>printemps</td>\n",
       "      <td>2012.0</td>\n",
       "      <td>2010</td>\n",
       "      <td>Marx Clément</td>\n",
       "      <td>4.5</td>\n",
       "    </tr>\n",
       "    <tr>\n",
       "      <th>154573</th>\n",
       "      <td>2007</td>\n",
       "      <td>Madame</td>\n",
       "      <td>2007</td>\n",
       "      <td>printemps</td>\n",
       "      <td>2009.0</td>\n",
       "      <td>2009</td>\n",
       "      <td>Benabdallah Zeineb</td>\n",
       "      <td>2.5</td>\n",
       "    </tr>\n",
       "    <tr>\n",
       "      <th>154706</th>\n",
       "      <td>2007</td>\n",
       "      <td>Monsieur</td>\n",
       "      <td>2007</td>\n",
       "      <td>automne</td>\n",
       "      <td>2008.0</td>\n",
       "      <td>2008</td>\n",
       "      <td>Suter François</td>\n",
       "      <td>1.5</td>\n",
       "    </tr>\n",
       "    <tr>\n",
       "      <th>159516</th>\n",
       "      <td>2008</td>\n",
       "      <td>Monsieur</td>\n",
       "      <td>2008</td>\n",
       "      <td>printemps</td>\n",
       "      <td>2009.0</td>\n",
       "      <td>2009</td>\n",
       "      <td>Raja Yanick</td>\n",
       "      <td>1.5</td>\n",
       "    </tr>\n",
       "    <tr>\n",
       "      <th>160213</th>\n",
       "      <td>2007</td>\n",
       "      <td>Monsieur</td>\n",
       "      <td>2008</td>\n",
       "      <td>automne</td>\n",
       "      <td>NaN</td>\n",
       "      <td>2009</td>\n",
       "      <td>Bécholey Alexandre</td>\n",
       "      <td>2.0</td>\n",
       "    </tr>\n",
       "  </tbody>\n",
       "</table>\n",
       "</div>"
      ],
      "text/plain": [
       "           year_s2  Civilité  year_s1   semester  year_s3  year_pr  \\\n",
       "No Sciper                                                            \n",
       "146742        2008  Monsieur     2008  printemps   2012.0     2010   \n",
       "154573        2007    Madame     2007  printemps   2009.0     2009   \n",
       "154706        2007  Monsieur     2007    automne   2008.0     2008   \n",
       "159516        2008  Monsieur     2008  printemps   2009.0     2009   \n",
       "160213        2007  Monsieur     2008    automne      NaN     2009   \n",
       "\n",
       "                   Nom Prénom  duration  \n",
       "No Sciper                                \n",
       "146742           Marx Clément       4.5  \n",
       "154573     Benabdallah Zeineb       2.5  \n",
       "154706         Suter François       1.5  \n",
       "159516            Raja Yanick       1.5  \n",
       "160213     Bécholey Alexandre       2.0  "
      ]
     },
     "execution_count": 316,
     "metadata": {},
     "output_type": "execute_result"
    }
   ],
   "source": [
    "def compute_duration(row):\n",
    "    # the semester variable establishes in which semester the student finished\n",
    "    semester = ''\n",
    "    # the last_year variable represents the last year done by the student for masters\n",
    "    last_year = 0\n",
    "    \n",
    "    if(pd.isnull(row.year_s3)):\n",
    "        # if the row.year_s3 entry is NaN then use the master project year and semester\n",
    "        last_year = row.year_pr\n",
    "        semester = row.semester\n",
    "    else:\n",
    "        if (row.year_s3 == row.year_pr):\n",
    "            # 'automne' because even if the master project is finished in spring\n",
    "            # the third semester happens in fall\n",
    "            last_year = row.year_pr\n",
    "            semester = 'automne'\n",
    "        elif (row.year_s3 < row.year_pr):\n",
    "            # here we use master project again if the third semester happened before\n",
    "            last_year = row.year_pr\n",
    "            semester = row.semester\n",
    "        else:\n",
    "            # third semester happened after the master project (such cases did happen)\n",
    "            last_year = row.year_s3\n",
    "            semester = 'automne'\n",
    "        \n",
    "    if (row.year_s1 <= row.year_s2):\n",
    "        # even if they are equal semester 1 happened before semester 2 \n",
    "        # i.e. if semester 1 appears as 2009 it means it happened in fall 2009\n",
    "        # if semester 2 appears as 2009 it means it happened in spring 2010, as\n",
    "        # 2009 means the beginning of the academic year\n",
    "        if(semester == 'printemps'):\n",
    "            return last_year - row.year_s1 + 1.0 # next academic year\n",
    "        else:\n",
    "            return last_year - row.year_s1 + 0.5\n",
    "    else:\n",
    "        # The else is for entries in which the student is listed with the\n",
    "        # 2nd semester before the 1st semester -- might seem strange but there\n",
    "        # were a few cases\n",
    "        if(semester == 'automne'):\n",
    "            return last_year - row.year_s2\n",
    "        else:\n",
    "            return last_year - row.year_s2 + 0.5 # next academic year\n",
    "        \n",
    "master_group['duration'] = master_group.apply(compute_duration, axis = 1)\n",
    "master_group = master_group[master_group.duration.notnull()]\n",
    "master_group.head()"
   ]
  },
  {
   "cell_type": "markdown",
   "metadata": {},
   "source": [
    "# Average duration for master students:"
   ]
  },
  {
   "cell_type": "code",
   "execution_count": 322,
   "metadata": {
    "collapsed": false
   },
   "outputs": [
    {
     "data": {
      "text/plain": [
       "1.8491735537190082"
      ]
     },
     "execution_count": 322,
     "metadata": {},
     "output_type": "execute_result"
    }
   ],
   "source": [
    "master_duration = master_group['duration'].mean()\n",
    "master_duration"
   ]
  },
  {
   "cell_type": "code",
   "execution_count": 323,
   "metadata": {
    "collapsed": true
   },
   "outputs": [],
   "source": [
    "%matplotlib inline\n",
    "import numpy as np\n",
    "import scipy.stats as stats\n",
    "import matplotlib.pyplot as plt\n",
    "import math"
   ]
  },
  {
   "cell_type": "markdown",
   "metadata": {},
   "source": [
    "Graduated master students (under the conditions applied above) grouped by gender"
   ]
  },
  {
   "cell_type": "code",
   "execution_count": 319,
   "metadata": {
    "collapsed": false
   },
   "outputs": [
    {
     "name": "stdout",
     "output_type": "stream",
     "text": [
      "Monsieur    213\n",
      "Madame       29\n",
      "Name: Civilité, dtype: int64\n"
     ]
    },
    {
     "data": {
      "text/plain": [
       "<matplotlib.axes._subplots.AxesSubplot at 0x7f94f9343f28>"
      ]
     },
     "execution_count": 319,
     "metadata": {},
     "output_type": "execute_result"
    },
    {
     "data": {
      "image/png": "[encoded data removed]",
      "text/plain": [
       "<matplotlib.figure.Figure at 0x7f94f93fc940>"
      ]
     },
     "metadata": {},
     "output_type": "display_data"
    }
   ],
   "source": [
    "print(master_group[\"Civilité\"].value_counts())\n",
    "master_group[\"Civilité\"].value_counts().plot(kind='bar')"
   ]
  },
  {
   "cell_type": "markdown",
   "metadata": {},
   "source": [
    "Graduated master students (under the conditions above) grouped by duration of their studies"
   ]
  },
  {
   "cell_type": "code",
   "execution_count": 320,
   "metadata": {
    "collapsed": false
   },
   "outputs": [
    {
     "data": {
      "text/plain": [
       "<matplotlib.axes._subplots.AxesSubplot at 0x7f94f925fef0>"
      ]
     },
     "execution_count": 320,
     "metadata": {},
     "output_type": "execute_result"
    },
    {
     "data": {
      "image/png": "[encoded data removed]",
      "text/plain": [
       "<matplotlib.figure.Figure at 0x7f94f9273a90>"
      ]
     },
     "metadata": {},
     "output_type": "display_data"
    }
   ],
   "source": [
    "master_group[\"duration\"].value_counts().plot(kind='bar')"
   ]
  },
  {
   "cell_type": "code",
   "execution_count": 321,
   "metadata": {
    "collapsed": false
   },
   "outputs": [
    {
     "data": {
      "text/html": [
       "<div>\n",
       "<table border=\"1\" class=\"dataframe\">\n",
       "  <thead>\n",
       "    <tr style=\"text-align: right;\">\n",
       "      <th></th>\n",
       "      <th>year_s2</th>\n",
       "      <th>Civilité</th>\n",
       "      <th>year_s1</th>\n",
       "      <th>semester</th>\n",
       "      <th>year_s3</th>\n",
       "      <th>year_pr</th>\n",
       "      <th>Nom Prénom</th>\n",
       "      <th>duration</th>\n",
       "    </tr>\n",
       "    <tr>\n",
       "      <th>No Sciper</th>\n",
       "      <th></th>\n",
       "      <th></th>\n",
       "      <th></th>\n",
       "      <th></th>\n",
       "      <th></th>\n",
       "      <th></th>\n",
       "      <th></th>\n",
       "      <th></th>\n",
       "    </tr>\n",
       "  </thead>\n",
       "  <tbody>\n",
       "  </tbody>\n",
       "</table>\n",
       "</div>"
      ],
      "text/plain": [
       "Empty DataFrame\n",
       "Columns: [year_s2, Civilité, year_s1, semester, year_s3, year_pr, Nom Prénom, duration]\n",
       "Index: []"
      ]
     },
     "execution_count": 321,
     "metadata": {},
     "output_type": "execute_result"
    }
   ],
   "source": [
    "# There should not be any case with 1 year\n",
    "master_group[master_group.duration == 1.0]"
   ]
  },
  {
   "cell_type": "markdown",
   "metadata": {},
   "source": [
    "# Master Specialization"
   ]
  },
  {
   "cell_type": "markdown",
   "metadata": {},
   "source": [
    "Among the master students keep the ones which are listed with a specialization"
   ]
  },
  {
   "cell_type": "code",
   "execution_count": 328,
   "metadata": {
    "collapsed": false
   },
   "outputs": [],
   "source": [
    "master_spec = [master_studs_1_2_only_project, master_studs_1_2_3_project, master_studs_1_2_3_stage]\n",
    "master_spec = pd.concat(master_spec)\n",
    "master_spec = master_spec[master_spec['Spécialisation'].notnull()]\n",
    "master_spec = master_spec.drop_duplicates()\n",
    "#master_spec.head()"
   ]
  },
  {
   "cell_type": "markdown",
   "metadata": {},
   "source": [
    "As before group and aggregate to prepare the data for computing the duration"
   ]
  },
  {
   "cell_type": "code",
   "execution_count": 332,
   "metadata": {
    "collapsed": false
   },
   "outputs": [
    {
     "data": {
      "text/html": [
       "<div>\n",
       "<table border=\"1\" class=\"dataframe\">\n",
       "  <thead>\n",
       "    <tr style=\"text-align: right;\">\n",
       "      <th></th>\n",
       "      <th>year_s2</th>\n",
       "      <th>year_s3</th>\n",
       "      <th>Civilité</th>\n",
       "      <th>year_s1</th>\n",
       "      <th>semester</th>\n",
       "      <th>Spécialisation</th>\n",
       "      <th>year_pr</th>\n",
       "      <th>Nom Prénom</th>\n",
       "    </tr>\n",
       "    <tr>\n",
       "      <th>No Sciper</th>\n",
       "      <th></th>\n",
       "      <th></th>\n",
       "      <th></th>\n",
       "      <th></th>\n",
       "      <th></th>\n",
       "      <th></th>\n",
       "      <th></th>\n",
       "      <th></th>\n",
       "    </tr>\n",
       "  </thead>\n",
       "  <tbody>\n",
       "    <tr>\n",
       "      <th>146742</th>\n",
       "      <td>2008</td>\n",
       "      <td>2012.0</td>\n",
       "      <td>Monsieur</td>\n",
       "      <td>2008</td>\n",
       "      <td>printemps</td>\n",
       "      <td>Signals, Images and Interfaces</td>\n",
       "      <td>2010</td>\n",
       "      <td>Marx Clément</td>\n",
       "    </tr>\n",
       "    <tr>\n",
       "      <th>154573</th>\n",
       "      <td>2007</td>\n",
       "      <td>2009.0</td>\n",
       "      <td>Madame</td>\n",
       "      <td>2007</td>\n",
       "      <td>printemps</td>\n",
       "      <td>Biocomputing</td>\n",
       "      <td>2009</td>\n",
       "      <td>Benabdallah Zeineb</td>\n",
       "    </tr>\n",
       "    <tr>\n",
       "      <th>165819</th>\n",
       "      <td>2007</td>\n",
       "      <td>2008.0</td>\n",
       "      <td>Monsieur</td>\n",
       "      <td>2007</td>\n",
       "      <td>printemps</td>\n",
       "      <td>Foundations of Software</td>\n",
       "      <td>2008</td>\n",
       "      <td>Hofer Thomas</td>\n",
       "    </tr>\n",
       "    <tr>\n",
       "      <th>169569</th>\n",
       "      <td>2010</td>\n",
       "      <td>2012.0</td>\n",
       "      <td>Monsieur</td>\n",
       "      <td>2010</td>\n",
       "      <td>automne</td>\n",
       "      <td>Signals, Images and Interfaces</td>\n",
       "      <td>2012</td>\n",
       "      <td>Arévalo Christian</td>\n",
       "    </tr>\n",
       "    <tr>\n",
       "      <th>170224</th>\n",
       "      <td>2010</td>\n",
       "      <td>2012.0</td>\n",
       "      <td>Monsieur</td>\n",
       "      <td>2010</td>\n",
       "      <td>automne</td>\n",
       "      <td>Signals, Images and Interfaces</td>\n",
       "      <td>2012</td>\n",
       "      <td>Margot Alexandre</td>\n",
       "    </tr>\n",
       "  </tbody>\n",
       "</table>\n",
       "</div>"
      ],
      "text/plain": [
       "           year_s2  year_s3  Civilité  year_s1   semester  \\\n",
       "No Sciper                                                   \n",
       "146742        2008   2012.0  Monsieur     2008  printemps   \n",
       "154573        2007   2009.0    Madame     2007  printemps   \n",
       "165819        2007   2008.0  Monsieur     2007  printemps   \n",
       "169569        2010   2012.0  Monsieur     2010    automne   \n",
       "170224        2010   2012.0  Monsieur     2010    automne   \n",
       "\n",
       "                           Spécialisation  year_pr          Nom Prénom  \n",
       "No Sciper                                                               \n",
       "146742     Signals, Images and Interfaces     2010        Marx Clément  \n",
       "154573                       Biocomputing     2009  Benabdallah Zeineb  \n",
       "165819            Foundations of Software     2008        Hofer Thomas  \n",
       "169569     Signals, Images and Interfaces     2012   Arévalo Christian  \n",
       "170224     Signals, Images and Interfaces     2012    Margot Alexandre  "
      ]
     },
     "execution_count": 332,
     "metadata": {},
     "output_type": "execute_result"
    }
   ],
   "source": [
    "master_spec = master_spec.groupby(master_spec.index)\n",
    "master_spec = master_spec.agg({'Civilité':'last','Spécialisation':'last', 'Nom Prénom':'last','semester':'first',\n",
    "                               'year_pr':'max','year_s1':'min','year_s2':'min','year_s3':'max'})\n",
    "master_spec.head()"
   ]
  },
  {
   "cell_type": "code",
   "execution_count": 334,
   "metadata": {
    "collapsed": false
   },
   "outputs": [
    {
     "data": {
      "text/html": [
       "<div>\n",
       "<table border=\"1\" class=\"dataframe\">\n",
       "  <thead>\n",
       "    <tr style=\"text-align: right;\">\n",
       "      <th></th>\n",
       "      <th>year_s2</th>\n",
       "      <th>year_s3</th>\n",
       "      <th>Civilité</th>\n",
       "      <th>year_s1</th>\n",
       "      <th>semester</th>\n",
       "      <th>Spécialisation</th>\n",
       "      <th>year_pr</th>\n",
       "      <th>Nom Prénom</th>\n",
       "      <th>duration</th>\n",
       "    </tr>\n",
       "    <tr>\n",
       "      <th>No Sciper</th>\n",
       "      <th></th>\n",
       "      <th></th>\n",
       "      <th></th>\n",
       "      <th></th>\n",
       "      <th></th>\n",
       "      <th></th>\n",
       "      <th></th>\n",
       "      <th></th>\n",
       "      <th></th>\n",
       "    </tr>\n",
       "  </thead>\n",
       "  <tbody>\n",
       "    <tr>\n",
       "      <th>146742</th>\n",
       "      <td>2008</td>\n",
       "      <td>2012.0</td>\n",
       "      <td>Monsieur</td>\n",
       "      <td>2008</td>\n",
       "      <td>printemps</td>\n",
       "      <td>Signals, Images and Interfaces</td>\n",
       "      <td>2010</td>\n",
       "      <td>Marx Clément</td>\n",
       "      <td>4.5</td>\n",
       "    </tr>\n",
       "    <tr>\n",
       "      <th>154573</th>\n",
       "      <td>2007</td>\n",
       "      <td>2009.0</td>\n",
       "      <td>Madame</td>\n",
       "      <td>2007</td>\n",
       "      <td>printemps</td>\n",
       "      <td>Biocomputing</td>\n",
       "      <td>2009</td>\n",
       "      <td>Benabdallah Zeineb</td>\n",
       "      <td>2.5</td>\n",
       "    </tr>\n",
       "    <tr>\n",
       "      <th>165819</th>\n",
       "      <td>2007</td>\n",
       "      <td>2008.0</td>\n",
       "      <td>Monsieur</td>\n",
       "      <td>2007</td>\n",
       "      <td>printemps</td>\n",
       "      <td>Foundations of Software</td>\n",
       "      <td>2008</td>\n",
       "      <td>Hofer Thomas</td>\n",
       "      <td>1.5</td>\n",
       "    </tr>\n",
       "    <tr>\n",
       "      <th>169569</th>\n",
       "      <td>2010</td>\n",
       "      <td>2012.0</td>\n",
       "      <td>Monsieur</td>\n",
       "      <td>2010</td>\n",
       "      <td>automne</td>\n",
       "      <td>Signals, Images and Interfaces</td>\n",
       "      <td>2012</td>\n",
       "      <td>Arévalo Christian</td>\n",
       "      <td>2.5</td>\n",
       "    </tr>\n",
       "    <tr>\n",
       "      <th>170224</th>\n",
       "      <td>2010</td>\n",
       "      <td>2012.0</td>\n",
       "      <td>Monsieur</td>\n",
       "      <td>2010</td>\n",
       "      <td>automne</td>\n",
       "      <td>Signals, Images and Interfaces</td>\n",
       "      <td>2012</td>\n",
       "      <td>Margot Alexandre</td>\n",
       "      <td>2.5</td>\n",
       "    </tr>\n",
       "  </tbody>\n",
       "</table>\n",
       "</div>"
      ],
      "text/plain": [
       "           year_s2  year_s3  Civilité  year_s1   semester  \\\n",
       "No Sciper                                                   \n",
       "146742        2008   2012.0  Monsieur     2008  printemps   \n",
       "154573        2007   2009.0    Madame     2007  printemps   \n",
       "165819        2007   2008.0  Monsieur     2007  printemps   \n",
       "169569        2010   2012.0  Monsieur     2010    automne   \n",
       "170224        2010   2012.0  Monsieur     2010    automne   \n",
       "\n",
       "                           Spécialisation  year_pr          Nom Prénom  \\\n",
       "No Sciper                                                                \n",
       "146742     Signals, Images and Interfaces     2010        Marx Clément   \n",
       "154573                       Biocomputing     2009  Benabdallah Zeineb   \n",
       "165819            Foundations of Software     2008        Hofer Thomas   \n",
       "169569     Signals, Images and Interfaces     2012   Arévalo Christian   \n",
       "170224     Signals, Images and Interfaces     2012    Margot Alexandre   \n",
       "\n",
       "           duration  \n",
       "No Sciper            \n",
       "146742          4.5  \n",
       "154573          2.5  \n",
       "165819          1.5  \n",
       "169569          2.5  \n",
       "170224          2.5  "
      ]
     },
     "execution_count": 334,
     "metadata": {},
     "output_type": "execute_result"
    }
   ],
   "source": [
    "# ONLY students who have a specialization listed in semester 3\n",
    "\n",
    "master_spec['duration'] = master_spec.apply(compute_duration, axis = 1)\n",
    "master_spec = master_spec[master_spec.duration.notnull()]\n",
    "master_spec.head()"
   ]
  },
  {
   "cell_type": "markdown",
   "metadata": {},
   "source": [
    "Grouping the results based on the Specialisation and finding the mean and the number of students listed for the respective specialization."
   ]
  },
  {
   "cell_type": "code",
   "execution_count": 331,
   "metadata": {
    "collapsed": false
   },
   "outputs": [
    {
     "data": {
      "text/html": [
       "<div>\n",
       "<table border=\"1\" class=\"dataframe\">\n",
       "  <thead>\n",
       "    <tr style=\"text-align: right;\">\n",
       "      <th></th>\n",
       "      <th>mean</th>\n",
       "      <th>size</th>\n",
       "    </tr>\n",
       "    <tr>\n",
       "      <th>Spécialisation</th>\n",
       "      <th></th>\n",
       "      <th></th>\n",
       "    </tr>\n",
       "  </thead>\n",
       "  <tbody>\n",
       "    <tr>\n",
       "      <th>Biocomputing</th>\n",
       "      <td>2.500000</td>\n",
       "      <td>1</td>\n",
       "    </tr>\n",
       "    <tr>\n",
       "      <th>Computer Engineering - SP</th>\n",
       "      <td>2.500000</td>\n",
       "      <td>2</td>\n",
       "    </tr>\n",
       "    <tr>\n",
       "      <th>Foundations of Software</th>\n",
       "      <td>1.900000</td>\n",
       "      <td>20</td>\n",
       "    </tr>\n",
       "    <tr>\n",
       "      <th>Information Security - SP</th>\n",
       "      <td>2.500000</td>\n",
       "      <td>1</td>\n",
       "    </tr>\n",
       "    <tr>\n",
       "      <th>Internet computing</th>\n",
       "      <td>2.166667</td>\n",
       "      <td>24</td>\n",
       "    </tr>\n",
       "    <tr>\n",
       "      <th>Service science</th>\n",
       "      <td>2.500000</td>\n",
       "      <td>1</td>\n",
       "    </tr>\n",
       "    <tr>\n",
       "      <th>Signals, Images and Interfaces</th>\n",
       "      <td>2.611111</td>\n",
       "      <td>9</td>\n",
       "    </tr>\n",
       "    <tr>\n",
       "      <th>Software Systems</th>\n",
       "      <td>2.166667</td>\n",
       "      <td>3</td>\n",
       "    </tr>\n",
       "  </tbody>\n",
       "</table>\n",
       "</div>"
      ],
      "text/plain": [
       "                                    mean  size\n",
       "Spécialisation                                \n",
       "Biocomputing                    2.500000     1\n",
       "Computer Engineering - SP       2.500000     2\n",
       "Foundations of Software         1.900000    20\n",
       "Information Security - SP       2.500000     1\n",
       "Internet computing              2.166667    24\n",
       "Service science                 2.500000     1\n",
       "Signals, Images and Interfaces  2.611111     9\n",
       "Software Systems                2.166667     3"
      ]
     },
     "execution_count": 331,
     "metadata": {},
     "output_type": "execute_result"
    }
   ],
   "source": [
    "master_spec_group = master_spec.groupby(['Spécialisation'])\n",
    "master_spec_group['duration'].agg(['mean', 'size'])"
   ]
  }
 ],
 "metadata": {
  "anaconda-cloud": {},
  "kernelspec": {
   "display_name": "Python [Root]",
   "language": "python",
   "name": "Python [Root]"
  },
  "language_info": {
   "codemirror_mode": {
    "name": "ipython",
    "version": 3
   },
   "file_extension": ".py",
   "mimetype": "text/x-python",
   "name": "python",
   "nbconvert_exporter": "python",
   "pygments_lexer": "ipython3",
   "version": "3.5.2"
  }
 },
 "nbformat": 4,
 "nbformat_minor": 0
}

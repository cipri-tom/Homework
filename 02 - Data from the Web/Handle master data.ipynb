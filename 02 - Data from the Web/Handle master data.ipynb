{
 "cells": [
  {
   "cell_type": "code",
   "execution_count": null,
   "metadata": {
    "collapsed": true
   },
   "outputs": [],
   "source": [
    "import pandas as pd\n",
    "from os import path"
   ]
  },
  {
   "cell_type": "markdown",
   "metadata": {},
   "source": [
    "# Step 1: Preprocessing"
   ]
  },
  {
   "cell_type": "markdown",
   "metadata": {},
   "source": [
    "* filenames = the names of the files containing the master student data \n",
    "* projects = the names of the files containing the master projects data"
   ]
  },
  {
   "cell_type": "code",
   "execution_count": null,
   "metadata": {
    "collapsed": false
   },
   "outputs": [],
   "source": [
    "filenames = {}\n",
    "for year in range(2007,2017):\n",
    "    for semester in [1,2,3]:\n",
    "        filename = 'data/master_%d_%d.csv' % (year, semester)\n",
    "        filenames[(year,semester)] = filename\n",
    "\n",
    "projects = {}\n",
    "for year in range(2007,2017):\n",
    "    for semester in ['automne','printemps']:\n",
    "        filename = 'data/projet_master_%d_%s.csv' % (year, semester)\n",
    "        if(path.isfile(filename)):\n",
    "            projects[(year,semester)] = filename"
   ]
  },
  {
   "cell_type": "markdown",
   "metadata": {},
   "source": [
    "master_students is a dictionary which maps each possible master semester (1, 2, or 3) to a pandas dataframe containing all the students in all the years which were listed under the respective semester\n",
    "\n",
    "Each of the tables are indexed by the Sciper number of the student and unncesary or redundant columns like 'Unnamed: 0' and 'semester' are dropped.\n",
    "\n",
    "Additionally the year column which contains the start of the academic year for the listed student will be renamed to year_sx, where x is the semester number: 1, 2 or 3. The renaming helps in keeping track of the student's information in later steps."
   ]
  },
  {
   "cell_type": "code",
   "execution_count": null,
   "metadata": {
    "collapsed": false,
    "scrolled": false
   },
   "outputs": [],
   "source": [
    "master_students = {}\n",
    "for key in filenames.keys():\n",
    "    master_students[key[1]] = []\n",
    "for key,filename in filenames.items():\n",
    "    master_students[key[1]].append(pd.read_csv(filename, header=0, index_col='No Sciper'))\n",
    "for semester,tables in master_students.items():\n",
    "    master_students[semester] = pd.concat(tables)\n",
    "    master_students[semester].drop(['Unnamed: 0', 'semester'],axis=1,inplace=True)\n",
    "    master_students[semester] = master_students[semester].rename(columns = {'year':('year_s'+str(semester))})\n",
    "master_students[1].head()"
   ]
  },
  {
   "cell_type": "markdown",
   "metadata": {},
   "source": [
    "Further preprocessing involves dropping entries which figure in the 'Type Echange' column, reserved for exchange students."
   ]
  },
  {
   "cell_type": "code",
   "execution_count": null,
   "metadata": {
    "collapsed": false
   },
   "outputs": [],
   "source": [
    "for semester,tables in master_students.items():\n",
    "    exchange_filter = master_students[semester].loc[:,'Type Echange'].isnull() == True\n",
    "    master_students[semester] = master_students[semester][exchange_filter]\n",
    "    # we can now remove unnecessary columns (have only NaN)\n",
    "    master_students[semester] = master_students[semester].dropna(axis=1, how='all')"
   ]
  },
  {
   "cell_type": "markdown",
   "metadata": {},
   "source": [
    "Similarly as before we collect all the master **projects** under one dataframe, indexed by the Sciper number of the students, while renaming the **`year`** column to **`year_pr`**"
   ]
  },
  {
   "cell_type": "code",
   "execution_count": null,
   "metadata": {
    "collapsed": false
   },
   "outputs": [],
   "source": [
    "master_projects = []\n",
    "for key,filename in projects.items():\n",
    "    master_projects.append(pd.read_csv(filename, header=0, index_col='No Sciper'))\n",
    "master_projects = pd.concat(master_projects)\n",
    "#master_projects\n",
    "master_projects.drop(['Unnamed: 0'],axis=1,inplace=True)\n",
    "master_projects = master_projects.rename(columns = {'year':'year_pr'})"
   ]
  },
  {
   "cell_type": "markdown",
   "metadata": {},
   "source": [
    "Remove entries which feature an entry in the 'Type Echange' column in case there are any and drop columns which are entirely filled with NaN values"
   ]
  },
  {
   "cell_type": "code",
   "execution_count": null,
   "metadata": {
    "collapsed": false
   },
   "outputs": [],
   "source": [
    "# remove entries which appear under 'Type Echange'\n",
    "master_projects = master_projects[master_projects.loc[:,'Type Echange'].isnull() == True]\n",
    "master_projects = master_projects.dropna(axis=1, how='all')"
   ]
  },
  {
   "cell_type": "markdown",
   "metadata": {},
   "source": [
    "# Step 2: Merging"
   ]
  },
  {
   "cell_type": "markdown",
   "metadata": {},
   "source": [
    "In order to avoid duplicate columns after merging, we keep from one table only the columns which are not in the other table.\n",
    "For example below we keep from `master_students[1]` (i.e. the table containing the master students registered in the first semester) only the columns that are not in `master_students[2]`. \n",
    "\n",
    "By doing this we also introduce the assumption that in columns like Specialization or Mineur only the last entry is relevant.\n",
    "\n",
    "We merge based on the Sciper number, meaning we only keep students that figure under both semesters (1 and 2)"
   ]
  },
  {
   "cell_type": "code",
   "execution_count": null,
   "metadata": {
    "collapsed": false
   },
   "outputs": [],
   "source": [
    "# merge the students in the first 2 semesters\n",
    "cols_to_use = master_students[1].columns.difference(master_students[2].columns)\n",
    "master_studs_1_2 = pd.merge(master_students[2], master_students[1][cols_to_use], \n",
    "                            left_index=True, right_index=True, how='inner')\n",
    "master_studs_1_2.head()"
   ]
  },
  {
   "cell_type": "markdown",
   "metadata": {},
   "source": [
    "One can finish the master by doing 2 semesters and a project. \n",
    "\n",
    "So *first*, we separate them from those who also did a third semester:"
   ]
  },
  {
   "cell_type": "code",
   "execution_count": null,
   "metadata": {
    "collapsed": false
   },
   "outputs": [],
   "source": [
    "id12 = master_studs_1_2.index.difference(master_students[3].index)\n",
    "master_studs_1_2_only = master_studs_1_2.ix[id12]"
   ]
  },
  {
   "cell_type": "markdown",
   "metadata": {},
   "source": [
    "And we make sure they completed a master project:"
   ]
  },
  {
   "cell_type": "code",
   "execution_count": null,
   "metadata": {
    "collapsed": false
   },
   "outputs": [],
   "source": [
    "# All students who did 1st and 2nd sem and the master project\n",
    "\n",
    "cols_to_use = master_studs_1_2_only.columns.difference(master_projects.columns)\n",
    "master_studs_1_2_only_project = pd.merge(master_projects, master_studs_1_2_only[cols_to_use],\n",
    "                                    left_index=True, right_index=True, how='inner')\n",
    "#master_studs_1_2_only_project"
   ]
  },
  {
   "cell_type": "markdown",
   "metadata": {},
   "source": [
    "After having the students with semesters 1, 2 and a master project, we focus on the students that also figure in the 3rd semester. "
   ]
  },
  {
   "cell_type": "markdown",
   "metadata": {},
   "source": [
    "Similarly to the above approach, we keep the columns from the table which contains students with a 1st and 2nd semester, that are not in the table containing students from the 3rd semester."
   ]
  },
  {
   "cell_type": "code",
   "execution_count": null,
   "metadata": {
    "collapsed": false
   },
   "outputs": [],
   "source": [
    "# find the students in all 3 semesters\n",
    "cols_to_use = master_studs_1_2.columns.difference(master_students[3].columns)\n",
    "master_studs_1_2_3 = pd.merge(master_students[3], master_studs_1_2[cols_to_use], \n",
    "                              left_index=True, right_index=True, how='inner')\n",
    "#master_studs_1_2_3"
   ]
  },
  {
   "cell_type": "markdown",
   "metadata": {},
   "source": [
    "### Important:"
   ]
  },
  {
   "cell_type": "markdown",
   "metadata": {},
   "source": [
    "We divided the students which figure under all 3 master semesters in 2 cases:"
   ]
  },
  {
   "cell_type": "markdown",
   "metadata": {},
   "source": [
    "** 1 -- ** the students who figure in the 'Statut' column as 'Stage'\n",
    "\n",
    "We assume that they have done their *master project* in industry during this period. \n",
    "\n",
    "Because of this and for convenience we assign the column `year_pr := year_s3`, i.e. to the column corresponding to the year of his 3rd semester,  and the column `semester := automne` since the 3rd semester *always* takes place during fall. \n",
    "\n",
    "However, we **filter out** students who **only did an internship**, but **not their thesis** by making sure they don't appear in the `master_projects` table"
   ]
  },
  {
   "cell_type": "code",
   "execution_count": null,
   "metadata": {
    "collapsed": false
   },
   "outputs": [],
   "source": [
    "# find the students in all 3 semesters with 'Stage' in the 3rd semester\n",
    "master_studs_1_2_3_stage = master_studs_1_2_3[master_studs_1_2_3['Statut'] == 'Stage']\n",
    "\n",
    "# Here we assume that the students are doing their master project at the same time with their Stage\n",
    "master_studs_1_2_3_stage = master_studs_1_2_3_stage.assign(year_pr = master_studs_1_2_3_stage['year_s3'])\n",
    "master_studs_1_2_3_stage = master_studs_1_2_3_stage.assign(semester = 'automne')\n",
    "\n",
    "# keep those not referenced in the master_projects table\n",
    "id123 = master_studs_1_2_3_stage.index.difference(master_projects.index)\n",
    "master_studs_1_2_3_stage = master_studs_1_2_3_stage.ix[id123]\n",
    "#master_studs_1_2_3_stage"
   ]
  },
  {
   "cell_type": "markdown",
   "metadata": {},
   "source": [
    "**  2 -- ** the students which are listed to have a master project (so have completed 1-2-3-MP)"
   ]
  },
  {
   "cell_type": "code",
   "execution_count": null,
   "metadata": {
    "collapsed": false
   },
   "outputs": [],
   "source": [
    "# Students in semesters 1,2,3 with a master project\n",
    "cols_to_use = master_projects.columns.difference(master_studs_1_2_3.columns)\n",
    "master_studs_1_2_3_project = pd.merge(master_studs_1_2_3, master_projects[cols_to_use],\n",
    "                                    left_index=True, right_index=True, how='inner')\n",
    "#master_studs_1_2_3_project.head()"
   ]
  },
  {
   "cell_type": "markdown",
   "metadata": {},
   "source": [
    "### Test if there are overlaps between master_studs_1_2_3_stage and master_studs_1_2_3_project"
   ]
  },
  {
   "cell_type": "code",
   "execution_count": null,
   "metadata": {
    "collapsed": false,
    "scrolled": true
   },
   "outputs": [],
   "source": [
    "master_studs_1_2_3_test = pd.merge(master_studs_1_2_3_stage, master_studs_1_2_3_project,\n",
    "                                    left_index=True, right_index=True, how='inner')\n",
    "master_studs_1_2_3_test # should be empty"
   ]
  },
  {
   "cell_type": "markdown",
   "metadata": {},
   "source": [
    "There aren't, so we were probably correct and didn't code any mistakes"
   ]
  },
  {
   "cell_type": "markdown",
   "metadata": {},
   "source": [
    "# Step 3: Putting the tables together"
   ]
  },
  {
   "cell_type": "code",
   "execution_count": null,
   "metadata": {
    "collapsed": true
   },
   "outputs": [],
   "source": [
    "master_students_final = [master_studs_1_2_only_project, master_studs_1_2_3_project, master_studs_1_2_3_stage]"
   ]
  },
  {
   "cell_type": "markdown",
   "metadata": {},
   "source": [
    "The master table consists of all students that are viable to be considered as graduated master students"
   ]
  },
  {
   "cell_type": "markdown",
   "metadata": {},
   "source": [
    "Furthermore we only keep the columns which are needed for the first part of the exercise, i.e. the ones needed to compute the average duration"
   ]
  },
  {
   "cell_type": "code",
   "execution_count": null,
   "metadata": {
    "collapsed": false,
    "scrolled": true
   },
   "outputs": [],
   "source": [
    "master = pd.concat(master_students_final)\n",
    "master = master[['Civilité','Nom Prénom','semester', 'year_pr','year_s1','year_s2','year_s3']]\n",
    "master = master.drop_duplicates()\n",
    "#master.head()"
   ]
  },
  {
   "cell_type": "markdown",
   "metadata": {},
   "source": [
    "Next we group the master table based on the Sciper number (there are students with multiple entries due to different reasons, such as doing their second master semester in different academic years or doing their master projects in different seasons) and aggregate the columns using different functions. For example for semester 1 (`year_s1` column) and for semester 2 (`year_s2` column) we are interested in the minimum (i.e. when they started), whereas for semester 3 and project year (`year_pr`) we are interested in the maximum of this aggregation (i.e. when they finished)."
   ]
  },
  {
   "cell_type": "code",
   "execution_count": null,
   "metadata": {
    "collapsed": false
   },
   "outputs": [],
   "source": [
    "master_group = master.groupby(master.index)\n",
    "master_group = master_group.agg({'Civilité':'last','Nom Prénom':'last','semester':'first','year_pr':'max',\n",
    "                 'year_s1':'min','year_s2':'min','year_s3':'max'})\n",
    "master_group.head()"
   ]
  },
  {
   "cell_type": "markdown",
   "metadata": {},
   "source": [
    "Following we compute the duration for each student in the above table, by trying to take into account all the possible ways of starting and finishing a Master's degree"
   ]
  },
  {
   "cell_type": "code",
   "execution_count": null,
   "metadata": {
    "collapsed": false
   },
   "outputs": [],
   "source": [
    "def compute_duration(row):\n",
    "    # the semester variable establishes in which semester the student finished\n",
    "    semester = ''\n",
    "    # the last_year variable represents the last year done by the student for masters\n",
    "    last_year = 0\n",
    "    \n",
    "    if pd.isnull(row.year_s3):\n",
    "        # no 3rd semester, so use the year and semester of master project \n",
    "        last_year = row.year_pr\n",
    "        semester = row.semester\n",
    "    else:\n",
    "        # hang on :) \n",
    "        if row.year_s3 == row.year_pr:\n",
    "            # [-'07 fall- -'08 spring- | -'08 fall- -'08 spring-]\n",
    "            #    sem 1        sem 2        sem 3       M proj\n",
    "            \n",
    "            last_year = row.year_pr\n",
    "            semester = 'automne'   # the third semester happens in fall; MP will be added later\n",
    "\n",
    "        elif (row.year_s3 < row.year_pr):\n",
    "            # [-'07 fall- -'08 spring- | -'08 fall- -'08 spring- | -'09 fall-]\n",
    "            #    sem 1        sem 2        sem 3       intern        M proj\n",
    "\n",
    "            # use the master project the third semester happened before\n",
    "            last_year = row.year_pr\n",
    "            semester = row.semester\n",
    "        else:\n",
    "            # [-'07 fall- -'08 spring- | -'08 fall- -'08 spring- -some fall-]\n",
    "            #    sem 1        sem 2         M proj      dunno      sem 3\n",
    "            # strange, but it happened\n",
    "            last_year = row.year_s3\n",
    "            semester = 'automne'  # sem 3 is always in autumn [go check :) ]\n",
    "        \n",
    "    if row.year_s1 <= row.year_s2:\n",
    "        # even if they are equal semester 1 happened before semester 2 \n",
    "        # i.e. if semester 1 appears as 2009 it means it happened in fall   2009\n",
    "        #      if semester 2 appears as 2009 it means it happened in spring 2010\n",
    "        #      since 2009 means the beginning of the academic year\n",
    "        if semester == 'printemps':\n",
    "            # 0.5 for MP + 0.5 for next academic year (see above)\n",
    "            return last_year - row.year_s1 + 1.0\n",
    "        else:\n",
    "            # 0.5 from either MP or from skipped semester\n",
    "            return last_year - row.year_s1 + 0.5\n",
    "    else:\n",
    "        # nope, not done yet :)\n",
    "        # The else is for entries in which the student is listed with the\n",
    "        # 2nd semester before the 1st semester -- might seem strange but there\n",
    "        # were a few cases\n",
    "        if(semester == 'automne'):\n",
    "            return last_year - row.year_s2\n",
    "        else:\n",
    "            return last_year - row.year_s2 + 0.5 # next academic year\n",
    "        \n",
    "master_group['duration'] = master_group.apply(compute_duration, axis = 1)\n",
    "master_group = master_group[master_group.duration.notnull()]\n",
    "master_group.head()"
   ]
  },
  {
   "cell_type": "markdown",
   "metadata": {},
   "source": [
    "# Average duration for master students:"
   ]
  },
  {
   "cell_type": "code",
   "execution_count": null,
   "metadata": {
    "collapsed": false
   },
   "outputs": [],
   "source": [
    "master_duration = master_group['duration'].mean()\n",
    "master_duration"
   ]
  },
  {
   "cell_type": "code",
   "execution_count": null,
   "metadata": {
    "collapsed": true
   },
   "outputs": [],
   "source": [
    "%matplotlib inline\n",
    "import numpy as np\n",
    "import scipy.stats as stats\n",
    "import matplotlib.pyplot as plt\n",
    "import math"
   ]
  },
  {
   "cell_type": "markdown",
   "metadata": {},
   "source": [
    "Graduated master students (under the conditions applied above) grouped by gender"
   ]
  },
  {
   "cell_type": "code",
   "execution_count": null,
   "metadata": {
    "collapsed": false
   },
   "outputs": [],
   "source": [
    "print(master_group[\"Civilité\"].value_counts())\n",
    "master_group[\"Civilité\"].value_counts().plot(kind='bar')"
   ]
  },
  {
   "cell_type": "markdown",
   "metadata": {},
   "source": [
    "Graduated master students (under the conditions above) grouped by duration of their studies"
   ]
  },
  {
   "cell_type": "code",
   "execution_count": null,
   "metadata": {
    "collapsed": false
   },
   "outputs": [],
   "source": [
    "master_group[\"duration\"].value_counts().plot(kind='bar')"
   ]
  },
  {
   "cell_type": "code",
   "execution_count": null,
   "metadata": {
    "collapsed": false
   },
   "outputs": [],
   "source": [
    "# There should not be any case with 1 year\n",
    "master_group[master_group.duration == 1.0]"
   ]
  },
  {
   "cell_type": "markdown",
   "metadata": {},
   "source": [
    "# Master Specialization"
   ]
  },
  {
   "cell_type": "markdown",
   "metadata": {},
   "source": [
    "Among the master students keep the ones which are listed with a specialization"
   ]
  },
  {
   "cell_type": "code",
   "execution_count": null,
   "metadata": {
    "collapsed": false
   },
   "outputs": [],
   "source": [
    "master_spec = [master_studs_1_2_only_project, master_studs_1_2_3_project, master_studs_1_2_3_stage]\n",
    "master_spec = pd.concat(master_spec)\n",
    "master_spec = master_spec[master_spec['Spécialisation'].notnull()]\n",
    "master_spec = master_spec.drop_duplicates()\n",
    "#master_spec.head()"
   ]
  },
  {
   "cell_type": "markdown",
   "metadata": {},
   "source": [
    "As before group and aggregate to prepare the data for computing the duration"
   ]
  },
  {
   "cell_type": "code",
   "execution_count": null,
   "metadata": {
    "collapsed": false
   },
   "outputs": [],
   "source": [
    "master_spec = master_spec.groupby(master_spec.index)\n",
    "master_spec = master_spec.agg({'Civilité':'last','Spécialisation':'last', 'Nom Prénom':'last','semester':'first',\n",
    "                               'year_pr':'max','year_s1':'min','year_s2':'min','year_s3':'max'})\n",
    "master_spec.head()"
   ]
  },
  {
   "cell_type": "code",
   "execution_count": null,
   "metadata": {
    "collapsed": false
   },
   "outputs": [],
   "source": [
    "# ONLY students who have a specialization listed in semester 3\n",
    "\n",
    "master_spec['duration'] = master_spec.apply(compute_duration, axis = 1)\n",
    "master_spec = master_spec[master_spec.duration.notnull()]\n",
    "master_spec.head()"
   ]
  },
  {
   "cell_type": "markdown",
   "metadata": {},
   "source": [
    "Grouping the results based on the Specialisation and finding the mean and the number of students listed for the respective specialization."
   ]
  },
  {
   "cell_type": "code",
   "execution_count": null,
   "metadata": {
    "collapsed": false
   },
   "outputs": [],
   "source": [
    "master_spec_group = master_spec.groupby(['Spécialisation'])\n",
    "master_spec_group['duration'].agg(['mean', 'size'])"
   ]
  },
  {
   "cell_type": "markdown",
   "metadata": {},
   "source": [
    "## Specialisation for which the mean is different from the overall"
   ]
  },
  {
   "cell_type": "markdown",
   "metadata": {},
   "source": [
    "For this test we will use the 1 sample t-test to check if the mean of a specialisation is different from the overall mean. We formulate the null hypothesis that the sample of a specialisation comes from the same distribution as the population of the overall sample. If the test rejects this with a 95% confidence, then the hypothesis is statistically significant."
   ]
  },
  {
   "cell_type": "code",
   "execution_count": null,
   "metadata": {
    "collapsed": false
   },
   "outputs": [],
   "source": [
    "import scipy.stats as stats\n",
    "\n",
    "p = 0.05\n",
    "for spec, group in master_spec_group:\n",
    "    if len(group) == 1:  # stddev not defined\n",
    "        continue\n",
    "    ttest = stats.ttest_1samp(group.duration, popmean=master_duration)\n",
    "    if ttest.pvalue < p:\n",
    "        print(\"Duration of specialisation '%s' is different from mean\" % spec)"
   ]
  },
  {
   "cell_type": "markdown",
   "metadata": {},
   "source": [
    "# Bonus: Master students gender study"
   ]
  },
  {
   "cell_type": "code",
   "execution_count": null,
   "metadata": {
    "collapsed": false
   },
   "outputs": [],
   "source": [
    "master_group['End_year'] = master_group[['year_pr','year_s1','year_s2','year_s3']].max(axis=1)\n",
    "master_group_year = master_group.groupby(['End_year','Civilité'])\n",
    "master_group_year = master_group_year.agg({'duration':'mean'})\n",
    "master_group_year"
   ]
  },
  {
   "cell_type": "code",
   "execution_count": null,
   "metadata": {
    "collapsed": true
   },
   "outputs": [],
   "source": [
    "madames = np.array(master_group_year.xs('Madame',level='Civilité')['duration'])\n",
    "monsieurs = np.array(master_group_year.xs('Monsieur',level='Civilité')['duration'])\n",
    "years = np.array(master_group_year.index.levels[0])"
   ]
  },
  {
   "cell_type": "code",
   "execution_count": null,
   "metadata": {
    "collapsed": false
   },
   "outputs": [],
   "source": [
    "madames_mod = np.zeros(monsieurs.shape)\n",
    "j = 0\n",
    "for i in range(madames_mod.shape[0]):\n",
    "    if(i == 2): # equivalent to 2010 where there are no madames mentioned\n",
    "        madames_mod[i] = 0\n",
    "    else:\n",
    "        madames_mod[i] = madames[j]\n",
    "        j += 1"
   ]
  },
  {
   "cell_type": "code",
   "execution_count": null,
   "metadata": {
    "collapsed": false
   },
   "outputs": [],
   "source": [
    "# Finally the scatter plot\n",
    "import scipy, pylab\n",
    "ax = pylab.subplot(111)\n",
    "ax.scatter(years, madames_mod, c='r',marker=\"x\",label='Madames',s=100)\n",
    "ax.scatter(years, monsieurs, c='b',marker=\"o\",label='Monsieurs',s=25)\n",
    "plt.xlabel('Year', fontsize=18)\n",
    "plt.ylabel('Duration', fontsize=16)\n",
    "plt.legend(loc='lower right');"
   ]
  },
  {
   "cell_type": "code",
   "execution_count": null,
   "metadata": {
    "collapsed": true
   },
   "outputs": [],
   "source": []
  }
 ],
 "metadata": {
  "anaconda-cloud": {},
  "kernelspec": {
   "display_name": "Python [Root]",
   "language": "python",
   "name": "Python [Root]"
  },
  "language_info": {
   "codemirror_mode": {
    "name": "ipython",
    "version": 3
   },
   "file_extension": ".py",
   "mimetype": "text/x-python",
   "name": "python",
   "nbconvert_exporter": "python",
   "pygments_lexer": "ipython3",
   "version": "3.5.2"
  }
 },
 "nbformat": 4,
 "nbformat_minor": 0
}

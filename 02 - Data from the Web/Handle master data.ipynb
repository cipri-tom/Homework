{
 "cells": [
  {
   "cell_type": "code",
   "execution_count": 32,
   "metadata": {
    "collapsed": true
   },
   "outputs": [],
   "source": [
    "import pandas as pd\n",
    "from os import path"
   ]
  },
  {
   "cell_type": "markdown",
   "metadata": {},
   "source": [
    "# Step 1: Preprocessing"
   ]
  },
  {
   "cell_type": "markdown",
   "metadata": {},
   "source": [
    "* filenames = the names of the files containing the master student data \n",
    "* projects = the names of the files containing the master projects data"
   ]
  },
  {
   "cell_type": "code",
   "execution_count": 33,
   "metadata": {
    "collapsed": false
   },
   "outputs": [],
   "source": [
    "filenames = {}\n",
    "for year in range(2007,2017):\n",
    "    for semester in [1,2,3]:\n",
    "        filename = 'data/master_%d_%d.csv' % (year, semester)\n",
    "        filenames[(year,semester)] = filename\n",
    "\n",
    "projects = {}\n",
    "for year in range(2007,2017):\n",
    "    for semester in ['automne','printemps']:\n",
    "        filename = 'data/projet_master_%d_%s.csv' % (year, semester)\n",
    "        if(path.isfile(filename)):\n",
    "            projects[(year,semester)] = filename"
   ]
  },
  {
   "cell_type": "markdown",
   "metadata": {},
   "source": [
    "master_students is a dictionary which maps each possible master semester (1, 2, or 3) to a pandas dataframe containing all the students in all the years which were listed under the respective semester\n",
    "\n",
    "Each of the tables are indexed by the Sciper number of the student and unncesary or redundant columns like 'Unnamed: 0' and 'semester' are dropped.\n",
    "\n",
    "Additionally the year column which contains the start of the academic year for the listed student will be renamed to year_sx, where x is the semester number: 1, 2 or 3. The renaming helps in keeping track of the student's information in later steps."
   ]
  },
  {
   "cell_type": "code",
   "execution_count": 34,
   "metadata": {
    "collapsed": false,
    "scrolled": false
   },
   "outputs": [
    {
     "data": {
      "text/html": [
       "<div>\n",
       "<table border=\"1\" class=\"dataframe\">\n",
       "  <thead>\n",
       "    <tr style=\"text-align: right;\">\n",
       "      <th></th>\n",
       "      <th>Civilité</th>\n",
       "      <th>Ecole Echange</th>\n",
       "      <th>Mineur</th>\n",
       "      <th>Nom Prénom</th>\n",
       "      <th>Spécialisation</th>\n",
       "      <th>Statut</th>\n",
       "      <th>Type Echange</th>\n",
       "      <th>year_s1</th>\n",
       "    </tr>\n",
       "    <tr>\n",
       "      <th>No Sciper</th>\n",
       "      <th></th>\n",
       "      <th></th>\n",
       "      <th></th>\n",
       "      <th></th>\n",
       "      <th></th>\n",
       "      <th></th>\n",
       "      <th></th>\n",
       "      <th></th>\n",
       "    </tr>\n",
       "  </thead>\n",
       "  <tbody>\n",
       "    <tr>\n",
       "      <th>271331</th>\n",
       "      <td>Monsieur</td>\n",
       "      <td>NaN</td>\n",
       "      <td>NaN</td>\n",
       "      <td>Adams Marc Alain</td>\n",
       "      <td>NaN</td>\n",
       "      <td>Présent</td>\n",
       "      <td>NaN</td>\n",
       "      <td>2016</td>\n",
       "    </tr>\n",
       "    <tr>\n",
       "      <th>273101</th>\n",
       "      <td>Monsieur</td>\n",
       "      <td>NaN</td>\n",
       "      <td>NaN</td>\n",
       "      <td>Adamsons Valdis</td>\n",
       "      <td>NaN</td>\n",
       "      <td>Présent</td>\n",
       "      <td>NaN</td>\n",
       "      <td>2016</td>\n",
       "    </tr>\n",
       "    <tr>\n",
       "      <th>267543</th>\n",
       "      <td>Monsieur</td>\n",
       "      <td>NaN</td>\n",
       "      <td>NaN</td>\n",
       "      <td>Agapiou Stylianos</td>\n",
       "      <td>NaN</td>\n",
       "      <td>Présent</td>\n",
       "      <td>NaN</td>\n",
       "      <td>2016</td>\n",
       "    </tr>\n",
       "    <tr>\n",
       "      <th>202293</th>\n",
       "      <td>Monsieur</td>\n",
       "      <td>NaN</td>\n",
       "      <td>NaN</td>\n",
       "      <td>Aiulfi Loris Sandro</td>\n",
       "      <td>NaN</td>\n",
       "      <td>Présent</td>\n",
       "      <td>NaN</td>\n",
       "      <td>2016</td>\n",
       "    </tr>\n",
       "    <tr>\n",
       "      <th>228219</th>\n",
       "      <td>Monsieur</td>\n",
       "      <td>NaN</td>\n",
       "      <td>NaN</td>\n",
       "      <td>Alfonso Peterssen Alfonso</td>\n",
       "      <td>Foundations of Software</td>\n",
       "      <td>Présent</td>\n",
       "      <td>NaN</td>\n",
       "      <td>2016</td>\n",
       "    </tr>\n",
       "  </tbody>\n",
       "</table>\n",
       "</div>"
      ],
      "text/plain": [
       "           Civilité Ecole Echange Mineur                 Nom Prénom  \\\n",
       "No Sciper                                                             \n",
       "271331     Monsieur           NaN    NaN           Adams Marc Alain   \n",
       "273101     Monsieur           NaN    NaN            Adamsons Valdis   \n",
       "267543     Monsieur           NaN    NaN          Agapiou Stylianos   \n",
       "202293     Monsieur           NaN    NaN        Aiulfi Loris Sandro   \n",
       "228219     Monsieur           NaN    NaN  Alfonso Peterssen Alfonso   \n",
       "\n",
       "                    Spécialisation   Statut Type Echange  year_s1  \n",
       "No Sciper                                                          \n",
       "271331                         NaN  Présent          NaN     2016  \n",
       "273101                         NaN  Présent          NaN     2016  \n",
       "267543                         NaN  Présent          NaN     2016  \n",
       "202293                         NaN  Présent          NaN     2016  \n",
       "228219     Foundations of Software  Présent          NaN     2016  "
      ]
     },
     "execution_count": 34,
     "metadata": {},
     "output_type": "execute_result"
    }
   ],
   "source": [
    "master_students = {}\n",
    "for key in filenames.keys():\n",
    "    master_students[key[1]] = []\n",
    "for key,filename in filenames.items():\n",
    "    master_students[key[1]].append(pd.read_csv(filename, header=0, index_col='No Sciper'))\n",
    "for semester,tables in master_students.items():\n",
    "    master_students[semester] = pd.concat(tables)\n",
    "    master_students[semester].drop(['Unnamed: 0', 'semester'],axis=1,inplace=True)\n",
    "    master_students[semester] = master_students[semester].rename(columns = {'year':('year_s'+str(semester))})\n",
    "master_students[1].head()"
   ]
  },
  {
   "cell_type": "markdown",
   "metadata": {},
   "source": [
    "Further preprocessing involves dropping entries which figure in the 'Type Echange' column, reserved for exchange students."
   ]
  },
  {
   "cell_type": "code",
   "execution_count": 35,
   "metadata": {
    "collapsed": false
   },
   "outputs": [],
   "source": [
    "for semester,tables in master_students.items():\n",
    "    exchange_filter = master_students[semester].loc[:,'Type Echange'].isnull() == True\n",
    "    master_students[semester] = master_students[semester][exchange_filter]\n",
    "    # we can now remove unnecessary columns (have only NaN)\n",
    "    master_students[semester] = master_students[semester].dropna(axis=1, how='all')"
   ]
  },
  {
   "cell_type": "markdown",
   "metadata": {},
   "source": [
    "Similarly as before we collect all the master **projects** under one dataframe, indexed by the Sciper number of the students, while renaming the **`year`** column to **`year_pr`**"
   ]
  },
  {
   "cell_type": "code",
   "execution_count": 36,
   "metadata": {
    "collapsed": false
   },
   "outputs": [],
   "source": [
    "master_projects = []\n",
    "for key,filename in projects.items():\n",
    "    master_projects.append(pd.read_csv(filename, header=0, index_col='No Sciper'))\n",
    "master_projects = pd.concat(master_projects)\n",
    "#master_projects\n",
    "master_projects.drop(['Unnamed: 0'],axis=1,inplace=True)\n",
    "master_projects = master_projects.rename(columns = {'year':'year_pr'})"
   ]
  },
  {
   "cell_type": "markdown",
   "metadata": {},
   "source": [
    "Remove entries which feature an entry in the 'Type Echange' column in case there are any and drop columns which are entirely filled with NaN values"
   ]
  },
  {
   "cell_type": "code",
   "execution_count": 37,
   "metadata": {
    "collapsed": false
   },
   "outputs": [],
   "source": [
    "# remove entries which appear under 'Type Echange'\n",
    "master_projects = master_projects[master_projects.loc[:,'Type Echange'].isnull() == True]\n",
    "master_projects = master_projects.dropna(axis=1, how='all')"
   ]
  },
  {
   "cell_type": "markdown",
   "metadata": {},
   "source": [
    "# Step 2: Merging"
   ]
  },
  {
   "cell_type": "markdown",
   "metadata": {},
   "source": [
    "In order to avoid duplicate columns after merging, we keep from one table only the columns which are not in the other table.\n",
    "For example below we keep from `master_students[1]` (i.e. the table containing the master students registered in the first semester) only the columns that are not in `master_students[2]`. \n",
    "\n",
    "By doing this we also introduce the assumption that in columns like Specialization or Mineur only the last entry is relevant.\n",
    "\n",
    "We merge based on the Sciper number, meaning we only keep students that figure under both semesters (1 and 2)"
   ]
  },
  {
   "cell_type": "code",
   "execution_count": 38,
   "metadata": {
    "collapsed": false
   },
   "outputs": [
    {
     "data": {
      "text/html": [
       "<div>\n",
       "<table border=\"1\" class=\"dataframe\">\n",
       "  <thead>\n",
       "    <tr style=\"text-align: right;\">\n",
       "      <th></th>\n",
       "      <th>Civilité</th>\n",
       "      <th>Mineur</th>\n",
       "      <th>Nom Prénom</th>\n",
       "      <th>Spécialisation</th>\n",
       "      <th>Statut</th>\n",
       "      <th>year_s2</th>\n",
       "      <th>year_s1</th>\n",
       "    </tr>\n",
       "    <tr>\n",
       "      <th>No Sciper</th>\n",
       "      <th></th>\n",
       "      <th></th>\n",
       "      <th></th>\n",
       "      <th></th>\n",
       "      <th></th>\n",
       "      <th></th>\n",
       "      <th></th>\n",
       "    </tr>\n",
       "  </thead>\n",
       "  <tbody>\n",
       "    <tr>\n",
       "      <th>146330</th>\n",
       "      <td>Monsieur</td>\n",
       "      <td>NaN</td>\n",
       "      <td>Cardinaux Damien</td>\n",
       "      <td>NaN</td>\n",
       "      <td>Présent</td>\n",
       "      <td>2007</td>\n",
       "      <td>2007</td>\n",
       "    </tr>\n",
       "    <tr>\n",
       "      <th>146742</th>\n",
       "      <td>Monsieur</td>\n",
       "      <td>NaN</td>\n",
       "      <td>Marx Clément</td>\n",
       "      <td>Signals, Images and Interfaces</td>\n",
       "      <td>Présent</td>\n",
       "      <td>2008</td>\n",
       "      <td>2008</td>\n",
       "    </tr>\n",
       "    <tr>\n",
       "      <th>146742</th>\n",
       "      <td>Monsieur</td>\n",
       "      <td>NaN</td>\n",
       "      <td>Marx Clément</td>\n",
       "      <td>Signals, Images and Interfaces</td>\n",
       "      <td>Présent</td>\n",
       "      <td>2009</td>\n",
       "      <td>2008</td>\n",
       "    </tr>\n",
       "    <tr>\n",
       "      <th>146929</th>\n",
       "      <td>Monsieur</td>\n",
       "      <td>NaN</td>\n",
       "      <td>Junod Antoine</td>\n",
       "      <td>NaN</td>\n",
       "      <td>Présent</td>\n",
       "      <td>2007</td>\n",
       "      <td>2007</td>\n",
       "    </tr>\n",
       "    <tr>\n",
       "      <th>147008</th>\n",
       "      <td>Monsieur</td>\n",
       "      <td>NaN</td>\n",
       "      <td>Good Xavier</td>\n",
       "      <td>NaN</td>\n",
       "      <td>Présent</td>\n",
       "      <td>2011</td>\n",
       "      <td>2011</td>\n",
       "    </tr>\n",
       "  </tbody>\n",
       "</table>\n",
       "</div>"
      ],
      "text/plain": [
       "           Civilité Mineur        Nom Prénom                  Spécialisation  \\\n",
       "No Sciper                                                                      \n",
       "146330     Monsieur    NaN  Cardinaux Damien                             NaN   \n",
       "146742     Monsieur    NaN      Marx Clément  Signals, Images and Interfaces   \n",
       "146742     Monsieur    NaN      Marx Clément  Signals, Images and Interfaces   \n",
       "146929     Monsieur    NaN     Junod Antoine                             NaN   \n",
       "147008     Monsieur    NaN       Good Xavier                             NaN   \n",
       "\n",
       "            Statut  year_s2  year_s1  \n",
       "No Sciper                             \n",
       "146330     Présent     2007     2007  \n",
       "146742     Présent     2008     2008  \n",
       "146742     Présent     2009     2008  \n",
       "146929     Présent     2007     2007  \n",
       "147008     Présent     2011     2011  "
      ]
     },
     "execution_count": 38,
     "metadata": {},
     "output_type": "execute_result"
    }
   ],
   "source": [
    "# merge the students in the first 2 semesters\n",
    "cols_to_use = master_students[1].columns.difference(master_students[2].columns)\n",
    "master_studs_1_2 = pd.merge(master_students[2], master_students[1][cols_to_use], \n",
    "                            left_index=True, right_index=True, how='inner')\n",
    "master_studs_1_2.head()"
   ]
  },
  {
   "cell_type": "markdown",
   "metadata": {},
   "source": [
    "One can finish the master by doing 2 semesters and a project. \n",
    "\n",
    "So *first*, we separate them from those who also did a third semester:"
   ]
  },
  {
   "cell_type": "code",
   "execution_count": 39,
   "metadata": {
    "collapsed": false
   },
   "outputs": [],
   "source": [
    "id12 = master_studs_1_2.index.difference(master_students[3].index)\n",
    "master_studs_1_2_only = master_studs_1_2.ix[id12]"
   ]
  },
  {
   "cell_type": "markdown",
   "metadata": {},
   "source": [
    "And we make sure they completed a master project:"
   ]
  },
  {
   "cell_type": "code",
   "execution_count": 40,
   "metadata": {
    "collapsed": false
   },
   "outputs": [],
   "source": [
    "# All students who did 1st and 2nd sem and the master project\n",
    "\n",
    "cols_to_use = master_studs_1_2_only.columns.difference(master_projects.columns)\n",
    "master_studs_1_2_only_project = pd.merge(master_projects, master_studs_1_2_only[cols_to_use],\n",
    "                                    left_index=True, right_index=True, how='inner')\n",
    "#master_studs_1_2_only_project"
   ]
  },
  {
   "cell_type": "markdown",
   "metadata": {},
   "source": [
    "After having the students with semesters 1, 2 and a master project, we focus on the students that also figure in the 3rd semester. "
   ]
  },
  {
   "cell_type": "markdown",
   "metadata": {},
   "source": [
    "Similarly to the above approach, we keep the columns from the table which contains students with a 1st and 2nd semester, that are not in the table containing students from the 3rd semester."
   ]
  },
  {
   "cell_type": "code",
   "execution_count": 41,
   "metadata": {
    "collapsed": false
   },
   "outputs": [],
   "source": [
    "# find the students in all 3 semesters\n",
    "cols_to_use = master_studs_1_2.columns.difference(master_students[3].columns)\n",
    "master_studs_1_2_3 = pd.merge(master_students[3], master_studs_1_2[cols_to_use], \n",
    "                              left_index=True, right_index=True, how='inner')\n",
    "#master_studs_1_2_3"
   ]
  },
  {
   "cell_type": "markdown",
   "metadata": {},
   "source": [
    "### Important:"
   ]
  },
  {
   "cell_type": "markdown",
   "metadata": {},
   "source": [
    "We divided the students which figure under all 3 master semesters in 2 cases:"
   ]
  },
  {
   "cell_type": "markdown",
   "metadata": {},
   "source": [
    "** 1 -- ** the students who figure in the 'Statut' column as 'Stage'\n",
    "\n",
    "We assume that they have done their *master project* in industry during this period. \n",
    "\n",
    "Because of this and for convenience we assign the column `year_pr := year_s3`, i.e. to the column corresponding to the year of his 3rd semester,  and the column `semester := automne` since the 3rd semester *always* takes place during fall. \n",
    "\n",
    "However, we **filter out** students who **only did an internship**, but **not their thesis** by making sure they don't appear in the `master_projects` table"
   ]
  },
  {
   "cell_type": "code",
   "execution_count": 42,
   "metadata": {
    "collapsed": false
   },
   "outputs": [],
   "source": [
    "# find the students in all 3 semesters with 'Stage' in the 3rd semester\n",
    "master_studs_1_2_3_stage = master_studs_1_2_3[master_studs_1_2_3['Statut'] == 'Stage']\n",
    "\n",
    "# Here we assume that the students are doing their master project at the same time with their Stage\n",
    "master_studs_1_2_3_stage = master_studs_1_2_3_stage.assign(year_pr = master_studs_1_2_3_stage['year_s3'])\n",
    "master_studs_1_2_3_stage = master_studs_1_2_3_stage.assign(semester = 'automne')\n",
    "\n",
    "# keep those not referenced in the master_projects table\n",
    "id123 = master_studs_1_2_3_stage.index.difference(master_projects.index)\n",
    "master_studs_1_2_3_stage = master_studs_1_2_3_stage.ix[id123]\n",
    "#master_studs_1_2_3_stage"
   ]
  },
  {
   "cell_type": "markdown",
   "metadata": {},
   "source": [
    "**  2 -- ** the students which are listed to have a master project (so have completed 1-2-3-MP)"
   ]
  },
  {
   "cell_type": "code",
   "execution_count": 43,
   "metadata": {
    "collapsed": false
   },
   "outputs": [],
   "source": [
    "# Students in semesters 1,2,3 with a master project\n",
    "cols_to_use = master_projects.columns.difference(master_studs_1_2_3.columns)\n",
    "master_studs_1_2_3_project = pd.merge(master_studs_1_2_3, master_projects[cols_to_use],\n",
    "                                    left_index=True, right_index=True, how='inner')\n",
    "#master_studs_1_2_3_project.head()"
   ]
  },
  {
   "cell_type": "markdown",
   "metadata": {},
   "source": [
    "### Test if there are overlaps between master_studs_1_2_3_stage and master_studs_1_2_3_project"
   ]
  },
  {
   "cell_type": "code",
   "execution_count": 44,
   "metadata": {
    "collapsed": false,
    "scrolled": true
   },
   "outputs": [
    {
     "data": {
      "text/html": [
       "<div>\n",
       "<table border=\"1\" class=\"dataframe\">\n",
       "  <thead>\n",
       "    <tr style=\"text-align: right;\">\n",
       "      <th></th>\n",
       "      <th>Civilité_x</th>\n",
       "      <th>Mineur_x</th>\n",
       "      <th>Nom Prénom_x</th>\n",
       "      <th>Spécialisation_x</th>\n",
       "      <th>Statut_x</th>\n",
       "      <th>year_s3_x</th>\n",
       "      <th>year_s1_x</th>\n",
       "      <th>year_s2_x</th>\n",
       "      <th>year_pr_x</th>\n",
       "      <th>semester_x</th>\n",
       "      <th>Civilité_y</th>\n",
       "      <th>Mineur_y</th>\n",
       "      <th>Nom Prénom_y</th>\n",
       "      <th>Spécialisation_y</th>\n",
       "      <th>Statut_y</th>\n",
       "      <th>year_s3_y</th>\n",
       "      <th>year_s1_y</th>\n",
       "      <th>year_s2_y</th>\n",
       "      <th>semester_y</th>\n",
       "      <th>year_pr_y</th>\n",
       "    </tr>\n",
       "    <tr>\n",
       "      <th>No Sciper</th>\n",
       "      <th></th>\n",
       "      <th></th>\n",
       "      <th></th>\n",
       "      <th></th>\n",
       "      <th></th>\n",
       "      <th></th>\n",
       "      <th></th>\n",
       "      <th></th>\n",
       "      <th></th>\n",
       "      <th></th>\n",
       "      <th></th>\n",
       "      <th></th>\n",
       "      <th></th>\n",
       "      <th></th>\n",
       "      <th></th>\n",
       "      <th></th>\n",
       "      <th></th>\n",
       "      <th></th>\n",
       "      <th></th>\n",
       "      <th></th>\n",
       "    </tr>\n",
       "  </thead>\n",
       "  <tbody>\n",
       "  </tbody>\n",
       "</table>\n",
       "</div>"
      ],
      "text/plain": [
       "Empty DataFrame\n",
       "Columns: [Civilité_x, Mineur_x, Nom Prénom_x, Spécialisation_x, Statut_x, year_s3_x, year_s1_x, year_s2_x, year_pr_x, semester_x, Civilité_y, Mineur_y, Nom Prénom_y, Spécialisation_y, Statut_y, year_s3_y, year_s1_y, year_s2_y, semester_y, year_pr_y]\n",
       "Index: []"
      ]
     },
     "execution_count": 44,
     "metadata": {},
     "output_type": "execute_result"
    }
   ],
   "source": [
    "master_studs_1_2_3_test = pd.merge(master_studs_1_2_3_stage, master_studs_1_2_3_project,\n",
    "                                    left_index=True, right_index=True, how='inner')\n",
    "master_studs_1_2_3_test # should be empty"
   ]
  },
  {
   "cell_type": "markdown",
   "metadata": {},
   "source": [
    "There aren't, so we were probably correct and didn't code any mistakes"
   ]
  },
  {
   "cell_type": "markdown",
   "metadata": {},
   "source": [
    "# Step 3: Putting the tables together"
   ]
  },
  {
   "cell_type": "code",
   "execution_count": 45,
   "metadata": {
    "collapsed": true
   },
   "outputs": [],
   "source": [
    "master_students_final = [master_studs_1_2_only_project, master_studs_1_2_3_project, master_studs_1_2_3_stage]"
   ]
  },
  {
   "cell_type": "markdown",
   "metadata": {},
   "source": [
    "The master table consists of all students that are viable to be considered as graduated master students"
   ]
  },
  {
   "cell_type": "markdown",
   "metadata": {},
   "source": [
    "Furthermore we only keep the columns which are needed for the first part of the exercise, i.e. the ones needed to compute the average duration"
   ]
  },
  {
   "cell_type": "code",
   "execution_count": 46,
   "metadata": {
    "collapsed": false,
    "scrolled": true
   },
   "outputs": [],
   "source": [
    "master = pd.concat(master_students_final)\n",
    "master = master[['Civilité','Nom Prénom','semester', 'year_pr','year_s1','year_s2','year_s3']]\n",
    "master = master.drop_duplicates()\n",
    "#master.head()"
   ]
  },
  {
   "cell_type": "markdown",
   "metadata": {},
   "source": [
    "Next we group the master table based on the Sciper number (there are students with multiple entries due to different reasons, such as doing their second master semester in different academic years or doing their master projects in different seasons) and aggregate the columns using different functions. For example for semester 1 (`year_s1` column) and for semester 2 (`year_s2` column) we are interested in the minimum (i.e. when they started), whereas for semester 3 and project year (`year_pr`) we are interested in the maximum of this aggregation (i.e. when they finished)."
   ]
  },
  {
   "cell_type": "code",
   "execution_count": 47,
   "metadata": {
    "collapsed": false
   },
   "outputs": [
    {
     "data": {
      "text/html": [
       "<div>\n",
       "<table border=\"1\" class=\"dataframe\">\n",
       "  <thead>\n",
       "    <tr style=\"text-align: right;\">\n",
       "      <th></th>\n",
       "      <th>year_s2</th>\n",
       "      <th>Civilité</th>\n",
       "      <th>year_s1</th>\n",
       "      <th>semester</th>\n",
       "      <th>year_s3</th>\n",
       "      <th>Nom Prénom</th>\n",
       "      <th>year_pr</th>\n",
       "    </tr>\n",
       "    <tr>\n",
       "      <th>No Sciper</th>\n",
       "      <th></th>\n",
       "      <th></th>\n",
       "      <th></th>\n",
       "      <th></th>\n",
       "      <th></th>\n",
       "      <th></th>\n",
       "      <th></th>\n",
       "    </tr>\n",
       "  </thead>\n",
       "  <tbody>\n",
       "    <tr>\n",
       "      <th>146742</th>\n",
       "      <td>2008</td>\n",
       "      <td>Monsieur</td>\n",
       "      <td>2008</td>\n",
       "      <td>automne</td>\n",
       "      <td>2012.0</td>\n",
       "      <td>Marx Clément</td>\n",
       "      <td>2010</td>\n",
       "    </tr>\n",
       "    <tr>\n",
       "      <th>154573</th>\n",
       "      <td>2007</td>\n",
       "      <td>Madame</td>\n",
       "      <td>2007</td>\n",
       "      <td>printemps</td>\n",
       "      <td>2009.0</td>\n",
       "      <td>Benabdallah Zeineb</td>\n",
       "      <td>2009</td>\n",
       "    </tr>\n",
       "    <tr>\n",
       "      <th>154706</th>\n",
       "      <td>2007</td>\n",
       "      <td>Monsieur</td>\n",
       "      <td>2007</td>\n",
       "      <td>automne</td>\n",
       "      <td>2008.0</td>\n",
       "      <td>Suter François</td>\n",
       "      <td>2008</td>\n",
       "    </tr>\n",
       "    <tr>\n",
       "      <th>159516</th>\n",
       "      <td>2008</td>\n",
       "      <td>Monsieur</td>\n",
       "      <td>2008</td>\n",
       "      <td>printemps</td>\n",
       "      <td>2009.0</td>\n",
       "      <td>Raja Yanick</td>\n",
       "      <td>2009</td>\n",
       "    </tr>\n",
       "    <tr>\n",
       "      <th>160213</th>\n",
       "      <td>2007</td>\n",
       "      <td>Monsieur</td>\n",
       "      <td>2008</td>\n",
       "      <td>automne</td>\n",
       "      <td>NaN</td>\n",
       "      <td>Bécholey Alexandre</td>\n",
       "      <td>2009</td>\n",
       "    </tr>\n",
       "  </tbody>\n",
       "</table>\n",
       "</div>"
      ],
      "text/plain": [
       "           year_s2  Civilité  year_s1   semester  year_s3          Nom Prénom  \\\n",
       "No Sciper                                                                       \n",
       "146742        2008  Monsieur     2008    automne   2012.0        Marx Clément   \n",
       "154573        2007    Madame     2007  printemps   2009.0  Benabdallah Zeineb   \n",
       "154706        2007  Monsieur     2007    automne   2008.0      Suter François   \n",
       "159516        2008  Monsieur     2008  printemps   2009.0         Raja Yanick   \n",
       "160213        2007  Monsieur     2008    automne      NaN  Bécholey Alexandre   \n",
       "\n",
       "           year_pr  \n",
       "No Sciper           \n",
       "146742        2010  \n",
       "154573        2009  \n",
       "154706        2008  \n",
       "159516        2009  \n",
       "160213        2009  "
      ]
     },
     "execution_count": 47,
     "metadata": {},
     "output_type": "execute_result"
    }
   ],
   "source": [
    "master_group = master.groupby(master.index)\n",
    "master_group = master_group.agg({'Civilité':'last','Nom Prénom':'last','semester':'first','year_pr':'max',\n",
    "                 'year_s1':'min','year_s2':'min','year_s3':'max'})\n",
    "master_group.head()"
   ]
  },
  {
   "cell_type": "markdown",
   "metadata": {},
   "source": [
    "Following we compute the duration for each student in the above table, by trying to take into account all the possible ways of starting and finishing a Master's degree"
   ]
  },
  {
   "cell_type": "code",
   "execution_count": 48,
   "metadata": {
    "collapsed": false
   },
   "outputs": [
    {
     "data": {
      "text/html": [
       "<div>\n",
       "<table border=\"1\" class=\"dataframe\">\n",
       "  <thead>\n",
       "    <tr style=\"text-align: right;\">\n",
       "      <th></th>\n",
       "      <th>year_s2</th>\n",
       "      <th>Civilité</th>\n",
       "      <th>year_s1</th>\n",
       "      <th>semester</th>\n",
       "      <th>year_s3</th>\n",
       "      <th>Nom Prénom</th>\n",
       "      <th>year_pr</th>\n",
       "      <th>duration</th>\n",
       "    </tr>\n",
       "    <tr>\n",
       "      <th>No Sciper</th>\n",
       "      <th></th>\n",
       "      <th></th>\n",
       "      <th></th>\n",
       "      <th></th>\n",
       "      <th></th>\n",
       "      <th></th>\n",
       "      <th></th>\n",
       "      <th></th>\n",
       "    </tr>\n",
       "  </thead>\n",
       "  <tbody>\n",
       "    <tr>\n",
       "      <th>146742</th>\n",
       "      <td>2008</td>\n",
       "      <td>Monsieur</td>\n",
       "      <td>2008</td>\n",
       "      <td>automne</td>\n",
       "      <td>2012.0</td>\n",
       "      <td>Marx Clément</td>\n",
       "      <td>2010</td>\n",
       "      <td>4.5</td>\n",
       "    </tr>\n",
       "    <tr>\n",
       "      <th>154573</th>\n",
       "      <td>2007</td>\n",
       "      <td>Madame</td>\n",
       "      <td>2007</td>\n",
       "      <td>printemps</td>\n",
       "      <td>2009.0</td>\n",
       "      <td>Benabdallah Zeineb</td>\n",
       "      <td>2009</td>\n",
       "      <td>2.5</td>\n",
       "    </tr>\n",
       "    <tr>\n",
       "      <th>154706</th>\n",
       "      <td>2007</td>\n",
       "      <td>Monsieur</td>\n",
       "      <td>2007</td>\n",
       "      <td>automne</td>\n",
       "      <td>2008.0</td>\n",
       "      <td>Suter François</td>\n",
       "      <td>2008</td>\n",
       "      <td>1.5</td>\n",
       "    </tr>\n",
       "    <tr>\n",
       "      <th>159516</th>\n",
       "      <td>2008</td>\n",
       "      <td>Monsieur</td>\n",
       "      <td>2008</td>\n",
       "      <td>printemps</td>\n",
       "      <td>2009.0</td>\n",
       "      <td>Raja Yanick</td>\n",
       "      <td>2009</td>\n",
       "      <td>1.5</td>\n",
       "    </tr>\n",
       "    <tr>\n",
       "      <th>160213</th>\n",
       "      <td>2007</td>\n",
       "      <td>Monsieur</td>\n",
       "      <td>2008</td>\n",
       "      <td>automne</td>\n",
       "      <td>NaN</td>\n",
       "      <td>Bécholey Alexandre</td>\n",
       "      <td>2009</td>\n",
       "      <td>2.0</td>\n",
       "    </tr>\n",
       "  </tbody>\n",
       "</table>\n",
       "</div>"
      ],
      "text/plain": [
       "           year_s2  Civilité  year_s1   semester  year_s3          Nom Prénom  \\\n",
       "No Sciper                                                                       \n",
       "146742        2008  Monsieur     2008    automne   2012.0        Marx Clément   \n",
       "154573        2007    Madame     2007  printemps   2009.0  Benabdallah Zeineb   \n",
       "154706        2007  Monsieur     2007    automne   2008.0      Suter François   \n",
       "159516        2008  Monsieur     2008  printemps   2009.0         Raja Yanick   \n",
       "160213        2007  Monsieur     2008    automne      NaN  Bécholey Alexandre   \n",
       "\n",
       "           year_pr  duration  \n",
       "No Sciper                     \n",
       "146742        2010       4.5  \n",
       "154573        2009       2.5  \n",
       "154706        2008       1.5  \n",
       "159516        2009       1.5  \n",
       "160213        2009       2.0  "
      ]
     },
     "execution_count": 48,
     "metadata": {},
     "output_type": "execute_result"
    }
   ],
   "source": [
    "def compute_duration(row):\n",
    "    # the semester variable establishes in which semester the student finished\n",
    "    semester = ''\n",
    "    # the last_year variable represents the last year done by the student for masters\n",
    "    last_year = 0\n",
    "    \n",
    "    if pd.isnull(row.year_s3):\n",
    "        # no 3rd semester, so use the year and semester of master project \n",
    "        last_year = row.year_pr\n",
    "        semester = row.semester\n",
    "    else:\n",
    "        # hang on :) \n",
    "        if row.year_s3 == row.year_pr:\n",
    "            # [-'07 fall- -'08 spring- | -'08 fall- -'08 spring-]\n",
    "            #    sem 1        sem 2        sem 3       M proj\n",
    "            \n",
    "            last_year = row.year_pr\n",
    "            semester = 'automne'   # the third semester happens in fall; MP will be added later\n",
    "\n",
    "        elif (row.year_s3 < row.year_pr):\n",
    "            # [-'07 fall- -'08 spring- | -'08 fall- -'08 spring- | -'09 fall-]\n",
    "            #    sem 1        sem 2        sem 3       intern        M proj\n",
    "\n",
    "            # use the master project the third semester happened before\n",
    "            last_year = row.year_pr\n",
    "            semester = row.semester\n",
    "        else:\n",
    "            # [-'07 fall- -'08 spring- | -'08 fall- -'08 spring- -some fall-]\n",
    "            #    sem 1        sem 2         M proj      dunno      sem 3\n",
    "            # strange, but it happened\n",
    "            last_year = row.year_s3\n",
    "            semester = 'automne'  # sem 3 is always in autumn [go check :) ]\n",
    "        \n",
    "    if row.year_s1 <= row.year_s2:\n",
    "        # even if they are equal semester 1 happened before semester 2 \n",
    "        # i.e. if semester 1 appears as 2009 it means it happened in fall   2009\n",
    "        #      if semester 2 appears as 2009 it means it happened in spring 2010\n",
    "        #      since 2009 means the beginning of the academic year\n",
    "        if semester == 'printemps':\n",
    "            # 0.5 for MP + 0.5 for next academic year (see above)\n",
    "            return last_year - row.year_s1 + 1.0\n",
    "        else:\n",
    "            # 0.5 from either MP or from skipped semester\n",
    "            return last_year - row.year_s1 + 0.5\n",
    "    else:\n",
    "        # nope, not done yet :)\n",
    "        # The else is for entries in which the student is listed with the\n",
    "        # 2nd semester before the 1st semester -- might seem strange but there\n",
    "        # were a few cases\n",
    "        if(semester == 'automne'):\n",
    "            return last_year - row.year_s2\n",
    "        else:\n",
    "            return last_year - row.year_s2 + 0.5 # next academic year\n",
    "        \n",
    "master_group['duration'] = master_group.apply(compute_duration, axis = 1)\n",
    "master_group = master_group[master_group.duration.notnull()]\n",
    "master_group.head()"
   ]
  },
  {
   "cell_type": "markdown",
   "metadata": {},
   "source": [
    "# Average duration for master students:"
   ]
  },
  {
   "cell_type": "code",
   "execution_count": 49,
   "metadata": {
    "collapsed": false
   },
   "outputs": [
    {
     "data": {
      "text/plain": [
       "1.8450413223140496"
      ]
     },
     "execution_count": 49,
     "metadata": {},
     "output_type": "execute_result"
    }
   ],
   "source": [
    "master_duration = master_group['duration'].mean()\n",
    "master_duration"
   ]
  },
  {
   "cell_type": "code",
   "execution_count": 50,
   "metadata": {
    "collapsed": true
   },
   "outputs": [],
   "source": [
    "%matplotlib inline\n",
    "import numpy as np\n",
    "import scipy.stats as stats\n",
    "import matplotlib.pyplot as plt\n",
    "import math"
   ]
  },
  {
   "cell_type": "markdown",
   "metadata": {},
   "source": [
    "Graduated master students (under the conditions applied above) grouped by gender"
   ]
  },
  {
   "cell_type": "code",
   "execution_count": 51,
   "metadata": {
    "collapsed": false
   },
   "outputs": [
    {
     "name": "stdout",
     "output_type": "stream",
     "text": [
      "Monsieur    213\n",
      "Madame       29\n",
      "Name: Civilité, dtype: int64\n"
     ]
    },
    {
     "data": {
      "text/plain": [
       "<matplotlib.axes._subplots.AxesSubplot at 0x7fb113b47160>"
      ]
     },
     "execution_count": 51,
     "metadata": {},
     "output_type": "execute_result"
    },
    {
     "data": {
      "image/png": "[encoded data removed]",
      "text/plain": [
       "<matplotlib.figure.Figure at 0x7fb113b47a58>"
      ]
     },
     "metadata": {},
     "output_type": "display_data"
    }
   ],
   "source": [
    "print(master_group[\"Civilité\"].value_counts())\n",
    "master_group[\"Civilité\"].value_counts().plot(kind='bar')"
   ]
  },
  {
   "cell_type": "markdown",
   "metadata": {},
   "source": [
    "Graduated master students (under the conditions above) grouped by duration of their studies"
   ]
  },
  {
   "cell_type": "code",
   "execution_count": 52,
   "metadata": {
    "collapsed": false
   },
   "outputs": [
    {
     "data": {
      "text/plain": [
       "<matplotlib.axes._subplots.AxesSubplot at 0x7fb113a96438>"
      ]
     },
     "execution_count": 52,
     "metadata": {},
     "output_type": "execute_result"
    },
    {
     "data": {
      "image/png": "[encoded data removed]",
      "text/plain": [
       "<matplotlib.figure.Figure at 0x7fb113a9ca20>"
      ]
     },
     "metadata": {},
     "output_type": "display_data"
    }
   ],
   "source": [
    "master_group[\"duration\"].value_counts().plot(kind='bar')"
   ]
  },
  {
   "cell_type": "code",
   "execution_count": 53,
   "metadata": {
    "collapsed": false
   },
   "outputs": [
    {
     "data": {
      "text/html": [
       "<div>\n",
       "<table border=\"1\" class=\"dataframe\">\n",
       "  <thead>\n",
       "    <tr style=\"text-align: right;\">\n",
       "      <th></th>\n",
       "      <th>year_s2</th>\n",
       "      <th>Civilité</th>\n",
       "      <th>year_s1</th>\n",
       "      <th>semester</th>\n",
       "      <th>year_s3</th>\n",
       "      <th>Nom Prénom</th>\n",
       "      <th>year_pr</th>\n",
       "      <th>duration</th>\n",
       "    </tr>\n",
       "    <tr>\n",
       "      <th>No Sciper</th>\n",
       "      <th></th>\n",
       "      <th></th>\n",
       "      <th></th>\n",
       "      <th></th>\n",
       "      <th></th>\n",
       "      <th></th>\n",
       "      <th></th>\n",
       "      <th></th>\n",
       "    </tr>\n",
       "  </thead>\n",
       "  <tbody>\n",
       "  </tbody>\n",
       "</table>\n",
       "</div>"
      ],
      "text/plain": [
       "Empty DataFrame\n",
       "Columns: [year_s2, Civilité, year_s1, semester, year_s3, Nom Prénom, year_pr, duration]\n",
       "Index: []"
      ]
     },
     "execution_count": 53,
     "metadata": {},
     "output_type": "execute_result"
    }
   ],
   "source": [
    "# There should not be any case with 1 year\n",
    "master_group[master_group.duration == 1.0]"
   ]
  },
  {
   "cell_type": "markdown",
   "metadata": {},
   "source": [
    "# Master Specialization"
   ]
  },
  {
   "cell_type": "markdown",
   "metadata": {},
   "source": [
    "Among the master students keep the ones which are listed with a specialization"
   ]
  },
  {
   "cell_type": "code",
   "execution_count": 54,
   "metadata": {
    "collapsed": false
   },
   "outputs": [],
   "source": [
    "master_spec = [master_studs_1_2_only_project, master_studs_1_2_3_project, master_studs_1_2_3_stage]\n",
    "master_spec = pd.concat(master_spec)\n",
    "master_spec = master_spec[master_spec['Spécialisation'].notnull()]\n",
    "master_spec = master_spec.drop_duplicates()\n",
    "#master_spec.head()"
   ]
  },
  {
   "cell_type": "markdown",
   "metadata": {},
   "source": [
    "As before group and aggregate to prepare the data for computing the duration"
   ]
  },
  {
   "cell_type": "code",
   "execution_count": 55,
   "metadata": {
    "collapsed": false
   },
   "outputs": [
    {
     "data": {
      "text/html": [
       "<div>\n",
       "<table border=\"1\" class=\"dataframe\">\n",
       "  <thead>\n",
       "    <tr style=\"text-align: right;\">\n",
       "      <th></th>\n",
       "      <th>Spécialisation</th>\n",
       "      <th>year_s2</th>\n",
       "      <th>Civilité</th>\n",
       "      <th>year_s1</th>\n",
       "      <th>semester</th>\n",
       "      <th>year_s3</th>\n",
       "      <th>Nom Prénom</th>\n",
       "      <th>year_pr</th>\n",
       "    </tr>\n",
       "    <tr>\n",
       "      <th>No Sciper</th>\n",
       "      <th></th>\n",
       "      <th></th>\n",
       "      <th></th>\n",
       "      <th></th>\n",
       "      <th></th>\n",
       "      <th></th>\n",
       "      <th></th>\n",
       "      <th></th>\n",
       "    </tr>\n",
       "  </thead>\n",
       "  <tbody>\n",
       "    <tr>\n",
       "      <th>146742</th>\n",
       "      <td>Signals, Images and Interfaces</td>\n",
       "      <td>2008</td>\n",
       "      <td>Monsieur</td>\n",
       "      <td>2008</td>\n",
       "      <td>automne</td>\n",
       "      <td>2012.0</td>\n",
       "      <td>Marx Clément</td>\n",
       "      <td>2010</td>\n",
       "    </tr>\n",
       "    <tr>\n",
       "      <th>154573</th>\n",
       "      <td>Biocomputing</td>\n",
       "      <td>2007</td>\n",
       "      <td>Madame</td>\n",
       "      <td>2007</td>\n",
       "      <td>printemps</td>\n",
       "      <td>2009.0</td>\n",
       "      <td>Benabdallah Zeineb</td>\n",
       "      <td>2009</td>\n",
       "    </tr>\n",
       "    <tr>\n",
       "      <th>165819</th>\n",
       "      <td>Foundations of Software</td>\n",
       "      <td>2007</td>\n",
       "      <td>Monsieur</td>\n",
       "      <td>2007</td>\n",
       "      <td>printemps</td>\n",
       "      <td>2008.0</td>\n",
       "      <td>Hofer Thomas</td>\n",
       "      <td>2008</td>\n",
       "    </tr>\n",
       "    <tr>\n",
       "      <th>169569</th>\n",
       "      <td>Signals, Images and Interfaces</td>\n",
       "      <td>2010</td>\n",
       "      <td>Monsieur</td>\n",
       "      <td>2010</td>\n",
       "      <td>automne</td>\n",
       "      <td>2012.0</td>\n",
       "      <td>Arévalo Christian</td>\n",
       "      <td>2012</td>\n",
       "    </tr>\n",
       "    <tr>\n",
       "      <th>170224</th>\n",
       "      <td>Signals, Images and Interfaces</td>\n",
       "      <td>2010</td>\n",
       "      <td>Monsieur</td>\n",
       "      <td>2010</td>\n",
       "      <td>automne</td>\n",
       "      <td>2012.0</td>\n",
       "      <td>Margot Alexandre</td>\n",
       "      <td>2012</td>\n",
       "    </tr>\n",
       "  </tbody>\n",
       "</table>\n",
       "</div>"
      ],
      "text/plain": [
       "                           Spécialisation  year_s2  Civilité  year_s1  \\\n",
       "No Sciper                                                               \n",
       "146742     Signals, Images and Interfaces     2008  Monsieur     2008   \n",
       "154573                       Biocomputing     2007    Madame     2007   \n",
       "165819            Foundations of Software     2007  Monsieur     2007   \n",
       "169569     Signals, Images and Interfaces     2010  Monsieur     2010   \n",
       "170224     Signals, Images and Interfaces     2010  Monsieur     2010   \n",
       "\n",
       "            semester  year_s3          Nom Prénom  year_pr  \n",
       "No Sciper                                                   \n",
       "146742       automne   2012.0        Marx Clément     2010  \n",
       "154573     printemps   2009.0  Benabdallah Zeineb     2009  \n",
       "165819     printemps   2008.0        Hofer Thomas     2008  \n",
       "169569       automne   2012.0   Arévalo Christian     2012  \n",
       "170224       automne   2012.0    Margot Alexandre     2012  "
      ]
     },
     "execution_count": 55,
     "metadata": {},
     "output_type": "execute_result"
    }
   ],
   "source": [
    "master_spec = master_spec.groupby(master_spec.index)\n",
    "master_spec = master_spec.agg({'Civilité':'last','Spécialisation':'last', 'Nom Prénom':'last','semester':'first',\n",
    "                               'year_pr':'max','year_s1':'min','year_s2':'min','year_s3':'max'})\n",
    "master_spec.head()"
   ]
  },
  {
   "cell_type": "code",
   "execution_count": 56,
   "metadata": {
    "collapsed": false
   },
   "outputs": [
    {
     "data": {
      "text/html": [
       "<div>\n",
       "<table border=\"1\" class=\"dataframe\">\n",
       "  <thead>\n",
       "    <tr style=\"text-align: right;\">\n",
       "      <th></th>\n",
       "      <th>Spécialisation</th>\n",
       "      <th>year_s2</th>\n",
       "      <th>Civilité</th>\n",
       "      <th>year_s1</th>\n",
       "      <th>semester</th>\n",
       "      <th>year_s3</th>\n",
       "      <th>Nom Prénom</th>\n",
       "      <th>year_pr</th>\n",
       "      <th>duration</th>\n",
       "    </tr>\n",
       "    <tr>\n",
       "      <th>No Sciper</th>\n",
       "      <th></th>\n",
       "      <th></th>\n",
       "      <th></th>\n",
       "      <th></th>\n",
       "      <th></th>\n",
       "      <th></th>\n",
       "      <th></th>\n",
       "      <th></th>\n",
       "      <th></th>\n",
       "    </tr>\n",
       "  </thead>\n",
       "  <tbody>\n",
       "    <tr>\n",
       "      <th>146742</th>\n",
       "      <td>Signals, Images and Interfaces</td>\n",
       "      <td>2008</td>\n",
       "      <td>Monsieur</td>\n",
       "      <td>2008</td>\n",
       "      <td>automne</td>\n",
       "      <td>2012.0</td>\n",
       "      <td>Marx Clément</td>\n",
       "      <td>2010</td>\n",
       "      <td>4.5</td>\n",
       "    </tr>\n",
       "    <tr>\n",
       "      <th>154573</th>\n",
       "      <td>Biocomputing</td>\n",
       "      <td>2007</td>\n",
       "      <td>Madame</td>\n",
       "      <td>2007</td>\n",
       "      <td>printemps</td>\n",
       "      <td>2009.0</td>\n",
       "      <td>Benabdallah Zeineb</td>\n",
       "      <td>2009</td>\n",
       "      <td>2.5</td>\n",
       "    </tr>\n",
       "    <tr>\n",
       "      <th>165819</th>\n",
       "      <td>Foundations of Software</td>\n",
       "      <td>2007</td>\n",
       "      <td>Monsieur</td>\n",
       "      <td>2007</td>\n",
       "      <td>printemps</td>\n",
       "      <td>2008.0</td>\n",
       "      <td>Hofer Thomas</td>\n",
       "      <td>2008</td>\n",
       "      <td>1.5</td>\n",
       "    </tr>\n",
       "    <tr>\n",
       "      <th>169569</th>\n",
       "      <td>Signals, Images and Interfaces</td>\n",
       "      <td>2010</td>\n",
       "      <td>Monsieur</td>\n",
       "      <td>2010</td>\n",
       "      <td>automne</td>\n",
       "      <td>2012.0</td>\n",
       "      <td>Arévalo Christian</td>\n",
       "      <td>2012</td>\n",
       "      <td>2.5</td>\n",
       "    </tr>\n",
       "    <tr>\n",
       "      <th>170224</th>\n",
       "      <td>Signals, Images and Interfaces</td>\n",
       "      <td>2010</td>\n",
       "      <td>Monsieur</td>\n",
       "      <td>2010</td>\n",
       "      <td>automne</td>\n",
       "      <td>2012.0</td>\n",
       "      <td>Margot Alexandre</td>\n",
       "      <td>2012</td>\n",
       "      <td>2.5</td>\n",
       "    </tr>\n",
       "  </tbody>\n",
       "</table>\n",
       "</div>"
      ],
      "text/plain": [
       "                           Spécialisation  year_s2  Civilité  year_s1  \\\n",
       "No Sciper                                                               \n",
       "146742     Signals, Images and Interfaces     2008  Monsieur     2008   \n",
       "154573                       Biocomputing     2007    Madame     2007   \n",
       "165819            Foundations of Software     2007  Monsieur     2007   \n",
       "169569     Signals, Images and Interfaces     2010  Monsieur     2010   \n",
       "170224     Signals, Images and Interfaces     2010  Monsieur     2010   \n",
       "\n",
       "            semester  year_s3          Nom Prénom  year_pr  duration  \n",
       "No Sciper                                                             \n",
       "146742       automne   2012.0        Marx Clément     2010       4.5  \n",
       "154573     printemps   2009.0  Benabdallah Zeineb     2009       2.5  \n",
       "165819     printemps   2008.0        Hofer Thomas     2008       1.5  \n",
       "169569       automne   2012.0   Arévalo Christian     2012       2.5  \n",
       "170224       automne   2012.0    Margot Alexandre     2012       2.5  "
      ]
     },
     "execution_count": 56,
     "metadata": {},
     "output_type": "execute_result"
    }
   ],
   "source": [
    "# ONLY students who have a specialization listed in semester 3\n",
    "\n",
    "master_spec['duration'] = master_spec.apply(compute_duration, axis = 1)\n",
    "master_spec = master_spec[master_spec.duration.notnull()]\n",
    "master_spec.head()"
   ]
  },
  {
   "cell_type": "markdown",
   "metadata": {},
   "source": [
    "Grouping the results based on the Specialisation and finding the mean and the number of students listed for the respective specialization."
   ]
  },
  {
   "cell_type": "code",
   "execution_count": 57,
   "metadata": {
    "collapsed": false
   },
   "outputs": [
    {
     "data": {
      "text/html": [
       "<div>\n",
       "<table border=\"1\" class=\"dataframe\">\n",
       "  <thead>\n",
       "    <tr style=\"text-align: right;\">\n",
       "      <th></th>\n",
       "      <th>mean</th>\n",
       "      <th>size</th>\n",
       "    </tr>\n",
       "    <tr>\n",
       "      <th>Spécialisation</th>\n",
       "      <th></th>\n",
       "      <th></th>\n",
       "    </tr>\n",
       "  </thead>\n",
       "  <tbody>\n",
       "    <tr>\n",
       "      <th>Biocomputing</th>\n",
       "      <td>2.500000</td>\n",
       "      <td>1</td>\n",
       "    </tr>\n",
       "    <tr>\n",
       "      <th>Computer Engineering - SP</th>\n",
       "      <td>2.500000</td>\n",
       "      <td>2</td>\n",
       "    </tr>\n",
       "    <tr>\n",
       "      <th>Foundations of Software</th>\n",
       "      <td>1.900000</td>\n",
       "      <td>20</td>\n",
       "    </tr>\n",
       "    <tr>\n",
       "      <th>Information Security - SP</th>\n",
       "      <td>2.500000</td>\n",
       "      <td>1</td>\n",
       "    </tr>\n",
       "    <tr>\n",
       "      <th>Internet computing</th>\n",
       "      <td>2.166667</td>\n",
       "      <td>24</td>\n",
       "    </tr>\n",
       "    <tr>\n",
       "      <th>Service science</th>\n",
       "      <td>2.500000</td>\n",
       "      <td>1</td>\n",
       "    </tr>\n",
       "    <tr>\n",
       "      <th>Signals, Images and Interfaces</th>\n",
       "      <td>2.611111</td>\n",
       "      <td>9</td>\n",
       "    </tr>\n",
       "    <tr>\n",
       "      <th>Software Systems</th>\n",
       "      <td>2.166667</td>\n",
       "      <td>3</td>\n",
       "    </tr>\n",
       "  </tbody>\n",
       "</table>\n",
       "</div>"
      ],
      "text/plain": [
       "                                    mean  size\n",
       "Spécialisation                                \n",
       "Biocomputing                    2.500000     1\n",
       "Computer Engineering - SP       2.500000     2\n",
       "Foundations of Software         1.900000    20\n",
       "Information Security - SP       2.500000     1\n",
       "Internet computing              2.166667    24\n",
       "Service science                 2.500000     1\n",
       "Signals, Images and Interfaces  2.611111     9\n",
       "Software Systems                2.166667     3"
      ]
     },
     "execution_count": 57,
     "metadata": {},
     "output_type": "execute_result"
    }
   ],
   "source": [
    "master_spec_group = master_spec.groupby(['Spécialisation'])\n",
    "master_spec_group['duration'].agg(['mean', 'size'])"
   ]
  },
  {
   "cell_type": "markdown",
   "metadata": {},
   "source": [
    "## Specialisation for which the mean is different from the overall"
   ]
  },
  {
   "cell_type": "markdown",
   "metadata": {},
   "source": [
    "For this test we will use the 1 sample t-test to check if the mean of a specialisation is different from the overall mean. We formulate the null hypothesis that the sample of a specialisation comes from the same distribution as the population of the overall sample. If the test rejects this with a 95% confidence, then the hypothesis is statistically significant."
   ]
  },
  {
   "cell_type": "code",
   "execution_count": 58,
   "metadata": {
    "collapsed": false
   },
   "outputs": [
    {
     "name": "stdout",
     "output_type": "stream",
     "text": [
      "Duration of specialisation 'Computer Engineering - SP' is different from mean\n",
      "Duration of specialisation 'Internet computing' is different from mean\n",
      "Duration of specialisation 'Signals, Images and Interfaces' is different from mean\n"
     ]
    }
   ],
   "source": [
    "import scipy.stats as stats\n",
    "\n",
    "p = 0.05\n",
    "for spec, group in master_spec_group:\n",
    "    if len(group) == 1:  # stddev not defined\n",
    "        continue\n",
    "    ttest = stats.ttest_1samp(group.duration, popmean=master_duration)\n",
    "    if ttest.pvalue < p:\n",
    "        print(\"Duration of specialisation '%s' is different from mean\" % spec)"
   ]
  },
  {
   "cell_type": "markdown",
   "metadata": {},
   "source": [
    "# Bonus: Master students gender study"
   ]
  },
  {
   "cell_type": "code",
   "execution_count": 107,
   "metadata": {
    "collapsed": false
   },
   "outputs": [
    {
     "data": {
      "text/html": [
       "<div>\n",
       "<table border=\"1\" class=\"dataframe\">\n",
       "  <thead>\n",
       "    <tr style=\"text-align: right;\">\n",
       "      <th></th>\n",
       "      <th></th>\n",
       "      <th>duration</th>\n",
       "    </tr>\n",
       "    <tr>\n",
       "      <th>End_year</th>\n",
       "      <th>Civilité</th>\n",
       "      <th></th>\n",
       "    </tr>\n",
       "  </thead>\n",
       "  <tbody>\n",
       "    <tr>\n",
       "      <th rowspan=\"2\" valign=\"top\">2008.0</th>\n",
       "      <th>Madame</th>\n",
       "      <td>1.500000</td>\n",
       "    </tr>\n",
       "    <tr>\n",
       "      <th>Monsieur</th>\n",
       "      <td>1.500000</td>\n",
       "    </tr>\n",
       "    <tr>\n",
       "      <th rowspan=\"2\" valign=\"top\">2009.0</th>\n",
       "      <th>Madame</th>\n",
       "      <td>1.833333</td>\n",
       "    </tr>\n",
       "    <tr>\n",
       "      <th>Monsieur</th>\n",
       "      <td>1.571429</td>\n",
       "    </tr>\n",
       "    <tr>\n",
       "      <th>2010.0</th>\n",
       "      <th>Monsieur</th>\n",
       "      <td>1.722222</td>\n",
       "    </tr>\n",
       "    <tr>\n",
       "      <th rowspan=\"2\" valign=\"top\">2011.0</th>\n",
       "      <th>Madame</th>\n",
       "      <td>1.500000</td>\n",
       "    </tr>\n",
       "    <tr>\n",
       "      <th>Monsieur</th>\n",
       "      <td>1.560000</td>\n",
       "    </tr>\n",
       "    <tr>\n",
       "      <th rowspan=\"2\" valign=\"top\">2012.0</th>\n",
       "      <th>Madame</th>\n",
       "      <td>1.833333</td>\n",
       "    </tr>\n",
       "    <tr>\n",
       "      <th>Monsieur</th>\n",
       "      <td>1.950000</td>\n",
       "    </tr>\n",
       "    <tr>\n",
       "      <th rowspan=\"2\" valign=\"top\">2013.0</th>\n",
       "      <th>Madame</th>\n",
       "      <td>1.500000</td>\n",
       "    </tr>\n",
       "    <tr>\n",
       "      <th>Monsieur</th>\n",
       "      <td>1.818182</td>\n",
       "    </tr>\n",
       "    <tr>\n",
       "      <th rowspan=\"2\" valign=\"top\">2014.0</th>\n",
       "      <th>Madame</th>\n",
       "      <td>1.642857</td>\n",
       "    </tr>\n",
       "    <tr>\n",
       "      <th>Monsieur</th>\n",
       "      <td>1.666667</td>\n",
       "    </tr>\n",
       "    <tr>\n",
       "      <th rowspan=\"2\" valign=\"top\">2015.0</th>\n",
       "      <th>Madame</th>\n",
       "      <td>2.000000</td>\n",
       "    </tr>\n",
       "    <tr>\n",
       "      <th>Monsieur</th>\n",
       "      <td>1.857143</td>\n",
       "    </tr>\n",
       "    <tr>\n",
       "      <th rowspan=\"2\" valign=\"top\">2016.0</th>\n",
       "      <th>Madame</th>\n",
       "      <td>2.000000</td>\n",
       "    </tr>\n",
       "    <tr>\n",
       "      <th>Monsieur</th>\n",
       "      <td>2.081250</td>\n",
       "    </tr>\n",
       "  </tbody>\n",
       "</table>\n",
       "</div>"
      ],
      "text/plain": [
       "                   duration\n",
       "End_year Civilité          \n",
       "2008.0   Madame    1.500000\n",
       "         Monsieur  1.500000\n",
       "2009.0   Madame    1.833333\n",
       "         Monsieur  1.571429\n",
       "2010.0   Monsieur  1.722222\n",
       "2011.0   Madame    1.500000\n",
       "         Monsieur  1.560000\n",
       "2012.0   Madame    1.833333\n",
       "         Monsieur  1.950000\n",
       "2013.0   Madame    1.500000\n",
       "         Monsieur  1.818182\n",
       "2014.0   Madame    1.642857\n",
       "         Monsieur  1.666667\n",
       "2015.0   Madame    2.000000\n",
       "         Monsieur  1.857143\n",
       "2016.0   Madame    2.000000\n",
       "         Monsieur  2.081250"
      ]
     },
     "execution_count": 107,
     "metadata": {},
     "output_type": "execute_result"
    }
   ],
   "source": [
    "master_group['End_year'] = master_group[['year_pr','year_s1','year_s2','year_s3']].max(axis=1)\n",
    "master_group_year = master_group.groupby(['End_year','Civilité'])\n",
    "master_group_year = master_group_year.agg({'duration':'mean'})\n",
    "master_group_year"
   ]
  },
  {
   "cell_type": "code",
   "execution_count": 108,
   "metadata": {
    "collapsed": true
   },
   "outputs": [],
   "source": [
    "madames = np.array(master_group_year.xs('Madame',level='Civilité')['duration'])\n",
    "monsieurs = np.array(master_group_year.xs('Monsieur',level='Civilité')['duration'])\n",
    "years = np.array(master_group_year.index.levels[0])"
   ]
  },
  {
   "cell_type": "code",
   "execution_count": 110,
   "metadata": {
    "collapsed": false
   },
   "outputs": [],
   "source": [
    "madames_mod = np.zeros(monsieurs.shape)\n",
    "j = 0\n",
    "for i in range(madamesAlterated.shape[0]):\n",
    "    if(i == 2): # equivalent to 2010 where there are no madames mentioned\n",
    "        madames_mod[i] = 0\n",
    "    else:\n",
    "        madames_mod[i] = madames[j]\n",
    "        j += 1"
   ]
  },
  {
   "cell_type": "code",
   "execution_count": 125,
   "metadata": {
    "collapsed": false
   },
   "outputs": [
    {
     "data": {
      "image/png": "[encoded data removed]",
      "text/plain": [
       "<matplotlib.figure.Figure at 0x7fb113240240>"
      ]
     },
     "metadata": {},
     "output_type": "display_data"
    }
   ],
   "source": [
    "# Finally the scatter plot\n",
    "import scipy, pylab\n",
    "ax = pylab.subplot(111)\n",
    "ax.scatter(years, madames_mod, c='r',marker=\"x\",label='Madames',s=100)\n",
    "ax.scatter(years, monsieurs, c='b',marker=\"o\",label='Monsieurs',s=25)\n",
    "plt.xlabel('Year', fontsize=18)\n",
    "plt.ylabel('Duration', fontsize=16)\n",
    "plt.legend(loc='lower right');"
   ]
  },
  {
   "cell_type": "code",
   "execution_count": null,
   "metadata": {
    "collapsed": true
   },
   "outputs": [],
   "source": []
  }
 ],
 "metadata": {
  "anaconda-cloud": {},
  "kernelspec": {
   "display_name": "Python [Root]",
   "language": "python",
   "name": "Python [Root]"
  },
  "language_info": {
   "codemirror_mode": {
    "name": "ipython",
    "version": 3
   },
   "file_extension": ".py",
   "mimetype": "text/x-python",
   "name": "python",
   "nbconvert_exporter": "python",
   "pygments_lexer": "ipython3",
   "version": "3.5.2"
  }
 },
 "nbformat": 4,
 "nbformat_minor": 0
}

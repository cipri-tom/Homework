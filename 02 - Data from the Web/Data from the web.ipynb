{
 "cells": [
  {
   "cell_type": "markdown",
   "metadata": {},
   "source": [
    "We start by loading BeautifulSoup"
   ]
  },
  {
   "cell_type": "code",
   "execution_count": 124,
   "metadata": {
    "collapsed": false
   },
   "outputs": [],
   "source": [
    "#%load_ext soup\n",
    "import requests\n",
    "from bs4 import BeautifulSoup\n",
    "import pandas as pd\n",
    "from os import path\n",
    "import numpy as np"
   ]
  },
  {
   "cell_type": "markdown",
   "metadata": {},
   "source": [
    "This is the url for getting the public information from IS Acdemia"
   ]
  },
  {
   "cell_type": "code",
   "execution_count": null,
   "metadata": {
    "collapsed": true
   },
   "outputs": [],
   "source": [
    "url = \"http://isa.epfl.ch/imoniteur_ISAP/!GEDPUBLICREPORTS.filter?ww_i_reportModel=133685247\""
   ]
  },
  {
   "cell_type": "markdown",
   "metadata": {},
   "source": [
    "We request the form from ISA in order to parse the necessary arguments with Beautifulsoup"
   ]
  },
  {
   "cell_type": "code",
   "execution_count": null,
   "metadata": {
    "collapsed": false
   },
   "outputs": [],
   "source": [
    "r = requests.get(url)\n",
    "isa_form = BeautifulSoup(r.text, 'html.parser')"
   ]
  },
  {
   "cell_type": "raw",
   "metadata": {},
   "source": [
    "request_codes is a dictionnary that contains for all the different input forms the following entry:\n",
    "['option name'] = ('param name', 'param value')\n",
    "example:\n",
    "[\"Informatique\"] = ('ww_x_UNITE_ACAD', '249847')"
   ]
  },
  {
   "cell_type": "code",
   "execution_count": null,
   "metadata": {
    "collapsed": false
   },
   "outputs": [],
   "source": [
    "request_codes = {}\n",
    "for input in isa_form.find_all('select'):\n",
    "    for element in input.find_all('option'):\n",
    "        request_codes[element.text] = (input['name'], element['value'])"
   ]
  },
  {
   "cell_type": "markdown",
   "metadata": {},
   "source": [
    "This is an example of how we can use the request codes for getting all students in bachelor semester 1 in informatics in 2007-2008"
   ]
  },
  {
   "cell_type": "code",
   "execution_count": null,
   "metadata": {
    "collapsed": false
   },
   "outputs": [],
   "source": [
    "arguments = {}\n",
    "arguments[\"ww_x_GPS\"] = \"-1\"\n",
    "arguments[\"ww_i_reportModel\"] = \"133685247\"\n",
    "arguments[\"ww_i_reportModelXsl\"] = \"133685270\"\n",
    "arguments[request_codes[\"Informatique\"][0]] = request_codes[\"Informatique\"][1]\n",
    "#arguments[request_codes[\"2007-2008\"][0]] = request_codes[\"2007-2008\"][1]\n",
    "#arguments[request_codes[\"Bachelor semestre 1\"][0]] = request_codes[\"Bachelor semestre 1\"][1]\n",
    "arguments[\"ww_x_HIVERETE\"] = \"null\""
   ]
  },
  {
   "cell_type": "code",
   "execution_count": null,
   "metadata": {
    "collapsed": false
   },
   "outputs": [],
   "source": [
    "url = \"http://isa.epfl.ch/imoniteur_ISAP/!GEDPUBLICREPORTS.html?\"\n",
    "r = requests.get(url, params=arguments)"
   ]
  },
  {
   "cell_type": "markdown",
   "metadata": {
    "collapsed": true
   },
   "source": [
    "Do all requests for 2007-2016 for both bach 1, 5 and 6 and save the data in csv format\n",
    "This also checks if the data already exists it doesn't do the requests again"
   ]
  },
  {
   "cell_type": "code",
   "execution_count": 104,
   "metadata": {
    "collapsed": false
   },
   "outputs": [],
   "source": [
    "semesters = [1,5,6]\n",
    "files = {}\n",
    "for semester in semesters:\n",
    "    files[semester] = []\n",
    "    \n",
    "for year in range(2007,2017):\n",
    "    # fill in params request: year\n",
    "    y = str(year)+\"-\"+str(year+1)\n",
    "    arguments[request_codes[y][0]] = request_codes[y][1]\n",
    "    for semester in semesters:\n",
    "        # fill in params request: semester\n",
    "        b = \"Bachelor semestre %d\" % semester\n",
    "        arguments[request_codes[b][0]] = request_codes[b][1]\n",
    "        # do request and save to file\n",
    "        filename = 'data/bachelor_%d_%d.csv' % (year, semester)\n",
    "        files[semester].append(filename)\n",
    "        if not path.isfile(filename):\n",
    "            r = requests.get(url, params=arguments)\n",
    "            table = pd.read_html(r.text, flavor='lxml', skiprows=1, header=0)[0]\n",
    "            table = table.ix[:, [0,1,10]]\n",
    "            table['year'] = year\n",
    "            table['semester'] = semester\n",
    "            table.to_csv(filename, encoding='utf-8')"
   ]
  },
  {
   "cell_type": "markdown",
   "metadata": {},
   "source": [
    "Read the data from the csv files and combine them into one dataframe for each semester"
   ]
  },
  {
   "cell_type": "code",
   "execution_count": 118,
   "metadata": {
    "collapsed": false
   },
   "outputs": [],
   "source": [
    "frames = {}\n",
    "for semester in semesters:\n",
    "    frames[semester] = []\n",
    "    for filename in files[str(semester)]:\n",
    "        frames[semester].append(pd.read_csv(filename, header=0, encoding='utf-8', index_col=3).ix[:,1:])\n",
    "    frames[semester] = pd.concat(frames[semester])"
   ]
  },
  {
   "cell_type": "markdown",
   "metadata": {},
   "source": [
    "Merge the dataframes based on sciper number\n",
    "This will keep only the students that have both a mention of semester 1 and semester 6. (inner join)\n",
    "Students that have multiple mentions of semester 6 will appaer multiple times in the dataframe."
   ]
  },
  {
   "cell_type": "code",
   "execution_count": 133,
   "metadata": {
    "collapsed": false
   },
   "outputs": [
    {
     "data": {
      "text/html": [
       "<div>\n",
       "<table border=\"1\" class=\"dataframe\">\n",
       "  <thead>\n",
       "    <tr style=\"text-align: right;\">\n",
       "      <th></th>\n",
       "      <th>Civilité</th>\n",
       "      <th>Nom Prénom</th>\n",
       "      <th>year_sem1</th>\n",
       "      <th>year_sem6</th>\n",
       "    </tr>\n",
       "    <tr>\n",
       "      <th>No Sciper</th>\n",
       "      <th></th>\n",
       "      <th></th>\n",
       "      <th></th>\n",
       "      <th></th>\n",
       "    </tr>\n",
       "  </thead>\n",
       "  <tbody>\n",
       "    <tr>\n",
       "      <th>147008</th>\n",
       "      <td>Monsieur</td>\n",
       "      <td>Good Xavier</td>\n",
       "      <td>2008</td>\n",
       "      <td>2010</td>\n",
       "    </tr>\n",
       "    <tr>\n",
       "      <th>169569</th>\n",
       "      <td>Monsieur</td>\n",
       "      <td>Arévalo Christian</td>\n",
       "      <td>2007</td>\n",
       "      <td>2009</td>\n",
       "    </tr>\n",
       "    <tr>\n",
       "      <th>169731</th>\n",
       "      <td>Monsieur</td>\n",
       "      <td>Knecht Mathieu</td>\n",
       "      <td>2007</td>\n",
       "      <td>2010</td>\n",
       "    </tr>\n",
       "    <tr>\n",
       "      <th>169795</th>\n",
       "      <td>Monsieur</td>\n",
       "      <td>Scheiben Pascal</td>\n",
       "      <td>2007</td>\n",
       "      <td>2009</td>\n",
       "    </tr>\n",
       "    <tr>\n",
       "      <th>169795</th>\n",
       "      <td>Monsieur</td>\n",
       "      <td>Scheiben Pascal</td>\n",
       "      <td>2007</td>\n",
       "      <td>2010</td>\n",
       "    </tr>\n",
       "  </tbody>\n",
       "</table>\n",
       "</div>"
      ],
      "text/plain": [
       "          \\tCivilité         Nom Prénom  year_sem1  year_sem6\n",
       "No Sciper                                                    \n",
       "147008      Monsieur        Good Xavier       2008       2010\n",
       "169569      Monsieur  Arévalo Christian       2007       2009\n",
       "169731      Monsieur     Knecht Mathieu       2007       2010\n",
       "169795      Monsieur    Scheiben Pascal       2007       2009\n",
       "169795      Monsieur    Scheiben Pascal       2007       2010"
      ]
     },
     "execution_count": 133,
     "metadata": {},
     "output_type": "execute_result"
    }
   ],
   "source": [
    "frame = pd.merge(frames[1], frames[6], left_index=True, right_index=True).ix[:, [0,1,2,6]]\n",
    "frame.columns = ['\tCivilité', 'Nom Prénom', 'year_sem1', 'year_sem6']\n",
    "frame.head()"
   ]
  },
  {
   "cell_type": "markdown",
   "metadata": {},
   "source": [
    "We will now merge with semester 5 as well because a student can have the following path 1-2-3-4-5-6-5 and graduate after 7 semesters."
   ]
  },
  {
   "cell_type": "code",
   "execution_count": 135,
   "metadata": {
    "collapsed": false
   },
   "outputs": [
    {
     "data": {
      "text/html": [
       "<div>\n",
       "<table border=\"1\" class=\"dataframe\">\n",
       "  <thead>\n",
       "    <tr style=\"text-align: right;\">\n",
       "      <th></th>\n",
       "      <th>Civilité</th>\n",
       "      <th>Nom Prénom_x</th>\n",
       "      <th>year_sem1</th>\n",
       "      <th>year_x</th>\n",
       "      <th>Civilité</th>\n",
       "      <th>Nom Prénom</th>\n",
       "      <th>year_y</th>\n",
       "      <th>semester</th>\n",
       "    </tr>\n",
       "    <tr>\n",
       "      <th>No Sciper</th>\n",
       "      <th></th>\n",
       "      <th></th>\n",
       "      <th></th>\n",
       "      <th></th>\n",
       "      <th></th>\n",
       "      <th></th>\n",
       "      <th></th>\n",
       "      <th></th>\n",
       "    </tr>\n",
       "  </thead>\n",
       "  <tbody>\n",
       "    <tr>\n",
       "      <th>147008</th>\n",
       "      <td>Monsieur</td>\n",
       "      <td>Good Xavier</td>\n",
       "      <td>2008</td>\n",
       "      <td>2010</td>\n",
       "      <td>Monsieur</td>\n",
       "      <td>Good Xavier</td>\n",
       "      <td>2010</td>\n",
       "      <td>5</td>\n",
       "    </tr>\n",
       "    <tr>\n",
       "      <th>169569</th>\n",
       "      <td>Monsieur</td>\n",
       "      <td>Arévalo Christian</td>\n",
       "      <td>2007</td>\n",
       "      <td>2009</td>\n",
       "      <td>Monsieur</td>\n",
       "      <td>Arévalo Christian</td>\n",
       "      <td>2009</td>\n",
       "      <td>5</td>\n",
       "    </tr>\n",
       "    <tr>\n",
       "      <th>169731</th>\n",
       "      <td>Monsieur</td>\n",
       "      <td>Knecht Mathieu</td>\n",
       "      <td>2007</td>\n",
       "      <td>2010</td>\n",
       "      <td>Monsieur</td>\n",
       "      <td>Knecht Mathieu</td>\n",
       "      <td>2010</td>\n",
       "      <td>5</td>\n",
       "    </tr>\n",
       "    <tr>\n",
       "      <th>169795</th>\n",
       "      <td>Monsieur</td>\n",
       "      <td>Scheiben Pascal</td>\n",
       "      <td>2007</td>\n",
       "      <td>2009</td>\n",
       "      <td>Monsieur</td>\n",
       "      <td>Scheiben Pascal</td>\n",
       "      <td>2009</td>\n",
       "      <td>5</td>\n",
       "    </tr>\n",
       "    <tr>\n",
       "      <th>169795</th>\n",
       "      <td>Monsieur</td>\n",
       "      <td>Scheiben Pascal</td>\n",
       "      <td>2007</td>\n",
       "      <td>2009</td>\n",
       "      <td>Monsieur</td>\n",
       "      <td>Scheiben Pascal</td>\n",
       "      <td>2010</td>\n",
       "      <td>5</td>\n",
       "    </tr>\n",
       "  </tbody>\n",
       "</table>\n",
       "</div>"
      ],
      "text/plain": [
       "          \\tCivilité       Nom Prénom_x  year_sem1  year_x  Civilité  \\\n",
       "No Sciper                                                              \n",
       "147008      Monsieur        Good Xavier       2008    2010  Monsieur   \n",
       "169569      Monsieur  Arévalo Christian       2007    2009  Monsieur   \n",
       "169731      Monsieur     Knecht Mathieu       2007    2010  Monsieur   \n",
       "169795      Monsieur    Scheiben Pascal       2007    2009  Monsieur   \n",
       "169795      Monsieur    Scheiben Pascal       2007    2009  Monsieur   \n",
       "\n",
       "                  Nom Prénom  year_y  semester  \n",
       "No Sciper                                       \n",
       "147008           Good Xavier    2010         5  \n",
       "169569     Arévalo Christian    2009         5  \n",
       "169731        Knecht Mathieu    2010         5  \n",
       "169795       Scheiben Pascal    2009         5  \n",
       "169795       Scheiben Pascal    2010         5  "
      ]
     },
     "execution_count": 135,
     "metadata": {},
     "output_type": "execute_result"
    }
   ],
   "source": [
    "frame = pd.merge(frame, frames[5], left_index=True, right_index=True)\n",
    "#frame.columns = ['\tCivilité', 'Nom Prénom', 'year_sem1', 'year_sem6']\n",
    "frame.head()"
   ]
  }
 ],
 "metadata": {
  "kernelspec": {
   "display_name": "Python [Root]",
   "language": "python",
   "name": "Python [Root]"
  },
  "language_info": {
   "codemirror_mode": {
    "name": "ipython",
    "version": 3
   },
   "file_extension": ".py",
   "mimetype": "text/x-python",
   "name": "python",
   "nbconvert_exporter": "python",
   "pygments_lexer": "ipython3",
   "version": "3.5.2"
  }
 },
 "nbformat": 4,
 "nbformat_minor": 0
}

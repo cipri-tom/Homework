{
 "cells": [
  {
   "cell_type": "markdown",
   "metadata": {},
   "source": [
    "# Data collection"
   ]
  },
  {
   "cell_type": "code",
   "execution_count": 18,
   "metadata": {
    "collapsed": true
   },
   "outputs": [],
   "source": [
    "#%load_ext soup\n",
    "import requests\n",
    "from bs4 import BeautifulSoup\n",
    "import pandas as pd\n",
    "from os import path"
   ]
  },
  {
   "cell_type": "markdown",
   "metadata": {},
   "source": [
    "## Preparation"
   ]
  },
  {
   "cell_type": "markdown",
   "metadata": {},
   "source": [
    "URL for the filtering page, different from results URL. The parameter is mandatory"
   ]
  },
  {
   "cell_type": "code",
   "execution_count": 19,
   "metadata": {
    "collapsed": true
   },
   "outputs": [],
   "source": [
    "url = \"http://isa.epfl.ch/imoniteur_ISAP/!GEDPUBLICREPORTS.filter\""
   ]
  },
  {
   "cell_type": "code",
   "execution_count": 20,
   "metadata": {
    "collapsed": true
   },
   "outputs": [],
   "source": [
    "arguments = {'ww_i_reportModel':133685247} # grab HTML data"
   ]
  },
  {
   "cell_type": "code",
   "execution_count": 21,
   "metadata": {
    "collapsed": false
   },
   "outputs": [],
   "source": [
    "r = requests.get(url, params=arguments)\n",
    "isa_form = BeautifulSoup(r.text, 'html.parser')"
   ]
  },
  {
   "cell_type": "markdown",
   "metadata": {},
   "source": [
    "Extract parameters from the filtering page to allow easily querying:"
   ]
  },
  {
   "cell_type": "code",
   "execution_count": 22,
   "metadata": {
    "collapsed": false
   },
   "outputs": [],
   "source": [
    "request_codes = {}\n",
    "for input in isa_form.find_all('select'):\n",
    "    for element in input.find_all('option'):\n",
    "        #print(element.text)\n",
    "        request_codes[element.text] = (input['name'], element['value'])"
   ]
  },
  {
   "cell_type": "markdown",
   "metadata": {},
   "source": [
    "This is the base url for data results, different from the filtering one:"
   ]
  },
  {
   "cell_type": "code",
   "execution_count": 23,
   "metadata": {
    "collapsed": true
   },
   "outputs": [],
   "source": [
    "url = \"http://isa.epfl.ch/imoniteur_ISAP/!GEDPUBLICREPORTS.html?\""
   ]
  },
  {
   "cell_type": "markdown",
   "metadata": {},
   "source": [
    "Add hiddent default params:"
   ]
  },
  {
   "cell_type": "code",
   "execution_count": 24,
   "metadata": {
    "collapsed": true
   },
   "outputs": [],
   "source": [
    "arguments[\"ww_x_GPS\"] = \"-1\"  # this one is mandatory and always -1\n",
    "arguments[\"ww_i_reportModel\"] = \"133685247\"\n",
    "arguments[\"ww_i_reportModelXsl\"] = \"133685270\"\n",
    "arguments[\"ww_x_HIVERETE\"] = \"null\""
   ]
  },
  {
   "cell_type": "markdown",
   "metadata": {},
   "source": [
    "And specify only the IN section:"
   ]
  },
  {
   "cell_type": "code",
   "execution_count": 25,
   "metadata": {
    "collapsed": true
   },
   "outputs": [],
   "source": [
    "arguments[request_codes[\"Informatique\"][0]] = request_codes[\"Informatique\"][1]"
   ]
  },
  {
   "cell_type": "markdown",
   "metadata": {},
   "source": [
    "## Collection"
   ]
  },
  {
   "cell_type": "code",
   "execution_count": 30,
   "metadata": {
    "collapsed": false
   },
   "outputs": [],
   "source": [
    "def download_data(url, params, period_name, base_filename, year, semester, verbose=False):\n",
    "    \"\"\" Downloads data from URL with params and saves it to disk \"\"\"\n",
    "    filename = base_filename + '_%d_%s.csv' % (year, str(semester))\n",
    "    if path.isfile(filename):\n",
    "        if verbose: print(\"Already have file %s\" % filename)\n",
    "        return  # avoid unnecessary requests\n",
    "    \n",
    "    # translate period name into required parameters and do request\n",
    "    arguments[request_codes[period_name][0]] = request_codes[period_name][1]\n",
    "    r = requests.get(url, params=arguments)\n",
    "    try:\n",
    "        # data is in the first HTML <table>; first row is 'noise'\n",
    "        if verbose: print(\"Getting data %s...\" % filename, end=' ')\n",
    "        table = pd.read_html(r.text, flavor='lxml', skiprows=1, header=0)\n",
    "        if len(table) == 0:  # pandas didn't read any frame\n",
    "            if verbose: print(\"Period contains no data. Skipping...\")\n",
    "            return\n",
    "        table = table[0]\n",
    "        table = table.dropna(axis=1, how='all')  # remove empty columns\n",
    "        table['year']     = year\n",
    "        table['semester'] = semester\n",
    "        table.to_csv(filename)\n",
    "        if verbose: print(\"Saved period as %s\" % filename)\n",
    "    except ValueError as e:\n",
    "        # pandas couldn't read, i.e. there was no table to process\n",
    "        if verbose: print(\"Failed to read %s\" % filename)\n",
    "        pass"
   ]
  },
  {
   "cell_type": "code",
   "execution_count": 31,
   "metadata": {
    "collapsed": true
   },
   "outputs": [
    {
     "name": "stdout",
     "output_type": "stream",
     "text": [
      "Already have file data/bachelor_2007_1.csv\n",
      "Already have file data/bachelor_2007_5.csv\n",
      "Already have file data/bachelor_2007_6.csv\n",
      "Already have file data/master_2007_1.csv\n",
      "Already have file data/master_2007_2.csv\n",
      "Already have file data/master_2007_3.csv\n",
      "Getting data data/master_2007_4.csv... Failed to read data/master_2007_4.csv\n",
      "Already have file data/projet_master_2007_automne.csv\n",
      "Already have file data/projet_master_2007_printemps.csv\n",
      "Already have file data/bachelor_2008_1.csv\n",
      "Already have file data/bachelor_2008_5.csv\n",
      "Already have file data/bachelor_2008_6.csv\n",
      "Already have file data/master_2008_1.csv\n",
      "Already have file data/master_2008_2.csv\n",
      "Already have file data/master_2008_3.csv\n",
      "Getting data data/master_2008_4.csv... Failed to read data/master_2008_4.csv\n",
      "Already have file data/projet_master_2008_automne.csv\n",
      "Already have file data/projet_master_2008_printemps.csv\n",
      "Already have file data/bachelor_2009_1.csv\n",
      "Already have file data/bachelor_2009_5.csv\n",
      "Already have file data/bachelor_2009_6.csv\n",
      "Already have file data/master_2009_1.csv\n",
      "Already have file data/master_2009_2.csv\n",
      "Already have file data/master_2009_3.csv\n",
      "Getting data data/master_2009_4.csv... Failed to read data/master_2009_4.csv\n",
      "Already have file data/projet_master_2009_automne.csv\n",
      "Already have file data/projet_master_2009_printemps.csv\n",
      "Already have file data/bachelor_2010_1.csv\n",
      "Already have file data/bachelor_2010_5.csv\n",
      "Already have file data/bachelor_2010_6.csv\n",
      "Already have file data/master_2010_1.csv\n",
      "Already have file data/master_2010_2.csv\n",
      "Already have file data/master_2010_3.csv\n",
      "Getting data data/master_2010_4.csv... Failed to read data/master_2010_4.csv\n",
      "Already have file data/projet_master_2010_automne.csv\n",
      "Already have file data/projet_master_2010_printemps.csv\n",
      "Already have file data/bachelor_2011_1.csv\n",
      "Already have file data/bachelor_2011_5.csv\n",
      "Already have file data/bachelor_2011_6.csv\n",
      "Already have file data/master_2011_1.csv\n",
      "Already have file data/master_2011_2.csv\n",
      "Already have file data/master_2011_3.csv\n",
      "Getting data data/master_2011_4.csv... Failed to read data/master_2011_4.csv\n",
      "Already have file data/projet_master_2011_automne.csv\n",
      "Already have file data/projet_master_2011_printemps.csv\n",
      "Already have file data/bachelor_2012_1.csv\n",
      "Already have file data/bachelor_2012_5.csv\n",
      "Already have file data/bachelor_2012_6.csv\n",
      "Already have file data/master_2012_1.csv\n",
      "Already have file data/master_2012_2.csv\n",
      "Already have file data/master_2012_3.csv\n",
      "Getting data data/master_2012_4.csv... Failed to read data/master_2012_4.csv\n",
      "Already have file data/projet_master_2012_automne.csv\n",
      "Already have file data/projet_master_2012_printemps.csv\n",
      "Already have file data/bachelor_2013_1.csv\n",
      "Already have file data/bachelor_2013_5.csv\n",
      "Already have file data/bachelor_2013_6.csv\n",
      "Already have file data/master_2013_1.csv\n",
      "Already have file data/master_2013_2.csv\n",
      "Already have file data/master_2013_3.csv\n",
      "Getting data data/master_2013_4.csv... Failed to read data/master_2013_4.csv\n",
      "Already have file data/projet_master_2013_automne.csv\n",
      "Already have file data/projet_master_2013_printemps.csv\n",
      "Already have file data/bachelor_2014_1.csv\n",
      "Already have file data/bachelor_2014_5.csv\n",
      "Already have file data/bachelor_2014_6.csv\n",
      "Already have file data/master_2014_1.csv\n",
      "Already have file data/master_2014_2.csv\n",
      "Already have file data/master_2014_3.csv\n",
      "Getting data data/master_2014_4.csv... Failed to read data/master_2014_4.csv\n",
      "Already have file data/projet_master_2014_automne.csv\n",
      "Getting data data/projet_master_2014_printemps.csv... Period contains no data. Skipping...\n",
      "Already have file data/bachelor_2015_1.csv\n",
      "Already have file data/bachelor_2015_5.csv\n",
      "Already have file data/bachelor_2015_6.csv\n",
      "Already have file data/master_2015_1.csv\n",
      "Already have file data/master_2015_2.csv\n",
      "Already have file data/master_2015_3.csv\n",
      "Getting data data/master_2015_4.csv... Failed to read data/master_2015_4.csv\n",
      "Already have file data/projet_master_2015_automne.csv\n",
      "Getting data data/projet_master_2015_printemps.csv... Period contains no data. Skipping...\n",
      "Already have file data/bachelor_2016_1.csv\n",
      "Already have file data/bachelor_2016_5.csv\n",
      "Already have file data/bachelor_2016_6.csv\n",
      "Already have file data/master_2016_1.csv\n",
      "Already have file data/master_2016_2.csv\n",
      "Already have file data/master_2016_3.csv\n",
      "Getting data data/master_2016_4.csv... Failed to read data/master_2016_4.csv\n",
      "Already have file data/projet_master_2016_automne.csv\n",
      "Getting data data/projet_master_2016_printemps.csv... Period contains no data. Skipping...\n"
     ]
    }
   ],
   "source": [
    "bachelor_semesters = [1, 5, 6]    # we need the 5th to detect 4-5-6-5\n",
    "bachelor_base_file = \"data/bachelor\" \n",
    "\n",
    "master_semesters = [1, 2, 3, 4]   # though in the 4th there's no data\n",
    "master_base_file = 'data/master'\n",
    "\n",
    "project_semesters = ['automne', 'printemps']\n",
    "project_base_file = 'data/projet_master'\n",
    "\n",
    "for year in range(2007,2017):\n",
    "    # fill in params request: year\n",
    "    y_range = \"%d-%d\" % (year, year+1)\n",
    "    arguments[request_codes[y_range][0]] = request_codes[y_range][1]\n",
    "    for semester in bachelor_semesters:\n",
    "        # fill in params request: semester\n",
    "        academic_period = \"Bachelor semestre %d\" % semester\n",
    "        download_data(url, arguments, academic_period, bachelor_base_file, year, semester, verbose=True)\n",
    "\n",
    "    for semester in master_semesters:\n",
    "        academic_period = \"Master semestre %d\" % semester\n",
    "        download_data(url, arguments, academic_period, master_base_file  , year, semester, verbose=True)\n",
    "    \n",
    "    for semester in project_semesters:\n",
    "        academic_period = \"Projet Master %s\" % semester\n",
    "        download_data(url, arguments, academic_period, project_base_file , year, semester, verbose=True)"
   ]
  },
  {
   "cell_type": "markdown",
   "metadata": {},
   "source": [
    "### Let's take a look at a small sample"
   ]
  },
  {
   "cell_type": "code",
   "execution_count": 32,
   "metadata": {
    "collapsed": false
   },
   "outputs": [
    {
     "data": {
      "text/html": [
       "<div>\n",
       "<table border=\"1\" class=\"dataframe\">\n",
       "  <thead>\n",
       "    <tr style=\"text-align: right;\">\n",
       "      <th></th>\n",
       "      <th>Unnamed: 0</th>\n",
       "      <th>Civilité</th>\n",
       "      <th>Nom Prénom</th>\n",
       "      <th>No Sciper</th>\n",
       "      <th>year</th>\n",
       "      <th>semester</th>\n",
       "    </tr>\n",
       "  </thead>\n",
       "  <tbody>\n",
       "    <tr>\n",
       "      <th>0</th>\n",
       "      <td>0</td>\n",
       "      <td>Monsieur</td>\n",
       "      <td>Arévalo Christian</td>\n",
       "      <td>169569</td>\n",
       "      <td>2007</td>\n",
       "      <td>1</td>\n",
       "    </tr>\n",
       "    <tr>\n",
       "      <th>1</th>\n",
       "      <td>1</td>\n",
       "      <td>Monsieur</td>\n",
       "      <td>Aubelle Flavien</td>\n",
       "      <td>174905</td>\n",
       "      <td>2007</td>\n",
       "      <td>1</td>\n",
       "    </tr>\n",
       "    <tr>\n",
       "      <th>2</th>\n",
       "      <td>2</td>\n",
       "      <td>Monsieur</td>\n",
       "      <td>Badoud Morgan</td>\n",
       "      <td>173922</td>\n",
       "      <td>2007</td>\n",
       "      <td>1</td>\n",
       "    </tr>\n",
       "    <tr>\n",
       "      <th>3</th>\n",
       "      <td>3</td>\n",
       "      <td>Monsieur</td>\n",
       "      <td>Baeriswyl Jonathan</td>\n",
       "      <td>179406</td>\n",
       "      <td>2007</td>\n",
       "      <td>1</td>\n",
       "    </tr>\n",
       "    <tr>\n",
       "      <th>4</th>\n",
       "      <td>4</td>\n",
       "      <td>Monsieur</td>\n",
       "      <td>Barroco Michael</td>\n",
       "      <td>179428</td>\n",
       "      <td>2007</td>\n",
       "      <td>1</td>\n",
       "    </tr>\n",
       "  </tbody>\n",
       "</table>\n",
       "</div>"
      ],
      "text/plain": [
       "   Unnamed: 0  Civilité          Nom Prénom  No Sciper  year  semester\n",
       "0           0  Monsieur   Arévalo Christian     169569  2007         1\n",
       "1           1  Monsieur     Aubelle Flavien     174905  2007         1\n",
       "2           2  Monsieur       Badoud Morgan     173922  2007         1\n",
       "3           3  Monsieur  Baeriswyl Jonathan     179406  2007         1\n",
       "4           4  Monsieur     Barroco Michael     179428  2007         1"
      ]
     },
     "execution_count": 32,
     "metadata": {},
     "output_type": "execute_result"
    }
   ],
   "source": [
    "pd0 = pd.read_csv('data/bachelor_2007_1.csv')\n",
    "pd0.head()"
   ]
  },
  {
   "cell_type": "code",
   "execution_count": 22,
   "metadata": {
    "collapsed": false
   },
   "outputs": [
    {
     "data": {
      "text/html": [
       "<div>\n",
       "<table border=\"1\" class=\"dataframe\">\n",
       "  <thead>\n",
       "    <tr style=\"text-align: right;\">\n",
       "      <th></th>\n",
       "      <th>Unnamed: 0</th>\n",
       "      <th>Civilité</th>\n",
       "      <th>Nom Prénom</th>\n",
       "      <th>Spécialisation</th>\n",
       "      <th>Statut</th>\n",
       "      <th>Type Echange</th>\n",
       "      <th>Ecole Echange</th>\n",
       "      <th>No Sciper</th>\n",
       "      <th>year</th>\n",
       "      <th>semester</th>\n",
       "    </tr>\n",
       "  </thead>\n",
       "  <tbody>\n",
       "    <tr>\n",
       "      <th>0</th>\n",
       "      <td>0</td>\n",
       "      <td>Monsieur</td>\n",
       "      <td>Aeberhard François-Xavier</td>\n",
       "      <td>NaN</td>\n",
       "      <td>Présent</td>\n",
       "      <td>NaN</td>\n",
       "      <td>NaN</td>\n",
       "      <td>153066</td>\n",
       "      <td>2007</td>\n",
       "      <td>1</td>\n",
       "    </tr>\n",
       "    <tr>\n",
       "      <th>1</th>\n",
       "      <td>1</td>\n",
       "      <td>Madame</td>\n",
       "      <td>Agarwal Megha</td>\n",
       "      <td>NaN</td>\n",
       "      <td>Présent</td>\n",
       "      <td>NaN</td>\n",
       "      <td>NaN</td>\n",
       "      <td>180027</td>\n",
       "      <td>2007</td>\n",
       "      <td>1</td>\n",
       "    </tr>\n",
       "    <tr>\n",
       "      <th>2</th>\n",
       "      <td>2</td>\n",
       "      <td>Monsieur</td>\n",
       "      <td>Anagnostaras David</td>\n",
       "      <td>NaN</td>\n",
       "      <td>Présent</td>\n",
       "      <td>NaN</td>\n",
       "      <td>NaN</td>\n",
       "      <td>152232</td>\n",
       "      <td>2007</td>\n",
       "      <td>1</td>\n",
       "    </tr>\n",
       "    <tr>\n",
       "      <th>3</th>\n",
       "      <td>3</td>\n",
       "      <td>Monsieur</td>\n",
       "      <td>Auroux Damien</td>\n",
       "      <td>NaN</td>\n",
       "      <td>Présent</td>\n",
       "      <td>NaN</td>\n",
       "      <td>NaN</td>\n",
       "      <td>177395</td>\n",
       "      <td>2007</td>\n",
       "      <td>1</td>\n",
       "    </tr>\n",
       "    <tr>\n",
       "      <th>4</th>\n",
       "      <td>4</td>\n",
       "      <td>Monsieur</td>\n",
       "      <td>Awalebo Joseph</td>\n",
       "      <td>NaN</td>\n",
       "      <td>Présent</td>\n",
       "      <td>NaN</td>\n",
       "      <td>NaN</td>\n",
       "      <td>161970</td>\n",
       "      <td>2007</td>\n",
       "      <td>1</td>\n",
       "    </tr>\n",
       "  </tbody>\n",
       "</table>\n",
       "</div>"
      ],
      "text/plain": [
       "   Unnamed: 0  Civilité                 Nom Prénom Spécialisation   Statut  \\\n",
       "0           0  Monsieur  Aeberhard François-Xavier            NaN  Présent   \n",
       "1           1    Madame              Agarwal Megha            NaN  Présent   \n",
       "2           2  Monsieur         Anagnostaras David            NaN  Présent   \n",
       "3           3  Monsieur              Auroux Damien            NaN  Présent   \n",
       "4           4  Monsieur             Awalebo Joseph            NaN  Présent   \n",
       "\n",
       "  Type Echange Ecole Echange  No Sciper  year  semester  \n",
       "0          NaN           NaN     153066  2007         1  \n",
       "1          NaN           NaN     180027  2007         1  \n",
       "2          NaN           NaN     152232  2007         1  \n",
       "3          NaN           NaN     177395  2007         1  \n",
       "4          NaN           NaN     161970  2007         1  "
      ]
     },
     "execution_count": 22,
     "metadata": {},
     "output_type": "execute_result"
    }
   ],
   "source": [
    "pd1 = pd.read_csv(\"data/master_2007_1.csv\")\n",
    "pd1.head()"
   ]
  },
  {
   "cell_type": "code",
   "execution_count": 21,
   "metadata": {
    "collapsed": false
   },
   "outputs": [
    {
     "data": {
      "text/html": [
       "<div>\n",
       "<table border=\"1\" class=\"dataframe\">\n",
       "  <thead>\n",
       "    <tr style=\"text-align: right;\">\n",
       "      <th></th>\n",
       "      <th>Unnamed: 0</th>\n",
       "      <th>Civilité</th>\n",
       "      <th>Nom Prénom</th>\n",
       "      <th>Spécialisation</th>\n",
       "      <th>Statut</th>\n",
       "      <th>No Sciper</th>\n",
       "      <th>year</th>\n",
       "      <th>semester</th>\n",
       "    </tr>\n",
       "  </thead>\n",
       "  <tbody>\n",
       "    <tr>\n",
       "      <th>0</th>\n",
       "      <td>0</td>\n",
       "      <td>Monsieur</td>\n",
       "      <td>Brutsche Florian</td>\n",
       "      <td>Internet computing</td>\n",
       "      <td>Congé</td>\n",
       "      <td>159852</td>\n",
       "      <td>2007</td>\n",
       "      <td>printemps</td>\n",
       "    </tr>\n",
       "    <tr>\n",
       "      <th>1</th>\n",
       "      <td>1</td>\n",
       "      <td>Monsieur</td>\n",
       "      <td>Dotta Mirco</td>\n",
       "      <td>NaN</td>\n",
       "      <td>Stage</td>\n",
       "      <td>153819</td>\n",
       "      <td>2007</td>\n",
       "      <td>printemps</td>\n",
       "    </tr>\n",
       "    <tr>\n",
       "      <th>2</th>\n",
       "      <td>2</td>\n",
       "      <td>Monsieur</td>\n",
       "      <td>Hügli Michael</td>\n",
       "      <td>NaN</td>\n",
       "      <td>Stage</td>\n",
       "      <td>145957</td>\n",
       "      <td>2007</td>\n",
       "      <td>printemps</td>\n",
       "    </tr>\n",
       "    <tr>\n",
       "      <th>3</th>\n",
       "      <td>3</td>\n",
       "      <td>Monsieur</td>\n",
       "      <td>Indra Saurabh</td>\n",
       "      <td>NaN</td>\n",
       "      <td>Présent</td>\n",
       "      <td>173257</td>\n",
       "      <td>2007</td>\n",
       "      <td>printemps</td>\n",
       "    </tr>\n",
       "    <tr>\n",
       "      <th>4</th>\n",
       "      <td>4</td>\n",
       "      <td>Monsieur</td>\n",
       "      <td>Lépine Simon</td>\n",
       "      <td>Biocomputing</td>\n",
       "      <td>Présent</td>\n",
       "      <td>160150</td>\n",
       "      <td>2007</td>\n",
       "      <td>printemps</td>\n",
       "    </tr>\n",
       "  </tbody>\n",
       "</table>\n",
       "</div>"
      ],
      "text/plain": [
       "   Unnamed: 0  Civilité        Nom Prénom      Spécialisation   Statut  \\\n",
       "0           0  Monsieur  Brutsche Florian  Internet computing    Congé   \n",
       "1           1  Monsieur       Dotta Mirco                 NaN    Stage   \n",
       "2           2  Monsieur     Hügli Michael                 NaN    Stage   \n",
       "3           3  Monsieur     Indra Saurabh                 NaN  Présent   \n",
       "4           4  Monsieur      Lépine Simon        Biocomputing  Présent   \n",
       "\n",
       "   No Sciper  year   semester  \n",
       "0     159852  2007  printemps  \n",
       "1     153819  2007  printemps  \n",
       "2     145957  2007  printemps  \n",
       "3     173257  2007  printemps  \n",
       "4     160150  2007  printemps  "
      ]
     },
     "execution_count": 21,
     "metadata": {},
     "output_type": "execute_result"
    }
   ],
   "source": [
    "pd2 = pd.read_csv(\"data/projet_master_2007_printemps.csv\")\n",
    "pd2.head()"
   ]
  }
 ],
 "metadata": {
  "anaconda-cloud": {},
  "kernelspec": {
   "display_name": "Python [Root]",
   "language": "python",
   "name": "Python [Root]"
  },
  "language_info": {
   "codemirror_mode": {
    "name": "ipython",
    "version": 3
   },
   "file_extension": ".py",
   "mimetype": "text/x-python",
   "name": "python",
   "nbconvert_exporter": "python",
   "pygments_lexer": "ipython3",
   "version": "3.5.2"
  }
 },
 "nbformat": 4,
 "nbformat_minor": 0
}

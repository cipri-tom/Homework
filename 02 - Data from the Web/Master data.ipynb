{
 "cells": [
  {
   "cell_type": "code",
   "execution_count": null,
   "metadata": {
    "collapsed": true
   },
   "outputs": [],
   "source": [
    "#%load_ext soup\n",
    "import requests\n",
    "from bs4 import BeautifulSoup\n",
    "import pandas as pd\n",
    "from os import path"
   ]
  },
  {
   "cell_type": "code",
   "execution_count": null,
   "metadata": {
    "collapsed": true
   },
   "outputs": [],
   "source": [
    "url = \"http://isa.epfl.ch/imoniteur_ISAP/!GEDPUBLICREPORTS.filter?ww_i_reportModel=133685247\""
   ]
  },
  {
   "cell_type": "code",
   "execution_count": null,
   "metadata": {
    "collapsed": false
   },
   "outputs": [],
   "source": [
    "r = requests.get(url)\n",
    "isa_form = BeautifulSoup(r.text, 'html.parser')\n",
    "#print(isa_form.prettify())"
   ]
  },
  {
   "cell_type": "code",
   "execution_count": null,
   "metadata": {
    "collapsed": false
   },
   "outputs": [],
   "source": [
    "request_codes = {}\n",
    "for input in isa_form.find_all('select'):\n",
    "    for element in input.find_all('option'):\n",
    "        #print(element.text)\n",
    "        request_codes[element.text] = (input['name'], element['value'])"
   ]
  },
  {
   "cell_type": "code",
   "execution_count": null,
   "metadata": {
    "collapsed": true
   },
   "outputs": [],
   "source": [
    "arguments = {}\n",
    "arguments[\"ww_x_GPS\"] = \"-1\"\n",
    "arguments[\"ww_i_reportModel\"] = \"133685247\"\n",
    "arguments[\"ww_i_reportModelXsl\"] = \"133685270\"\n",
    "arguments[request_codes[\"Informatique\"][0]] = request_codes[\"Informatique\"][1]\n",
    "#arguments[request_codes[\"2007-2008\"][0]] = request_codes[\"2007-2008\"][1]\n",
    "arguments[request_codes[\"Bachelor semestre 1\"][0]] = request_codes[\"Bachelor semestre 1\"][1]\n",
    "arguments[\"ww_x_HIVERETE\"] = \"null\""
   ]
  },
  {
   "cell_type": "code",
   "execution_count": null,
   "metadata": {
    "collapsed": true
   },
   "outputs": [],
   "source": [
    "url = \"http://isa.epfl.ch/imoniteur_ISAP/!GEDPUBLICREPORTS.html?\"\n",
    "#r = requests.get(url, params=arguments)"
   ]
  },
  {
   "cell_type": "code",
   "execution_count": null,
   "metadata": {
    "collapsed": false
   },
   "outputs": [],
   "source": [
    "for year in range(2007,2017):\n",
    "    # fill in params request: year\n",
    "    y = str(year)+\"-\"+str(year+1)\n",
    "    arguments[request_codes[y][0]] = request_codes[y][1]\n",
    "    for semester in [1,2,3,4]:\n",
    "        # fill in params request: semester\n",
    "        b = \"Master semestre %d\" % semester\n",
    "        arguments[request_codes[b][0]] = request_codes[b][1]\n",
    "        # do request and save to file\n",
    "        filename = 'data/master_%d_%d.csv' % (year, semester)\n",
    "        #if not path.isfile(filename):\n",
    "        r = requests.get(url, params=arguments)\n",
    "        #print(r.headers)\n",
    "        #print(r.status_code)\n",
    "        try:\n",
    "            table = pd.read_html(r.text, flavor='lxml', skiprows=1, header=0)[0]\n",
    "            print(year, semester)\n",
    "            table = table.dropna(axis=1, how='all')\n",
    "            table['year'] = year\n",
    "            table['semester'] = semester\n",
    "            table.to_csv(filename)\n",
    "        except ValueError as e:\n",
    "            pass\n",
    "        "
   ]
  },
  {
   "cell_type": "code",
   "execution_count": null,
   "metadata": {
    "collapsed": false
   },
   "outputs": [],
   "source": [
    "for year in range(2007,2017):\n",
    "    # fill in params request: year\n",
    "    y = str(year)+\"-\"+str(year+1)\n",
    "    arguments[request_codes[y][0]] = request_codes[y][1]\n",
    "    for semester in [\"automne\",\"printemps\"]:\n",
    "        # fill in params request: semester\n",
    "        b = \"Projet Master %s\" % semester\n",
    "        arguments[request_codes[b][0]] = request_codes[b][1]\n",
    "        # do request and save to file\n",
    "        filename = 'data/projet_master_%d_%s.csv' % (year, semester)\n",
    "        #if not path.isfile(filename):\n",
    "        r = requests.get(url, params=arguments)\n",
    "        #print(r.headers)\n",
    "        #print(r.status_code)\n",
    "        try:\n",
    "            table = pd.read_html(r.text, flavor='lxml', skiprows=1, header=0)\n",
    "            if(len(table) != 0):\n",
    "                table[0] = table[0].dropna(axis=1, how='all')\n",
    "                table[0]['year'] = year\n",
    "                table[0]['semester'] = semester\n",
    "                print(str(year)+\" \"+semester)\n",
    "                table[0].to_csv(filename)\n",
    "        except ValueError as e:\n",
    "            pass"
   ]
  },
  {
   "cell_type": "code",
   "execution_count": null,
   "metadata": {
    "collapsed": false
   },
   "outputs": [],
   "source": [
    "# take a look at a small sample\n",
    "pd1 = pd.read_csv(\"data/master_2007_1.csv\")\n",
    "pd1.head()"
   ]
  },
  {
   "cell_type": "code",
   "execution_count": null,
   "metadata": {
    "collapsed": false
   },
   "outputs": [],
   "source": [
    "pd2 = pd.read_csv(\"data/projet_master_2007_printemps.csv\")\n",
    "pd2.head()"
   ]
  },
  {
   "cell_type": "code",
   "execution_count": null,
   "metadata": {
    "collapsed": true
   },
   "outputs": [],
   "source": []
  }
 ],
 "metadata": {
  "anaconda-cloud": {},
  "kernelspec": {
   "display_name": "Python [Root]",
   "language": "python",
   "name": "Python [Root]"
  },
  "language_info": {
   "codemirror_mode": {
    "name": "ipython",
    "version": 3
   },
   "file_extension": ".py",
   "mimetype": "text/x-python",
   "name": "python",
   "nbconvert_exporter": "python",
   "pygments_lexer": "ipython3",
   "version": "3.5.2"
  }
 },
 "nbformat": 4,
 "nbformat_minor": 0
}

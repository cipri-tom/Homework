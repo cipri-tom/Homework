{
 "cells": [
  {
   "cell_type": "code",
   "execution_count": 1,
   "metadata": {
    "collapsed": true
   },
   "outputs": [],
   "source": [
    "#%load_ext soup\n",
    "import requests\n",
    "from bs4 import BeautifulSoup\n",
    "import pandas as pd\n",
    "from os import path"
   ]
  },
  {
   "cell_type": "code",
   "execution_count": 2,
   "metadata": {
    "collapsed": true
   },
   "outputs": [],
   "source": [
    "url = \"http://isa.epfl.ch/imoniteur_ISAP/!GEDPUBLICREPORTS.filter?ww_i_reportModel=133685247\""
   ]
  },
  {
   "cell_type": "code",
   "execution_count": 3,
   "metadata": {
    "collapsed": true
   },
   "outputs": [],
   "source": [
    "r = requests.get(url)\n",
    "isa_form = BeautifulSoup(r.text, 'html.parser')"
   ]
  },
  {
   "cell_type": "code",
   "execution_count": 7,
   "metadata": {
    "collapsed": false
   },
   "outputs": [
    {
     "name": "stdout",
     "output_type": "stream",
     "text": [
      "\n",
      "Architecture\n",
      "Chimie et génie chimique\n",
      "Cours de mathématiques spéciales\n",
      "EME (EPFL Middle East)\n",
      "Génie civil\n",
      "Génie mécanique\n",
      "Génie électrique et électronique \n",
      "Humanités digitales\n",
      "Informatique\n",
      "Ingénierie financière\n",
      "Management de la technologie\n",
      "Mathématiques\n",
      "Microtechnique\n",
      "Physique\n",
      "Science et génie des matériaux\n",
      "Sciences et ingénierie de l'environnement\n",
      "Sciences et technologies du vivant\n",
      "Section FCUE\n",
      "Systèmes de communication\n",
      "\n",
      "2016-2017\n",
      "2015-2016\n",
      "2014-2015\n",
      "2013-2014\n",
      "2012-2013\n",
      "2011-2012\n",
      "2010-2011\n",
      "2009-2010\n",
      "2008-2009\n",
      "2007-2008\n",
      "\n",
      "Bachelor semestre 1\n",
      "Bachelor semestre 2\n",
      "Bachelor semestre 3\n",
      "Bachelor semestre 4\n",
      "Bachelor semestre 5\n",
      "Bachelor semestre 5b\n",
      "Bachelor semestre 6\n",
      "Bachelor semestre 6b\n",
      "Master semestre 1\n",
      "Master semestre 2\n",
      "Master semestre 3\n",
      "Master semestre 4\n",
      "Mineur semestre 1\n",
      "Mineur semestre 2\n",
      "Mise à niveau\n",
      "Projet Master automne\n",
      "Projet Master printemps\n",
      "Semestre automne\n",
      "Semestre printemps\n",
      "Stage automne 3ème année\n",
      "Stage automne 4ème année\n",
      "Stage printemps 3ème année\n",
      "Stage printemps 4ème année\n",
      "Stage printemps master\n",
      "\n",
      "Semestre d'automne\n",
      "Semestre de printemps\n"
     ]
    }
   ],
   "source": [
    "request_codes = {}\n",
    "for input in isa_form.find_all('select'):\n",
    "    for element in input.find_all('option'):\n",
    "        print(element.text)\n",
    "        request_codes[element.text] = (input['name'], element['value'])"
   ]
  },
  {
   "cell_type": "code",
   "execution_count": 5,
   "metadata": {
    "collapsed": true
   },
   "outputs": [],
   "source": [
    "arguments = {}\n",
    "arguments[\"ww_x_GPS\"] = \"-1\"\n",
    "arguments[\"ww_i_reportModel\"] = \"133685247\"\n",
    "arguments[\"ww_i_reportModelXsl\"] = \"133685270\"\n",
    "arguments[request_codes[\"Informatique\"][0]] = request_codes[\"Informatique\"][1]\n",
    "#arguments[request_codes[\"2007-2008\"][0]] = request_codes[\"2007-2008\"][1]\n",
    "#arguments[request_codes[\"Bachelor semestre 1\"][0]] = request_codes[\"Bachelor semestre 1\"][1]\n",
    "arguments[\"ww_x_HIVERETE\"] = \"null\""
   ]
  },
  {
   "cell_type": "code",
   "execution_count": 6,
   "metadata": {
    "collapsed": true
   },
   "outputs": [],
   "source": [
    "url = \"http://isa.epfl.ch/imoniteur_ISAP/!GEDPUBLICREPORTS.html?\"\n",
    "r = requests.get(url, params=arguments)"
   ]
  },
  {
   "cell_type": "code",
   "execution_count": 14,
   "metadata": {
    "collapsed": false
   },
   "outputs": [
    {
     "name": "stdout",
     "output_type": "stream",
     "text": [
      "200\n",
      "1\n",
      "200\n",
      "1\n",
      "200\n",
      "1\n",
      "200\n",
      "200\n",
      "1\n",
      "200\n",
      "1\n",
      "200\n",
      "1\n",
      "200\n",
      "200\n",
      "1\n",
      "200\n",
      "1\n",
      "200\n",
      "1\n",
      "200\n",
      "200\n",
      "1\n",
      "200\n",
      "1\n",
      "200\n",
      "1\n",
      "200\n",
      "200\n",
      "1\n",
      "200\n",
      "1\n",
      "200\n",
      "1\n",
      "200\n",
      "200\n",
      "1\n",
      "200\n",
      "1\n",
      "200\n",
      "1\n",
      "200\n",
      "200\n",
      "1\n",
      "200\n",
      "1\n",
      "200\n",
      "1\n",
      "200\n",
      "200\n",
      "1\n",
      "200\n",
      "1\n",
      "200\n",
      "1\n",
      "200\n",
      "200\n",
      "1\n",
      "200\n",
      "1\n",
      "200\n",
      "1\n",
      "200\n",
      "200\n",
      "1\n",
      "200\n",
      "1\n",
      "200\n",
      "1\n",
      "200\n"
     ]
    }
   ],
   "source": [
    "for year in range(2007,2017):\n",
    "    # fill in params request: year\n",
    "    y = str(year)+\"-\"+str(year+1)\n",
    "    arguments[request_codes[y][0]] = request_codes[y][1]\n",
    "    for semester in [1,2,3,4]:\n",
    "        # fill in params request: semester\n",
    "        b = \"Master semestre %d\" % semester\n",
    "        arguments[request_codes[b][0]] = request_codes[b][1]\n",
    "        # do request and save to file\n",
    "        filename = 'data/master_%d_%d.csv' % (year, semester)\n",
    "        if not path.isfile(filename):\n",
    "            r = requests.get(url, params=arguments)\n",
    "            #print(r.headers)\n",
    "            print(r.status_code)\n",
    "            try:\n",
    "                table = pd.read_html(r.text, flavor='lxml', skiprows=1, header=0)[0]\n",
    "                table.to_csv(filename)\n",
    "            except ValueError as e:\n",
    "                pass\n",
    "        "
   ]
  },
  {
   "cell_type": "code",
   "execution_count": 36,
   "metadata": {
    "collapsed": false
   },
   "outputs": [
    {
     "name": "stdout",
     "output_type": "stream",
     "text": [
      "2007 automne\n",
      "2007 printemps\n",
      "2008 automne\n",
      "2008 printemps\n",
      "2009 automne\n",
      "2009 printemps\n",
      "2010 automne\n",
      "2010 printemps\n",
      "2011 automne\n",
      "2011 printemps\n",
      "2012 automne\n",
      "2012 printemps\n",
      "2013 automne\n",
      "2013 printemps\n",
      "2014 automne\n",
      "2015 automne\n",
      "2016 automne\n"
     ]
    }
   ],
   "source": [
    "for year in range(2007,2017):\n",
    "    # fill in params request: year\n",
    "    y = str(year)+\"-\"+str(year+1)\n",
    "    arguments[request_codes[y][0]] = request_codes[y][1]\n",
    "    for semester in [\"automne\",\"printemps\"]:\n",
    "        # fill in params request: semester\n",
    "        b = \"Projet Master %s\" % semester\n",
    "        arguments[request_codes[b][0]] = request_codes[b][1]\n",
    "        # do request and save to file\n",
    "        filename = 'data/projet_master_%d_%s.csv' % (year, semester)\n",
    "        if not path.isfile(filename):\n",
    "            r = requests.get(url, params=arguments)\n",
    "            #print(r.headers)\n",
    "            #print(r.status_code)\n",
    "            try:\n",
    "                table = pd.read_html(r.text, flavor='lxml', skiprows=1, header=0)\n",
    "                if(len(table) != 0):\n",
    "                    print(str(year)+\" \"+semester)\n",
    "                    table[0].to_csv(filename)\n",
    "            except ValueError as e:\n",
    "                pass"
   ]
  },
  {
   "cell_type": "code",
   "execution_count": 19,
   "metadata": {
    "collapsed": false
   },
   "outputs": [
    {
     "data": {
      "text/html": [
       "<div>\n",
       "<table border=\"1\" class=\"dataframe\">\n",
       "  <thead>\n",
       "    <tr style=\"text-align: right;\">\n",
       "      <th></th>\n",
       "      <th>Unnamed: 0</th>\n",
       "      <th>Civilité</th>\n",
       "      <th>Nom Prénom</th>\n",
       "      <th>Orientation Bachelor</th>\n",
       "      <th>Orientation Master</th>\n",
       "      <th>Spécialisation</th>\n",
       "      <th>Filière opt.</th>\n",
       "      <th>Mineur</th>\n",
       "      <th>Statut</th>\n",
       "      <th>Type Echange</th>\n",
       "      <th>Ecole Echange</th>\n",
       "      <th>No Sciper</th>\n",
       "      <th>Unnamed: 11</th>\n",
       "    </tr>\n",
       "  </thead>\n",
       "  <tbody>\n",
       "    <tr>\n",
       "      <th>0</th>\n",
       "      <td>0</td>\n",
       "      <td>Monsieur</td>\n",
       "      <td>Aeberhard François-Xavier</td>\n",
       "      <td>NaN</td>\n",
       "      <td>NaN</td>\n",
       "      <td>NaN</td>\n",
       "      <td>NaN</td>\n",
       "      <td>NaN</td>\n",
       "      <td>Présent</td>\n",
       "      <td>NaN</td>\n",
       "      <td>NaN</td>\n",
       "      <td>153066</td>\n",
       "      <td>NaN</td>\n",
       "    </tr>\n",
       "    <tr>\n",
       "      <th>1</th>\n",
       "      <td>1</td>\n",
       "      <td>Madame</td>\n",
       "      <td>Agarwal Megha</td>\n",
       "      <td>NaN</td>\n",
       "      <td>NaN</td>\n",
       "      <td>NaN</td>\n",
       "      <td>NaN</td>\n",
       "      <td>NaN</td>\n",
       "      <td>Présent</td>\n",
       "      <td>NaN</td>\n",
       "      <td>NaN</td>\n",
       "      <td>180027</td>\n",
       "      <td>NaN</td>\n",
       "    </tr>\n",
       "    <tr>\n",
       "      <th>2</th>\n",
       "      <td>2</td>\n",
       "      <td>Monsieur</td>\n",
       "      <td>Anagnostaras David</td>\n",
       "      <td>NaN</td>\n",
       "      <td>NaN</td>\n",
       "      <td>NaN</td>\n",
       "      <td>NaN</td>\n",
       "      <td>NaN</td>\n",
       "      <td>Présent</td>\n",
       "      <td>NaN</td>\n",
       "      <td>NaN</td>\n",
       "      <td>152232</td>\n",
       "      <td>NaN</td>\n",
       "    </tr>\n",
       "    <tr>\n",
       "      <th>3</th>\n",
       "      <td>3</td>\n",
       "      <td>Monsieur</td>\n",
       "      <td>Auroux Damien</td>\n",
       "      <td>NaN</td>\n",
       "      <td>NaN</td>\n",
       "      <td>NaN</td>\n",
       "      <td>NaN</td>\n",
       "      <td>NaN</td>\n",
       "      <td>Présent</td>\n",
       "      <td>NaN</td>\n",
       "      <td>NaN</td>\n",
       "      <td>177395</td>\n",
       "      <td>NaN</td>\n",
       "    </tr>\n",
       "    <tr>\n",
       "      <th>4</th>\n",
       "      <td>4</td>\n",
       "      <td>Monsieur</td>\n",
       "      <td>Awalebo Joseph</td>\n",
       "      <td>NaN</td>\n",
       "      <td>NaN</td>\n",
       "      <td>NaN</td>\n",
       "      <td>NaN</td>\n",
       "      <td>NaN</td>\n",
       "      <td>Présent</td>\n",
       "      <td>NaN</td>\n",
       "      <td>NaN</td>\n",
       "      <td>161970</td>\n",
       "      <td>NaN</td>\n",
       "    </tr>\n",
       "  </tbody>\n",
       "</table>\n",
       "</div>"
      ],
      "text/plain": [
       "   Unnamed: 0  Civilité                 Nom Prénom  Orientation Bachelor  \\\n",
       "0           0  Monsieur  Aeberhard François-Xavier                   NaN   \n",
       "1           1    Madame              Agarwal Megha                   NaN   \n",
       "2           2  Monsieur         Anagnostaras David                   NaN   \n",
       "3           3  Monsieur              Auroux Damien                   NaN   \n",
       "4           4  Monsieur             Awalebo Joseph                   NaN   \n",
       "\n",
       "   Orientation Master Spécialisation  Filière opt.  Mineur   Statut  \\\n",
       "0                 NaN            NaN           NaN     NaN  Présent   \n",
       "1                 NaN            NaN           NaN     NaN  Présent   \n",
       "2                 NaN            NaN           NaN     NaN  Présent   \n",
       "3                 NaN            NaN           NaN     NaN  Présent   \n",
       "4                 NaN            NaN           NaN     NaN  Présent   \n",
       "\n",
       "  Type Echange Ecole Echange  No Sciper  Unnamed: 11  \n",
       "0          NaN           NaN     153066          NaN  \n",
       "1          NaN           NaN     180027          NaN  \n",
       "2          NaN           NaN     152232          NaN  \n",
       "3          NaN           NaN     177395          NaN  \n",
       "4          NaN           NaN     161970          NaN  "
      ]
     },
     "execution_count": 19,
     "metadata": {},
     "output_type": "execute_result"
    }
   ],
   "source": [
    "pd1 = pd.read_csv(\"data/master_2007_1.csv\")\n",
    "pd1.head(5)"
   ]
  },
  {
   "cell_type": "code",
   "execution_count": null,
   "metadata": {
    "collapsed": true
   },
   "outputs": [],
   "source": [
    "pd2 = pd.read_csv(\"data/projet_master_2009_automne.csv\")\n",
    "p"
   ]
  }
 ],
 "metadata": {
  "anaconda-cloud": {},
  "kernelspec": {
   "display_name": "Python [Root]",
   "language": "python",
   "name": "Python [Root]"
  },
  "language_info": {
   "codemirror_mode": {
    "name": "ipython",
    "version": 3
   },
   "file_extension": ".py",
   "mimetype": "text/x-python",
   "name": "python",
   "nbconvert_exporter": "python",
   "pygments_lexer": "ipython3",
   "version": "3.5.2"
  }
 },
 "nbformat": 4,
 "nbformat_minor": 0
}

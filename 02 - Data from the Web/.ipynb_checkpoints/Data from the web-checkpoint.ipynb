{
 "cells": [
  {
   "cell_type": "code",
   "execution_count": 1,
   "metadata": {
    "collapsed": false
   },
   "outputs": [
    {
     "name": "stdout",
     "output_type": "stream",
     "text": [
      "Monkey patch BeautifulSoup with custom rendering\n",
      "See `configure_ipython_beautifulsoup?` for configuration information\n",
      "Push 'BeautifulSoup' from 'bs4' into current context\n",
      "Push 'urlopen' from 'urllib.request' into current context\n",
      "Push 'p' shortcut into current context\n",
      "Push 'requests' into current context\n"
     ]
    }
   ],
   "source": [
    "%load_ext soup"
   ]
  },
  {
   "cell_type": "code",
   "execution_count": 2,
   "metadata": {
    "collapsed": true
   },
   "outputs": [],
   "source": [
    "url = \"http://isa.epfl.ch/imoniteur_ISAP/!GEDPUBLICREPORTS.filter?ww_i_reportModel=133685247\"\n",
    "configure_ipython_beautifulsoup(show_html=True, show_css=True, show_js=False)"
   ]
  },
  {
   "cell_type": "code",
   "execution_count": 3,
   "metadata": {
    "collapsed": false
   },
   "outputs": [],
   "source": [
    "r = requests.get(url)\n",
    "soup = BeautifulSoup(r.text, 'html.parser')"
   ]
  },
  {
   "cell_type": "code",
   "execution_count": 4,
   "metadata": {
    "collapsed": false
   },
   "outputs": [],
   "source": [
    "request_codes = {}\n",
    "for input in soup.find_all('input'):\n",
    "    for element in input.find_all('option'):\n",
    "        request_codes[element.text] = (input['name'], element['value'])"
   ]
  },
  {
   "cell_type": "code",
   "execution_count": 5,
   "metadata": {
    "collapsed": false
   },
   "outputs": [
    {
     "data": {
      "text/plain": [
       "{'ww_i_reportModelXsl': 133685270,\n",
       " 'ww_x_GPS': '-1',\n",
       " 'ww_x_HIVERETE': 'null',\n",
       " 'zz_x_PERIODE_ACAD': '978181',\n",
       " 'zz_x_PERIODE_PEDAGO': '249108',\n",
       " 'zz_x_UNITE_ACAD': '249847'}"
      ]
     },
     "execution_count": 5,
     "metadata": {},
     "output_type": "execute_result"
    }
   ],
   "source": [
    "arguments = {}\n",
    "arguments[\"ww_x_GPS\"] = \"-1\"\n",
    "arguments[\"ww_i_reportModel\"] = \"133685247\"\n",
    "arguments[\"ww_i_reportModelXsl\"] = \"133685270\"\n",
    "arguments[request_codes[\"Informatique\"][0]] = request_codes[\"Informatique\"][1]\n",
    "arguments[request_codes[\"2007-2008\"][0]] = request_codes[\"2007-2008\"][1]\n",
    "arguments[request_codes[\"Bachelor semestre 1\"][0]] = request_codes[\"Bachelor semestre 1\"][1]\n",
    "arguments[\"ww_x_HIVERETE\"] = \"null\""
   ]
  },
  {
   "cell_type": "code",
   "execution_count": null,
   "metadata": {
    "collapsed": false
   },
   "outputs": [],
   "source": [
    "url = \"http://isa.epfl.ch/imoniteur_ISAP/!GEDPUBLICREPORTS.html?\"\n",
    "url = \"http://isa.epfl.ch/imoniteur_ISAP/!GEDPUBLICREPORTS.html?ww_x_GPS=71297531&ww_i_reportModel=133685247&ww_i_reportModelXsl=133685270&ww_x_UNITE_ACAD=249847&ww_x_PERIODE_ACAD=978181&ww_x_PERIODE_PEDAGO=249108&ww_x_HIVERETE=null\"\n",
    "#r = requests.get(url, params=arguments)\n",
    "r = requests.get(url)\n",
    "print(r.text)"
   ]
  },
  {
   "cell_type": "code",
   "execution_count": null,
   "metadata": {
    "collapsed": true
   },
   "outputs": [],
   "source": []
  }
 ],
 "metadata": {
  "kernelspec": {
   "display_name": "Python [Root]",
   "language": "python",
   "name": "Python [Root]"
  },
  "language_info": {
   "codemirror_mode": {
    "name": "ipython",
    "version": 3
   },
   "file_extension": ".py",
   "mimetype": "text/x-python",
   "name": "python",
   "nbconvert_exporter": "python",
   "pygments_lexer": "ipython3",
   "version": "3.5.2"
  }
 },
 "nbformat": 4,
 "nbformat_minor": 0
}

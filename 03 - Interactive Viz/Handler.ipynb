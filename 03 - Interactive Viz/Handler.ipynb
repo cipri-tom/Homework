{
 "cells": [
  {
   "cell_type": "markdown",
   "metadata": {},
   "source": [
    "# Homework 3 -- Cloropleth map of grants in Swiss universities"
   ]
  },
  {
   "cell_type": "code",
   "execution_count": 1,
   "metadata": {
    "collapsed": false
   },
   "outputs": [],
   "source": [
    "# imports and all that\n",
    "import pandas as pd\n",
    "import requests\n",
    "from bs4 import BeautifulSoup\n",
    "import os.path\n",
    "import os, random\n",
    "import time"
   ]
  },
  {
   "cell_type": "markdown",
   "metadata": {},
   "source": [
    "### Data wrangling"
   ]
  },
  {
   "cell_type": "code",
   "execution_count": 2,
   "metadata": {
    "collapsed": false
   },
   "outputs": [
    {
     "data": {
      "text/plain": [
       "(48464, 8)"
      ]
     },
     "execution_count": 2,
     "metadata": {},
     "output_type": "execute_result"
    }
   ],
   "source": [
    "grants = pd.read_csv(\"data/P3_GrantExport.csv\", sep=';', index_col=0)\n",
    "grants.size\n",
    "grants.shape"
   ]
  },
  {
   "cell_type": "markdown",
   "metadata": {},
   "source": [
    "We'll try to reduce the dataset by removing the entries that are not in CH and irrelevant columns. The foreign institutes don't have a valid entry in `University` field\n",
    "\n",
    "These changes can be safely persisted in the file, as it will not influence the data we work with."
   ]
  },
  {
   "cell_type": "code",
   "execution_count": 3,
   "metadata": {
    "collapsed": false
   },
   "outputs": [
    {
     "data": {
      "text/plain": [
       "(48283, 8)"
      ]
     },
     "execution_count": 3,
     "metadata": {},
     "output_type": "execute_result"
    }
   ],
   "source": [
    "grants = grants[(grants.University.notnull()) & (grants.University != \"Nicht zuteilbar - NA\")]\n",
    "grants = grants.drop(axis=1, errors='ignore', labels=['Project Title', 'Project Title English',\n",
    "            'Responsible Applicant', 'Funding Instrument', 'Funding Instrument Hierarchy', 'Keywords'])\n",
    "\n",
    "grants.dtypes\n",
    "grants.shape"
   ]
  },
  {
   "cell_type": "markdown",
   "metadata": {},
   "source": [
    "Some entries in the Approved Amount column are not numeric so they are being dropped"
   ]
  },
  {
   "cell_type": "code",
   "execution_count": 4,
   "metadata": {
    "collapsed": false
   },
   "outputs": [
    {
     "data": {
      "text/plain": [
       "(48283, 8)"
      ]
     },
     "execution_count": 4,
     "metadata": {},
     "output_type": "execute_result"
    }
   ],
   "source": [
    "grants['Approved Amount'] = pd.to_numeric(grants['Approved Amount'], errors='coerce')\n",
    "grants = grants[grants['Approved Amount'].notnull()]\n",
    "grants.shape"
   ]
  },
  {
   "cell_type": "code",
   "execution_count": 5,
   "metadata": {
    "collapsed": true
   },
   "outputs": [],
   "source": [
    "# Run if you want to update the csv\n",
    "#grants.to_csv(\"data/P3_GrantExport.csv\", sep=';') # keep the same sep"
   ]
  },
  {
   "cell_type": "markdown",
   "metadata": {},
   "source": [
    "We will group the results on university and combinate those with the NPO category that cannot be grouped on university.\n",
    "This will allow us to llopu either the university or the institute to find a location."
   ]
  },
  {
   "cell_type": "code",
   "execution_count": 6,
   "metadata": {
    "collapsed": false,
    "scrolled": true
   },
   "outputs": [
    {
     "data": {
      "text/plain": [
       "(75, 2)"
      ]
     },
     "execution_count": 6,
     "metadata": {},
     "output_type": "execute_result"
    }
   ],
   "source": [
    "universities = grants.groupby('University')\n",
    "universities = universities.agg({'Approved Amount':'sum'}).reset_index()\n",
    "universities = universities[~universities.University.str.startswith(\"NPO\")]\n",
    "universities.columns = ['Institution', 'Approved Amount']\n",
    "universities.shape"
   ]
  },
  {
   "cell_type": "code",
   "execution_count": 7,
   "metadata": {
    "collapsed": false
   },
   "outputs": [
    {
     "data": {
      "text/plain": [
       "(450, 2)"
      ]
     },
     "execution_count": 7,
     "metadata": {},
     "output_type": "execute_result"
    }
   ],
   "source": [
    "institutes = grants[grants.University.str.startswith(\"NPO\")]\n",
    "institutes = institutes.groupby('Institution').agg({'Approved Amount':'sum'}).reset_index()\n",
    "institutes.shape"
   ]
  },
  {
   "cell_type": "markdown",
   "metadata": {},
   "source": [
    "Combine the two dataframes"
   ]
  },
  {
   "cell_type": "code",
   "execution_count": 8,
   "metadata": {
    "collapsed": false
   },
   "outputs": [],
   "source": [
    "frame = pd.concat([universities, institutes])"
   ]
  },
  {
   "cell_type": "markdown",
   "metadata": {},
   "source": [
    "### Find location of institutes"
   ]
  },
  {
   "cell_type": "markdown",
   "metadata": {},
   "source": [
    "Use Google API to find the location corresponding to the university. This will only run once and save the results of the requests into a file."
   ]
  },
  {
   "cell_type": "code",
   "execution_count": 9,
   "metadata": {
    "collapsed": false
   },
   "outputs": [
    {
     "name": "stdout",
     "output_type": "stream",
     "text": [
      "File already exists data/requests.txt\n"
     ]
    }
   ],
   "source": [
    "google_key=\"0\" #todo insert google api key\n",
    "data = 'data/requests.txt'\n",
    "url = \"https://maps.googleapis.com/maps/api/place/textsearch/xml?key=\"+google_key+\"&query=\"\n",
    "\n",
    "def get_city(row):\n",
    "    r = requests.get(url+row.Institution)\n",
    "    with open(data, \"a\") as myfile:\n",
    "        myfile.write(r.text)\n",
    "                \n",
    "if not os.path.isfile(data): \n",
    "    print(\"Creating file %s\" % data)\n",
    "    with open(data, \"a\") as myfile:\n",
    "        myfile.write(\"<?xml version=\\\"1.0\\\" encoding=\\\"UTF-8\\\"?><results>\")\n",
    "    frame.apply(get_city, axis=1)\n",
    "    with open(data, \"a\") as myfile:\n",
    "        myfile.write(\"</results>\")\n",
    "else:\n",
    "    print(\"File already exists %s\" %data)"
   ]
  },
  {
   "cell_type": "markdown",
   "metadata": {},
   "source": [
    "Load the results for the google requests and filter out the postalcodes of the Universities location. This will later be used to find the canton."
   ]
  },
  {
   "cell_type": "code",
   "execution_count": 10,
   "metadata": {
    "collapsed": false
   },
   "outputs": [
    {
     "data": {
      "text/html": [
       "<div>\n",
       "<table border=\"1\" class=\"dataframe\">\n",
       "  <thead>\n",
       "    <tr style=\"text-align: right;\">\n",
       "      <th></th>\n",
       "      <th>Institution</th>\n",
       "      <th>Approved Amount</th>\n",
       "      <th>postalcode</th>\n",
       "    </tr>\n",
       "  </thead>\n",
       "  <tbody>\n",
       "    <tr>\n",
       "      <th>0</th>\n",
       "      <td>AO Research Institute - AORI</td>\n",
       "      <td>3.435621e+06</td>\n",
       "      <td>None</td>\n",
       "    </tr>\n",
       "    <tr>\n",
       "      <th>1</th>\n",
       "      <td>Allergie- und Asthmaforschung - SIAF</td>\n",
       "      <td>1.916996e+07</td>\n",
       "      <td>None</td>\n",
       "    </tr>\n",
       "    <tr>\n",
       "      <th>2</th>\n",
       "      <td>Berner Fachhochschule - BFH</td>\n",
       "      <td>3.102870e+07</td>\n",
       "      <td>None</td>\n",
       "    </tr>\n",
       "    <tr>\n",
       "      <th>3</th>\n",
       "      <td>Biotechnologie Institut Thurgau - BITG</td>\n",
       "      <td>2.492535e+06</td>\n",
       "      <td>None</td>\n",
       "    </tr>\n",
       "    <tr>\n",
       "      <th>4</th>\n",
       "      <td>Centre de rech. sur l'environnement alpin - CR...</td>\n",
       "      <td>1.567678e+06</td>\n",
       "      <td>3012</td>\n",
       "    </tr>\n",
       "    <tr>\n",
       "      <th>5</th>\n",
       "      <td>EPF Lausanne - EPFL</td>\n",
       "      <td>1.175316e+09</td>\n",
       "      <td>3401</td>\n",
       "    </tr>\n",
       "    <tr>\n",
       "      <th>6</th>\n",
       "      <td>ETH Zürich - ETHZ</td>\n",
       "      <td>1.635597e+09</td>\n",
       "      <td>8280</td>\n",
       "    </tr>\n",
       "    <tr>\n",
       "      <th>7</th>\n",
       "      <td>Eidg. Anstalt für Wasserversorgung - EAWAG</td>\n",
       "      <td>7.461922e+07</td>\n",
       "      <td>4003</td>\n",
       "    </tr>\n",
       "    <tr>\n",
       "      <th>8</th>\n",
       "      <td>Eidg. Forschungsanstalt für Wald,Schnee,Land -...</td>\n",
       "      <td>4.836039e+07</td>\n",
       "      <td>1950</td>\n",
       "    </tr>\n",
       "    <tr>\n",
       "      <th>9</th>\n",
       "      <td>Eidg. Hochschulinstitut für Berufsbildung - EHB</td>\n",
       "      <td>2.086572e+06</td>\n",
       "      <td>None</td>\n",
       "    </tr>\n",
       "  </tbody>\n",
       "</table>\n",
       "</div>"
      ],
      "text/plain": [
       "                                         Institution  Approved Amount  \\\n",
       "0                       AO Research Institute - AORI     3.435621e+06   \n",
       "1               Allergie- und Asthmaforschung - SIAF     1.916996e+07   \n",
       "2                        Berner Fachhochschule - BFH     3.102870e+07   \n",
       "3             Biotechnologie Institut Thurgau - BITG     2.492535e+06   \n",
       "4  Centre de rech. sur l'environnement alpin - CR...     1.567678e+06   \n",
       "5                                EPF Lausanne - EPFL     1.175316e+09   \n",
       "6                                  ETH Zürich - ETHZ     1.635597e+09   \n",
       "7         Eidg. Anstalt für Wasserversorgung - EAWAG     7.461922e+07   \n",
       "8  Eidg. Forschungsanstalt für Wald,Schnee,Land -...     4.836039e+07   \n",
       "9    Eidg. Hochschulinstitut für Berufsbildung - EHB     2.086572e+06   \n",
       "\n",
       "  postalcode  \n",
       "0       None  \n",
       "1       None  \n",
       "2       None  \n",
       "3       None  \n",
       "4       3012  \n",
       "5       3401  \n",
       "6       8280  \n",
       "7       4003  \n",
       "8       1950  \n",
       "9       None  "
      ]
     },
     "execution_count": 10,
     "metadata": {},
     "output_type": "execute_result"
    }
   ],
   "source": [
    "results = BeautifulSoup(open(data, encoding=\"latin_1\"), \"xml\")\n",
    "frame['postalcode'] = 'None'\n",
    "i = 0\n",
    "for response in results.find_all('PlaceSearchResponse'):\n",
    "    result = response.find('result')\n",
    "    if result != None:\n",
    "        city = result.find('formatted_address').text\n",
    "        if \"Switzerland\" in city:\n",
    "            pc = str(city[city.index(',')+2:city.index(',')+6])\n",
    "            if (pc.isdigit()):\n",
    "                frame.set_value(i, 'postalcode', pc)\n",
    "            else:\n",
    "                frame.set_value(i, 'postalcode', city)\n",
    "    i += 1\n",
    "frame.head(10)"
   ]
  },
  {
   "cell_type": "markdown",
   "metadata": {},
   "source": [
    "For the universities that were found we will use the geonames api to find the canton based on the postalcode."
   ]
  },
  {
   "cell_type": "code",
   "execution_count": 11,
   "metadata": {
    "collapsed": false
   },
   "outputs": [
    {
     "data": {
      "text/html": [
       "<div>\n",
       "<table border=\"1\" class=\"dataframe\">\n",
       "  <thead>\n",
       "    <tr style=\"text-align: right;\">\n",
       "      <th></th>\n",
       "      <th>Institution</th>\n",
       "      <th>Approved Amount</th>\n",
       "      <th>postalcode</th>\n",
       "      <th>canton</th>\n",
       "    </tr>\n",
       "  </thead>\n",
       "  <tbody>\n",
       "    <tr>\n",
       "      <th>0</th>\n",
       "      <td>AO Research Institute - AORI</td>\n",
       "      <td>3.435621e+06</td>\n",
       "      <td>None</td>\n",
       "      <td>None</td>\n",
       "    </tr>\n",
       "    <tr>\n",
       "      <th>1</th>\n",
       "      <td>Allergie- und Asthmaforschung - SIAF</td>\n",
       "      <td>1.916996e+07</td>\n",
       "      <td>None</td>\n",
       "      <td>None</td>\n",
       "    </tr>\n",
       "    <tr>\n",
       "      <th>2</th>\n",
       "      <td>Berner Fachhochschule - BFH</td>\n",
       "      <td>3.102870e+07</td>\n",
       "      <td>None</td>\n",
       "      <td>None</td>\n",
       "    </tr>\n",
       "    <tr>\n",
       "      <th>3</th>\n",
       "      <td>Biotechnologie Institut Thurgau - BITG</td>\n",
       "      <td>2.492535e+06</td>\n",
       "      <td>None</td>\n",
       "      <td>None</td>\n",
       "    </tr>\n",
       "    <tr>\n",
       "      <th>4</th>\n",
       "      <td>Centre de rech. sur l'environnement alpin - CR...</td>\n",
       "      <td>1.567678e+06</td>\n",
       "      <td>3012</td>\n",
       "      <td>BE</td>\n",
       "    </tr>\n",
       "    <tr>\n",
       "      <th>5</th>\n",
       "      <td>EPF Lausanne - EPFL</td>\n",
       "      <td>1.175316e+09</td>\n",
       "      <td>3401</td>\n",
       "      <td>BE</td>\n",
       "    </tr>\n",
       "    <tr>\n",
       "      <th>6</th>\n",
       "      <td>ETH Zürich - ETHZ</td>\n",
       "      <td>1.635597e+09</td>\n",
       "      <td>8280</td>\n",
       "      <td>TG</td>\n",
       "    </tr>\n",
       "    <tr>\n",
       "      <th>7</th>\n",
       "      <td>Eidg. Anstalt für Wasserversorgung - EAWAG</td>\n",
       "      <td>7.461922e+07</td>\n",
       "      <td>4003</td>\n",
       "      <td>BS</td>\n",
       "    </tr>\n",
       "    <tr>\n",
       "      <th>8</th>\n",
       "      <td>Eidg. Forschungsanstalt für Wald,Schnee,Land -...</td>\n",
       "      <td>4.836039e+07</td>\n",
       "      <td>1950</td>\n",
       "      <td>VS</td>\n",
       "    </tr>\n",
       "    <tr>\n",
       "      <th>9</th>\n",
       "      <td>Eidg. Hochschulinstitut für Berufsbildung - EHB</td>\n",
       "      <td>2.086572e+06</td>\n",
       "      <td>None</td>\n",
       "      <td>None</td>\n",
       "    </tr>\n",
       "  </tbody>\n",
       "</table>\n",
       "</div>"
      ],
      "text/plain": [
       "                                         Institution  Approved Amount  \\\n",
       "0                       AO Research Institute - AORI     3.435621e+06   \n",
       "1               Allergie- und Asthmaforschung - SIAF     1.916996e+07   \n",
       "2                        Berner Fachhochschule - BFH     3.102870e+07   \n",
       "3             Biotechnologie Institut Thurgau - BITG     2.492535e+06   \n",
       "4  Centre de rech. sur l'environnement alpin - CR...     1.567678e+06   \n",
       "5                                EPF Lausanne - EPFL     1.175316e+09   \n",
       "6                                  ETH Zürich - ETHZ     1.635597e+09   \n",
       "7         Eidg. Anstalt für Wasserversorgung - EAWAG     7.461922e+07   \n",
       "8  Eidg. Forschungsanstalt für Wald,Schnee,Land -...     4.836039e+07   \n",
       "9    Eidg. Hochschulinstitut für Berufsbildung - EHB     2.086572e+06   \n",
       "\n",
       "  postalcode canton  \n",
       "0       None   None  \n",
       "1       None   None  \n",
       "2       None   None  \n",
       "3       None   None  \n",
       "4       3012     BE  \n",
       "5       3401     BE  \n",
       "6       8280     TG  \n",
       "7       4003     BS  \n",
       "8       1950     VS  \n",
       "9       None   None  "
      ]
     },
     "execution_count": 11,
     "metadata": {},
     "output_type": "execute_result"
    }
   ],
   "source": [
    "username = \"juta\" #todo add username\n",
    "url = \"http://api.geonames.org/postalCodeSearch?maxRows=1&username=\"+username+\"&country=ch&postalcode=\"\n",
    "\n",
    "def get_canton(row):\n",
    "    if row.postalcode.isdigit():\n",
    "        r = requests.get(url+row.postalcode)\n",
    "        soup = BeautifulSoup(r.text, \"xml\")\n",
    "        if soup.find('adminCode1'):\n",
    "            return soup.find('adminCode1').text\n",
    "        else:\n",
    "            return 'None'\n",
    "    else:\n",
    "        return 'None'\n",
    "\n",
    "frame['canton'] = frame.apply(get_canton, axis=1)\n",
    "frame.head(10)"
   ]
  },
  {
   "cell_type": "markdown",
   "metadata": {},
   "source": [
    "We save the information found to a file in order to manually add some missing locations"
   ]
  },
  {
   "cell_type": "code",
   "execution_count": 12,
   "metadata": {
    "collapsed": true
   },
   "outputs": [],
   "source": [
    "universities_data = \"data/universities.csv\"\n",
    "if not os.path.isfile(universities_data):\n",
    "    frame.to_csv(universities_data, sep=',', encoding='latin_1')\n",
    "frame = pd.read_csv(universities_data, sep=',', encoding='latin_1')"
   ]
  },
  {
   "cell_type": "code",
   "execution_count": 13,
   "metadata": {
    "collapsed": false
   },
   "outputs": [
    {
     "data": {
      "text/html": [
       "<div>\n",
       "<table border=\"1\" class=\"dataframe\">\n",
       "  <thead>\n",
       "    <tr style=\"text-align: right;\">\n",
       "      <th></th>\n",
       "      <th>canton</th>\n",
       "      <th>Approved Amount</th>\n",
       "    </tr>\n",
       "  </thead>\n",
       "  <tbody>\n",
       "    <tr>\n",
       "      <th>0</th>\n",
       "      <td>AG</td>\n",
       "      <td>1.197269e+06</td>\n",
       "    </tr>\n",
       "    <tr>\n",
       "      <th>1</th>\n",
       "      <td>BE</td>\n",
       "      <td>1.292178e+09</td>\n",
       "    </tr>\n",
       "    <tr>\n",
       "      <th>2</th>\n",
       "      <td>BL</td>\n",
       "      <td>4.924980e+05</td>\n",
       "    </tr>\n",
       "    <tr>\n",
       "      <th>3</th>\n",
       "      <td>BS</td>\n",
       "      <td>8.190666e+07</td>\n",
       "    </tr>\n",
       "    <tr>\n",
       "      <th>4</th>\n",
       "      <td>FR</td>\n",
       "      <td>2.285588e+06</td>\n",
       "    </tr>\n",
       "    <tr>\n",
       "      <th>5</th>\n",
       "      <td>GE</td>\n",
       "      <td>1.835588e+09</td>\n",
       "    </tr>\n",
       "    <tr>\n",
       "      <th>6</th>\n",
       "      <td>GR</td>\n",
       "      <td>7.308074e+07</td>\n",
       "    </tr>\n",
       "    <tr>\n",
       "      <th>7</th>\n",
       "      <td>JU</td>\n",
       "      <td>2.914904e+07</td>\n",
       "    </tr>\n",
       "    <tr>\n",
       "      <th>8</th>\n",
       "      <td>LU</td>\n",
       "      <td>1.851238e+09</td>\n",
       "    </tr>\n",
       "    <tr>\n",
       "      <th>9</th>\n",
       "      <td>NE</td>\n",
       "      <td>1.238273e+06</td>\n",
       "    </tr>\n",
       "    <tr>\n",
       "      <th>11</th>\n",
       "      <td>SG</td>\n",
       "      <td>1.562125e+09</td>\n",
       "    </tr>\n",
       "    <tr>\n",
       "      <th>12</th>\n",
       "      <td>SH</td>\n",
       "      <td>2.413824e+07</td>\n",
       "    </tr>\n",
       "    <tr>\n",
       "      <th>13</th>\n",
       "      <td>SO</td>\n",
       "      <td>3.331255e+07</td>\n",
       "    </tr>\n",
       "    <tr>\n",
       "      <th>14</th>\n",
       "      <td>SZ</td>\n",
       "      <td>5.066130e+05</td>\n",
       "    </tr>\n",
       "    <tr>\n",
       "      <th>15</th>\n",
       "      <td>TG</td>\n",
       "      <td>1.642315e+09</td>\n",
       "    </tr>\n",
       "    <tr>\n",
       "      <th>16</th>\n",
       "      <td>TI</td>\n",
       "      <td>4.016317e+08</td>\n",
       "    </tr>\n",
       "    <tr>\n",
       "      <th>17</th>\n",
       "      <td>VD</td>\n",
       "      <td>2.021165e+07</td>\n",
       "    </tr>\n",
       "    <tr>\n",
       "      <th>18</th>\n",
       "      <td>VS</td>\n",
       "      <td>5.397213e+07</td>\n",
       "    </tr>\n",
       "    <tr>\n",
       "      <th>19</th>\n",
       "      <td>ZG</td>\n",
       "      <td>6.872250e+05</td>\n",
       "    </tr>\n",
       "    <tr>\n",
       "      <th>20</th>\n",
       "      <td>ZH</td>\n",
       "      <td>6.381775e+08</td>\n",
       "    </tr>\n",
       "  </tbody>\n",
       "</table>\n",
       "</div>"
      ],
      "text/plain": [
       "   canton  Approved Amount\n",
       "0      AG     1.197269e+06\n",
       "1      BE     1.292178e+09\n",
       "2      BL     4.924980e+05\n",
       "3      BS     8.190666e+07\n",
       "4      FR     2.285588e+06\n",
       "5      GE     1.835588e+09\n",
       "6      GR     7.308074e+07\n",
       "7      JU     2.914904e+07\n",
       "8      LU     1.851238e+09\n",
       "9      NE     1.238273e+06\n",
       "11     SG     1.562125e+09\n",
       "12     SH     2.413824e+07\n",
       "13     SO     3.331255e+07\n",
       "14     SZ     5.066130e+05\n",
       "15     TG     1.642315e+09\n",
       "16     TI     4.016317e+08\n",
       "17     VD     2.021165e+07\n",
       "18     VS     5.397213e+07\n",
       "19     ZG     6.872250e+05\n",
       "20     ZH     6.381775e+08"
      ]
     },
     "execution_count": 13,
     "metadata": {},
     "output_type": "execute_result"
    }
   ],
   "source": [
    "df = frame.groupby(['canton'])\n",
    "df = df.agg({'Approved Amount':'sum'}).reset_index()\n",
    "df = df[df.canton != 'None']\n",
    "df.to_csv(\"data/grants_per_canton.csv\", sep=';')\n",
    "df"
   ]
  }
 ],
 "metadata": {
  "anaconda-cloud": {},
  "kernelspec": {
   "display_name": "Python [Root]",
   "language": "python",
   "name": "Python [Root]"
  },
  "language_info": {
   "codemirror_mode": {
    "name": "ipython",
    "version": 3
   },
   "file_extension": ".py",
   "mimetype": "text/x-python",
   "name": "python",
   "nbconvert_exporter": "python",
   "pygments_lexer": "ipython3",
   "version": "3.5.2"
  }
 },
 "nbformat": 4,
 "nbformat_minor": 0
}

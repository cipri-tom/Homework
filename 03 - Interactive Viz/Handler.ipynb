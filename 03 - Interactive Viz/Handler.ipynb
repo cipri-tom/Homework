{
 "cells": [
  {
   "cell_type": "markdown",
   "metadata": {},
   "source": [
    "# Homework 3 -- Cloropleth map of grants in Swiss universities"
   ]
  },
  {
   "cell_type": "code",
   "execution_count": 1,
   "metadata": {
    "collapsed": false
   },
   "outputs": [],
   "source": [
    "# imports and all that\n",
    "import pandas as pd\n",
    "import requests\n",
    "from bs4 import BeautifulSoup\n",
    "import os.path"
   ]
  },
  {
   "cell_type": "markdown",
   "metadata": {},
   "source": [
    "### Data wrangling"
   ]
  },
  {
   "cell_type": "code",
   "execution_count": 2,
   "metadata": {
    "collapsed": false
   },
   "outputs": [
    {
     "data": {
      "text/plain": [
       "(48464, 8)"
      ]
     },
     "execution_count": 2,
     "metadata": {},
     "output_type": "execute_result"
    }
   ],
   "source": [
    "grants = pd.read_csv(\"data/P3_GrantExport.csv\", sep=';', index_col=0)\n",
    "grants.size\n",
    "grants.shape"
   ]
  },
  {
   "cell_type": "markdown",
   "metadata": {},
   "source": [
    "We'll try to reduce the dataset by removing the entries that are not in CH and irrelevant columns. The foreign institutes don't have a valid entry in `University` field\n",
    "\n",
    "These changes can be safely persisted in the file, as it will not influence the data we work with."
   ]
  },
  {
   "cell_type": "code",
   "execution_count": 3,
   "metadata": {
    "collapsed": false
   },
   "outputs": [
    {
     "data": {
      "text/plain": [
       "(48283, 8)"
      ]
     },
     "execution_count": 3,
     "metadata": {},
     "output_type": "execute_result"
    }
   ],
   "source": [
    "grants = grants[(grants.University.notnull()) & (grants.University != \"Nicht zuteilbar - NA\")]\n",
    "grants = grants.drop(axis=1, errors='ignore', labels=['Project Title', 'Project Title English',\n",
    "            'Responsible Applicant', 'Funding Instrument', 'Funding Instrument Hierarchy', 'Keywords'])\n",
    "\n",
    "grants.dtypes\n",
    "grants.shape"
   ]
  },
  {
   "cell_type": "markdown",
   "metadata": {},
   "source": [
    "Some entries in the Approved Amount column are not numeric so they are being dropped"
   ]
  },
  {
   "cell_type": "code",
   "execution_count": 4,
   "metadata": {
    "collapsed": false
   },
   "outputs": [
    {
     "data": {
      "text/plain": [
       "(48283, 8)"
      ]
     },
     "execution_count": 4,
     "metadata": {},
     "output_type": "execute_result"
    }
   ],
   "source": [
    "grants['Approved Amount'] = pd.to_numeric(grants['Approved Amount'], errors='coerce')\n",
    "grants = grants[grants['Approved Amount'].notnull()]\n",
    "grants.shape"
   ]
  },
  {
   "cell_type": "code",
   "execution_count": null,
   "metadata": {
    "collapsed": true
   },
   "outputs": [],
   "source": [
    "# Run if you want to update the csv\n",
    "#grants.to_csv(\"data/P3_GrantExport.csv\", sep=';') # keep the same sep"
   ]
  },
  {
   "cell_type": "code",
   "execution_count": 5,
   "metadata": {
    "collapsed": false,
    "scrolled": true
   },
   "outputs": [
    {
     "data": {
      "text/plain": [
       "(76, 2)"
      ]
     },
     "execution_count": 5,
     "metadata": {},
     "output_type": "execute_result"
    }
   ],
   "source": [
    "# Grouped by 'University' and the total funds each gets \n",
    "grants_grouped_by_uni = grants.groupby('University')\n",
    "grants_grouped_by_uni = grants_grouped_by_uni.agg({'Approved Amount':'sum'}).reset_index()\n",
    "grants_grouped_by_uni.shape"
   ]
  },
  {
   "cell_type": "markdown",
   "metadata": {},
   "source": [
    "### Find location of universities"
   ]
  },
  {
   "cell_type": "markdown",
   "metadata": {},
   "source": [
    "Use Google API to find the location corresponding to the university. This will only run once and save the results of the requests into a file."
   ]
  },
  {
   "cell_type": "code",
   "execution_count": 17,
   "metadata": {
    "collapsed": false
   },
   "outputs": [],
   "source": [
    "google_key=\"0\" #todo insert google api key\n",
    "data = 'data/requests.txt'\n",
    "url = \"https://maps.googleapis.com/maps/api/place/textsearch/xml?key=\"+google_key+\"&limit=1&query=\"\n",
    "\n",
    "def get_city(row):\n",
    "    r = requests.get(url+row.University)\n",
    "    with open(data, \"a\") as myfile:\n",
    "        myfile.write(r.text)\n",
    "                \n",
    "if not os.path.isfile(data):\n",
    "    with open(data, \"a\") as myfile:\n",
    "        myfile.write(\"<?xml version=\\\"1.0\\\" encoding=\\\"UTF-8\\\"?><results>\")\n",
    "    grants_grouped_by_uni.apply(get_city, axis=1)\n",
    "    with open(data, \"a\") as myfile:\n",
    "        myfile.write(\"</results>\")"
   ]
  },
  {
   "cell_type": "markdown",
   "metadata": {},
   "source": [
    "Load the results for the google requests and filter out the postalcodes of the Universities location. This will later be used to find the canton."
   ]
  },
  {
   "cell_type": "code",
   "execution_count": null,
   "metadata": {
    "collapsed": false
   },
   "outputs": [],
   "source": [
    "results = BeautifulSoup(open(data), \"xml\")\n",
    "frame = grants_grouped_by_uni.copy()\n",
    "frame['postalcode'] = 'None'\n",
    "i = 0\n",
    "for response in results.find_all('PlaceSearchResponse'):\n",
    "    result = response.find('result')\n",
    "    if result != None:\n",
    "        city = result.find('formatted_address').text\n",
    "        if \"Switzerland\" in city:\n",
    "            pc = str(city[city.index(',')+2:city.index(',')+6])\n",
    "            if (pc.isdigit()):\n",
    "                frame.set_value(i, 'postalcode', pc)\n",
    "            else:\n",
    "                frame.set_value(i, 'postalcode', city)\n",
    "    i += 1\n",
    "frame.head(10)"
   ]
  },
  {
   "cell_type": "markdown",
   "metadata": {},
   "source": [
    "Show the universities that where not found"
   ]
  },
  {
   "cell_type": "code",
   "execution_count": null,
   "metadata": {
    "collapsed": false
   },
   "outputs": [],
   "source": [
    "print(frame[frame.postalcode=='None'].shape)\n",
    "frame[frame.postalcode=='None']"
   ]
  },
  {
   "cell_type": "markdown",
   "metadata": {},
   "source": [
    "For the universities that were found we will use the geonames api to find the canton based on the postalcode."
   ]
  },
  {
   "cell_type": "code",
   "execution_count": null,
   "metadata": {
    "collapsed": false
   },
   "outputs": [],
   "source": [
    "username = \"juta\" #todo add username\n",
    "url = \"http://api.geonames.org/postalCodeSearch?maxRows=1&username=\"+username+\"&country=ch&postalcode=\"\n",
    "\n",
    "def get_canton(row):\n",
    "    if row.postalcode.isdigit():\n",
    "        r = requests.get(url+row.postalcode)\n",
    "        soup = BeautifulSoup(r.text, \"xml\")\n",
    "        if soup.find('adminCode1'):\n",
    "            return soup.find('adminCode1').text\n",
    "        else:\n",
    "            return 'None'\n",
    "    else:\n",
    "        return 'None'\n",
    "\n",
    "frame['canton'] = frame.apply(get_canton, axis=1)\n",
    "frame.head()"
   ]
  },
  {
   "cell_type": "code",
   "execution_count": null,
   "metadata": {
    "collapsed": false
   },
   "outputs": [],
   "source": [
    "df = frame.groupby(['canton'])\n",
    "df = df.agg({'Approved Amount':'sum'}).reset_index()\n",
    "df = df[df.canton != 'None']\n",
    "df.to_csv(\"data/grants_per_canton.csv\", sep=';')\n",
    "df"
   ]
  },
  {
   "cell_type": "markdown",
   "metadata": {},
   "source": [
    "### Institutes only\n",
    "These are in Switzerland (mostly), but their University is `NPO` (maybe **N**on **P**ublic **O**rganisation or something like that)"
   ]
  },
  {
   "cell_type": "code",
   "execution_count": 9,
   "metadata": {
    "collapsed": false
   },
   "outputs": [
    {
     "data": {
      "text/html": [
       "<div>\n",
       "<table border=\"1\" class=\"dataframe\">\n",
       "  <thead>\n",
       "    <tr style=\"text-align: right;\">\n",
       "      <th></th>\n",
       "      <th>Institution</th>\n",
       "      <th>Approved Amount</th>\n",
       "    </tr>\n",
       "  </thead>\n",
       "  <tbody>\n",
       "    <tr>\n",
       "      <th>0</th>\n",
       "      <td>AGGS Staatsarchiv</td>\n",
       "      <td>663264.0</td>\n",
       "    </tr>\n",
       "    <tr>\n",
       "      <th>1</th>\n",
       "      <td>AGRIDEA</td>\n",
       "      <td>911248.0</td>\n",
       "    </tr>\n",
       "    <tr>\n",
       "      <th>2</th>\n",
       "      <td>Aargauer Kantonsbibliothek</td>\n",
       "      <td>5553504.0</td>\n",
       "    </tr>\n",
       "    <tr>\n",
       "      <th>3</th>\n",
       "      <td>Aargauer Kantonsschule Baden</td>\n",
       "      <td>12380.0</td>\n",
       "    </tr>\n",
       "    <tr>\n",
       "      <th>4</th>\n",
       "      <td>Abteilung Biochemie Biozentrum Universität Basel</td>\n",
       "      <td>1000122.0</td>\n",
       "    </tr>\n",
       "  </tbody>\n",
       "</table>\n",
       "</div>"
      ],
      "text/plain": [
       "                                        Institution  Approved Amount\n",
       "0                                 AGGS Staatsarchiv         663264.0\n",
       "1                                           AGRIDEA         911248.0\n",
       "2                        Aargauer Kantonsbibliothek        5553504.0\n",
       "3                      Aargauer Kantonsschule Baden          12380.0\n",
       "4  Abteilung Biochemie Biozentrum Universität Basel        1000122.0"
      ]
     },
     "execution_count": 9,
     "metadata": {},
     "output_type": "execute_result"
    }
   ],
   "source": [
    "institutes = grants[grants.University.str.startswith(\"NPO\")]\n",
    "institutes = institutes.groupby('Institution').agg({'Approved Amount':'sum'}).reset_index()\n",
    "institutes['canton'] = institutes.apply()"
   ]
  },
  {
   "cell_type": "code",
   "execution_count": 16,
   "metadata": {
    "collapsed": false
   },
   "outputs": [
    {
     "data": {
      "text/html": [
       "<div>\n",
       "<table border=\"1\" class=\"dataframe\">\n",
       "  <thead>\n",
       "    <tr style=\"text-align: right;\">\n",
       "      <th></th>\n",
       "      <th>Institution</th>\n",
       "      <th>Approved Amount</th>\n",
       "    </tr>\n",
       "  </thead>\n",
       "  <tbody>\n",
       "    <tr>\n",
       "      <th>23</th>\n",
       "      <td>Arche Verlag AG</td>\n",
       "      <td>192273.0</td>\n",
       "    </tr>\n",
       "  </tbody>\n",
       "</table>\n",
       "</div>"
      ],
      "text/plain": [
       "        Institution  Approved Amount\n",
       "23  Arche Verlag AG         192273.0"
      ]
     },
     "execution_count": 16,
     "metadata": {},
     "output_type": "execute_result"
    }
   ],
   "source": [
    "institutes[institutes.Institution.str.contains(\"Arche\")]"
   ]
  },
  {
   "cell_type": "code",
   "execution_count": 45,
   "metadata": {
    "collapsed": true
   },
   "outputs": [],
   "source": [
    "import os, random\n",
    "\n",
    "google_key=os.environ[\"GOOGLE_API_KEY\"]\n",
    "data = 'data/institutes.txt'\n",
    "url = \"https://maps.googleapis.com/maps/api/place/textsearch/xml?key=\"+google_key+\"&limit=1&query=\""
   ]
  },
  {
   "cell_type": "code",
   "execution_count": 47,
   "metadata": {
    "collapsed": false
   },
   "outputs": [
    {
     "data": {
      "text/html": [
       "<div>\n",
       "<table border=\"1\" class=\"dataframe\">\n",
       "  <thead>\n",
       "    <tr style=\"text-align: right;\">\n",
       "      <th></th>\n",
       "      <th>Institution</th>\n",
       "      <th>Approved Amount</th>\n",
       "    </tr>\n",
       "  </thead>\n",
       "  <tbody>\n",
       "    <tr>\n",
       "      <th>31</th>\n",
       "      <td>Archivio di Stato del Canton Ticino</td>\n",
       "      <td>2469847.0</td>\n",
       "    </tr>\n",
       "    <tr>\n",
       "      <th>32</th>\n",
       "      <td>Archäologie Schweiz</td>\n",
       "      <td>68200.0</td>\n",
       "    </tr>\n",
       "    <tr>\n",
       "      <th>33</th>\n",
       "      <td>Archäologie Schweizerisches Landesmuseum</td>\n",
       "      <td>520594.0</td>\n",
       "    </tr>\n",
       "    <tr>\n",
       "      <th>34</th>\n",
       "      <td>Archäologie und Kantonsmuseum Kanton Basel-Lan...</td>\n",
       "      <td>725233.0</td>\n",
       "    </tr>\n",
       "  </tbody>\n",
       "</table>\n",
       "</div>"
      ],
      "text/plain": [
       "                                          Institution  Approved Amount\n",
       "31                Archivio di Stato del Canton Ticino        2469847.0\n",
       "32                                Archäologie Schweiz          68200.0\n",
       "33           Archäologie Schweizerisches Landesmuseum         520594.0\n",
       "34  Archäologie und Kantonsmuseum Kanton Basel-Lan...         725233.0"
      ]
     },
     "execution_count": 47,
     "metadata": {},
     "output_type": "execute_result"
    }
   ],
   "source": [
    "inst2 = institutes.iloc[31:35]\n",
    "inst2"
   ]
  },
  {
   "cell_type": "code",
   "execution_count": 46,
   "metadata": {
    "collapsed": true
   },
   "outputs": [],
   "source": [
    "def get_city(row):\n",
    "    time.sleep(random.uniform(0.7, 1.5))\n",
    "    r = requests.get(url+row.Institution)\n",
    "    with open(data, \"a\") as myfile:\n",
    "        myfile.write(r.text)"
   ]
  },
  {
   "cell_type": "code",
   "execution_count": 44,
   "metadata": {
    "collapsed": false
   },
   "outputs": [],
   "source": [
    "                \n",
    "# if not os.path.isfile(data):\n",
    "# print(\"Creating new file %s\" % data)\n",
    "#     with open(data, \"a\") as myfile:\n",
    "#         myfile.write(\"<?xml version=\\\"1.0\\\" encoding=\\\"UTF-8\\\"?><results>\")\n",
    "inst2.apply(get_city, axis=1)\n",
    "with open(data, \"a\") as myfile:\n",
    "    myfile.write(\"</results>\")\n",
    "# else:\n",
    "# print(\"File aready exists %s\" % data)"
   ]
  }
 ],
 "metadata": {
  "anaconda-cloud": {},
  "kernelspec": {
   "display_name": "Python [Root]",
   "language": "python",
   "name": "Python [Root]"
  },
  "language_info": {
   "codemirror_mode": {
    "name": "ipython",
    "version": 3
   },
   "file_extension": ".py",
   "mimetype": "text/x-python",
   "name": "python",
   "nbconvert_exporter": "python",
   "pygments_lexer": "ipython3",
   "version": "3.5.2"
  }
 },
 "nbformat": 4,
 "nbformat_minor": 0
}

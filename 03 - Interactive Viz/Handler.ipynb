{
 "cells": [
  {
   "cell_type": "markdown",
   "metadata": {},
   "source": [
    "# Homework 3 -- Cloropleth map of grants in Swiss universities"
   ]
  },
  {
   "cell_type": "code",
   "execution_count": 8,
   "metadata": {
    "collapsed": true
   },
   "outputs": [],
   "source": [
    "# imports and all that\n",
    "import pandas as pd"
   ]
  },
  {
   "cell_type": "markdown",
   "metadata": {},
   "source": [
    "### Data wrangling"
   ]
  },
  {
   "cell_type": "code",
   "execution_count": 65,
   "metadata": {
    "collapsed": false
   },
   "outputs": [
    {
     "data": {
      "text/plain": [
       "388592"
      ]
     },
     "execution_count": 65,
     "metadata": {},
     "output_type": "execute_result"
    }
   ],
   "source": [
    "grants = pd.read_csv(\"data/P3_GrantExport.csv\", sep=';', index_col=0)\n",
    "grants.size"
   ]
  },
  {
   "cell_type": "markdown",
   "metadata": {},
   "source": [
    "We'll try to reduce the dataset by removing the entries that are not in CH and irrelevant columns.\n",
    "We also remove data where location cannot be inferred, i.e. which are missing both the institute and the university\n",
    "\n",
    "These changes can be safely persisted in the file, as it will not influence the data we work with."
   ]
  },
  {
   "cell_type": "code",
   "execution_count": 66,
   "metadata": {
    "collapsed": false
   },
   "outputs": [
    {
     "name": "stdout",
     "output_type": "stream",
     "text": [
      "388592\n",
      "(48574, 8)\n"
     ]
    }
   ],
   "source": [
    "grants = grants[grants.University.notnull()]\n",
    "grants = grants.drop(axis=1, errors='ignore', labels=['Project Title', 'Project Title English',\n",
    "            'Responsible Applicant', 'Funding Instrument', 'Funding Instrument Hierarchy', 'Keywords'])\n",
    "\n",
    "# drop rows where location cannot be inferred\n",
    "filter_no_location = ~((grants.University == \"Nicht zuteilbar - NA\") & (grants.Institution.isnull()))\n",
    "grants = grants[filter_no_location]\n",
    "grants.to_csv(\"data/P3_GrantExport.csv\", sep=';') # keep the same sep\n",
    "\n",
    "print(grants.size)\n",
    "print(grants.shape)"
   ]
  },
  {
   "cell_type": "code",
   "execution_count": null,
   "metadata": {
    "collapsed": true
   },
   "outputs": [],
   "source": []
  }
 ],
 "metadata": {
  "anaconda-cloud": {},
  "kernelspec": {
   "display_name": "Python [Root]",
   "language": "python",
   "name": "Python [Root]"
  },
  "language_info": {
   "codemirror_mode": {
    "name": "ipython",
    "version": 3
   },
   "file_extension": ".py",
   "mimetype": "text/x-python",
   "name": "python",
   "nbconvert_exporter": "python",
   "pygments_lexer": "ipython3",
   "version": "3.5.2"
  }
 },
 "nbformat": 4,
 "nbformat_minor": 0
}

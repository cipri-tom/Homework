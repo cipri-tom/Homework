{
 "cells": [
  {
   "cell_type": "markdown",
   "metadata": {},
   "source": [
    "# Homework 3 -- Cloropleth map of grants in Swiss universities"
   ]
  },
  {
   "cell_type": "markdown",
   "metadata": {},
   "source": [
    "## Part 1: data processing\n",
    "For visualisation, check the other notebook, or, even better, its `HTML`"
   ]
  },
  {
   "cell_type": "code",
   "execution_count": 1,
   "metadata": {
    "collapsed": false
   },
   "outputs": [],
   "source": [
    "# imports and all that\n",
    "import pandas as pd\n",
    "import requests\n",
    "from bs4 import BeautifulSoup\n",
    "import os.path\n",
    "import os, random\n",
    "import time"
   ]
  },
  {
   "cell_type": "markdown",
   "metadata": {},
   "source": [
    "### Data wrangling"
   ]
  },
  {
   "cell_type": "code",
   "execution_count": 2,
   "metadata": {
    "collapsed": false
   },
   "outputs": [
    {
     "data": {
      "text/plain": [
       "(48464, 8)"
      ]
     },
     "execution_count": 2,
     "metadata": {},
     "output_type": "execute_result"
    }
   ],
   "source": [
    "grants = pd.read_csv(\"data/P3_GrantExport.csv\", sep=';', index_col=0)\n",
    "grants.size\n",
    "grants.shape"
   ]
  },
  {
   "cell_type": "markdown",
   "metadata": {},
   "source": [
    "We'll try to reduce the dataset by removing the entries that are not in CH and irrelevant columns. The foreign institutes don't have a valid entry in `University` field\n",
    "\n",
    "These changes can be safely persisted in the file, as it will not influence the data we work with."
   ]
  },
  {
   "cell_type": "code",
   "execution_count": 3,
   "metadata": {
    "collapsed": false
   },
   "outputs": [
    {
     "data": {
      "text/plain": [
       "(48283, 8)"
      ]
     },
     "execution_count": 3,
     "metadata": {},
     "output_type": "execute_result"
    }
   ],
   "source": [
    "grants = grants[(grants.University.notnull()) & (grants.University != \"Nicht zuteilbar - NA\")]\n",
    "grants = grants.drop(axis=1, errors='ignore', labels=['Project Title', 'Project Title English',\n",
    "            'Responsible Applicant', 'Funding Instrument', 'Funding Instrument Hierarchy', 'Keywords'])\n",
    "\n",
    "grants.dtypes\n",
    "grants.shape"
   ]
  },
  {
   "cell_type": "markdown",
   "metadata": {},
   "source": [
    "Some entries in the Approved Amount column are not numeric so they are being dropped"
   ]
  },
  {
   "cell_type": "code",
   "execution_count": 4,
   "metadata": {
    "collapsed": false
   },
   "outputs": [
    {
     "data": {
      "text/plain": [
       "(48283, 8)"
      ]
     },
     "execution_count": 4,
     "metadata": {},
     "output_type": "execute_result"
    }
   ],
   "source": [
    "grants['Approved Amount'] = pd.to_numeric(grants['Approved Amount'], errors='coerce')\n",
    "grants = grants[grants['Approved Amount'].notnull()]\n",
    "grants.shape"
   ]
  },
  {
   "cell_type": "code",
   "execution_count": 5,
   "metadata": {
    "collapsed": true
   },
   "outputs": [],
   "source": [
    "# Run if you want to update the csv\n",
    "#grants.to_csv(\"data/P3_GrantExport.csv\", sep=';') # keep the same sep"
   ]
  },
  {
   "cell_type": "markdown",
   "metadata": {},
   "source": [
    "We will group the results on `university` and combine them with **N**on **P**ublc **O**rganisations (**NPO**s), which don't belong to any university.\n",
    "This will allow us to use either the university or the institute to find a location.\n"
   ]
  },
  {
   "cell_type": "markdown",
   "metadata": {},
   "source": [
    "Also, we get an idea of the location of a university from the last part of its name, which is usually the canton. This improves the results given by Google Maps API"
   ]
  },
  {
   "cell_type": "code",
   "execution_count": 6,
   "metadata": {
    "collapsed": true
   },
   "outputs": [],
   "source": [
    "import re\n",
    "def getLocationTagFromUni(s):\n",
    "    return re.findall(r'\\S+', s)[-1]"
   ]
  },
  {
   "cell_type": "code",
   "execution_count": 7,
   "metadata": {
    "collapsed": false,
    "scrolled": true
   },
   "outputs": [
    {
     "data": {
      "text/plain": [
       "(75, 3)"
      ]
     },
     "execution_count": 7,
     "metadata": {},
     "output_type": "execute_result"
    }
   ],
   "source": [
    "grants['Location Tag'] = grants['University'].apply(getLocationTagFromUni)\n",
    "universities = grants.groupby(['Location Tag', 'University'])\n",
    "universities = universities.agg({'Approved Amount':'sum'}).reset_index()\n",
    "\n",
    "# remove the entris of the NPOs\n",
    "universities = universities[~universities.University.str.startswith(\"NPO\")]\n",
    "\n",
    "# rename 'University' -> 'Institution' to be the same as institutes\n",
    "universities.columns = ['Location Tag', 'Institution', 'Approved Amount']\n",
    "universities.shape"
   ]
  },
  {
   "cell_type": "code",
   "execution_count": 8,
   "metadata": {
    "collapsed": false
   },
   "outputs": [
    {
     "data": {
      "text/plain": [
       "(450, 2)"
      ]
     },
     "execution_count": 8,
     "metadata": {},
     "output_type": "execute_result"
    }
   ],
   "source": [
    "institutes = grants[grants.University.str.startswith(\"NPO\")]\n",
    "institutes = institutes.groupby('Institution').agg({'Approved Amount':'sum'}).reset_index()\n",
    "institutes.shape"
   ]
  },
  {
   "cell_type": "markdown",
   "metadata": {},
   "source": [
    "Combine the two dataframes"
   ]
  },
  {
   "cell_type": "code",
   "execution_count": 9,
   "metadata": {
    "collapsed": false
   },
   "outputs": [],
   "source": [
    "uni_inst = pd.concat([universities, institutes]).reset_index()"
   ]
  },
  {
   "cell_type": "markdown",
   "metadata": {},
   "source": [
    "### Find location of institutes"
   ]
  },
  {
   "cell_type": "markdown",
   "metadata": {},
   "source": [
    "Use Google API to find the location corresponding to the university. This will only run once and save the results of the requests into a file."
   ]
  },
  {
   "cell_type": "code",
   "execution_count": 10,
   "metadata": {
    "collapsed": true
   },
   "outputs": [],
   "source": [
    "google_key = os.environ[\"GOOGLE_API_KEY\"] # provide your own\n",
    "filename = 'data/requests.txt'\n",
    "url = \"https://maps.googleapis.com/maps/api/place/textsearch/xml?key=\"+google_key+\"&query=\"\n",
    "\n",
    "def get_city(row):\n",
    "    r = requests.get(url+row.Institution)\n",
    "    with open(filename, \"a\") as myfile:\n",
    "        myfile.write(r.text)"
   ]
  },
  {
   "cell_type": "code",
   "execution_count": 11,
   "metadata": {
    "collapsed": false
   },
   "outputs": [
    {
     "name": "stdout",
     "output_type": "stream",
     "text": [
      "File already exists data/requests.txt\n"
     ]
    }
   ],
   "source": [
    "if not os.path.isfile(filename): \n",
    "    print(\"Creating file %s\" % filename)\n",
    "    with open(filename, \"a\") as myfile:\n",
    "        myfile.write(\"<?xml version=\\\"1.0\\\" encoding=\\\"UTF-8\\\"?><results>\")\n",
    "    uni_inst.apply(get_city, axis=1)\n",
    "    with open(filename, \"a\") as myfile:\n",
    "        myfile.write(\"</results>\")\n",
    "else:\n",
    "    print(\"File already exists %s\" %filename)"
   ]
  },
  {
   "cell_type": "markdown",
   "metadata": {},
   "source": [
    "Load the results for the google requests and filter out the postalcodes of the Universities location. This will later be used to find the canton."
   ]
  },
  {
   "cell_type": "code",
   "execution_count": 12,
   "metadata": {
    "collapsed": false
   },
   "outputs": [
    {
     "data": {
      "text/html": [
       "<div>\n",
       "<table border=\"1\" class=\"dataframe\">\n",
       "  <thead>\n",
       "    <tr style=\"text-align: right;\">\n",
       "      <th></th>\n",
       "      <th>index</th>\n",
       "      <th>Approved Amount</th>\n",
       "      <th>Institution</th>\n",
       "      <th>Location Tag</th>\n",
       "      <th>postalcode</th>\n",
       "    </tr>\n",
       "  </thead>\n",
       "  <tbody>\n",
       "    <tr>\n",
       "      <th>0</th>\n",
       "      <td>0</td>\n",
       "      <td>3.311572e+07</td>\n",
       "      <td>Forschungsanstalten Agroscope - AGS</td>\n",
       "      <td>AGS</td>\n",
       "      <td>None</td>\n",
       "    </tr>\n",
       "    <tr>\n",
       "      <th>1</th>\n",
       "      <td>1</td>\n",
       "      <td>3.435621e+06</td>\n",
       "      <td>AO Research Institute - AORI</td>\n",
       "      <td>AORI</td>\n",
       "      <td>None</td>\n",
       "    </tr>\n",
       "    <tr>\n",
       "      <th>2</th>\n",
       "      <td>2</td>\n",
       "      <td>1.593170e+05</td>\n",
       "      <td>Pädag. Hochschule Tessin (Teilschule SUPSI) - ASP</td>\n",
       "      <td>ASP</td>\n",
       "      <td>None</td>\n",
       "    </tr>\n",
       "    <tr>\n",
       "      <th>3</th>\n",
       "      <td>3</td>\n",
       "      <td>1.074981e+07</td>\n",
       "      <td>Weitere Spitäler - ASPIT</td>\n",
       "      <td>ASPIT</td>\n",
       "      <td>None</td>\n",
       "    </tr>\n",
       "    <tr>\n",
       "      <th>4</th>\n",
       "      <td>4</td>\n",
       "      <td>1.519373e+09</td>\n",
       "      <td>Universität Bern - BE</td>\n",
       "      <td>BE</td>\n",
       "      <td>3012</td>\n",
       "    </tr>\n",
       "    <tr>\n",
       "      <th>5</th>\n",
       "      <td>5</td>\n",
       "      <td>3.102870e+07</td>\n",
       "      <td>Berner Fachhochschule - BFH</td>\n",
       "      <td>BFH</td>\n",
       "      <td>3401</td>\n",
       "    </tr>\n",
       "    <tr>\n",
       "      <th>6</th>\n",
       "      <td>6</td>\n",
       "      <td>2.492535e+06</td>\n",
       "      <td>Biotechnologie Institut Thurgau - BITG</td>\n",
       "      <td>BITG</td>\n",
       "      <td>8280</td>\n",
       "    </tr>\n",
       "    <tr>\n",
       "      <th>7</th>\n",
       "      <td>7</td>\n",
       "      <td>1.352251e+09</td>\n",
       "      <td>Universität Basel - BS</td>\n",
       "      <td>BS</td>\n",
       "      <td>4003</td>\n",
       "    </tr>\n",
       "    <tr>\n",
       "      <th>8</th>\n",
       "      <td>8</td>\n",
       "      <td>1.567678e+06</td>\n",
       "      <td>Centre de rech. sur l'environnement alpin - CR...</td>\n",
       "      <td>CREALP</td>\n",
       "      <td>1950</td>\n",
       "    </tr>\n",
       "    <tr>\n",
       "      <th>9</th>\n",
       "      <td>9</td>\n",
       "      <td>1.806825e+07</td>\n",
       "      <td>Swiss Center for Electronics and Microtech. - ...</td>\n",
       "      <td>CSEM</td>\n",
       "      <td>None</td>\n",
       "    </tr>\n",
       "  </tbody>\n",
       "</table>\n",
       "</div>"
      ],
      "text/plain": [
       "   index  Approved Amount                                        Institution  \\\n",
       "0      0     3.311572e+07                Forschungsanstalten Agroscope - AGS   \n",
       "1      1     3.435621e+06                       AO Research Institute - AORI   \n",
       "2      2     1.593170e+05  Pädag. Hochschule Tessin (Teilschule SUPSI) - ASP   \n",
       "3      3     1.074981e+07                           Weitere Spitäler - ASPIT   \n",
       "4      4     1.519373e+09                              Universität Bern - BE   \n",
       "5      5     3.102870e+07                        Berner Fachhochschule - BFH   \n",
       "6      6     2.492535e+06             Biotechnologie Institut Thurgau - BITG   \n",
       "7      7     1.352251e+09                             Universität Basel - BS   \n",
       "8      8     1.567678e+06  Centre de rech. sur l'environnement alpin - CR...   \n",
       "9      9     1.806825e+07  Swiss Center for Electronics and Microtech. - ...   \n",
       "\n",
       "  Location Tag postalcode  \n",
       "0          AGS       None  \n",
       "1         AORI       None  \n",
       "2          ASP       None  \n",
       "3        ASPIT       None  \n",
       "4           BE       3012  \n",
       "5          BFH       3401  \n",
       "6         BITG       8280  \n",
       "7           BS       4003  \n",
       "8       CREALP       1950  \n",
       "9         CSEM       None  "
      ]
     },
     "execution_count": 12,
     "metadata": {},
     "output_type": "execute_result"
    }
   ],
   "source": [
    "results = BeautifulSoup(open(filename, encoding=\"latin_1\"), \"xml\")\n",
    "uni_inst['postalcode'] = 'None'\n",
    "i = 0\n",
    "for response in results.find_all('PlaceSearchResponse'):\n",
    "    result = response.find('result')\n",
    "    if result != None:\n",
    "        city = result.find('formatted_address').text\n",
    "        if \"Switzerland\" in city:\n",
    "            pc = str(city[city.index(',')+2:city.index(',')+6])\n",
    "            if (pc.isdigit()):\n",
    "                uni_inst.ix[i, 'postalcode'] = pc\n",
    "            else:\n",
    "                uni_inst.ix[i, 'postalcode'] = city\n",
    "    i += 1\n",
    "uni_inst.head(10)"
   ]
  },
  {
   "cell_type": "markdown",
   "metadata": {},
   "source": [
    "For the universities that were found we will use the geonames api to find the canton based on the postalcode."
   ]
  },
  {
   "cell_type": "code",
   "execution_count": 13,
   "metadata": {
    "collapsed": false
   },
   "outputs": [
    {
     "data": {
      "text/html": [
       "<div>\n",
       "<table border=\"1\" class=\"dataframe\">\n",
       "  <thead>\n",
       "    <tr style=\"text-align: right;\">\n",
       "      <th></th>\n",
       "      <th>index</th>\n",
       "      <th>Approved Amount</th>\n",
       "      <th>Institution</th>\n",
       "      <th>Location Tag</th>\n",
       "      <th>postalcode</th>\n",
       "      <th>canton</th>\n",
       "    </tr>\n",
       "  </thead>\n",
       "  <tbody>\n",
       "    <tr>\n",
       "      <th>0</th>\n",
       "      <td>0</td>\n",
       "      <td>3.311572e+07</td>\n",
       "      <td>Forschungsanstalten Agroscope - AGS</td>\n",
       "      <td>AGS</td>\n",
       "      <td>None</td>\n",
       "      <td>None</td>\n",
       "    </tr>\n",
       "    <tr>\n",
       "      <th>1</th>\n",
       "      <td>1</td>\n",
       "      <td>3.435621e+06</td>\n",
       "      <td>AO Research Institute - AORI</td>\n",
       "      <td>AORI</td>\n",
       "      <td>None</td>\n",
       "      <td>None</td>\n",
       "    </tr>\n",
       "    <tr>\n",
       "      <th>2</th>\n",
       "      <td>2</td>\n",
       "      <td>1.593170e+05</td>\n",
       "      <td>Pädag. Hochschule Tessin (Teilschule SUPSI) - ASP</td>\n",
       "      <td>ASP</td>\n",
       "      <td>None</td>\n",
       "      <td>None</td>\n",
       "    </tr>\n",
       "    <tr>\n",
       "      <th>3</th>\n",
       "      <td>3</td>\n",
       "      <td>1.074981e+07</td>\n",
       "      <td>Weitere Spitäler - ASPIT</td>\n",
       "      <td>ASPIT</td>\n",
       "      <td>None</td>\n",
       "      <td>None</td>\n",
       "    </tr>\n",
       "    <tr>\n",
       "      <th>4</th>\n",
       "      <td>4</td>\n",
       "      <td>1.519373e+09</td>\n",
       "      <td>Universität Bern - BE</td>\n",
       "      <td>BE</td>\n",
       "      <td>3012</td>\n",
       "      <td>None</td>\n",
       "    </tr>\n",
       "  </tbody>\n",
       "</table>\n",
       "</div>"
      ],
      "text/plain": [
       "   index  Approved Amount                                        Institution  \\\n",
       "0      0     3.311572e+07                Forschungsanstalten Agroscope - AGS   \n",
       "1      1     3.435621e+06                       AO Research Institute - AORI   \n",
       "2      2     1.593170e+05  Pädag. Hochschule Tessin (Teilschule SUPSI) - ASP   \n",
       "3      3     1.074981e+07                           Weitere Spitäler - ASPIT   \n",
       "4      4     1.519373e+09                              Universität Bern - BE   \n",
       "\n",
       "  Location Tag postalcode canton  \n",
       "0          AGS       None   None  \n",
       "1         AORI       None   None  \n",
       "2          ASP       None   None  \n",
       "3        ASPIT       None   None  \n",
       "4           BE       3012   None  "
      ]
     },
     "execution_count": 13,
     "metadata": {},
     "output_type": "execute_result"
    }
   ],
   "source": [
    "username = \"demo\" #todo add username\n",
    "url = \"http://api.geonames.org/postalCodeSearch?maxRows=1&username=\"+username+\"&country=ch&postalcode=\"\n",
    "\n",
    "def get_canton(row):\n",
    "    if row.postalcode.isdigit():\n",
    "        r = requests.get(url+row.postalcode)\n",
    "        soup = BeautifulSoup(r.text, \"xml\")\n",
    "        if soup.find('adminCode1'):\n",
    "            return soup.find('adminCode1').text\n",
    "        else:\n",
    "            return 'None'\n",
    "    else:\n",
    "        return 'None'\n",
    "\n",
    "uni_inst['canton'] = uni_inst.apply(get_canton, axis=1)\n",
    "uni_inst.head()"
   ]
  },
  {
   "cell_type": "markdown",
   "metadata": {},
   "source": [
    "We save the information found to a file in order to manually add some missing locations"
   ]
  },
  {
   "cell_type": "code",
   "execution_count": 14,
   "metadata": {
    "collapsed": true
   },
   "outputs": [],
   "source": [
    "universities_data = \"data/universities.csv\"\n",
    "if not os.path.isfile(universities_data):\n",
    "    uni_inst.to_csv(universities_data, sep=',', encoding='latin_1')\n",
    "uni_inst = pd.read_csv(universities_data, sep=',', encoding='latin_1')"
   ]
  },
  {
   "cell_type": "code",
   "execution_count": 15,
   "metadata": {
    "collapsed": false
   },
   "outputs": [
    {
     "data": {
      "text/html": [
       "<div>\n",
       "<table border=\"1\" class=\"dataframe\">\n",
       "  <thead>\n",
       "    <tr style=\"text-align: right;\">\n",
       "      <th></th>\n",
       "      <th>canton</th>\n",
       "      <th>Approved Amount</th>\n",
       "    </tr>\n",
       "  </thead>\n",
       "  <tbody>\n",
       "    <tr>\n",
       "      <th>0</th>\n",
       "      <td>AG</td>\n",
       "      <td>1.391864e+08</td>\n",
       "    </tr>\n",
       "    <tr>\n",
       "      <th>1</th>\n",
       "      <td>BE</td>\n",
       "      <td>1.560234e+09</td>\n",
       "    </tr>\n",
       "    <tr>\n",
       "      <th>2</th>\n",
       "      <td>BL</td>\n",
       "      <td>3.476142e+06</td>\n",
       "    </tr>\n",
       "    <tr>\n",
       "      <th>3</th>\n",
       "      <td>BS</td>\n",
       "      <td>1.399188e+09</td>\n",
       "    </tr>\n",
       "    <tr>\n",
       "      <th>4</th>\n",
       "      <td>FR</td>\n",
       "      <td>4.591955e+08</td>\n",
       "    </tr>\n",
       "    <tr>\n",
       "      <th>5</th>\n",
       "      <td>GE</td>\n",
       "      <td>1.852855e+09</td>\n",
       "    </tr>\n",
       "    <tr>\n",
       "      <th>6</th>\n",
       "      <td>GR</td>\n",
       "      <td>3.722580e+07</td>\n",
       "    </tr>\n",
       "    <tr>\n",
       "      <th>7</th>\n",
       "      <td>JU</td>\n",
       "      <td>3.479035e+07</td>\n",
       "    </tr>\n",
       "    <tr>\n",
       "      <th>8</th>\n",
       "      <td>LU</td>\n",
       "      <td>5.502406e+07</td>\n",
       "    </tr>\n",
       "    <tr>\n",
       "      <th>9</th>\n",
       "      <td>NE</td>\n",
       "      <td>4.018976e+08</td>\n",
       "    </tr>\n",
       "    <tr>\n",
       "      <th>11</th>\n",
       "      <td>SG</td>\n",
       "      <td>9.137437e+07</td>\n",
       "    </tr>\n",
       "    <tr>\n",
       "      <th>12</th>\n",
       "      <td>SH</td>\n",
       "      <td>1.766910e+05</td>\n",
       "    </tr>\n",
       "    <tr>\n",
       "      <th>13</th>\n",
       "      <td>SO</td>\n",
       "      <td>4.277191e+07</td>\n",
       "    </tr>\n",
       "    <tr>\n",
       "      <th>14</th>\n",
       "      <td>SZ</td>\n",
       "      <td>9.365510e+05</td>\n",
       "    </tr>\n",
       "    <tr>\n",
       "      <th>15</th>\n",
       "      <td>TG</td>\n",
       "      <td>5.801312e+06</td>\n",
       "    </tr>\n",
       "    <tr>\n",
       "      <th>16</th>\n",
       "      <td>TI</td>\n",
       "      <td>1.563997e+08</td>\n",
       "    </tr>\n",
       "    <tr>\n",
       "      <th>17</th>\n",
       "      <td>VD</td>\n",
       "      <td>2.406005e+09</td>\n",
       "    </tr>\n",
       "    <tr>\n",
       "      <th>18</th>\n",
       "      <td>VS</td>\n",
       "      <td>3.218318e+07</td>\n",
       "    </tr>\n",
       "    <tr>\n",
       "      <th>19</th>\n",
       "      <td>ZG</td>\n",
       "      <td>4.957150e+05</td>\n",
       "    </tr>\n",
       "    <tr>\n",
       "      <th>20</th>\n",
       "      <td>ZH</td>\n",
       "      <td>3.747254e+09</td>\n",
       "    </tr>\n",
       "  </tbody>\n",
       "</table>\n",
       "</div>"
      ],
      "text/plain": [
       "   canton  Approved Amount\n",
       "0      AG     1.391864e+08\n",
       "1      BE     1.560234e+09\n",
       "2      BL     3.476142e+06\n",
       "3      BS     1.399188e+09\n",
       "4      FR     4.591955e+08\n",
       "5      GE     1.852855e+09\n",
       "6      GR     3.722580e+07\n",
       "7      JU     3.479035e+07\n",
       "8      LU     5.502406e+07\n",
       "9      NE     4.018976e+08\n",
       "11     SG     9.137437e+07\n",
       "12     SH     1.766910e+05\n",
       "13     SO     4.277191e+07\n",
       "14     SZ     9.365510e+05\n",
       "15     TG     5.801312e+06\n",
       "16     TI     1.563997e+08\n",
       "17     VD     2.406005e+09\n",
       "18     VS     3.218318e+07\n",
       "19     ZG     4.957150e+05\n",
       "20     ZH     3.747254e+09"
      ]
     },
     "execution_count": 15,
     "metadata": {},
     "output_type": "execute_result"
    }
   ],
   "source": [
    "df = uni_inst.groupby(['canton'])\n",
    "df = df.agg({'Approved Amount':'sum'}).reset_index()\n",
    "df = df[df.canton != 'None']\n",
    "df.to_csv(\"data/grants_per_canton.csv\", sep=';')\n",
    "df"
   ]
  }
 ],
 "metadata": {
  "anaconda-cloud": {},
  "kernelspec": {
   "display_name": "Python [Root]",
   "language": "python",
   "name": "Python [Root]"
  },
  "language_info": {
   "codemirror_mode": {
    "name": "ipython",
    "version": 3
   },
   "file_extension": ".py",
   "mimetype": "text/x-python",
   "name": "python",
   "nbconvert_exporter": "python",
   "pygments_lexer": "ipython3",
   "version": "3.5.2"
  }
 },
 "nbformat": 4,
 "nbformat_minor": 0
}

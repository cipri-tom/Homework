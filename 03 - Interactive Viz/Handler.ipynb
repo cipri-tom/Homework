{
 "cells": [
  {
   "cell_type": "markdown",
   "metadata": {},
   "source": [
    "# Homework 3 -- Cloropleth map of grants in Swiss universities"
   ]
  },
  {
   "cell_type": "code",
   "execution_count": 27,
   "metadata": {
    "collapsed": true
   },
   "outputs": [],
   "source": [
    "# imports and all that\n",
    "import pandas as pd"
   ]
  },
  {
   "cell_type": "markdown",
   "metadata": {},
   "source": [
    "### Data wrangling"
   ]
  },
  {
   "cell_type": "code",
   "execution_count": 30,
   "metadata": {
    "collapsed": false
   },
   "outputs": [
    {
     "data": {
      "text/plain": [
       "(48574, 8)"
      ]
     },
     "execution_count": 30,
     "metadata": {},
     "output_type": "execute_result"
    }
   ],
   "source": [
    "grants = pd.read_csv(\"data/P3_GrantExport.csv\", sep=';', index_col=0)\n",
    "grants.size\n",
    "grants.shape"
   ]
  },
  {
   "cell_type": "markdown",
   "metadata": {},
   "source": [
    "We'll try to reduce the dataset by removing the entries that are not in CH and irrelevant columns.\n",
    "We also remove data where location cannot be inferred, i.e. which are missing both the institute and the university\n",
    "\n",
    "These changes can be safely persisted in the file, as it will not influence the data we work with."
   ]
  },
  {
   "cell_type": "code",
   "execution_count": 31,
   "metadata": {
    "collapsed": false
   },
   "outputs": [
    {
     "data": {
      "text/plain": [
       "(48574, 8)"
      ]
     },
     "execution_count": 31,
     "metadata": {},
     "output_type": "execute_result"
    }
   ],
   "source": [
    "grants = grants[grants.University.notnull()]\n",
    "grants = grants.drop(axis=1, errors='ignore', labels=['Project Title', 'Project Title English',\n",
    "            'Responsible Applicant', 'Funding Instrument', 'Funding Instrument Hierarchy', 'Keywords'])\n",
    "\n",
    "# drop rows where location cannot be inferred\n",
    "filter_no_location = ~((grants.University == \"Nicht zuteilbar - NA\") & (grants.Institution.isnull()))\n",
    "grants = grants[filter_no_location]\n",
    "grants.dtypes\n",
    "grants.shape"
   ]
  },
  {
   "cell_type": "code",
   "execution_count": 32,
   "metadata": {
    "collapsed": false
   },
   "outputs": [
    {
     "data": {
      "text/plain": [
       "(48464, 8)"
      ]
     },
     "execution_count": 32,
     "metadata": {},
     "output_type": "execute_result"
    }
   ],
   "source": [
    "# Sum entries in the Approved Amount column are not numeric and such are being dropped\n",
    "grants['Approved Amount'] = pd.to_numeric(grants['Approved Amount'], errors='coerce')\n",
    "grants = grants[grants['Approved Amount'].isnull() == False]\n",
    "grants.shape"
   ]
  },
  {
   "cell_type": "code",
   "execution_count": 33,
   "metadata": {
    "collapsed": true
   },
   "outputs": [],
   "source": [
    "# Run if you want to update the csv\n",
    "#grants.to_csv(\"data/P3_GrantExport.csv\", sep=';') # keep the same sep"
   ]
  },
  {
   "cell_type": "code",
   "execution_count": 39,
   "metadata": {
    "collapsed": true
   },
   "outputs": [],
   "source": [
    "import re\n",
    "def getLocationTagFromUni(s):\n",
    "    return re.findall(r'\\S+', s)[-1]"
   ]
  },
  {
   "cell_type": "code",
   "execution_count": 40,
   "metadata": {
    "collapsed": false
   },
   "outputs": [
    {
     "data": {
      "text/html": [
       "<div>\n",
       "<table border=\"1\" class=\"dataframe\">\n",
       "  <thead>\n",
       "    <tr style=\"text-align: right;\">\n",
       "      <th></th>\n",
       "      <th>Institution</th>\n",
       "      <th>University</th>\n",
       "      <th>Discipline Number</th>\n",
       "      <th>Discipline Name</th>\n",
       "      <th>Discipline Name Hierarchy</th>\n",
       "      <th>Start Date</th>\n",
       "      <th>End Date</th>\n",
       "      <th>Approved Amount</th>\n",
       "      <th>Location Tag</th>\n",
       "    </tr>\n",
       "    <tr>\n",
       "      <th>﻿\"Project Number\"</th>\n",
       "      <th></th>\n",
       "      <th></th>\n",
       "      <th></th>\n",
       "      <th></th>\n",
       "      <th></th>\n",
       "      <th></th>\n",
       "      <th></th>\n",
       "      <th></th>\n",
       "      <th></th>\n",
       "    </tr>\n",
       "  </thead>\n",
       "  <tbody>\n",
       "    <tr>\n",
       "      <th>4</th>\n",
       "      <td>Faculté de Psychologie et des Sciences de l'Ed...</td>\n",
       "      <td>Université de Genève - GE</td>\n",
       "      <td>10104</td>\n",
       "      <td>Educational science and Pedagogy</td>\n",
       "      <td>Human and Social Sciences;Psychology, educatio...</td>\n",
       "      <td>01.10.1975</td>\n",
       "      <td>30.09.1976</td>\n",
       "      <td>41022.0</td>\n",
       "      <td>GE</td>\n",
       "    </tr>\n",
       "    <tr>\n",
       "      <th>5</th>\n",
       "      <td>Kommission für das Corpus philosophorum medii ...</td>\n",
       "      <td>NPO (Biblioth., Museen, Verwalt.) - NPO</td>\n",
       "      <td>10101</td>\n",
       "      <td>Philosophy</td>\n",
       "      <td>Human and Social Sciences;Linguistics and lite...</td>\n",
       "      <td>01.03.1976</td>\n",
       "      <td>28.02.1985</td>\n",
       "      <td>79732.0</td>\n",
       "      <td>NPO</td>\n",
       "    </tr>\n",
       "    <tr>\n",
       "      <th>6</th>\n",
       "      <td>Abt. Handschriften und Alte Drucke Bibliothek ...</td>\n",
       "      <td>Universität Basel - BS</td>\n",
       "      <td>10302</td>\n",
       "      <td>Swiss history</td>\n",
       "      <td>Human and Social Sciences;Theology &amp; religious...</td>\n",
       "      <td>01.10.1975</td>\n",
       "      <td>30.09.1976</td>\n",
       "      <td>52627.0</td>\n",
       "      <td>BS</td>\n",
       "    </tr>\n",
       "    <tr>\n",
       "      <th>7</th>\n",
       "      <td>Schweiz. Thesauruskommission</td>\n",
       "      <td>NPO (Biblioth., Museen, Verwalt.) - NPO</td>\n",
       "      <td>10303</td>\n",
       "      <td>Ancient history and Classical studies</td>\n",
       "      <td>Human and Social Sciences;Theology &amp; religious...</td>\n",
       "      <td>01.01.1976</td>\n",
       "      <td>30.04.1978</td>\n",
       "      <td>120042.0</td>\n",
       "      <td>NPO</td>\n",
       "    </tr>\n",
       "    <tr>\n",
       "      <th>8</th>\n",
       "      <td>Séminaire de politique économique, d'économie ...</td>\n",
       "      <td>Université de Fribourg - FR</td>\n",
       "      <td>10203</td>\n",
       "      <td>Economics</td>\n",
       "      <td>Human and Social Sciences;Economics, law</td>\n",
       "      <td>01.01.1976</td>\n",
       "      <td>31.12.1978</td>\n",
       "      <td>53009.0</td>\n",
       "      <td>FR</td>\n",
       "    </tr>\n",
       "  </tbody>\n",
       "</table>\n",
       "</div>"
      ],
      "text/plain": [
       "                                                         Institution  \\\n",
       "﻿\"Project Number\"                                                      \n",
       "4                  Faculté de Psychologie et des Sciences de l'Ed...   \n",
       "5                  Kommission für das Corpus philosophorum medii ...   \n",
       "6                  Abt. Handschriften und Alte Drucke Bibliothek ...   \n",
       "7                                       Schweiz. Thesauruskommission   \n",
       "8                  Séminaire de politique économique, d'économie ...   \n",
       "\n",
       "                                                University  Discipline Number  \\\n",
       "﻿\"Project Number\"                                                               \n",
       "4                                Université de Genève - GE              10104   \n",
       "5                  NPO (Biblioth., Museen, Verwalt.) - NPO              10101   \n",
       "6                                   Universität Basel - BS              10302   \n",
       "7                  NPO (Biblioth., Museen, Verwalt.) - NPO              10303   \n",
       "8                              Université de Fribourg - FR              10203   \n",
       "\n",
       "                                         Discipline Name  \\\n",
       "﻿\"Project Number\"                                          \n",
       "4                       Educational science and Pedagogy   \n",
       "5                                             Philosophy   \n",
       "6                                          Swiss history   \n",
       "7                  Ancient history and Classical studies   \n",
       "8                                              Economics   \n",
       "\n",
       "                                           Discipline Name Hierarchy  \\\n",
       "﻿\"Project Number\"                                                      \n",
       "4                  Human and Social Sciences;Psychology, educatio...   \n",
       "5                  Human and Social Sciences;Linguistics and lite...   \n",
       "6                  Human and Social Sciences;Theology & religious...   \n",
       "7                  Human and Social Sciences;Theology & religious...   \n",
       "8                           Human and Social Sciences;Economics, law   \n",
       "\n",
       "                   Start Date    End Date  Approved Amount Location Tag  \n",
       "﻿\"Project Number\"                                                        \n",
       "4                  01.10.1975  30.09.1976          41022.0           GE  \n",
       "5                  01.03.1976  28.02.1985          79732.0          NPO  \n",
       "6                  01.10.1975  30.09.1976          52627.0           BS  \n",
       "7                  01.01.1976  30.04.1978         120042.0          NPO  \n",
       "8                  01.01.1976  31.12.1978          53009.0           FR  "
      ]
     },
     "execution_count": 40,
     "metadata": {},
     "output_type": "execute_result"
    }
   ],
   "source": [
    "grants['Location Tag'] = grants['University'].apply(getLocationTagFromUni)\n",
    "grants.head()"
   ]
  },
  {
   "cell_type": "code",
   "execution_count": 66,
   "metadata": {
    "collapsed": false,
    "scrolled": true
   },
   "outputs": [
    {
     "data": {
      "text/plain": [
       "(77, 1)"
      ]
     },
     "execution_count": 66,
     "metadata": {},
     "output_type": "execute_result"
    }
   ],
   "source": [
    "# Grouped by 'University' and the total funds each gets \n",
    "grants_grouped_by_uni = grants.groupby(['Location Tag'])\n",
    "grants_grouped_by_uni = grants_grouped_by_uni.agg({'Approved Amount':'sum'})\n",
    "grants_grouped_by_uni.shape"
   ]
  },
  {
   "cell_type": "markdown",
   "metadata": {},
   "source": [
    "Command line 'voodoo' magic to get the list of cantons from the json file "
   ]
  },
  {
   "cell_type": "code",
   "execution_count": 62,
   "metadata": {
    "collapsed": false
   },
   "outputs": [],
   "source": [
    "cantons =! cat \"ch-cantons.topojson.json\" | grep \"id\\\":\" | cut -d\\\" -f4"
   ]
  },
  {
   "cell_type": "code",
   "execution_count": 67,
   "metadata": {
    "collapsed": false
   },
   "outputs": [
    {
     "data": {
      "text/plain": [
       "26"
      ]
     },
     "execution_count": 67,
     "metadata": {},
     "output_type": "execute_result"
    }
   ],
   "source": [
    "len(cantons)"
   ]
  },
  {
   "cell_type": "markdown",
   "metadata": {},
   "source": [
    "Use Google API to find the location corresponding to the university"
   ]
  },
  {
   "cell_type": "code",
   "execution_count": null,
   "metadata": {
    "collapsed": true
   },
   "outputs": [],
   "source": [
    "google_key=\"0\" #todo insert key\n",
    "url = \"https://maps.googleapis.com/maps/api/place/textsearch/xml?key=\"+google_key+\"&query=\"\n",
    "def get_city(row):\n",
    "    if row.postalcode != None: \n",
    "        r = requests.get(url+row.University)\n",
    "        place = BeautifulSoup(r.text, \"xml\")\n",
    "        result = place.find('result')\n",
    "        if result != None:\n",
    "            city = result.find('formatted_address').text\n",
    "            return city[city.index(',')+2:city.index(',')+6]\n",
    "    \n",
    "#grants_grouped_by_uni['postalcode'] = grants_grouped_by_uni.apply(get_city, axis=1)\n",
    "#grants_grouped_by_uni.loc[grants_grouped_by_uni['Location Tag'] == \"BE\", 'postalcode'] = 3012\n",
    "grants_grouped_by_uni.head()"
   ]
  },
  {
   "cell_type": "markdown",
   "metadata": {},
   "source": [
    "TODO:"
   ]
  },
  {
   "cell_type": "markdown",
   "metadata": {},
   "source": [
    "* we got 77 location tags and 26 cantons\n",
    "* so the non-canton locations need to be mapped to cantons\n",
    "* identify the 'how'\n",
    "* also split NPO"
   ]
  }
 ],
 "metadata": {
  "anaconda-cloud": {},
  "kernelspec": {
   "display_name": "Python [Root]",
   "language": "python",
   "name": "Python [Root]"
  },
  "language_info": {
   "codemirror_mode": {
    "name": "ipython",
    "version": 3
   },
   "file_extension": ".py",
   "mimetype": "text/x-python",
   "name": "python",
   "nbconvert_exporter": "python",
   "pygments_lexer": "ipython3",
   "version": "3.5.2"
  }
 },
 "nbformat": 4,
 "nbformat_minor": 0
}

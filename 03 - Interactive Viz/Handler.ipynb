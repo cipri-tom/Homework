{
 "cells": [
  {
   "cell_type": "markdown",
   "metadata": {},
   "source": [
    "# Homework 3 -- Cloropleth map of grants in Swiss universities"
   ]
  },
  {
   "cell_type": "code",
   "execution_count": null,
   "metadata": {
    "collapsed": false
   },
   "outputs": [],
   "source": [
    "# imports and all that\n",
    "import pandas as pd\n",
    "import requests\n",
    "from bs4 import BeautifulSoup"
   ]
  },
  {
   "cell_type": "markdown",
   "metadata": {},
   "source": [
    "### Data wrangling"
   ]
  },
  {
   "cell_type": "code",
   "execution_count": null,
   "metadata": {
    "collapsed": false
   },
   "outputs": [],
   "source": [
    "grants = pd.read_csv(\"data/P3_GrantExport.csv\", sep=';', index_col=0)\n",
    "grants.size\n",
    "grants.shape"
   ]
  },
  {
   "cell_type": "markdown",
   "metadata": {},
   "source": [
    "We'll try to reduce the dataset by removing the entries that are not in CH and irrelevant columns.\n",
    "We also remove data where location cannot be inferred, i.e. which are missing both the institute and the university\n",
    "\n",
    "These changes can be safely persisted in the file, as it will not influence the data we work with."
   ]
  },
  {
   "cell_type": "code",
   "execution_count": null,
   "metadata": {
    "collapsed": false
   },
   "outputs": [],
   "source": [
    "grants = grants[grants.University.notnull()]\n",
    "grants = grants.drop(axis=1, errors='ignore', labels=['Project Title', 'Project Title English',\n",
    "            'Responsible Applicant', 'Funding Instrument', 'Funding Instrument Hierarchy', 'Keywords'])\n",
    "\n",
    "# drop rows where location cannot be inferred\n",
    "filter_no_location = ~((grants.University == \"Nicht zuteilbar - NA\") & (grants.Institution.isnull()))\n",
    "grants = grants[filter_no_location]\n",
    "grants.dtypes\n",
    "grants.shape"
   ]
  },
  {
   "cell_type": "code",
   "execution_count": null,
   "metadata": {
    "collapsed": false
   },
   "outputs": [],
   "source": [
    "# Sum entries in the Approved Amount column are not numeric and such are being dropped\n",
    "grants['Approved Amount'] = pd.to_numeric(grants['Approved Amount'], errors='coerce')\n",
    "grants = grants[grants['Approved Amount'].isnull() == False]\n",
    "grants.shape"
   ]
  },
  {
   "cell_type": "code",
   "execution_count": null,
   "metadata": {
    "collapsed": true
   },
   "outputs": [],
   "source": [
    "# Run if you want to update the csv\n",
    "#grants.to_csv(\"data/P3_GrantExport.csv\", sep=';') # keep the same sep"
   ]
  },
  {
   "cell_type": "code",
   "execution_count": null,
   "metadata": {
    "collapsed": true
   },
   "outputs": [],
   "source": [
    "import re\n",
    "def getLocationTagFromUni(s):\n",
    "    return re.findall(r'\\S+', s)[-1]"
   ]
  },
  {
   "cell_type": "code",
   "execution_count": null,
   "metadata": {
    "collapsed": false
   },
   "outputs": [],
   "source": [
    "grants['Location Tag'] = grants['University'].apply(getLocationTagFromUni)\n",
    "grants.head()"
   ]
  },
  {
   "cell_type": "code",
   "execution_count": null,
   "metadata": {
    "collapsed": false,
    "scrolled": true
   },
   "outputs": [],
   "source": [
    "# Grouped by 'University' and the total funds each gets \n",
    "grants_grouped_by_uni = grants.groupby(['Location Tag', 'University'])\n",
    "grants_grouped_by_uni = grants_grouped_by_uni.agg({'Approved Amount':'sum'}).reset_index()\n",
    "grants_grouped_by_uni.shape"
   ]
  },
  {
   "cell_type": "markdown",
   "metadata": {},
   "source": [
    "Command line 'voodoo' magic to get the list of cantons from the json file "
   ]
  },
  {
   "cell_type": "code",
   "execution_count": null,
   "metadata": {
    "collapsed": false
   },
   "outputs": [],
   "source": [
    "cantons =! cat \"ch-cantons.topojson.json\" | grep \"id\\\":\" | cut -d\\\" -f4"
   ]
  },
  {
   "cell_type": "code",
   "execution_count": null,
   "metadata": {
    "collapsed": false
   },
   "outputs": [],
   "source": [
    "len(cantons)"
   ]
  },
  {
   "cell_type": "markdown",
   "metadata": {},
   "source": [
    "Use Google API to find the location corresponding to the university"
   ]
  },
  {
   "cell_type": "code",
   "execution_count": null,
   "metadata": {
    "collapsed": false
   },
   "outputs": [],
   "source": [
    "google_key=\"0\"\n",
    "url = \"https://maps.googleapis.com/maps/api/place/textsearch/xml?key=\"+google_key+\"&query=\"\n",
    "def get_city(row):\n",
    "    #if row.postalcode != None: \n",
    "    r = requests.get(url+row.University)\n",
    "    print(r.text)\n",
    "    place = BeautifulSoup(r.text, \"xml\")\n",
    "    result = place.find('result')\n",
    "    if result != None:\n",
    "        city = result.find('formatted_address').text\n",
    "        return city[city.index(',')+2:city.index(',')+6]\n",
    "    \n",
    "#grants_grouped_by_uni['postalcode'] = grants_grouped_by_uni.apply(get_city, axis=1)\n",
    "#grants_grouped_by_uni.loc[grants_grouped_by_uni['Location Tag'] == \"BE\", 'postalcode'] = 3012\n",
    "grants_grouped_by_uni.head()"
   ]
  },
  {
   "cell_type": "code",
   "execution_count": null,
   "metadata": {
    "collapsed": false
   },
   "outputs": [],
   "source": [
    "frame = grants_grouped_by_uni.iloc[0:5]\n",
    "#frame['postalcode'] = frame.apply(get_city, axis=1)\n",
    "frame"
   ]
  },
  {
   "cell_type": "markdown",
   "metadata": {},
   "source": [
    "TODO:"
   ]
  },
  {
   "cell_type": "markdown",
   "metadata": {},
   "source": [
    "* we got 77 location tags and 26 cantons\n",
    "* so the non-canton locations need to be mapped to cantons\n",
    "* identify the 'how'\n",
    "* also split NPO"
   ]
  }
 ],
 "metadata": {
  "anaconda-cloud": {},
  "kernelspec": {
   "display_name": "Python [Root]",
   "language": "python",
   "name": "Python [Root]"
  },
  "language_info": {
   "codemirror_mode": {
    "name": "ipython",
    "version": 3
   },
   "file_extension": ".py",
   "mimetype": "text/x-python",
   "name": "python",
   "nbconvert_exporter": "python",
   "pygments_lexer": "ipython3",
   "version": "3.5.2"
  }
 },
 "nbformat": 4,
 "nbformat_minor": 0
}

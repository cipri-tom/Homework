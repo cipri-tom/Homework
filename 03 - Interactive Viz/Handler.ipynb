{
 "cells": [
  {
   "cell_type": "markdown",
   "metadata": {},
   "source": [
    "# Homework 3 -- Cloropleth map of grants in Swiss universities"
   ]
  },
  {
   "cell_type": "code",
   "execution_count": 1,
   "metadata": {
    "collapsed": false
   },
   "outputs": [],
   "source": [
    "# imports and all that\n",
    "import pandas as pd\n",
    "import requests\n",
    "from bs4 import BeautifulSoup\n",
    "import os.path\n",
    "import os, random\n",
    "import time"
   ]
  },
  {
   "cell_type": "markdown",
   "metadata": {},
   "source": [
    "### Data wrangling"
   ]
  },
  {
   "cell_type": "code",
   "execution_count": 2,
   "metadata": {
    "collapsed": false
   },
   "outputs": [
    {
     "data": {
      "text/plain": [
       "(48464, 8)"
      ]
     },
     "execution_count": 2,
     "metadata": {},
     "output_type": "execute_result"
    }
   ],
   "source": [
    "grants = pd.read_csv(\"data/P3_GrantExport.csv\", sep=';', index_col=0)\n",
    "grants.size\n",
    "grants.shape"
   ]
  },
  {
   "cell_type": "markdown",
   "metadata": {},
   "source": [
    "We'll try to reduce the dataset by removing the entries that are not in CH and irrelevant columns. The foreign institutes don't have a valid entry in `University` field\n",
    "\n",
    "These changes can be safely persisted in the file, as it will not influence the data we work with."
   ]
  },
  {
   "cell_type": "code",
   "execution_count": 3,
   "metadata": {
    "collapsed": false
   },
   "outputs": [
    {
     "data": {
      "text/plain": [
       "(48283, 8)"
      ]
     },
     "execution_count": 3,
     "metadata": {},
     "output_type": "execute_result"
    }
   ],
   "source": [
    "grants = grants[(grants.University.notnull()) & (grants.University != \"Nicht zuteilbar - NA\")]\n",
    "grants = grants.drop(axis=1, errors='ignore', labels=['Project Title', 'Project Title English',\n",
    "            'Responsible Applicant', 'Funding Instrument', 'Funding Instrument Hierarchy', 'Keywords'])\n",
    "\n",
    "grants.dtypes\n",
    "grants.shape"
   ]
  },
  {
   "cell_type": "markdown",
   "metadata": {},
   "source": [
    "Some entries in the Approved Amount column are not numeric so they are being dropped"
   ]
  },
  {
   "cell_type": "code",
   "execution_count": 4,
   "metadata": {
    "collapsed": false
   },
   "outputs": [
    {
     "data": {
      "text/plain": [
       "(48283, 8)"
      ]
     },
     "execution_count": 4,
     "metadata": {},
     "output_type": "execute_result"
    }
   ],
   "source": [
    "grants['Approved Amount'] = pd.to_numeric(grants['Approved Amount'], errors='coerce')\n",
    "grants = grants[grants['Approved Amount'].notnull()]\n",
    "grants.shape"
   ]
  },
  {
   "cell_type": "code",
   "execution_count": 5,
   "metadata": {
    "collapsed": true
   },
   "outputs": [],
   "source": [
    "# Run if you want to update the csv\n",
    "#grants.to_csv(\"data/P3_GrantExport.csv\", sep=';') # keep the same sep"
   ]
  },
  {
   "cell_type": "markdown",
   "metadata": {},
   "source": [
    "We will group the results on university and combinate those with the NPO category that cannot be grouped on university.\n",
    "This will allow us to llopu either the university or the institute to find a location."
   ]
  },
  {
   "cell_type": "code",
   "execution_count": 6,
   "metadata": {
    "collapsed": true
   },
   "outputs": [],
   "source": [
    "import re\n",
    "def getLocationTagFromUni(s):\n",
    "    return re.findall(r'\\S+', s)[-1]"
   ]
  },
  {
   "cell_type": "code",
   "execution_count": 7,
   "metadata": {
    "collapsed": false,
    "scrolled": true
   },
   "outputs": [
    {
     "data": {
      "text/plain": [
       "(75, 3)"
      ]
     },
     "execution_count": 7,
     "metadata": {},
     "output_type": "execute_result"
    }
   ],
   "source": [
    "grants['Location Tag'] = grants['University'].apply(getLocationTagFromUni)\n",
    "universities = grants.groupby(['Location Tag', 'University'])\n",
    "universities = universities.agg({'Approved Amount':'sum'}).reset_index()\n",
    "universities = universities[~universities.University.str.startswith(\"NPO\")]\n",
    "universities.columns = ['Location Tag', 'Institution', 'Approved Amount']\n",
    "universities.shape"
   ]
  },
  {
   "cell_type": "code",
   "execution_count": 8,
   "metadata": {
    "collapsed": false
   },
   "outputs": [
    {
     "data": {
      "text/plain": [
       "(450, 2)"
      ]
     },
     "execution_count": 8,
     "metadata": {},
     "output_type": "execute_result"
    }
   ],
   "source": [
    "institutes = grants[grants.University.str.startswith(\"NPO\")]\n",
    "institutes = institutes.groupby('Institution').agg({'Approved Amount':'sum'}).reset_index()\n",
    "institutes.shape"
   ]
  },
  {
   "cell_type": "markdown",
   "metadata": {},
   "source": [
    "Combine the two dataframes"
   ]
  },
  {
   "cell_type": "code",
   "execution_count": 9,
   "metadata": {
    "collapsed": false
   },
   "outputs": [],
   "source": [
    "frame = pd.concat([universities, institutes])"
   ]
  },
  {
   "cell_type": "markdown",
   "metadata": {},
   "source": [
    "### Find location of institutes"
   ]
  },
  {
   "cell_type": "markdown",
   "metadata": {},
   "source": [
    "Use Google API to find the location corresponding to the university. This will only run once and save the results of the requests into a file."
   ]
  },
  {
   "cell_type": "code",
   "execution_count": 10,
   "metadata": {
    "collapsed": false
   },
   "outputs": [
    {
     "name": "stdout",
     "output_type": "stream",
     "text": [
      "File already exists data/requests.txt\n"
     ]
    }
   ],
   "source": [
    "google_key=\"0\" #todo insert google api key\n",
    "data = 'data/requests.txt'\n",
    "url = \"https://maps.googleapis.com/maps/api/place/textsearch/xml?key=\"+google_key+\"&query=\"\n",
    "\n",
    "def get_city(row):\n",
    "    r = requests.get(url+row.Institution)\n",
    "    with open(data, \"a\") as myfile:\n",
    "        myfile.write(r.text)\n",
    "                \n",
    "if not os.path.isfile(data): \n",
    "    print(\"Creating file %s\" % data)\n",
    "    with open(data, \"a\") as myfile:\n",
    "        myfile.write(\"<?xml version=\\\"1.0\\\" encoding=\\\"UTF-8\\\"?><results>\")\n",
    "    frame.apply(get_city, axis=1)\n",
    "    with open(data, \"a\") as myfile:\n",
    "        myfile.write(\"</results>\")\n",
    "else:\n",
    "    print(\"File already exists %s\" %data)"
   ]
  },
  {
   "cell_type": "markdown",
   "metadata": {},
   "source": [
    "Load the results for the google requests and filter out the postalcodes of the Universities location. This will later be used to find the canton."
   ]
  },
  {
   "cell_type": "code",
   "execution_count": 12,
   "metadata": {
    "collapsed": false
   },
   "outputs": [
    {
     "name": "stdout",
     "output_type": "stream",
     "text": [
      "AGRIDEA\n",
      "<PlaceSearchResponse>\n",
      "<status>OK</status>\n",
      "<result>\n",
      "<name>AGRIDEA</name>\n",
      "<type>point_of_interest</type>\n",
      "<type>establishment</type>\n",
      "<formatted_address>Eschikon 28, 8315 Lindau, Switzerland</formatted_address>\n",
      "<geometry>\n",
      "<location>\n",
      "<lat>47.4479074</lat>\n",
      "<lng>8.6829233</lng>\n",
      "</location>\n",
      "<viewport>\n",
      "<southwest>\n",
      "<lat>47.4475511</lat>\n",
      "<lng>8.6824247</lng>\n",
      "</southwest>\n",
      "<northeast>\n",
      "<lat>47.4489763</lat>\n",
      "<lng>8.6830895</lng>\n",
      "</northeast>\n",
      "</viewport>\n",
      "</geometry>\n",
      "<icon>https://maps.gstatic.com/mapfiles/place_api/icons/generic_business-71.png</icon>\n",
      "<reference>CmRSAAAA3iRwnt1u3FZfb3G-TbLe2dI7NBdNkSLsCGmXpVxT_qEUvkfBYIDLVhe5qnYQpV0zHK5hkLxXmoOnEDV2x_vnOt-tUJY1WuYdK1g-djtAKsjWkmWZC_Wgb5qwwkIXhOwPEhD2axgGkK9s5Ehj9BNOAIDkGhTAXX7-i84aK_eFgAoNVoHuevvCrQ</reference>\n",
      "<id>5f7b7dec370addb43220cccdf4d7d0995a3c04f6</id>\n",
      "<opening_hours>\n",
      "<open_now>false</open_now>\n",
      "</opening_hours>\n",
      "<photo>\n",
      "<photo_reference>CoQBcwAAAC5pDUpjykL-u-oPzpOzXB8u_1FwiiTXsJrrwQn_6BpB1TD2o2IDqQEdvyCNgG-1Qbt0B1VJ_Maos0Vo91hCtdw8GsU60xoZJb5ydTYpge9EtP7eKW9VpojY_6Z9sA2Cy5rn3qTm0FdYutYSKDXXDRlZ34aoUNC-yjl24JWL55HMEhADZVMZLl93zsGNf59zavSjGhSoLbSVsBgpBDlGx6kt8r2kW_9hcw</photo_reference>\n",
      "<width>1358</width>\n",
      "<height>679</height>\n",
      "<html_attribution>a href=https://maps.google.com/maps/contrib/107035185181041380184/photosAGRIDEA (Standort Lindau)/a</html_attribution>\n",
      "</photo>\n",
      "<place_id>ChIJTaW8RLyYmkcR84k8AzUYYYI</place_id>\n",
      "</result>\n",
      "</PlaceSearchResponse>\n",
      "city\n"
     ]
    },
    {
     "data": {
      "text/html": [
       "<div>\n",
       "<table border=\"1\" class=\"dataframe\">\n",
       "  <thead>\n",
       "    <tr style=\"text-align: right;\">\n",
       "      <th></th>\n",
       "      <th>Approved Amount</th>\n",
       "      <th>Institution</th>\n",
       "      <th>Location Tag</th>\n",
       "      <th>postalcode</th>\n",
       "    </tr>\n",
       "  </thead>\n",
       "  <tbody>\n",
       "    <tr>\n",
       "      <th>0</th>\n",
       "      <td>663264.0</td>\n",
       "      <td>AGGS Staatsarchiv</td>\n",
       "      <td>NaN</td>\n",
       "      <td>None</td>\n",
       "    </tr>\n",
       "    <tr>\n",
       "      <th>1</th>\n",
       "      <td>911248.0</td>\n",
       "      <td>AGRIDEA</td>\n",
       "      <td>NaN</td>\n",
       "      <td>None</td>\n",
       "    </tr>\n",
       "    <tr>\n",
       "      <th>2</th>\n",
       "      <td>5553504.0</td>\n",
       "      <td>Aargauer Kantonsbibliothek</td>\n",
       "      <td>NaN</td>\n",
       "      <td>None</td>\n",
       "    </tr>\n",
       "    <tr>\n",
       "      <th>3</th>\n",
       "      <td>12380.0</td>\n",
       "      <td>Aargauer Kantonsschule Baden</td>\n",
       "      <td>NaN</td>\n",
       "      <td>None</td>\n",
       "    </tr>\n",
       "    <tr>\n",
       "      <th>4</th>\n",
       "      <td>1000122.0</td>\n",
       "      <td>Abteilung Biochemie Biozentrum Universität Basel</td>\n",
       "      <td>NaN</td>\n",
       "      <td>3012</td>\n",
       "    </tr>\n",
       "    <tr>\n",
       "      <th>5</th>\n",
       "      <td>230218.0</td>\n",
       "      <td>Abteilung Geowissenschaften Naturhistorisches ...</td>\n",
       "      <td>NaN</td>\n",
       "      <td>3401</td>\n",
       "    </tr>\n",
       "    <tr>\n",
       "      <th>6</th>\n",
       "      <td>188000.0</td>\n",
       "      <td>Abteilung Mikrobiologie Biozentrum Universität...</td>\n",
       "      <td>NaN</td>\n",
       "      <td>8280</td>\n",
       "    </tr>\n",
       "    <tr>\n",
       "      <th>7</th>\n",
       "      <td>180269.0</td>\n",
       "      <td>Abwasserverband Altenrhein</td>\n",
       "      <td>NaN</td>\n",
       "      <td>4003</td>\n",
       "    </tr>\n",
       "    <tr>\n",
       "      <th>8</th>\n",
       "      <td>504497.0</td>\n",
       "      <td>Addiction Info Suisse</td>\n",
       "      <td>NaN</td>\n",
       "      <td>1950</td>\n",
       "    </tr>\n",
       "    <tr>\n",
       "      <th>9</th>\n",
       "      <td>4000.0</td>\n",
       "      <td>Agrogen-Stiftung</td>\n",
       "      <td>NaN</td>\n",
       "      <td>None</td>\n",
       "    </tr>\n",
       "  </tbody>\n",
       "</table>\n",
       "</div>"
      ],
      "text/plain": [
       "   Approved Amount                                        Institution  \\\n",
       "0         663264.0                                  AGGS Staatsarchiv   \n",
       "1         911248.0                                            AGRIDEA   \n",
       "2        5553504.0                         Aargauer Kantonsbibliothek   \n",
       "3          12380.0                       Aargauer Kantonsschule Baden   \n",
       "4        1000122.0   Abteilung Biochemie Biozentrum Universität Basel   \n",
       "5         230218.0  Abteilung Geowissenschaften Naturhistorisches ...   \n",
       "6         188000.0  Abteilung Mikrobiologie Biozentrum Universität...   \n",
       "7         180269.0                         Abwasserverband Altenrhein   \n",
       "8         504497.0                              Addiction Info Suisse   \n",
       "9           4000.0                                   Agrogen-Stiftung   \n",
       "\n",
       "  Location Tag postalcode  \n",
       "0          NaN       None  \n",
       "1          NaN       None  \n",
       "2          NaN       None  \n",
       "3          NaN       None  \n",
       "4          NaN       3012  \n",
       "5          NaN       3401  \n",
       "6          NaN       8280  \n",
       "7          NaN       4003  \n",
       "8          NaN       1950  \n",
       "9          NaN       None  "
      ]
     },
     "execution_count": 12,
     "metadata": {},
     "output_type": "execute_result"
    }
   ],
   "source": [
    "results = BeautifulSoup(open(data, encoding=\"latin_1\"), \"xml\")\n",
    "frame['postalcode'] = 'None'\n",
    "i = 0\n",
    "for response in results.find_all('PlaceSearchResponse'):\n",
    "    if i == 76:\n",
    "        print(frame.iloc[i].Institution)\n",
    "        print(response)\n",
    "    result = response.find('result')\n",
    "    if result != None:\n",
    "        city = result.find('formatted_address').text\n",
    "        if \"Switzerland\" in city:\n",
    "            if i == 76:\n",
    "                print(\"city\")\n",
    "            pc = str(city[city.index(',')+2:city.index(',')+6])\n",
    "            if (pc.isdigit()):\n",
    "                frame.set_value(i, 'postalcode', pc)\n",
    "            else:\n",
    "                frame.set_value(i, 'postalcode', city)\n",
    "    i += 1\n",
    "frame.iloc[75:85]"
   ]
  },
  {
   "cell_type": "markdown",
   "metadata": {},
   "source": [
    "For the universities that were found we will use the geonames api to find the canton based on the postalcode."
   ]
  },
  {
   "cell_type": "code",
   "execution_count": null,
   "metadata": {
    "collapsed": false
   },
   "outputs": [],
   "source": [
    "username = \"juta\" #todo add username\n",
    "url = \"http://api.geonames.org/postalCodeSearch?maxRows=1&username=\"+username+\"&country=ch&postalcode=\"\n",
    "\n",
    "def get_canton(row):\n",
    "    if row.postalcode.isdigit():\n",
    "        r = requests.get(url+row.postalcode)\n",
    "        soup = BeautifulSoup(r.text, \"xml\")\n",
    "        if soup.find('adminCode1'):\n",
    "            return soup.find('adminCode1').text\n",
    "        else:\n",
    "            return 'None'\n",
    "    else:\n",
    "        return 'None'\n",
    "\n",
    "frame['canton'] = frame.apply(get_canton, axis=1)\n",
    "frame.head(10)"
   ]
  },
  {
   "cell_type": "code",
   "execution_count": null,
   "metadata": {
    "collapsed": true
   },
   "outputs": [],
   "source": []
  },
  {
   "cell_type": "markdown",
   "metadata": {},
   "source": [
    "We save the information found to a file in order to manually add some missing locations"
   ]
  },
  {
   "cell_type": "code",
   "execution_count": null,
   "metadata": {
    "collapsed": true
   },
   "outputs": [],
   "source": [
    "universities_data = \"data/universities.csv\"\n",
    "if not os.path.isfile(universities_data):\n",
    "    frame.to_csv(universities_data, sep=',', encoding='latin_1')\n",
    "frame = pd.read_csv(universities_data, sep=',', encoding='latin_1')"
   ]
  },
  {
   "cell_type": "code",
   "execution_count": null,
   "metadata": {
    "collapsed": false
   },
   "outputs": [],
   "source": [
    "df = frame.groupby(['canton'])\n",
    "df = df.agg({'Approved Amount':'sum'}).reset_index()\n",
    "df = df[df.canton != 'None']\n",
    "df.to_csv(\"data/grants_per_canton.csv\", sep=';')\n",
    "df"
   ]
  }
 ],
 "metadata": {
  "anaconda-cloud": {},
  "kernelspec": {
   "display_name": "Python [Root]",
   "language": "python",
   "name": "Python [Root]"
  },
  "language_info": {
   "codemirror_mode": {
    "name": "ipython",
    "version": 3
   },
   "file_extension": ".py",
   "mimetype": "text/x-python",
   "name": "python",
   "nbconvert_exporter": "python",
   "pygments_lexer": "ipython3",
   "version": "3.5.2"
  }
 },
 "nbformat": 4,
 "nbformat_minor": 0
}

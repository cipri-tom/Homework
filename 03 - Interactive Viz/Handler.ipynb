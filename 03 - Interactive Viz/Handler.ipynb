{
 "cells": [
  {
   "cell_type": "markdown",
   "metadata": {},
   "source": [
    "# Homework 3 -- Cloropleth map of grants in Swiss universities"
   ]
  },
  {
   "cell_type": "code",
   "execution_count": 145,
   "metadata": {
    "collapsed": false
   },
   "outputs": [],
   "source": [
    "# imports and all that\n",
    "import pandas as pd\n",
    "import requests\n",
    "from bs4 import BeautifulSoup\n",
    "import os.path"
   ]
  },
  {
   "cell_type": "markdown",
   "metadata": {},
   "source": [
    "### Data wrangling"
   ]
  },
  {
   "cell_type": "code",
   "execution_count": 146,
   "metadata": {
    "collapsed": false
   },
   "outputs": [
    {
     "data": {
      "text/plain": [
       "(48464, 8)"
      ]
     },
     "execution_count": 146,
     "metadata": {},
     "output_type": "execute_result"
    }
   ],
   "source": [
    "grants = pd.read_csv(\"data/P3_GrantExport.csv\", sep=';', index_col=0)\n",
    "grants.size\n",
    "grants.shape"
   ]
  },
  {
   "cell_type": "markdown",
   "metadata": {},
   "source": [
    "We'll try to reduce the dataset by removing the entries that are not in CH and irrelevant columns.\n",
    "We also remove data where location cannot be inferred, i.e. which are missing both the institute and the university\n",
    "\n",
    "These changes can be safely persisted in the file, as it will not influence the data we work with."
   ]
  },
  {
   "cell_type": "code",
   "execution_count": 147,
   "metadata": {
    "collapsed": false
   },
   "outputs": [
    {
     "data": {
      "text/plain": [
       "(48464, 8)"
      ]
     },
     "execution_count": 147,
     "metadata": {},
     "output_type": "execute_result"
    }
   ],
   "source": [
    "grants = grants[grants.University.notnull()]\n",
    "grants = grants.drop(axis=1, errors='ignore', labels=['Project Title', 'Project Title English',\n",
    "            'Responsible Applicant', 'Funding Instrument', 'Funding Instrument Hierarchy', 'Keywords'])\n",
    "\n",
    "# drop rows where location cannot be inferred\n",
    "filter_no_location = ~((grants.University == \"Nicht zuteilbar - NA\") & (grants.Institution.isnull()))\n",
    "grants = grants[filter_no_location]\n",
    "grants.dtypes\n",
    "grants.shape"
   ]
  },
  {
   "cell_type": "code",
   "execution_count": 148,
   "metadata": {
    "collapsed": false
   },
   "outputs": [
    {
     "data": {
      "text/plain": [
       "(48464, 8)"
      ]
     },
     "execution_count": 148,
     "metadata": {},
     "output_type": "execute_result"
    }
   ],
   "source": [
    "# Sum entries in the Approved Amount column are not numeric and such are being dropped\n",
    "grants['Approved Amount'] = pd.to_numeric(grants['Approved Amount'], errors='coerce')\n",
    "grants = grants[grants['Approved Amount'].isnull() == False]\n",
    "grants.shape"
   ]
  },
  {
   "cell_type": "code",
   "execution_count": 149,
   "metadata": {
    "collapsed": true
   },
   "outputs": [],
   "source": [
    "# Run if you want to update the csv\n",
    "#grants.to_csv(\"data/P3_GrantExport.csv\", sep=';') # keep the same sep"
   ]
  },
  {
   "cell_type": "code",
   "execution_count": 150,
   "metadata": {
    "collapsed": true
   },
   "outputs": [],
   "source": [
    "import re\n",
    "def getLocationTagFromUni(s):\n",
    "    return re.findall(r'\\S+', s)[-1]"
   ]
  },
  {
   "cell_type": "code",
   "execution_count": 151,
   "metadata": {
    "collapsed": false
   },
   "outputs": [
    {
     "data": {
      "text/html": [
       "<div>\n",
       "<table border=\"1\" class=\"dataframe\">\n",
       "  <thead>\n",
       "    <tr style=\"text-align: right;\">\n",
       "      <th></th>\n",
       "      <th>Institution</th>\n",
       "      <th>University</th>\n",
       "      <th>Discipline Number</th>\n",
       "      <th>Discipline Name</th>\n",
       "      <th>Discipline Name Hierarchy</th>\n",
       "      <th>Start Date</th>\n",
       "      <th>End Date</th>\n",
       "      <th>Approved Amount</th>\n",
       "      <th>Location Tag</th>\n",
       "    </tr>\n",
       "    <tr>\n",
       "      <th>﻿\"Project Number\"</th>\n",
       "      <th></th>\n",
       "      <th></th>\n",
       "      <th></th>\n",
       "      <th></th>\n",
       "      <th></th>\n",
       "      <th></th>\n",
       "      <th></th>\n",
       "      <th></th>\n",
       "      <th></th>\n",
       "    </tr>\n",
       "  </thead>\n",
       "  <tbody>\n",
       "    <tr>\n",
       "      <th>4</th>\n",
       "      <td>Faculté de Psychologie et des Sciences de l'Ed...</td>\n",
       "      <td>Université de Genève - GE</td>\n",
       "      <td>10104</td>\n",
       "      <td>Educational science and Pedagogy</td>\n",
       "      <td>Human and Social Sciences;Psychology, educatio...</td>\n",
       "      <td>01.10.1975</td>\n",
       "      <td>30.09.1976</td>\n",
       "      <td>41022.0</td>\n",
       "      <td>GE</td>\n",
       "    </tr>\n",
       "    <tr>\n",
       "      <th>5</th>\n",
       "      <td>Kommission für das Corpus philosophorum medii ...</td>\n",
       "      <td>NPO (Biblioth., Museen, Verwalt.) - NPO</td>\n",
       "      <td>10101</td>\n",
       "      <td>Philosophy</td>\n",
       "      <td>Human and Social Sciences;Linguistics and lite...</td>\n",
       "      <td>01.03.1976</td>\n",
       "      <td>28.02.1985</td>\n",
       "      <td>79732.0</td>\n",
       "      <td>NPO</td>\n",
       "    </tr>\n",
       "    <tr>\n",
       "      <th>6</th>\n",
       "      <td>Abt. Handschriften und Alte Drucke Bibliothek ...</td>\n",
       "      <td>Universität Basel - BS</td>\n",
       "      <td>10302</td>\n",
       "      <td>Swiss history</td>\n",
       "      <td>Human and Social Sciences;Theology &amp; religious...</td>\n",
       "      <td>01.10.1975</td>\n",
       "      <td>30.09.1976</td>\n",
       "      <td>52627.0</td>\n",
       "      <td>BS</td>\n",
       "    </tr>\n",
       "    <tr>\n",
       "      <th>7</th>\n",
       "      <td>Schweiz. Thesauruskommission</td>\n",
       "      <td>NPO (Biblioth., Museen, Verwalt.) - NPO</td>\n",
       "      <td>10303</td>\n",
       "      <td>Ancient history and Classical studies</td>\n",
       "      <td>Human and Social Sciences;Theology &amp; religious...</td>\n",
       "      <td>01.01.1976</td>\n",
       "      <td>30.04.1978</td>\n",
       "      <td>120042.0</td>\n",
       "      <td>NPO</td>\n",
       "    </tr>\n",
       "    <tr>\n",
       "      <th>8</th>\n",
       "      <td>Séminaire de politique économique, d'économie ...</td>\n",
       "      <td>Université de Fribourg - FR</td>\n",
       "      <td>10203</td>\n",
       "      <td>Economics</td>\n",
       "      <td>Human and Social Sciences;Economics, law</td>\n",
       "      <td>01.01.1976</td>\n",
       "      <td>31.12.1978</td>\n",
       "      <td>53009.0</td>\n",
       "      <td>FR</td>\n",
       "    </tr>\n",
       "  </tbody>\n",
       "</table>\n",
       "</div>"
      ],
      "text/plain": [
       "                                                         Institution  \\\n",
       "﻿\"Project Number\"                                                      \n",
       "4                  Faculté de Psychologie et des Sciences de l'Ed...   \n",
       "5                  Kommission für das Corpus philosophorum medii ...   \n",
       "6                  Abt. Handschriften und Alte Drucke Bibliothek ...   \n",
       "7                                       Schweiz. Thesauruskommission   \n",
       "8                  Séminaire de politique économique, d'économie ...   \n",
       "\n",
       "                                                University  Discipline Number  \\\n",
       "﻿\"Project Number\"                                                               \n",
       "4                                Université de Genève - GE              10104   \n",
       "5                  NPO (Biblioth., Museen, Verwalt.) - NPO              10101   \n",
       "6                                   Universität Basel - BS              10302   \n",
       "7                  NPO (Biblioth., Museen, Verwalt.) - NPO              10303   \n",
       "8                              Université de Fribourg - FR              10203   \n",
       "\n",
       "                                         Discipline Name  \\\n",
       "﻿\"Project Number\"                                          \n",
       "4                       Educational science and Pedagogy   \n",
       "5                                             Philosophy   \n",
       "6                                          Swiss history   \n",
       "7                  Ancient history and Classical studies   \n",
       "8                                              Economics   \n",
       "\n",
       "                                           Discipline Name Hierarchy  \\\n",
       "﻿\"Project Number\"                                                      \n",
       "4                  Human and Social Sciences;Psychology, educatio...   \n",
       "5                  Human and Social Sciences;Linguistics and lite...   \n",
       "6                  Human and Social Sciences;Theology & religious...   \n",
       "7                  Human and Social Sciences;Theology & religious...   \n",
       "8                           Human and Social Sciences;Economics, law   \n",
       "\n",
       "                   Start Date    End Date  Approved Amount Location Tag  \n",
       "﻿\"Project Number\"                                                        \n",
       "4                  01.10.1975  30.09.1976          41022.0           GE  \n",
       "5                  01.03.1976  28.02.1985          79732.0          NPO  \n",
       "6                  01.10.1975  30.09.1976          52627.0           BS  \n",
       "7                  01.01.1976  30.04.1978         120042.0          NPO  \n",
       "8                  01.01.1976  31.12.1978          53009.0           FR  "
      ]
     },
     "execution_count": 151,
     "metadata": {},
     "output_type": "execute_result"
    }
   ],
   "source": [
    "grants['Location Tag'] = grants['University'].apply(getLocationTagFromUni)\n",
    "grants.head()"
   ]
  },
  {
   "cell_type": "code",
   "execution_count": 152,
   "metadata": {
    "collapsed": false,
    "scrolled": true
   },
   "outputs": [
    {
     "data": {
      "text/plain": [
       "(77, 3)"
      ]
     },
     "execution_count": 152,
     "metadata": {},
     "output_type": "execute_result"
    }
   ],
   "source": [
    "# Grouped by 'University' and the total funds each gets \n",
    "grants_grouped_by_uni = grants.groupby(['Location Tag', 'University'])\n",
    "grants_grouped_by_uni = grants_grouped_by_uni.agg({'Approved Amount':'sum'}).reset_index()\n",
    "grants_grouped_by_uni.shape"
   ]
  },
  {
   "cell_type": "markdown",
   "metadata": {},
   "source": [
    "Command line 'voodoo' magic to get the list of cantons from the json file "
   ]
  },
  {
   "cell_type": "code",
   "execution_count": 153,
   "metadata": {
    "collapsed": false
   },
   "outputs": [],
   "source": [
    "cantons =! cat \"ch-cantons.topojson.json\" | grep \"id\\\":\" | cut -d\\\" -f4"
   ]
  },
  {
   "cell_type": "code",
   "execution_count": 154,
   "metadata": {
    "collapsed": false
   },
   "outputs": [
    {
     "data": {
      "text/plain": [
       "2"
      ]
     },
     "execution_count": 154,
     "metadata": {},
     "output_type": "execute_result"
    }
   ],
   "source": [
    "len(cantons)"
   ]
  },
  {
   "cell_type": "markdown",
   "metadata": {},
   "source": [
    "### Find location of universities"
   ]
  },
  {
   "cell_type": "markdown",
   "metadata": {},
   "source": [
    "Use Google API to find the location corresponding to the university. This will only run once and save the results of the requests into a file."
   ]
  },
  {
   "cell_type": "code",
   "execution_count": 155,
   "metadata": {
    "collapsed": false
   },
   "outputs": [],
   "source": [
    "google_key=\"0\" #todo insert google api key\n",
    "data = 'data/requests.txt'\n",
    "url = \"https://maps.googleapis.com/maps/api/place/textsearch/xml?key=\"+google_key+\"&query=\"\n",
    "\n",
    "def get_city(row):\n",
    "    r = requests.get(url+row.University)\n",
    "    with open(data, \"a\") as myfile:\n",
    "        myfile.write(r.text)\n",
    "                \n",
    "if not os.path.isfile(data):\n",
    "    with open(data, \"a\") as myfile:\n",
    "        myfile.write(\"<?xml version=\\\"1.0\\\" encoding=\\\"UTF-8\\\"?><results>\")\n",
    "    grants_grouped_by_uni.apply(get_city, axis=1)\n",
    "    with open(data, \"a\") as myfile:\n",
    "        myfile.write(\"</results>\")"
   ]
  },
  {
   "cell_type": "markdown",
   "metadata": {},
   "source": [
    "Load the results for the google requests and filter out the postalcodes of the Universities location. This will later be used to find the canton."
   ]
  },
  {
   "cell_type": "code",
   "execution_count": 156,
   "metadata": {
    "collapsed": false
   },
   "outputs": [
    {
     "data": {
      "text/html": [
       "<div>\n",
       "<table border=\"1\" class=\"dataframe\">\n",
       "  <thead>\n",
       "    <tr style=\"text-align: right;\">\n",
       "      <th></th>\n",
       "      <th>Location Tag</th>\n",
       "      <th>University</th>\n",
       "      <th>Approved Amount</th>\n",
       "      <th>postalcode</th>\n",
       "    </tr>\n",
       "  </thead>\n",
       "  <tbody>\n",
       "    <tr>\n",
       "      <th>0</th>\n",
       "      <td>AGS</td>\n",
       "      <td>Forschungsanstalten Agroscope - AGS</td>\n",
       "      <td>3.311572e+07</td>\n",
       "      <td>None</td>\n",
       "    </tr>\n",
       "    <tr>\n",
       "      <th>1</th>\n",
       "      <td>AORI</td>\n",
       "      <td>AO Research Institute - AORI</td>\n",
       "      <td>3.435621e+06</td>\n",
       "      <td>None</td>\n",
       "    </tr>\n",
       "    <tr>\n",
       "      <th>2</th>\n",
       "      <td>ASP</td>\n",
       "      <td>Pädag. Hochschule Tessin (Teilschule SUPSI) - ASP</td>\n",
       "      <td>1.593170e+05</td>\n",
       "      <td>None</td>\n",
       "    </tr>\n",
       "    <tr>\n",
       "      <th>3</th>\n",
       "      <td>ASPIT</td>\n",
       "      <td>Weitere Spitäler - ASPIT</td>\n",
       "      <td>1.074981e+07</td>\n",
       "      <td>None</td>\n",
       "    </tr>\n",
       "    <tr>\n",
       "      <th>4</th>\n",
       "      <td>BE</td>\n",
       "      <td>Universität Bern - BE</td>\n",
       "      <td>1.519373e+09</td>\n",
       "      <td>3012</td>\n",
       "    </tr>\n",
       "    <tr>\n",
       "      <th>5</th>\n",
       "      <td>BFH</td>\n",
       "      <td>Berner Fachhochschule - BFH</td>\n",
       "      <td>3.102870e+07</td>\n",
       "      <td>3401</td>\n",
       "    </tr>\n",
       "    <tr>\n",
       "      <th>6</th>\n",
       "      <td>BITG</td>\n",
       "      <td>Biotechnologie Institut Thurgau - BITG</td>\n",
       "      <td>2.492535e+06</td>\n",
       "      <td>8280</td>\n",
       "    </tr>\n",
       "    <tr>\n",
       "      <th>7</th>\n",
       "      <td>BS</td>\n",
       "      <td>Universität Basel - BS</td>\n",
       "      <td>1.352251e+09</td>\n",
       "      <td>4003</td>\n",
       "    </tr>\n",
       "    <tr>\n",
       "      <th>8</th>\n",
       "      <td>CREALP</td>\n",
       "      <td>Centre de rech. sur l'environnement alpin - CR...</td>\n",
       "      <td>1.567678e+06</td>\n",
       "      <td>1950</td>\n",
       "    </tr>\n",
       "    <tr>\n",
       "      <th>9</th>\n",
       "      <td>CSEM</td>\n",
       "      <td>Swiss Center for Electronics and Microtech. - ...</td>\n",
       "      <td>1.806825e+07</td>\n",
       "      <td>None</td>\n",
       "    </tr>\n",
       "  </tbody>\n",
       "</table>\n",
       "</div>"
      ],
      "text/plain": [
       "  Location Tag                                         University  \\\n",
       "0          AGS                Forschungsanstalten Agroscope - AGS   \n",
       "1         AORI                       AO Research Institute - AORI   \n",
       "2          ASP  Pädag. Hochschule Tessin (Teilschule SUPSI) - ASP   \n",
       "3        ASPIT                           Weitere Spitäler - ASPIT   \n",
       "4           BE                              Universität Bern - BE   \n",
       "5          BFH                        Berner Fachhochschule - BFH   \n",
       "6         BITG             Biotechnologie Institut Thurgau - BITG   \n",
       "7           BS                             Universität Basel - BS   \n",
       "8       CREALP  Centre de rech. sur l'environnement alpin - CR...   \n",
       "9         CSEM  Swiss Center for Electronics and Microtech. - ...   \n",
       "\n",
       "   Approved Amount postalcode  \n",
       "0     3.311572e+07       None  \n",
       "1     3.435621e+06       None  \n",
       "2     1.593170e+05       None  \n",
       "3     1.074981e+07       None  \n",
       "4     1.519373e+09       3012  \n",
       "5     3.102870e+07       3401  \n",
       "6     2.492535e+06       8280  \n",
       "7     1.352251e+09       4003  \n",
       "8     1.567678e+06       1950  \n",
       "9     1.806825e+07       None  "
      ]
     },
     "execution_count": 156,
     "metadata": {},
     "output_type": "execute_result"
    }
   ],
   "source": [
    "results = BeautifulSoup(open(data), \"xml\")\n",
    "frame = grants_grouped_by_uni.copy()\n",
    "frame['postalcode'] = 'None'\n",
    "i = 0\n",
    "for response in results.find_all('PlaceSearchResponse'):\n",
    "    result = response.find('result')\n",
    "    if result != None:\n",
    "        city = result.find('formatted_address').text\n",
    "        if \"Switzerland\" in city:\n",
    "            pc = str(city[city.index(',')+2:city.index(',')+6])\n",
    "            if (pc.isdigit()):\n",
    "                frame.set_value(i, 'postalcode', pc)\n",
    "            else:\n",
    "                frame.set_value(i, 'postalcode', city)\n",
    "    i += 1\n",
    "frame.head(10)"
   ]
  },
  {
   "cell_type": "markdown",
   "metadata": {},
   "source": [
    "Show the universities that where not found"
   ]
  },
  {
   "cell_type": "code",
   "execution_count": 157,
   "metadata": {
    "collapsed": false
   },
   "outputs": [
    {
     "name": "stdout",
     "output_type": "stream",
     "text": [
      "(20, 4)\n"
     ]
    },
    {
     "data": {
      "text/html": [
       "<div>\n",
       "<table border=\"1\" class=\"dataframe\">\n",
       "  <thead>\n",
       "    <tr style=\"text-align: right;\">\n",
       "      <th></th>\n",
       "      <th>Location Tag</th>\n",
       "      <th>University</th>\n",
       "      <th>Approved Amount</th>\n",
       "      <th>postalcode</th>\n",
       "    </tr>\n",
       "  </thead>\n",
       "  <tbody>\n",
       "    <tr>\n",
       "      <th>0</th>\n",
       "      <td>AGS</td>\n",
       "      <td>Forschungsanstalten Agroscope - AGS</td>\n",
       "      <td>3.311572e+07</td>\n",
       "      <td>None</td>\n",
       "    </tr>\n",
       "    <tr>\n",
       "      <th>1</th>\n",
       "      <td>AORI</td>\n",
       "      <td>AO Research Institute - AORI</td>\n",
       "      <td>3.435621e+06</td>\n",
       "      <td>None</td>\n",
       "    </tr>\n",
       "    <tr>\n",
       "      <th>2</th>\n",
       "      <td>ASP</td>\n",
       "      <td>Pädag. Hochschule Tessin (Teilschule SUPSI) - ASP</td>\n",
       "      <td>1.593170e+05</td>\n",
       "      <td>None</td>\n",
       "    </tr>\n",
       "    <tr>\n",
       "      <th>3</th>\n",
       "      <td>ASPIT</td>\n",
       "      <td>Weitere Spitäler - ASPIT</td>\n",
       "      <td>1.074981e+07</td>\n",
       "      <td>None</td>\n",
       "    </tr>\n",
       "    <tr>\n",
       "      <th>9</th>\n",
       "      <td>CSEM</td>\n",
       "      <td>Swiss Center for Electronics and Microtech. - ...</td>\n",
       "      <td>1.806825e+07</td>\n",
       "      <td>None</td>\n",
       "    </tr>\n",
       "    <tr>\n",
       "      <th>20</th>\n",
       "      <td>FIBL</td>\n",
       "      <td>Forschungsinstitut für biologischen Landbau - ...</td>\n",
       "      <td>7.442410e+06</td>\n",
       "      <td>None</td>\n",
       "    </tr>\n",
       "    <tr>\n",
       "      <th>21</th>\n",
       "      <td>FINST</td>\n",
       "      <td>Weitere Institute - FINST</td>\n",
       "      <td>9.256736e+06</td>\n",
       "      <td>None</td>\n",
       "    </tr>\n",
       "    <tr>\n",
       "      <th>23</th>\n",
       "      <td>FORS</td>\n",
       "      <td>Schweizer Kompetenzzentrum Sozialwissensch. - ...</td>\n",
       "      <td>3.473582e+07</td>\n",
       "      <td>None</td>\n",
       "    </tr>\n",
       "    <tr>\n",
       "      <th>24</th>\n",
       "      <td>FP</td>\n",
       "      <td>Firmen/Privatwirtschaft - FP</td>\n",
       "      <td>1.116867e+08</td>\n",
       "      <td>None</td>\n",
       "    </tr>\n",
       "    <tr>\n",
       "      <th>38</th>\n",
       "      <td>IRO</td>\n",
       "      <td>Forschungsinstitut für Opthalmologie - IRO</td>\n",
       "      <td>3.478469e+06</td>\n",
       "      <td>None</td>\n",
       "    </tr>\n",
       "    <tr>\n",
       "      <th>40</th>\n",
       "      <td>ISR</td>\n",
       "      <td>Istituto Svizzero di Roma - ISR</td>\n",
       "      <td>1.410000e+05</td>\n",
       "      <td>None</td>\n",
       "    </tr>\n",
       "    <tr>\n",
       "      <th>41</th>\n",
       "      <td>ISSKA</td>\n",
       "      <td>Inst. Suisse de Spéléologie et Karstologie - I...</td>\n",
       "      <td>6.248190e+05</td>\n",
       "      <td>None</td>\n",
       "    </tr>\n",
       "    <tr>\n",
       "      <th>47</th>\n",
       "      <td>NA</td>\n",
       "      <td>Nicht zuteilbar - NA</td>\n",
       "      <td>2.149569e+07</td>\n",
       "      <td>None</td>\n",
       "    </tr>\n",
       "    <tr>\n",
       "      <th>49</th>\n",
       "      <td>NPO</td>\n",
       "      <td>NPO (Biblioth., Museen, Verwalt.) - NPO</td>\n",
       "      <td>3.341306e+08</td>\n",
       "      <td>None</td>\n",
       "    </tr>\n",
       "    <tr>\n",
       "      <th>58</th>\n",
       "      <td>PHVS</td>\n",
       "      <td>Pädagogische Hochschule Wallis - PHVS</td>\n",
       "      <td>4.254980e+05</td>\n",
       "      <td>None</td>\n",
       "    </tr>\n",
       "    <tr>\n",
       "      <th>61</th>\n",
       "      <td>PMOD</td>\n",
       "      <td>Physikal.-Meteorolog. Observatorium Davos - PMOD</td>\n",
       "      <td>1.209844e+07</td>\n",
       "      <td>None</td>\n",
       "    </tr>\n",
       "    <tr>\n",
       "      <th>64</th>\n",
       "      <td>SAGW</td>\n",
       "      <td>Forschungskommission SAGW</td>\n",
       "      <td>1.000000e+05</td>\n",
       "      <td>None</td>\n",
       "    </tr>\n",
       "    <tr>\n",
       "      <th>71</th>\n",
       "      <td>STHB</td>\n",
       "      <td>Staatsunabh. Theologische Hochschule Basel - STHB</td>\n",
       "      <td>1.730000e+04</td>\n",
       "      <td>None</td>\n",
       "    </tr>\n",
       "    <tr>\n",
       "      <th>74</th>\n",
       "      <td>WSL</td>\n",
       "      <td>Eidg. Forschungsanstalt für Wald,Schnee,Land -...</td>\n",
       "      <td>4.836039e+07</td>\n",
       "      <td>None</td>\n",
       "    </tr>\n",
       "    <tr>\n",
       "      <th>75</th>\n",
       "      <td>ZFH</td>\n",
       "      <td>Zürcher Fachhochschule (ohne PH) - ZFH</td>\n",
       "      <td>4.484345e+07</td>\n",
       "      <td>None</td>\n",
       "    </tr>\n",
       "  </tbody>\n",
       "</table>\n",
       "</div>"
      ],
      "text/plain": [
       "   Location Tag                                         University  \\\n",
       "0           AGS                Forschungsanstalten Agroscope - AGS   \n",
       "1          AORI                       AO Research Institute - AORI   \n",
       "2           ASP  Pädag. Hochschule Tessin (Teilschule SUPSI) - ASP   \n",
       "3         ASPIT                           Weitere Spitäler - ASPIT   \n",
       "9          CSEM  Swiss Center for Electronics and Microtech. - ...   \n",
       "20         FIBL  Forschungsinstitut für biologischen Landbau - ...   \n",
       "21        FINST                          Weitere Institute - FINST   \n",
       "23         FORS  Schweizer Kompetenzzentrum Sozialwissensch. - ...   \n",
       "24           FP                       Firmen/Privatwirtschaft - FP   \n",
       "38          IRO         Forschungsinstitut für Opthalmologie - IRO   \n",
       "40          ISR                    Istituto Svizzero di Roma - ISR   \n",
       "41        ISSKA  Inst. Suisse de Spéléologie et Karstologie - I...   \n",
       "47           NA                               Nicht zuteilbar - NA   \n",
       "49          NPO            NPO (Biblioth., Museen, Verwalt.) - NPO   \n",
       "58         PHVS              Pädagogische Hochschule Wallis - PHVS   \n",
       "61         PMOD   Physikal.-Meteorolog. Observatorium Davos - PMOD   \n",
       "64         SAGW                          Forschungskommission SAGW   \n",
       "71         STHB  Staatsunabh. Theologische Hochschule Basel - STHB   \n",
       "74          WSL  Eidg. Forschungsanstalt für Wald,Schnee,Land -...   \n",
       "75          ZFH             Zürcher Fachhochschule (ohne PH) - ZFH   \n",
       "\n",
       "    Approved Amount postalcode  \n",
       "0      3.311572e+07       None  \n",
       "1      3.435621e+06       None  \n",
       "2      1.593170e+05       None  \n",
       "3      1.074981e+07       None  \n",
       "9      1.806825e+07       None  \n",
       "20     7.442410e+06       None  \n",
       "21     9.256736e+06       None  \n",
       "23     3.473582e+07       None  \n",
       "24     1.116867e+08       None  \n",
       "38     3.478469e+06       None  \n",
       "40     1.410000e+05       None  \n",
       "41     6.248190e+05       None  \n",
       "47     2.149569e+07       None  \n",
       "49     3.341306e+08       None  \n",
       "58     4.254980e+05       None  \n",
       "61     1.209844e+07       None  \n",
       "64     1.000000e+05       None  \n",
       "71     1.730000e+04       None  \n",
       "74     4.836039e+07       None  \n",
       "75     4.484345e+07       None  "
      ]
     },
     "execution_count": 157,
     "metadata": {},
     "output_type": "execute_result"
    }
   ],
   "source": [
    "print(frame[frame.postalcode=='None'].shape)\n",
    "frame[frame.postalcode=='None']"
   ]
  },
  {
   "cell_type": "markdown",
   "metadata": {},
   "source": [
    "For the universities that where found we will use the geonames api to find the canton based on the postalcode."
   ]
  },
  {
   "cell_type": "code",
   "execution_count": 158,
   "metadata": {
    "collapsed": false
   },
   "outputs": [
    {
     "data": {
      "text/html": [
       "<div>\n",
       "<table border=\"1\" class=\"dataframe\">\n",
       "  <thead>\n",
       "    <tr style=\"text-align: right;\">\n",
       "      <th></th>\n",
       "      <th>Location Tag</th>\n",
       "      <th>University</th>\n",
       "      <th>Approved Amount</th>\n",
       "      <th>postalcode</th>\n",
       "      <th>canton</th>\n",
       "    </tr>\n",
       "  </thead>\n",
       "  <tbody>\n",
       "    <tr>\n",
       "      <th>0</th>\n",
       "      <td>AGS</td>\n",
       "      <td>Forschungsanstalten Agroscope - AGS</td>\n",
       "      <td>3.311572e+07</td>\n",
       "      <td>None</td>\n",
       "      <td>None</td>\n",
       "    </tr>\n",
       "    <tr>\n",
       "      <th>1</th>\n",
       "      <td>AORI</td>\n",
       "      <td>AO Research Institute - AORI</td>\n",
       "      <td>3.435621e+06</td>\n",
       "      <td>None</td>\n",
       "      <td>None</td>\n",
       "    </tr>\n",
       "    <tr>\n",
       "      <th>2</th>\n",
       "      <td>ASP</td>\n",
       "      <td>Pädag. Hochschule Tessin (Teilschule SUPSI) - ASP</td>\n",
       "      <td>1.593170e+05</td>\n",
       "      <td>None</td>\n",
       "      <td>None</td>\n",
       "    </tr>\n",
       "    <tr>\n",
       "      <th>3</th>\n",
       "      <td>ASPIT</td>\n",
       "      <td>Weitere Spitäler - ASPIT</td>\n",
       "      <td>1.074981e+07</td>\n",
       "      <td>None</td>\n",
       "      <td>None</td>\n",
       "    </tr>\n",
       "    <tr>\n",
       "      <th>4</th>\n",
       "      <td>BE</td>\n",
       "      <td>Universität Bern - BE</td>\n",
       "      <td>1.519373e+09</td>\n",
       "      <td>3012</td>\n",
       "      <td>BE</td>\n",
       "    </tr>\n",
       "  </tbody>\n",
       "</table>\n",
       "</div>"
      ],
      "text/plain": [
       "  Location Tag                                         University  \\\n",
       "0          AGS                Forschungsanstalten Agroscope - AGS   \n",
       "1         AORI                       AO Research Institute - AORI   \n",
       "2          ASP  Pädag. Hochschule Tessin (Teilschule SUPSI) - ASP   \n",
       "3        ASPIT                           Weitere Spitäler - ASPIT   \n",
       "4           BE                              Universität Bern - BE   \n",
       "\n",
       "   Approved Amount postalcode canton  \n",
       "0     3.311572e+07       None   None  \n",
       "1     3.435621e+06       None   None  \n",
       "2     1.593170e+05       None   None  \n",
       "3     1.074981e+07       None   None  \n",
       "4     1.519373e+09       3012     BE  "
      ]
     },
     "execution_count": 158,
     "metadata": {},
     "output_type": "execute_result"
    }
   ],
   "source": [
    "username = \"juta\" #todo add username\n",
    "url = \"http://api.geonames.org/postalCodeSearch?maxRows=1&username=\"+username+\"&country=ch&postalcode=\"\n",
    "\n",
    "def get_canton(row):\n",
    "    if row.postalcode.isdigit():\n",
    "        r = requests.get(url+row.postalcode)\n",
    "        soup = BeautifulSoup(r.text, \"xml\")\n",
    "        if soup.find('adminCode1'):\n",
    "            return soup.find('adminCode1').text\n",
    "        else:\n",
    "            return 'None'\n",
    "    else:\n",
    "        return 'None'\n",
    "\n",
    "frame['canton'] = frame.apply(get_canton, axis=1)\n",
    "frame.head()"
   ]
  },
  {
   "cell_type": "code",
   "execution_count": 159,
   "metadata": {
    "collapsed": false
   },
   "outputs": [
    {
     "data": {
      "text/html": [
       "<div>\n",
       "<table border=\"1\" class=\"dataframe\">\n",
       "  <thead>\n",
       "    <tr style=\"text-align: right;\">\n",
       "      <th></th>\n",
       "      <th>canton</th>\n",
       "      <th>Approved Amount</th>\n",
       "    </tr>\n",
       "  </thead>\n",
       "  <tbody>\n",
       "    <tr>\n",
       "      <th>0</th>\n",
       "      <td>BE</td>\n",
       "      <td>1.555048e+09</td>\n",
       "    </tr>\n",
       "    <tr>\n",
       "      <th>1</th>\n",
       "      <td>BL</td>\n",
       "      <td>3.476142e+06</td>\n",
       "    </tr>\n",
       "    <tr>\n",
       "      <th>2</th>\n",
       "      <td>BS</td>\n",
       "      <td>1.392481e+09</td>\n",
       "    </tr>\n",
       "    <tr>\n",
       "      <th>3</th>\n",
       "      <td>FR</td>\n",
       "      <td>4.590737e+08</td>\n",
       "    </tr>\n",
       "    <tr>\n",
       "      <th>4</th>\n",
       "      <td>GE</td>\n",
       "      <td>1.158322e+07</td>\n",
       "    </tr>\n",
       "    <tr>\n",
       "      <th>5</th>\n",
       "      <td>GR</td>\n",
       "      <td>2.100426e+07</td>\n",
       "    </tr>\n",
       "    <tr>\n",
       "      <th>6</th>\n",
       "      <td>JU</td>\n",
       "      <td>3.479035e+07</td>\n",
       "    </tr>\n",
       "    <tr>\n",
       "      <th>7</th>\n",
       "      <td>LU</td>\n",
       "      <td>5.467329e+07</td>\n",
       "    </tr>\n",
       "    <tr>\n",
       "      <th>8</th>\n",
       "      <td>NE</td>\n",
       "      <td>3.832046e+08</td>\n",
       "    </tr>\n",
       "    <tr>\n",
       "      <th>10</th>\n",
       "      <td>SG</td>\n",
       "      <td>8.675705e+07</td>\n",
       "    </tr>\n",
       "    <tr>\n",
       "      <th>11</th>\n",
       "      <td>SH</td>\n",
       "      <td>1.766910e+05</td>\n",
       "    </tr>\n",
       "    <tr>\n",
       "      <th>12</th>\n",
       "      <td>SO</td>\n",
       "      <td>4.277191e+07</td>\n",
       "    </tr>\n",
       "    <tr>\n",
       "      <th>13</th>\n",
       "      <td>SZ</td>\n",
       "      <td>9.365510e+05</td>\n",
       "    </tr>\n",
       "    <tr>\n",
       "      <th>14</th>\n",
       "      <td>TG</td>\n",
       "      <td>4.018981e+06</td>\n",
       "    </tr>\n",
       "    <tr>\n",
       "      <th>15</th>\n",
       "      <td>TI</td>\n",
       "      <td>1.100358e+08</td>\n",
       "    </tr>\n",
       "    <tr>\n",
       "      <th>16</th>\n",
       "      <td>VD</td>\n",
       "      <td>1.182199e+09</td>\n",
       "    </tr>\n",
       "    <tr>\n",
       "      <th>17</th>\n",
       "      <td>VS</td>\n",
       "      <td>2.574012e+07</td>\n",
       "    </tr>\n",
       "    <tr>\n",
       "      <th>18</th>\n",
       "      <td>ZG</td>\n",
       "      <td>4.957150e+05</td>\n",
       "    </tr>\n",
       "    <tr>\n",
       "      <th>19</th>\n",
       "      <td>ZH</td>\n",
       "      <td>3.607511e+09</td>\n",
       "    </tr>\n",
       "  </tbody>\n",
       "</table>\n",
       "</div>"
      ],
      "text/plain": [
       "   canton  Approved Amount\n",
       "0      BE     1.555048e+09\n",
       "1      BL     3.476142e+06\n",
       "2      BS     1.392481e+09\n",
       "3      FR     4.590737e+08\n",
       "4      GE     1.158322e+07\n",
       "5      GR     2.100426e+07\n",
       "6      JU     3.479035e+07\n",
       "7      LU     5.467329e+07\n",
       "8      NE     3.832046e+08\n",
       "10     SG     8.675705e+07\n",
       "11     SH     1.766910e+05\n",
       "12     SO     4.277191e+07\n",
       "13     SZ     9.365510e+05\n",
       "14     TG     4.018981e+06\n",
       "15     TI     1.100358e+08\n",
       "16     VD     1.182199e+09\n",
       "17     VS     2.574012e+07\n",
       "18     ZG     4.957150e+05\n",
       "19     ZH     3.607511e+09"
      ]
     },
     "execution_count": 159,
     "metadata": {},
     "output_type": "execute_result"
    }
   ],
   "source": [
    "df = frame.groupby(['canton'])\n",
    "df = df.agg({'Approved Amount':'sum'}).reset_index()\n",
    "df = df[df.canton != 'None']\n",
    "df.to_csv(\"data/grants_per_canton.csv\", sep=';')\n",
    "df"
   ]
  },
  {
   "cell_type": "markdown",
   "metadata": {},
   "source": [
    "TODO:"
   ]
  },
  {
   "cell_type": "markdown",
   "metadata": {},
   "source": [
    "* we got 77 location tags and 26 cantons\n",
    "* so the non-canton locations need to be mapped to cantons\n",
    "* identify the 'how'\n",
    "* also split NPO"
   ]
  }
 ],
 "metadata": {
  "anaconda-cloud": {},
  "kernelspec": {
   "display_name": "Python [Root]",
   "language": "python",
   "name": "Python [Root]"
  },
  "language_info": {
   "codemirror_mode": {
    "name": "ipython",
    "version": 3
   },
   "file_extension": ".py",
   "mimetype": "text/x-python",
   "name": "python",
   "nbconvert_exporter": "python",
   "pygments_lexer": "ipython3",
   "version": "3.5.2"
  }
 },
 "nbformat": 4,
 "nbformat_minor": 0
}
